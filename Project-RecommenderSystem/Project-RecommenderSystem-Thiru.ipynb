{
 "cells": [
  {
   "cell_type": "markdown",
   "metadata": {},
   "source": [
    "<h2><font color=\"#07bdf5\">1.Import the necessary libraries</font></h2>"
   ]
  },
  {
   "cell_type": "code",
   "execution_count": 1,
   "metadata": {},
   "outputs": [],
   "source": [
    "import pandas as pd\n",
    "import matplotlib.pyplot as plt\n",
    "import seaborn as sns\n",
    "import numpy as np"
   ]
  },
  {
   "cell_type": "markdown",
   "metadata": {},
   "source": [
    "<h2><font color=\"#07bdf5\">1.Read and explore the given dataset. (Rename\n",
    "column/add headers, plot histograms, find data\n",
    "characteristics)</font></h2>"
   ]
  },
  {
   "cell_type": "code",
   "execution_count": null,
   "metadata": {},
   "outputs": [],
   "source": [
    "elec_df=pd.read_csv('ratings_Electronics.csv')"
   ]
  },
  {
   "cell_type": "code",
   "execution_count": null,
   "metadata": {},
   "outputs": [],
   "source": [
    "elec_df.head()"
   ]
  },
  {
   "cell_type": "markdown",
   "metadata": {},
   "source": [
    "<font color='blue'>Observation: Found dataset with out column headers - Need to add header row</font>"
   ]
  },
  {
   "cell_type": "code",
   "execution_count": 2,
   "metadata": {},
   "outputs": [],
   "source": [
    "#Adding Header\n",
    "header=['user_id','product_id','rating','timestamp']"
   ]
  },
  {
   "cell_type": "code",
   "execution_count": 3,
   "metadata": {},
   "outputs": [],
   "source": [
    "elec_df=pd.read_csv('ratings_Electronics.csv',names=header)"
   ]
  },
  {
   "cell_type": "code",
   "execution_count": 4,
   "metadata": {},
   "outputs": [
    {
     "data": {
      "text/html": [
       "<div>\n",
       "<style scoped>\n",
       "    .dataframe tbody tr th:only-of-type {\n",
       "        vertical-align: middle;\n",
       "    }\n",
       "\n",
       "    .dataframe tbody tr th {\n",
       "        vertical-align: top;\n",
       "    }\n",
       "\n",
       "    .dataframe thead th {\n",
       "        text-align: right;\n",
       "    }\n",
       "</style>\n",
       "<table border=\"1\" class=\"dataframe\">\n",
       "  <thead>\n",
       "    <tr style=\"text-align: right;\">\n",
       "      <th></th>\n",
       "      <th>user_id</th>\n",
       "      <th>product_id</th>\n",
       "      <th>rating</th>\n",
       "      <th>timestamp</th>\n",
       "    </tr>\n",
       "  </thead>\n",
       "  <tbody>\n",
       "    <tr>\n",
       "      <th>0</th>\n",
       "      <td>AKM1MP6P0OYPR</td>\n",
       "      <td>0132793040</td>\n",
       "      <td>5.0</td>\n",
       "      <td>1365811200</td>\n",
       "    </tr>\n",
       "    <tr>\n",
       "      <th>1</th>\n",
       "      <td>A2CX7LUOHB2NDG</td>\n",
       "      <td>0321732944</td>\n",
       "      <td>5.0</td>\n",
       "      <td>1341100800</td>\n",
       "    </tr>\n",
       "    <tr>\n",
       "      <th>2</th>\n",
       "      <td>A2NWSAGRHCP8N5</td>\n",
       "      <td>0439886341</td>\n",
       "      <td>1.0</td>\n",
       "      <td>1367193600</td>\n",
       "    </tr>\n",
       "    <tr>\n",
       "      <th>3</th>\n",
       "      <td>A2WNBOD3WNDNKT</td>\n",
       "      <td>0439886341</td>\n",
       "      <td>3.0</td>\n",
       "      <td>1374451200</td>\n",
       "    </tr>\n",
       "    <tr>\n",
       "      <th>4</th>\n",
       "      <td>A1GI0U4ZRJA8WN</td>\n",
       "      <td>0439886341</td>\n",
       "      <td>1.0</td>\n",
       "      <td>1334707200</td>\n",
       "    </tr>\n",
       "  </tbody>\n",
       "</table>\n",
       "</div>"
      ],
      "text/plain": [
       "          user_id  product_id  rating   timestamp\n",
       "0   AKM1MP6P0OYPR  0132793040     5.0  1365811200\n",
       "1  A2CX7LUOHB2NDG  0321732944     5.0  1341100800\n",
       "2  A2NWSAGRHCP8N5  0439886341     1.0  1367193600\n",
       "3  A2WNBOD3WNDNKT  0439886341     3.0  1374451200\n",
       "4  A1GI0U4ZRJA8WN  0439886341     1.0  1334707200"
      ]
     },
     "execution_count": 4,
     "metadata": {},
     "output_type": "execute_result"
    }
   ],
   "source": [
    "elec_df.head()"
   ]
  },
  {
   "cell_type": "markdown",
   "metadata": {},
   "source": [
    "<font color=\"07bdf5\" style=\"font-family:courier;font-size:24px;\">Observation:DataFrame loaded with header</font>"
   ]
  },
  {
   "cell_type": "markdown",
   "metadata": {},
   "source": [
    "<font color='blue'>Finding data characterstics</font>"
   ]
  },
  {
   "cell_type": "code",
   "execution_count": null,
   "metadata": {},
   "outputs": [],
   "source": [
    "elec_df.shape"
   ]
  },
  {
   "cell_type": "code",
   "execution_count": null,
   "metadata": {},
   "outputs": [],
   "source": [
    "elec_df.info()"
   ]
  },
  {
   "cell_type": "code",
   "execution_count": null,
   "metadata": {},
   "outputs": [],
   "source": [
    "# Check for missing value\n",
    "elec_df.isna().sum()"
   ]
  },
  {
   "cell_type": "markdown",
   "metadata": {},
   "source": [
    "### Observation: There is no missing values"
   ]
  },
  {
   "cell_type": "code",
   "execution_count": null,
   "metadata": {},
   "outputs": [],
   "source": [
    "sns.pairplot(elec_df)"
   ]
  },
  {
   "cell_type": "markdown",
   "metadata": {},
   "source": [
    "<h2><font color=\"#07bdf5\">2.Take a subset of the dataset to make it less sparse/ denser.\n",
    "( For example, keep the users only who has given 50 or\n",
    "more number of ratings ) - (2.5 Marks)</font></h2>"
   ]
  },
  {
   "cell_type": "markdown",
   "metadata": {},
   "source": [
    "# Count the number of unique users in the dataset"
   ]
  },
  {
   "cell_type": "code",
   "execution_count": null,
   "metadata": {},
   "outputs": [],
   "source": [
    "users = elec_df['user_id'].unique()\n",
    "print('Found ',len(users),' unique users out of ',elec_df.shape[0], 'rating observations')"
   ]
  },
  {
   "cell_type": "markdown",
   "metadata": {},
   "source": [
    "# Count the number of unique Electronic Items in the dataset"
   ]
  },
  {
   "cell_type": "code",
   "execution_count": null,
   "metadata": {},
   "outputs": [],
   "source": [
    "products = elec_df['product_id'].unique()\n",
    "print('Found ',len(products),' unique Products out of ',elec_df.shape[0], 'rating for the products')"
   ]
  },
  {
   "cell_type": "markdown",
   "metadata": {},
   "source": [
    "# Creating Subset of the dataset"
   ]
  },
  {
   "cell_type": "code",
   "execution_count": 5,
   "metadata": {},
   "outputs": [],
   "source": [
    "elec_grouped = elec_df.groupby(['user_id']).agg({'rating':'count'}).reset_index()\n",
    "r50_elec_df = elec_grouped.sort_values(['rating', 'user_id'], ascending = [0,1])"
   ]
  },
  {
   "cell_type": "code",
   "execution_count": null,
   "metadata": {},
   "outputs": [],
   "source": [
    "r50_elec_df.shape"
   ]
  },
  {
   "cell_type": "code",
   "execution_count": null,
   "metadata": {},
   "outputs": [],
   "source": [
    "r50_elec_df.head()"
   ]
  },
  {
   "cell_type": "code",
   "execution_count": 14,
   "metadata": {},
   "outputs": [
    {
     "data": {
      "text/html": [
       "<div>\n",
       "<style scoped>\n",
       "    .dataframe tbody tr th:only-of-type {\n",
       "        vertical-align: middle;\n",
       "    }\n",
       "\n",
       "    .dataframe tbody tr th {\n",
       "        vertical-align: top;\n",
       "    }\n",
       "\n",
       "    .dataframe thead th {\n",
       "        text-align: right;\n",
       "    }\n",
       "</style>\n",
       "<table border=\"1\" class=\"dataframe\">\n",
       "  <thead>\n",
       "    <tr style=\"text-align: right;\">\n",
       "      <th></th>\n",
       "      <th>user_id</th>\n",
       "      <th>no_of_ratings</th>\n",
       "    </tr>\n",
       "  </thead>\n",
       "  <tbody>\n",
       "    <tr>\n",
       "      <th>3263531</th>\n",
       "      <td>A5JLAU2ARJ0BO</td>\n",
       "      <td>520</td>\n",
       "    </tr>\n",
       "    <tr>\n",
       "      <th>3512451</th>\n",
       "      <td>ADLVFFE4VBT8</td>\n",
       "      <td>501</td>\n",
       "    </tr>\n",
       "    <tr>\n",
       "      <th>2989526</th>\n",
       "      <td>A3OXHLG6DIBRW8</td>\n",
       "      <td>498</td>\n",
       "    </tr>\n",
       "    <tr>\n",
       "      <th>3291008</th>\n",
       "      <td>A6FIAB28IS79</td>\n",
       "      <td>431</td>\n",
       "    </tr>\n",
       "    <tr>\n",
       "      <th>3284634</th>\n",
       "      <td>A680RUE1FDO8B</td>\n",
       "      <td>406</td>\n",
       "    </tr>\n",
       "    <tr>\n",
       "      <th>755206</th>\n",
       "      <td>A1ODOGXEYECQQ8</td>\n",
       "      <td>380</td>\n",
       "    </tr>\n",
       "    <tr>\n",
       "      <th>2424036</th>\n",
       "      <td>A36K2N527TXXJN</td>\n",
       "      <td>314</td>\n",
       "    </tr>\n",
       "    <tr>\n",
       "      <th>1451394</th>\n",
       "      <td>A2AY4YUOX2N1BQ</td>\n",
       "      <td>311</td>\n",
       "    </tr>\n",
       "    <tr>\n",
       "      <th>4100926</th>\n",
       "      <td>AWPODHOB4GFWL</td>\n",
       "      <td>308</td>\n",
       "    </tr>\n",
       "    <tr>\n",
       "      <th>1277963</th>\n",
       "      <td>A25C2M3QF9G7OQ</td>\n",
       "      <td>296</td>\n",
       "    </tr>\n",
       "    <tr>\n",
       "      <th>3935038</th>\n",
       "      <td>ARBKYIVNYWK3C</td>\n",
       "      <td>296</td>\n",
       "    </tr>\n",
       "    <tr>\n",
       "      <th>1186114</th>\n",
       "      <td>A22CW0ZHY3NJH8</td>\n",
       "      <td>292</td>\n",
       "    </tr>\n",
       "    <tr>\n",
       "      <th>2492518</th>\n",
       "      <td>A38RMU1Y5TDP9</td>\n",
       "      <td>282</td>\n",
       "    </tr>\n",
       "    <tr>\n",
       "      <th>2682865</th>\n",
       "      <td>A3EXWV8FNSSFL6</td>\n",
       "      <td>282</td>\n",
       "    </tr>\n",
       "    <tr>\n",
       "      <th>2883459</th>\n",
       "      <td>A3LGT6UZL99IW1</td>\n",
       "      <td>279</td>\n",
       "    </tr>\n",
       "    <tr>\n",
       "      <th>1843984</th>\n",
       "      <td>A2NOW4U7W3F7RI</td>\n",
       "      <td>277</td>\n",
       "    </tr>\n",
       "    <tr>\n",
       "      <th>1220074</th>\n",
       "      <td>A23GFTVIETX7DS</td>\n",
       "      <td>270</td>\n",
       "    </tr>\n",
       "    <tr>\n",
       "      <th>3003145</th>\n",
       "      <td>A3PD8JD9L4WEII</td>\n",
       "      <td>266</td>\n",
       "    </tr>\n",
       "    <tr>\n",
       "      <th>229970</th>\n",
       "      <td>A17BUUBOU0598B</td>\n",
       "      <td>261</td>\n",
       "    </tr>\n",
       "    <tr>\n",
       "      <th>2560612</th>\n",
       "      <td>A3AYSYSLHU26U9</td>\n",
       "      <td>257</td>\n",
       "    </tr>\n",
       "    <tr>\n",
       "      <th>2153482</th>\n",
       "      <td>A2XRMQA6PJ5ZJ8</td>\n",
       "      <td>253</td>\n",
       "    </tr>\n",
       "    <tr>\n",
       "      <th>77779</th>\n",
       "      <td>A12DQZKRKTNF5E</td>\n",
       "      <td>252</td>\n",
       "    </tr>\n",
       "    <tr>\n",
       "      <th>1207517</th>\n",
       "      <td>A231WM2Z2JL0U3</td>\n",
       "      <td>252</td>\n",
       "    </tr>\n",
       "    <tr>\n",
       "      <th>950704</th>\n",
       "      <td>A1UQBFCERIP7VJ</td>\n",
       "      <td>247</td>\n",
       "    </tr>\n",
       "    <tr>\n",
       "      <th>3613568</th>\n",
       "      <td>AGVWTYW0ULXHT</td>\n",
       "      <td>244</td>\n",
       "    </tr>\n",
       "    <tr>\n",
       "      <th>1116329</th>\n",
       "      <td>A203OCQQ12MAVT</td>\n",
       "      <td>240</td>\n",
       "    </tr>\n",
       "    <tr>\n",
       "      <th>3541102</th>\n",
       "      <td>AEJAGHLC675A7</td>\n",
       "      <td>239</td>\n",
       "    </tr>\n",
       "    <tr>\n",
       "      <th>1852294</th>\n",
       "      <td>A2NYK9KWFMJV4Y</td>\n",
       "      <td>238</td>\n",
       "    </tr>\n",
       "    <tr>\n",
       "      <th>2534992</th>\n",
       "      <td>A3A4ZAIBQWKOZS</td>\n",
       "      <td>236</td>\n",
       "    </tr>\n",
       "    <tr>\n",
       "      <th>899157</th>\n",
       "      <td>A1T1YSCDW0PD25</td>\n",
       "      <td>227</td>\n",
       "    </tr>\n",
       "    <tr>\n",
       "      <th>...</th>\n",
       "      <td>...</td>\n",
       "      <td>...</td>\n",
       "    </tr>\n",
       "    <tr>\n",
       "      <th>2215078</th>\n",
       "      <td>A2ZRMCRLDSUX6R</td>\n",
       "      <td>51</td>\n",
       "    </tr>\n",
       "    <tr>\n",
       "      <th>2225394</th>\n",
       "      <td>A303SNZ4AR7TDQ</td>\n",
       "      <td>51</td>\n",
       "    </tr>\n",
       "    <tr>\n",
       "      <th>2255890</th>\n",
       "      <td>A313H6238N589</td>\n",
       "      <td>51</td>\n",
       "    </tr>\n",
       "    <tr>\n",
       "      <th>2291090</th>\n",
       "      <td>A328GLDSDNFYII</td>\n",
       "      <td>51</td>\n",
       "    </tr>\n",
       "    <tr>\n",
       "      <th>2292906</th>\n",
       "      <td>A32AK8FOAZEPE2</td>\n",
       "      <td>51</td>\n",
       "    </tr>\n",
       "    <tr>\n",
       "      <th>2544761</th>\n",
       "      <td>A3AG5QAT8L0I3R</td>\n",
       "      <td>51</td>\n",
       "    </tr>\n",
       "    <tr>\n",
       "      <th>2545231</th>\n",
       "      <td>A3AGQAXTX6VRJ3</td>\n",
       "      <td>51</td>\n",
       "    </tr>\n",
       "    <tr>\n",
       "      <th>2577179</th>\n",
       "      <td>A3BI8BKIHESDNQ</td>\n",
       "      <td>51</td>\n",
       "    </tr>\n",
       "    <tr>\n",
       "      <th>2906392</th>\n",
       "      <td>A3M7R4PD0FEPUB</td>\n",
       "      <td>51</td>\n",
       "    </tr>\n",
       "    <tr>\n",
       "      <th>2906650</th>\n",
       "      <td>A3M82NO6OU1FHS</td>\n",
       "      <td>51</td>\n",
       "    </tr>\n",
       "    <tr>\n",
       "      <th>2926248</th>\n",
       "      <td>A3MV1KKHX51FYT</td>\n",
       "      <td>51</td>\n",
       "    </tr>\n",
       "    <tr>\n",
       "      <th>2965656</th>\n",
       "      <td>A3O5ASFUXC32UA</td>\n",
       "      <td>51</td>\n",
       "    </tr>\n",
       "    <tr>\n",
       "      <th>2997068</th>\n",
       "      <td>A3P69DTOXII004</td>\n",
       "      <td>51</td>\n",
       "    </tr>\n",
       "    <tr>\n",
       "      <th>3034188</th>\n",
       "      <td>A3QDMDSANPYGUX</td>\n",
       "      <td>51</td>\n",
       "    </tr>\n",
       "    <tr>\n",
       "      <th>3253279</th>\n",
       "      <td>A57Q87B0TC9IJ</td>\n",
       "      <td>51</td>\n",
       "    </tr>\n",
       "    <tr>\n",
       "      <th>3345389</th>\n",
       "      <td>A87CILADRIZW0</td>\n",
       "      <td>51</td>\n",
       "    </tr>\n",
       "    <tr>\n",
       "      <th>3451582</th>\n",
       "      <td>ABMNX856X89CS</td>\n",
       "      <td>51</td>\n",
       "    </tr>\n",
       "    <tr>\n",
       "      <th>3484456</th>\n",
       "      <td>ACP9S40H3SHY1</td>\n",
       "      <td>51</td>\n",
       "    </tr>\n",
       "    <tr>\n",
       "      <th>3508439</th>\n",
       "      <td>ADHA1W879JNT0</td>\n",
       "      <td>51</td>\n",
       "    </tr>\n",
       "    <tr>\n",
       "      <th>3540275</th>\n",
       "      <td>AEIB3UR05OP7A</td>\n",
       "      <td>51</td>\n",
       "    </tr>\n",
       "    <tr>\n",
       "      <th>3574074</th>\n",
       "      <td>AFM2J3HJNPIHV</td>\n",
       "      <td>51</td>\n",
       "    </tr>\n",
       "    <tr>\n",
       "      <th>3720784</th>\n",
       "      <td>AKCZIJ6ZHE41D</td>\n",
       "      <td>51</td>\n",
       "    </tr>\n",
       "    <tr>\n",
       "      <th>3803859</th>\n",
       "      <td>AN2IZT80ZUNJN</td>\n",
       "      <td>51</td>\n",
       "    </tr>\n",
       "    <tr>\n",
       "      <th>3827078</th>\n",
       "      <td>ANTGGAQYPSWHF</td>\n",
       "      <td>51</td>\n",
       "    </tr>\n",
       "    <tr>\n",
       "      <th>3914748</th>\n",
       "      <td>AQNSQW4495SG0</td>\n",
       "      <td>51</td>\n",
       "    </tr>\n",
       "    <tr>\n",
       "      <th>3969006</th>\n",
       "      <td>ASF3J4UYV34KA</td>\n",
       "      <td>51</td>\n",
       "    </tr>\n",
       "    <tr>\n",
       "      <th>3971018</th>\n",
       "      <td>ASHJAZC9OA9NS</td>\n",
       "      <td>51</td>\n",
       "    </tr>\n",
       "    <tr>\n",
       "      <th>4098887</th>\n",
       "      <td>AWNBZSEZ9P8BE</td>\n",
       "      <td>51</td>\n",
       "    </tr>\n",
       "    <tr>\n",
       "      <th>4100901</th>\n",
       "      <td>AWPN47SSWK1JV</td>\n",
       "      <td>51</td>\n",
       "    </tr>\n",
       "    <tr>\n",
       "      <th>4154427</th>\n",
       "      <td>AYGEKID3G7DPW</td>\n",
       "      <td>51</td>\n",
       "    </tr>\n",
       "  </tbody>\n",
       "</table>\n",
       "<p>1466 rows × 2 columns</p>\n",
       "</div>"
      ],
      "text/plain": [
       "                user_id  no_of_ratings\n",
       "3263531   A5JLAU2ARJ0BO            520\n",
       "3512451    ADLVFFE4VBT8            501\n",
       "2989526  A3OXHLG6DIBRW8            498\n",
       "3291008    A6FIAB28IS79            431\n",
       "3284634   A680RUE1FDO8B            406\n",
       "755206   A1ODOGXEYECQQ8            380\n",
       "2424036  A36K2N527TXXJN            314\n",
       "1451394  A2AY4YUOX2N1BQ            311\n",
       "4100926   AWPODHOB4GFWL            308\n",
       "1277963  A25C2M3QF9G7OQ            296\n",
       "3935038   ARBKYIVNYWK3C            296\n",
       "1186114  A22CW0ZHY3NJH8            292\n",
       "2492518   A38RMU1Y5TDP9            282\n",
       "2682865  A3EXWV8FNSSFL6            282\n",
       "2883459  A3LGT6UZL99IW1            279\n",
       "1843984  A2NOW4U7W3F7RI            277\n",
       "1220074  A23GFTVIETX7DS            270\n",
       "3003145  A3PD8JD9L4WEII            266\n",
       "229970   A17BUUBOU0598B            261\n",
       "2560612  A3AYSYSLHU26U9            257\n",
       "2153482  A2XRMQA6PJ5ZJ8            253\n",
       "77779    A12DQZKRKTNF5E            252\n",
       "1207517  A231WM2Z2JL0U3            252\n",
       "950704   A1UQBFCERIP7VJ            247\n",
       "3613568   AGVWTYW0ULXHT            244\n",
       "1116329  A203OCQQ12MAVT            240\n",
       "3541102   AEJAGHLC675A7            239\n",
       "1852294  A2NYK9KWFMJV4Y            238\n",
       "2534992  A3A4ZAIBQWKOZS            236\n",
       "899157   A1T1YSCDW0PD25            227\n",
       "...                 ...            ...\n",
       "2215078  A2ZRMCRLDSUX6R             51\n",
       "2225394  A303SNZ4AR7TDQ             51\n",
       "2255890   A313H6238N589             51\n",
       "2291090  A328GLDSDNFYII             51\n",
       "2292906  A32AK8FOAZEPE2             51\n",
       "2544761  A3AG5QAT8L0I3R             51\n",
       "2545231  A3AGQAXTX6VRJ3             51\n",
       "2577179  A3BI8BKIHESDNQ             51\n",
       "2906392  A3M7R4PD0FEPUB             51\n",
       "2906650  A3M82NO6OU1FHS             51\n",
       "2926248  A3MV1KKHX51FYT             51\n",
       "2965656  A3O5ASFUXC32UA             51\n",
       "2997068  A3P69DTOXII004             51\n",
       "3034188  A3QDMDSANPYGUX             51\n",
       "3253279   A57Q87B0TC9IJ             51\n",
       "3345389   A87CILADRIZW0             51\n",
       "3451582   ABMNX856X89CS             51\n",
       "3484456   ACP9S40H3SHY1             51\n",
       "3508439   ADHA1W879JNT0             51\n",
       "3540275   AEIB3UR05OP7A             51\n",
       "3574074   AFM2J3HJNPIHV             51\n",
       "3720784   AKCZIJ6ZHE41D             51\n",
       "3803859   AN2IZT80ZUNJN             51\n",
       "3827078   ANTGGAQYPSWHF             51\n",
       "3914748   AQNSQW4495SG0             51\n",
       "3969006   ASF3J4UYV34KA             51\n",
       "3971018   ASHJAZC9OA9NS             51\n",
       "4098887   AWNBZSEZ9P8BE             51\n",
       "4100901   AWPN47SSWK1JV             51\n",
       "4154427   AYGEKID3G7DPW             51\n",
       "\n",
       "[1466 rows x 2 columns]"
      ]
     },
     "execution_count": 14,
     "metadata": {},
     "output_type": "execute_result"
    }
   ],
   "source": [
    "r50_elec_df = r50_elec_df[r50_elec_df['rating']>50]\n",
    "r50_elec_df.rename(columns={'rating':'no_of_ratings'})"
   ]
  },
  {
   "cell_type": "code",
   "execution_count": 15,
   "metadata": {},
   "outputs": [],
   "source": [
    "sparse_elec_df = elec_df[elec_df.user_id.isin(r50_elec_df['user_id'])]"
   ]
  },
  {
   "cell_type": "code",
   "execution_count": 16,
   "metadata": {},
   "outputs": [
    {
     "data": {
      "text/plain": [
       "(122171, 4)"
      ]
     },
     "execution_count": 16,
     "metadata": {},
     "output_type": "execute_result"
    }
   ],
   "source": [
    "sparse_elec_df.shape"
   ]
  },
  {
   "cell_type": "code",
   "execution_count": null,
   "metadata": {},
   "outputs": [],
   "source": [
    "#plotting count of rating\n",
    "sns.countplot(data=sparse_elec_df , x='rating')\n",
    "plt.show()"
   ]
  },
  {
   "cell_type": "code",
   "execution_count": null,
   "metadata": {},
   "outputs": [],
   "source": [
    "sparse_elec_df.head(20)"
   ]
  },
  {
   "cell_type": "code",
   "execution_count": null,
   "metadata": {},
   "outputs": [],
   "source": [
    "#Unique products we are considering\n",
    "products = sparse_elec_df['product_id'].unique()\n",
    "print('After Sparse/Data subset, Found ',len(products),' unique Products out of ',sparse_elec_df.shape[0], 'rating for the products')"
   ]
  },
  {
   "cell_type": "markdown",
   "metadata": {},
   "source": [
    "# Split the data randomly into train and test dataset. \n",
    "(Split it in 70/30 ratio)"
   ]
  },
  {
   "cell_type": "code",
   "execution_count": null,
   "metadata": {},
   "outputs": [],
   "source": [
    "from sklearn.model_selection import train_test_split"
   ]
  },
  {
   "cell_type": "code",
   "execution_count": null,
   "metadata": {},
   "outputs": [],
   "source": [
    "train_data, test_data = train_test_split(sparse_elec_df, test_size = 0.30, random_state=0)\n",
    "print(train_data.head(5))"
   ]
  },
  {
   "cell_type": "markdown",
   "metadata": {},
   "source": [
    "# Build Popularity Recommender model. (Non-personalised)\n",
    "\n",
    "a. Count of user_id for each unique Electronic Product as recommendation score \n",
    "\n",
    "b. Sort the Electronic Products on recommendation score \n",
    "\n",
    "c. Get the top 5 recommendations"
   ]
  },
  {
   "cell_type": "code",
   "execution_count": null,
   "metadata": {},
   "outputs": [],
   "source": [
    "#Count of user_id for each unique product as recommendation score \n",
    "train_data_grouped = train_data.groupby('product_id').agg({'user_id': 'count'}).reset_index()\n",
    "train_data_grouped.rename(columns = {'user_id': 'score'},inplace=True)\n",
    "train_data_grouped.head()"
   ]
  },
  {
   "cell_type": "code",
   "execution_count": null,
   "metadata": {},
   "outputs": [],
   "source": [
    "#Sort the products on recommendation score \n",
    "train_data_sort = train_data_grouped.sort_values(['score', 'product_id'], ascending = [0,1]) \n",
    "      \n",
    "#Generate a recommendation rank based upon score \n",
    "train_data_sort['Rank'] = train_data_sort['score'].rank(ascending=0, method='first') \n",
    "          \n",
    "#Get the top 5 recommendations \n",
    "popularity_recommendations = train_data_sort.head(5) \n",
    "popularity_recommendations "
   ]
  },
  {
   "cell_type": "markdown",
   "metadata": {},
   "source": [
    "# Use popularity based recommender model to make predictions and find recommendations for random list of users with inferences"
   ]
  },
  {
   "cell_type": "code",
   "execution_count": null,
   "metadata": {},
   "outputs": [],
   "source": [
    "# Use popularity based recommender model to make predictions\n",
    "def recommend(user_id):     \n",
    "    user_recommendations = popularity_recommendations \n",
    "          \n",
    "    #Add user_id column for which the recommendations are being generated \n",
    "    user_recommendations['userID'] = user_id \n",
    "      \n",
    "    #Bring user_id column to the front \n",
    "    cols = user_recommendations.columns.tolist() \n",
    "    cols = cols[-1:] + cols[:-1] \n",
    "    user_recommendations = user_recommendations[cols] \n",
    "          \n",
    "    return user_recommendations "
   ]
  },
  {
   "cell_type": "code",
   "execution_count": null,
   "metadata": {},
   "outputs": [],
   "source": [
    "find_recom = ['AGVWTYW0ULXHT','ABXANRX4GPYRZ','A1E3OB6QMBKRYZ']   # This list is user choice.\n",
    "for i in find_recom:\n",
    "    print(\"Here is the recommendation for the userId: \\n\", str(i))\n",
    "    print(recommend(i))    \n",
    "    print(\"\\n\") "
   ]
  },
  {
   "cell_type": "markdown",
   "metadata": {},
   "source": [
    "Since this is a popularity-based recommender model, recommendations remain the same for all users\n",
    "\n",
    "We predict the products based on the popularity. It is not personalized to particular user"
   ]
  },
  {
   "cell_type": "markdown",
   "metadata": {},
   "source": [
    "# Build Collaborative Filtering model."
   ]
  },
  {
   "cell_type": "code",
   "execution_count": null,
   "metadata": {},
   "outputs": [],
   "source": [
    "elec_df.rating.unique()"
   ]
  },
  {
   "cell_type": "code",
   "execution_count": null,
   "metadata": {},
   "outputs": [],
   "source": [
    "counts1 = elec_df['user_id'].value_counts()\n",
    "#print(counts1)\n",
    "ratings_explicit = elec_df[elec_df['user_id'].isin(counts1[counts1 >= 100].index)]"
   ]
  },
  {
   "cell_type": "code",
   "execution_count": null,
   "metadata": {},
   "outputs": [],
   "source": [
    "ratings_explicit.head()"
   ]
  },
  {
   "cell_type": "code",
   "execution_count": null,
   "metadata": {},
   "outputs": [],
   "source": [
    "ratings_explicit.shape"
   ]
  },
  {
   "cell_type": "markdown",
   "metadata": {},
   "source": [
    "# Generate matrix table from explicit ratings table"
   ]
  },
  {
   "cell_type": "code",
   "execution_count": null,
   "metadata": {},
   "outputs": [],
   "source": [
    "#getting the pivot dataframe ratings_matrix\n",
    "ratings_matrix = ratings_explicit.pivot(index='user_id', columns='product_id', values='rating').fillna(0)\n",
    "userID = ratings_matrix.index\n",
    "productID = ratings_matrix.columns\n",
    "print(ratings_matrix.shape)\n",
    "ratings_matrix.head()"
   ]
  },
  {
   "cell_type": "markdown",
   "metadata": {},
   "source": [
    "since NaNs cannot be handled by training algos, replacing these by 0, which indicates absence of ratings"
   ]
  },
  {
   "cell_type": "markdown",
   "metadata": {},
   "source": [
    "# Generate the predicted ratings using SVD with no.of singular values to be 50"
   ]
  },
  {
   "cell_type": "code",
   "execution_count": null,
   "metadata": {},
   "outputs": [],
   "source": [
    "from scipy.sparse.linalg import svds\n",
    "U, sigma, Vt = svds(ratings_matrix, k = 50) #Finding three required matrices"
   ]
  },
  {
   "cell_type": "code",
   "execution_count": null,
   "metadata": {},
   "outputs": [],
   "source": [
    "sigma = np.diag(sigma)\n",
    "all_user_predicted_ratings = np.dot(np.dot(U, sigma), Vt) # using A = U.S.Vt(VTranspose)\n",
    "preds_df = pd.DataFrame(all_user_predicted_ratings, columns = ratings_matrix.columns)"
   ]
  },
  {
   "cell_type": "code",
   "execution_count": null,
   "metadata": {},
   "outputs": [],
   "source": [
    "preds_df.head()"
   ]
  },
  {
   "cell_type": "code",
   "execution_count": null,
   "metadata": {},
   "outputs": [],
   "source": [
    "# Recommend the items with the highest predicted ratings\n",
    "\n",
    "def collab_recommend_items(userID, pivot_df, preds_df, num_recommendations):\n",
    "    # index starts at 0  \n",
    "    user_idx = userID-1 \n",
    "    # Get and sort the user's ratings\n",
    "    sorted_user_ratings = pivot_df.iloc[user_idx].sort_values(ascending=False)\n",
    "    #sorted_user_ratings\n",
    "    sorted_user_predictions = preds_df.iloc[user_idx].sort_values(ascending=False)\n",
    "    #sorted_user_predictions\n",
    "    temp = pd.concat([sorted_user_ratings, sorted_user_predictions], axis=1)\n",
    "    temp.index.name = 'Recommended Items'\n",
    "    temp.columns = ['user_ratings', 'user_predictions']\n",
    "    temp = temp.loc[temp.user_ratings == 0]   \n",
    "    temp = temp.sort_values('user_predictions', ascending=False)\n",
    "    print('\\nBelow are the recommended items for user(user_id = {}):\\n'.format(userID))\n",
    "    print(temp.head(num_recommendations))"
   ]
  },
  {
   "cell_type": "markdown",
   "metadata": {},
   "source": [
    "# Take a particular user_id\n",
    "\n",
    "a. Lets find the recommendations for user with id A100WO06OQR8BQ\n",
    "\n",
    "b. Get the predicted ratings for userID A100WO06OQR8BQ and sort them in descending order\n",
    "\n",
    "c. Create a dataframe with name user_data containing userID A100WO06OQR8BQ explicitly interacted books\n",
    "\n",
    "d. Combine the user_data and and corresponding electronics data in a single dataframe with name user_full_info"
   ]
  },
  {
   "cell_type": "code",
   "execution_count": null,
   "metadata": {},
   "outputs": [],
   "source": [
    "user_id = 2\n",
    "userID = ratings_matrix.iloc[user_id-1, :].name\n",
    "userID"
   ]
  },
  {
   "cell_type": "code",
   "execution_count": null,
   "metadata": {},
   "outputs": [],
   "source": [
    "preds_df.shape"
   ]
  },
  {
   "cell_type": "code",
   "execution_count": null,
   "metadata": {},
   "outputs": [],
   "source": [
    "userID = 4\n",
    "num_recommendations = 10\n",
    "collab_recommend_items(userID, ratings_matrix, preds_df, num_recommendations)"
   ]
  },
  {
   "cell_type": "code",
   "execution_count": null,
   "metadata": {},
   "outputs": [],
   "source": [
    "find_recom = [4,6,8]   # This list is user choice.\n",
    "num_recommendations = 10\n",
    "for i in find_recom:\n",
    "    print(\"Here is the recommendation for the userId: \\n\", str(i))\n",
    "    print(collab_recommend_items(i, ratings_matrix, preds_df, num_recommendations))    \n",
    "    print(\"\\n\") \n"
   ]
  },
  {
   "cell_type": "markdown",
   "metadata": {},
   "source": [
    "# Evaluation of Collabrative recommendation model\n"
   ]
  },
  {
   "cell_type": "code",
   "execution_count": null,
   "metadata": {},
   "outputs": [],
   "source": [
    "counts=elec_df.user_id.value_counts()\n",
    "elec_df1_final=elec_df[elec_df.user_id.isin(counts[counts>=50].index)]\n",
    "#constructing the pivot table\n",
    "final_ratings_matrix = elec_df1_final.pivot(index = 'user_id', columns ='product_id', values = 'rating').fillna(0)\n",
    "final_ratings_matrix.head()"
   ]
  },
  {
   "cell_type": "code",
   "execution_count": null,
   "metadata": {},
   "outputs": [],
   "source": [
    "preds_df.head()"
   ]
  },
  {
   "cell_type": "code",
   "execution_count": null,
   "metadata": {},
   "outputs": [],
   "source": [
    "# Average PREDICTED rating for each item\n",
    "preds_df.mean().head()"
   ]
  },
  {
   "cell_type": "code",
   "execution_count": null,
   "metadata": {},
   "outputs": [],
   "source": [
    "rmse_df = pd.concat([final_ratings_matrix.mean(), preds_df.mean()], axis=1).fillna(0)\n",
    "rmse_df.columns = ['Avg_actual_ratings', 'Avg_predicted_ratings']\n",
    "print(rmse_df.shape)\n",
    "rmse_df['item_index'] = np.arange(0, rmse_df.shape[0], 1)\n",
    "rmse_df.head()"
   ]
  },
  {
   "cell_type": "code",
   "execution_count": null,
   "metadata": {},
   "outputs": [],
   "source": [
    "RMSE = round((((rmse_df.Avg_actual_ratings - rmse_df.Avg_predicted_ratings) ** 2).mean() ** 0.5), 5)\n",
    "print('\\nRMSE SVD Model = {} \\n'.format(RMSE))"
   ]
  },
  {
   "cell_type": "markdown",
   "metadata": {},
   "source": [
    "# Item - Item Collab Filtering"
   ]
  },
  {
   "cell_type": "code",
   "execution_count": 11,
   "metadata": {},
   "outputs": [],
   "source": [
    "from surprise import KNNWithMeans\n",
    "from surprise import Dataset\n",
    "from surprise import Reader\n",
    "from surprise import accuracy\n",
    "from surprise.model_selection import train_test_split as ttsp"
   ]
  },
  {
   "cell_type": "code",
   "execution_count": 12,
   "metadata": {},
   "outputs": [],
   "source": [
    "#pip install surprise"
   ]
  },
  {
   "cell_type": "code",
   "execution_count": 13,
   "metadata": {},
   "outputs": [
    {
     "ename": "KeyError",
     "evalue": "\"['product_id'] not in index\"",
     "output_type": "error",
     "traceback": [
      "\u001b[0;31m---------------------------------------------------------------------------\u001b[0m",
      "\u001b[0;31mKeyError\u001b[0m                                  Traceback (most recent call last)",
      "\u001b[0;32m<ipython-input-13-f713814ae696>\u001b[0m in \u001b[0;36m<module>\u001b[0;34m\u001b[0m\n\u001b[1;32m      4\u001b[0m \u001b[0;34m\u001b[0m\u001b[0m\n\u001b[1;32m      5\u001b[0m \u001b[0mreader\u001b[0m \u001b[0;34m=\u001b[0m \u001b[0mReader\u001b[0m\u001b[0;34m(\u001b[0m\u001b[0mrating_scale\u001b[0m\u001b[0;34m=\u001b[0m\u001b[0;34m(\u001b[0m\u001b[0;36m1\u001b[0m\u001b[0;34m,\u001b[0m \u001b[0;36m5\u001b[0m\u001b[0;34m)\u001b[0m\u001b[0;34m)\u001b[0m\u001b[0;34m\u001b[0m\u001b[0;34m\u001b[0m\u001b[0m\n\u001b[0;32m----> 6\u001b[0;31m \u001b[0mdata\u001b[0m \u001b[0;34m=\u001b[0m \u001b[0mDataset\u001b[0m\u001b[0;34m.\u001b[0m\u001b[0mload_from_df\u001b[0m\u001b[0;34m(\u001b[0m\u001b[0msparse_elec_df\u001b[0m\u001b[0;34m[\u001b[0m\u001b[0;34m[\u001b[0m\u001b[0;34m'user_id'\u001b[0m\u001b[0;34m,\u001b[0m \u001b[0;34m'product_id'\u001b[0m\u001b[0;34m,\u001b[0m \u001b[0;34m'rating'\u001b[0m\u001b[0;34m]\u001b[0m\u001b[0;34m]\u001b[0m\u001b[0;34m,\u001b[0m \u001b[0mreader\u001b[0m\u001b[0;34m)\u001b[0m\u001b[0;34m\u001b[0m\u001b[0;34m\u001b[0m\u001b[0m\n\u001b[0m\u001b[1;32m      7\u001b[0m \u001b[0;34m\u001b[0m\u001b[0m\n\u001b[1;32m      8\u001b[0m \u001b[0;34m\u001b[0m\u001b[0m\n",
      "\u001b[0;32m~/anaconda3/lib/python3.7/site-packages/pandas/core/frame.py\u001b[0m in \u001b[0;36m__getitem__\u001b[0;34m(self, key)\u001b[0m\n\u001b[1;32m   2932\u001b[0m                 \u001b[0mkey\u001b[0m \u001b[0;34m=\u001b[0m \u001b[0mlist\u001b[0m\u001b[0;34m(\u001b[0m\u001b[0mkey\u001b[0m\u001b[0;34m)\u001b[0m\u001b[0;34m\u001b[0m\u001b[0;34m\u001b[0m\u001b[0m\n\u001b[1;32m   2933\u001b[0m             indexer = self.loc._convert_to_indexer(key, axis=1,\n\u001b[0;32m-> 2934\u001b[0;31m                                                    raise_missing=True)\n\u001b[0m\u001b[1;32m   2935\u001b[0m \u001b[0;34m\u001b[0m\u001b[0m\n\u001b[1;32m   2936\u001b[0m         \u001b[0;31m# take() does not accept boolean indexers\u001b[0m\u001b[0;34m\u001b[0m\u001b[0;34m\u001b[0m\u001b[0;34m\u001b[0m\u001b[0m\n",
      "\u001b[0;32m~/anaconda3/lib/python3.7/site-packages/pandas/core/indexing.py\u001b[0m in \u001b[0;36m_convert_to_indexer\u001b[0;34m(self, obj, axis, is_setter, raise_missing)\u001b[0m\n\u001b[1;32m   1352\u001b[0m                 kwargs = {'raise_missing': True if is_setter else\n\u001b[1;32m   1353\u001b[0m                           raise_missing}\n\u001b[0;32m-> 1354\u001b[0;31m                 \u001b[0;32mreturn\u001b[0m \u001b[0mself\u001b[0m\u001b[0;34m.\u001b[0m\u001b[0m_get_listlike_indexer\u001b[0m\u001b[0;34m(\u001b[0m\u001b[0mobj\u001b[0m\u001b[0;34m,\u001b[0m \u001b[0maxis\u001b[0m\u001b[0;34m,\u001b[0m \u001b[0;34m**\u001b[0m\u001b[0mkwargs\u001b[0m\u001b[0;34m)\u001b[0m\u001b[0;34m[\u001b[0m\u001b[0;36m1\u001b[0m\u001b[0;34m]\u001b[0m\u001b[0;34m\u001b[0m\u001b[0;34m\u001b[0m\u001b[0m\n\u001b[0m\u001b[1;32m   1355\u001b[0m         \u001b[0;32melse\u001b[0m\u001b[0;34m:\u001b[0m\u001b[0;34m\u001b[0m\u001b[0;34m\u001b[0m\u001b[0m\n\u001b[1;32m   1356\u001b[0m             \u001b[0;32mtry\u001b[0m\u001b[0;34m:\u001b[0m\u001b[0;34m\u001b[0m\u001b[0;34m\u001b[0m\u001b[0m\n",
      "\u001b[0;32m~/anaconda3/lib/python3.7/site-packages/pandas/core/indexing.py\u001b[0m in \u001b[0;36m_get_listlike_indexer\u001b[0;34m(self, key, axis, raise_missing)\u001b[0m\n\u001b[1;32m   1159\u001b[0m         self._validate_read_indexer(keyarr, indexer,\n\u001b[1;32m   1160\u001b[0m                                     \u001b[0mo\u001b[0m\u001b[0;34m.\u001b[0m\u001b[0m_get_axis_number\u001b[0m\u001b[0;34m(\u001b[0m\u001b[0maxis\u001b[0m\u001b[0;34m)\u001b[0m\u001b[0;34m,\u001b[0m\u001b[0;34m\u001b[0m\u001b[0;34m\u001b[0m\u001b[0m\n\u001b[0;32m-> 1161\u001b[0;31m                                     raise_missing=raise_missing)\n\u001b[0m\u001b[1;32m   1162\u001b[0m         \u001b[0;32mreturn\u001b[0m \u001b[0mkeyarr\u001b[0m\u001b[0;34m,\u001b[0m \u001b[0mindexer\u001b[0m\u001b[0;34m\u001b[0m\u001b[0;34m\u001b[0m\u001b[0m\n\u001b[1;32m   1163\u001b[0m \u001b[0;34m\u001b[0m\u001b[0m\n",
      "\u001b[0;32m~/anaconda3/lib/python3.7/site-packages/pandas/core/indexing.py\u001b[0m in \u001b[0;36m_validate_read_indexer\u001b[0;34m(self, key, indexer, axis, raise_missing)\u001b[0m\n\u001b[1;32m   1250\u001b[0m             \u001b[0;32mif\u001b[0m \u001b[0;32mnot\u001b[0m\u001b[0;34m(\u001b[0m\u001b[0mself\u001b[0m\u001b[0;34m.\u001b[0m\u001b[0mname\u001b[0m \u001b[0;34m==\u001b[0m \u001b[0;34m'loc'\u001b[0m \u001b[0;32mand\u001b[0m \u001b[0;32mnot\u001b[0m \u001b[0mraise_missing\u001b[0m\u001b[0;34m)\u001b[0m\u001b[0;34m:\u001b[0m\u001b[0;34m\u001b[0m\u001b[0;34m\u001b[0m\u001b[0m\n\u001b[1;32m   1251\u001b[0m                 \u001b[0mnot_found\u001b[0m \u001b[0;34m=\u001b[0m \u001b[0mlist\u001b[0m\u001b[0;34m(\u001b[0m\u001b[0mset\u001b[0m\u001b[0;34m(\u001b[0m\u001b[0mkey\u001b[0m\u001b[0;34m)\u001b[0m \u001b[0;34m-\u001b[0m \u001b[0mset\u001b[0m\u001b[0;34m(\u001b[0m\u001b[0max\u001b[0m\u001b[0;34m)\u001b[0m\u001b[0;34m)\u001b[0m\u001b[0;34m\u001b[0m\u001b[0;34m\u001b[0m\u001b[0m\n\u001b[0;32m-> 1252\u001b[0;31m                 \u001b[0;32mraise\u001b[0m \u001b[0mKeyError\u001b[0m\u001b[0;34m(\u001b[0m\u001b[0;34m\"{} not in index\"\u001b[0m\u001b[0;34m.\u001b[0m\u001b[0mformat\u001b[0m\u001b[0;34m(\u001b[0m\u001b[0mnot_found\u001b[0m\u001b[0;34m)\u001b[0m\u001b[0;34m)\u001b[0m\u001b[0;34m\u001b[0m\u001b[0;34m\u001b[0m\u001b[0m\n\u001b[0m\u001b[1;32m   1253\u001b[0m \u001b[0;34m\u001b[0m\u001b[0m\n\u001b[1;32m   1254\u001b[0m             \u001b[0;31m# we skip the warning on Categorical/Interval\u001b[0m\u001b[0;34m\u001b[0m\u001b[0;34m\u001b[0m\u001b[0;34m\u001b[0m\u001b[0m\n",
      "\u001b[0;31mKeyError\u001b[0m: \"['product_id'] not in index\""
     ]
    }
   ],
   "source": [
    "#trainset, testset = train_test_split(sparse_elec_df, test_size=.30)\n",
    "# AttributeError: 'DataFrame' object has no attribute 'raw_ratings' - hence rename ratings column into raw_ratings\n",
    "#sparse_elec_df.rename(columns={'rating':'raw_ratings'},inplace=True)\n",
    "\n",
    "reader = Reader(rating_scale=(1, 5))\n",
    "data = Dataset.load_from_df(sparse_elec_df[['user_id', 'product_id', 'rating']], reader)\n",
    "\n",
    "\n",
    "trainset, testset = ttsp(data, test_size=.20)"
   ]
  },
  {
   "cell_type": "code",
   "execution_count": null,
   "metadata": {},
   "outputs": [],
   "source": [
    "# Use user_based true/false to switch between user-based or item-based collaborative filtering\n",
    "algo = KNNWithMeans(k=50, sim_options={'name': 'pearson_baseline', 'user_based': False})\n",
    "algo.fit(trainset)"
   ]
  },
  {
   "cell_type": "code",
   "execution_count": null,
   "metadata": {},
   "outputs": [],
   "source": [
    "# run the trained model against the testset\n",
    "test_pred = algo.test(testset)\n",
    "test_pred"
   ]
  },
  {
   "cell_type": "code",
   "execution_count": null,
   "metadata": {},
   "outputs": [],
   "source": [
    "# get RMSE\n",
    "print(\"Item-based Model : Test Set\")\n",
    "accuracy.rmse(test_pred, verbose=True)"
   ]
  }
 ],
 "metadata": {
  "kernelspec": {
   "display_name": "Python 3",
   "language": "python",
   "name": "python3"
  },
  "language_info": {
   "codemirror_mode": {
    "name": "ipython",
    "version": 3
   },
   "file_extension": ".py",
   "mimetype": "text/x-python",
   "name": "python",
   "nbconvert_exporter": "python",
   "pygments_lexer": "ipython3",
   "version": "3.7.3"
  }
 },
 "nbformat": 4,
 "nbformat_minor": 2
}
