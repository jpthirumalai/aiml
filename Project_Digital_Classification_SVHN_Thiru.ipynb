{
  "nbformat": 4,
  "nbformat_minor": 0,
  "metadata": {
    "kernelspec": {
      "name": "python3",
      "display_name": "Python 3"
    },
    "language_info": {
      "codemirror_mode": {
        "name": "ipython",
        "version": 3
      },
      "file_extension": ".py",
      "mimetype": "text/x-python",
      "name": "python",
      "nbconvert_exporter": "python",
      "pygments_lexer": "ipython3",
      "version": "3.7.3"
    },
    "colab": {
      "name": "Project-Digital-Classification-SVHN-Thiru.ipynb",
      "provenance": [],
      "collapsed_sections": [],
      "machine_shape": "hm",
      "include_colab_link": true
    },
    "accelerator": "TPU"
  },
  "cells": [
    {
      "cell_type": "markdown",
      "metadata": {
        "id": "view-in-github",
        "colab_type": "text"
      },
      "source": [
        "<a href=\"https://colab.research.google.com/github/jpthirumalai/aiml/blob/master/Project_Digital_Classification_SVHN_Thiru.ipynb\" target=\"_parent\"><img src=\"https://colab.research.google.com/assets/colab-badge.svg\" alt=\"Open In Colab\"/></a>"
      ]
    },
    {
      "cell_type": "code",
      "metadata": {
        "id": "wfajwoeBcnke",
        "colab_type": "code",
        "outputId": "9162df1e-a57f-49bd-cb91-1f69bd2d531b",
        "colab": {
          "base_uri": "https://localhost:8080/",
          "height": 34
        }
      },
      "source": [
        "from google.colab import drive\n",
        "drive.mount('/content/drive')"
      ],
      "execution_count": 1,
      "outputs": [
        {
          "output_type": "stream",
          "text": [
            "Drive already mounted at /content/drive; to attempt to forcibly remount, call drive.mount(\"/content/drive\", force_remount=True).\n"
          ],
          "name": "stdout"
        }
      ]
    },
    {
      "cell_type": "code",
      "metadata": {
        "id": "LYoOHQYiiJYw",
        "colab_type": "code",
        "colab": {}
      },
      "source": [
        "projfolder = '/content/drive/My Drive/AIML/AI/NNProject/'"
      ],
      "execution_count": 0,
      "outputs": []
    },
    {
      "cell_type": "code",
      "metadata": {
        "id": "MlV2rWPhcnki",
        "colab_type": "code",
        "outputId": "e8e0cad0-64f0-42f0-90ea-db3598486f7f",
        "colab": {
          "base_uri": "https://localhost:8080/",
          "height": 63
        }
      },
      "source": [
        "import tensorflow.compat.v1 as tf\n",
        "#tf.reset_default_graph()\n",
        "#tf.compat.v1.disable_eager_execution()\n",
        "import h5py\n",
        "file=projfolder+'SVHN_single_grey1.h5'\n",
        "f= h5py.File(file,'r')"
      ],
      "execution_count": 3,
      "outputs": [
        {
          "output_type": "display_data",
          "data": {
            "text/html": [
              "<p style=\"color: red;\">\n",
              "The default version of TensorFlow in Colab will soon switch to TensorFlow 2.x.<br>\n",
              "We recommend you <a href=\"https://www.tensorflow.org/guide/migrate\" target=\"_blank\">upgrade</a> now \n",
              "or ensure your notebook will continue to use TensorFlow 1.x via the <code>%tensorflow_version 1.x</code> magic:\n",
              "<a href=\"https://colab.research.google.com/notebooks/tensorflow_version.ipynb\" target=\"_blank\">more info</a>.</p>\n"
            ],
            "text/plain": [
              "<IPython.core.display.HTML object>"
            ]
          },
          "metadata": {
            "tags": []
          }
        }
      ]
    },
    {
      "cell_type": "markdown",
      "metadata": {
        "id": "BWoGQa4GtxBl",
        "colab_type": "text"
      },
      "source": [
        "##Step 1: Load Train and Test data from .h5 file"
      ]
    },
    {
      "cell_type": "code",
      "metadata": {
        "id": "MGKxUcpjcnkl",
        "colab_type": "code",
        "outputId": "15f98998-2d9e-44bc-d5b4-5d28d279ed90",
        "colab": {
          "base_uri": "https://localhost:8080/",
          "height": 34
        }
      },
      "source": [
        "#Load the X_train, X_test, Y_train, Y_test, X_val and Y_val datasets from the h5py file\t2\n",
        "list(f.keys())\n"
      ],
      "execution_count": 4,
      "outputs": [
        {
          "output_type": "execute_result",
          "data": {
            "text/plain": [
              "['X_test', 'X_train', 'X_val', 'y_test', 'y_train', 'y_val']"
            ]
          },
          "metadata": {
            "tags": []
          },
          "execution_count": 4
        }
      ]
    },
    {
      "cell_type": "code",
      "metadata": {
        "id": "qX0wr1sIwqTP",
        "colab_type": "code",
        "outputId": "376b03e6-0002-4efc-c801-88fa3b40e845",
        "colab": {
          "base_uri": "https://localhost:8080/",
          "height": 119
        }
      },
      "source": [
        "for key in list(f.keys()):\n",
        "  print('Shape of '+key+':'+str(f[key].shape))"
      ],
      "execution_count": 5,
      "outputs": [
        {
          "output_type": "stream",
          "text": [
            "Shape of X_test:(18000, 32, 32)\n",
            "Shape of X_train:(42000, 32, 32)\n",
            "Shape of X_val:(60000, 32, 32)\n",
            "Shape of y_test:(18000,)\n",
            "Shape of y_train:(42000,)\n",
            "Shape of y_val:(60000,)\n"
          ],
          "name": "stdout"
        }
      ]
    },
    {
      "cell_type": "code",
      "metadata": {
        "id": "UxKK6TwvzJcp",
        "colab_type": "code",
        "colab": {}
      },
      "source": [
        "X_test = f['X_test']\n",
        "X_train = f['X_train']\n",
        "X_val = f['X_val']\n",
        "y_test = f['y_test']\n",
        "y_train = f['y_train']\n",
        "y_train_no_1hot = y_train\n",
        "y_val = f['y_val']"
      ],
      "execution_count": 0,
      "outputs": []
    },
    {
      "cell_type": "markdown",
      "metadata": {
        "id": "05F3bRkJt-VX",
        "colab_type": "text"
      },
      "source": [
        "## Step 2: Flatten the images for Keras"
      ]
    },
    {
      "cell_type": "code",
      "metadata": {
        "id": "79D6mV2Nlnzj",
        "colab_type": "code",
        "colab": {
          "base_uri": "https://localhost:8080/",
          "height": 68
        },
        "outputId": "28584736-d143-4bea-917a-a3fe409f50b5"
      },
      "source": [
        "import matplotlib.pyplot as plt\n",
        "import numpy as np\n",
        "# through thies error AttributeError: 'Dataset' object has no attribute 'reshape', need to convert to numpy array\n",
        "X_test = np.array(X_test)\n",
        "print('before converting',X_test.shape)\n",
        "X_test = X_test.reshape(18000,1024)\n",
        "print('after converting Test Size',X_test.shape)\n",
        "#similarly convert required dataset to numpy array and reshape 32X32 into 1024\n",
        "X_train = np.array(X_train).reshape(42000,1024)\n",
        "\n",
        "print('after converting Train Size',X_train.shape)"
      ],
      "execution_count": 7,
      "outputs": [
        {
          "output_type": "stream",
          "text": [
            "before converting (18000, 32, 32)\n",
            "after converting Test Size (18000, 1024)\n",
            "after converting Train Size (42000, 1024)\n"
          ],
          "name": "stdout"
        }
      ]
    },
    {
      "cell_type": "markdown",
      "metadata": {
        "id": "Teh5EKALuFTw",
        "colab_type": "text"
      },
      "source": [
        "### Verifying the image"
      ]
    },
    {
      "cell_type": "code",
      "metadata": {
        "id": "YYF2yjE_cnkp",
        "colab_type": "code",
        "outputId": "ee451499-6176-431c-ef35-f7742558bae6",
        "colab": {
          "base_uri": "https://localhost:8080/",
          "height": 283
        }
      },
      "source": [
        "\n",
        "# testing the image in the index 105\n",
        "print('Label: ', X_train[105])\n",
        "plt.imshow(X_train[105].reshape(32,32), cmap=plt.cm.bone);"
      ],
      "execution_count": 8,
      "outputs": [
        {
          "output_type": "stream",
          "text": [
            "Label:  [143.1893 141.7164 129.8146 ...  67.7635  68.3613  73.3608]\n"
          ],
          "name": "stdout"
        },
        {
          "output_type": "display_data",
          "data": {
            "image/png": "[encoded data removed]",
            "text/plain": [
              "<Figure size 432x288 with 1 Axes>"
            ]
          },
          "metadata": {
            "tags": []
          }
        }
      ]
    },
    {
      "cell_type": "code",
      "metadata": {
        "id": "XooLW_JOcnkt",
        "colab_type": "code",
        "outputId": "28f37259-3d73-484e-fc0b-29b7ae4649f2",
        "colab": {
          "base_uri": "https://localhost:8080/",
          "height": 34
        }
      },
      "source": [
        "#printing the value in y_train same index number 105\n",
        "print('Label at 10 : ', y_train[105])"
      ],
      "execution_count": 9,
      "outputs": [
        {
          "output_type": "stream",
          "text": [
            "Label at 10 :  8\n"
          ],
          "name": "stdout"
        }
      ]
    },
    {
      "cell_type": "markdown",
      "metadata": {
        "id": "n7Me-h8QuNQI",
        "colab_type": "text"
      },
      "source": [
        "## Step 3: Normalize the inputs from 0 to 1"
      ]
    },
    {
      "cell_type": "code",
      "metadata": {
        "id": "HSNYyFnTcnk0",
        "colab_type": "code",
        "colab": {
          "base_uri": "https://localhost:8080/",
          "height": 68
        },
        "outputId": "e943b079-3c5a-4704-a39d-de0bf62485a7"
      },
      "source": [
        "#Normalize the inputs for X_train, X_test and X_val\t1\n",
        "X_train[0:2]"
      ],
      "execution_count": 10,
      "outputs": [
        {
          "output_type": "execute_result",
          "data": {
            "text/plain": [
              "array([[33.0704, 30.2601, 26.852 , ..., 49.6682, 50.853 , 53.0377],\n",
              "       [86.9591, 87.0685, 88.3735, ..., 75.2206, 76.6396, 79.2865]],\n",
              "      dtype=float32)"
            ]
          },
          "metadata": {
            "tags": []
          },
          "execution_count": 10
        }
      ]
    },
    {
      "cell_type": "code",
      "metadata": {
        "id": "9gDwQVxtrRuH",
        "colab_type": "code",
        "colab": {
          "base_uri": "https://localhost:8080/",
          "height": 85
        },
        "outputId": "372a77ae-3ada-46d8-f933-0bb60ae9897e"
      },
      "source": [
        "# # normalize inputs from 0-255 to 0-1\n",
        "X_train = X_train / 255.0\n",
        "X_test = X_test / 255.0\n",
        "X_train[0:2]"
      ],
      "execution_count": 11,
      "outputs": [
        {
          "output_type": "execute_result",
          "data": {
            "text/plain": [
              "array([[0.12968785, 0.11866706, 0.10530196, ..., 0.19477727, 0.19942354,\n",
              "        0.20799099],\n",
              "       [0.34101608, 0.3414451 , 0.34656274, ..., 0.29498273, 0.30054745,\n",
              "        0.31092745]], dtype=float32)"
            ]
          },
          "metadata": {
            "tags": []
          },
          "execution_count": 11
        }
      ]
    },
    {
      "cell_type": "markdown",
      "metadata": {
        "id": "9ouVw_zAuche",
        "colab_type": "text"
      },
      "source": [
        "##Step 4: Conert the class matrices / Label into one hot vectors"
      ]
    },
    {
      "cell_type": "code",
      "metadata": {
        "id": "0Fo5GeMhcnk3",
        "colab_type": "code",
        "colab": {
          "base_uri": "https://localhost:8080/",
          "height": 119
        },
        "outputId": "4f5fa922-ec5c-480e-892a-f473abd806e6"
      },
      "source": [
        "#Convert the class matrices Y_train, Y_test and Y_val into one hot vectors\t1\n",
        "print('Before one hot conversion :',y_train[0:5])\n",
        "y_train = tf.keras.utils.to_categorical(y_train,num_classes=10)\n",
        "y_test = tf.keras.utils.to_categorical(y_test,num_classes=10)\n",
        "print('After one hot conversion :',y_train[0:5])"
      ],
      "execution_count": 12,
      "outputs": [
        {
          "output_type": "stream",
          "text": [
            "Before one hot conversion : [2 6 7 4 4]\n",
            "After one hot conversion : [[0. 0. 1. 0. 0. 0. 0. 0. 0. 0.]\n",
            " [0. 0. 0. 0. 0. 0. 1. 0. 0. 0.]\n",
            " [0. 0. 0. 0. 0. 0. 0. 1. 0. 0.]\n",
            " [0. 0. 0. 0. 1. 0. 0. 0. 0. 0.]\n",
            " [0. 0. 0. 0. 1. 0. 0. 0. 0. 0.]]\n"
          ],
          "name": "stdout"
        }
      ]
    },
    {
      "cell_type": "markdown",
      "metadata": {
        "id": "7piwPItaumEV",
        "colab_type": "text"
      },
      "source": [
        "## Step 5: Print train and Test val shapes"
      ]
    },
    {
      "cell_type": "code",
      "metadata": {
        "id": "Q8YyZbJ1cnk7",
        "colab_type": "code",
        "colab": {
          "base_uri": "https://localhost:8080/",
          "height": 34
        },
        "outputId": "76ff926a-39a6-4394-dfc3-e66ef9ff56cd"
      },
      "source": [
        "#Print the train, test and val shapes\t2\n",
        "print('Shape of Training set Train:', X_train.shape, 'Test:', X_test.shape )"
      ],
      "execution_count": 13,
      "outputs": [
        {
          "output_type": "stream",
          "text": [
            "Shape of Training set Train: (42000, 1024) Test: (18000, 1024)\n"
          ],
          "name": "stdout"
        }
      ]
    },
    {
      "cell_type": "markdown",
      "metadata": {
        "id": "bkCDublEurWJ",
        "colab_type": "text"
      },
      "source": [
        "##Step 6: Visualize the first 10 images in X_train and the corresponding Y_train labels"
      ]
    },
    {
      "cell_type": "code",
      "metadata": {
        "id": "T9UQXZwtcnk_",
        "colab_type": "code",
        "colab": {
          "base_uri": "https://localhost:8080/",
          "height": 73
        },
        "outputId": "7bf6d0ea-e318-464a-ee90-1297ceda61d5"
      },
      "source": [
        "#Visualize the first 10 images in X_train and the corresponding Y_train labels\t2\n",
        "#plt.figure(figsize=(10, 1))\n",
        "for i in range(10):\n",
        "    plt.subplot(1,10,i+1)\n",
        "    plt.xticks([])\n",
        "    plt.yticks([])\n",
        "    plt.grid(False)\n",
        "    plt.imshow(X_train[i].reshape(32,32), cmap=plt.cm.binary)\n",
        "    plt.xlabel(y_train_no_1hot[i])\n",
        "plt.show()"
      ],
      "execution_count": 14,
      "outputs": [
        {
          "output_type": "display_data",
          "data": {
            "image/png": "[encoded data removed]",
            "text/plain": [
              "<Figure size 432x288 with 10 Axes>"
            ]
          },
          "metadata": {
            "tags": []
          }
        }
      ]
    },
    {
      "cell_type": "code",
      "metadata": {
        "id": "LapoqwB3tuCm",
        "colab_type": "code",
        "colab": {
          "base_uri": "https://localhost:8080/",
          "height": 187
        },
        "outputId": "f12deff5-1396-4a75-a01c-6244f9761102"
      },
      "source": [
        "print(y_train[0:10])"
      ],
      "execution_count": 15,
      "outputs": [
        {
          "output_type": "stream",
          "text": [
            "[[0. 0. 1. 0. 0. 0. 0. 0. 0. 0.]\n",
            " [0. 0. 0. 0. 0. 0. 1. 0. 0. 0.]\n",
            " [0. 0. 0. 0. 0. 0. 0. 1. 0. 0.]\n",
            " [0. 0. 0. 0. 1. 0. 0. 0. 0. 0.]\n",
            " [0. 0. 0. 0. 1. 0. 0. 0. 0. 0.]\n",
            " [1. 0. 0. 0. 0. 0. 0. 0. 0. 0.]\n",
            " [0. 0. 0. 1. 0. 0. 0. 0. 0. 0.]\n",
            " [1. 0. 0. 0. 0. 0. 0. 0. 0. 0.]\n",
            " [0. 0. 0. 0. 0. 0. 0. 1. 0. 0.]\n",
            " [0. 0. 0. 1. 0. 0. 0. 0. 0. 0.]]\n"
          ],
          "name": "stdout"
        }
      ]
    },
    {
      "cell_type": "markdown",
      "metadata": {
        "id": "egr0w6BUuyh8",
        "colab_type": "text"
      },
      "source": [
        "##Step 7: In the train and test loop, define the hyperparameters for the model"
      ]
    },
    {
      "cell_type": "code",
      "metadata": {
        "id": "NQG9K5CPcnlC",
        "colab_type": "code",
        "colab": {}
      },
      "source": [
        "#In the train and test loop, define the hyperparameters for the model\t4\n",
        "learning_rate = 0.001\n",
        "activation = 'relu'\n",
        "optimizer='sgd'\n",
        "loss='categorical_crossentropy'\n",
        "epochs=10\n",
        "learning_rate = 0.1\n",
        "decay_rate = learning_rate / epochs\n",
        "momentum = 0.8"
      ],
      "execution_count": 0,
      "outputs": []
    },
    {
      "cell_type": "markdown",
      "metadata": {
        "id": "kqYQ2_vZu4xN",
        "colab_type": "text"
      },
      "source": [
        "##Step 8: Create a Sequential model in Keras"
      ]
    },
    {
      "cell_type": "code",
      "metadata": {
        "id": "3_OmPeLicnlF",
        "colab_type": "code",
        "colab": {
          "base_uri": "https://localhost:8080/",
          "height": 88
        },
        "outputId": "522e8ca1-22da-41e3-f593-3d86305c6cb3"
      },
      "source": [
        "#Create a Sequential model in Keras with input layer with the correct input shape, Hidden Layers, Output Layers and the activation functions\t8\n",
        "#Initialize sequential model\n",
        "model = tf.keras.models.Sequential()\n",
        "#Reshape data from 2D to 1D ->28*28 to 784\n",
        "model.add(tf.keras.layers.Reshape((1024,),input_shape=(1024,)))\n",
        "#Add Dense layer which provides 10 outputs after applying softmax\n",
        "model.add(tf.keras.layers.Dense(100,activation = 'relu'))\n",
        "model.add(tf.keras.layers.Dense(100,activation='relu'))\n",
        "model.add(tf.keras.layers.Dense(100,activation='relu'))\n",
        "model.add(tf.keras.layers.Dense(10,activation='relu'))\n",
        "model.add(tf.keras.layers.Dense(10,activation='softmax'))"
      ],
      "execution_count": 17,
      "outputs": [
        {
          "output_type": "stream",
          "text": [
            "WARNING:tensorflow:From /usr/local/lib/python3.6/dist-packages/tensorflow_core/python/ops/resource_variable_ops.py:1630: calling BaseResourceVariable.__init__ (from tensorflow.python.ops.resource_variable_ops) with constraint is deprecated and will be removed in a future version.\n",
            "Instructions for updating:\n",
            "If using Keras pass *_constraint arguments to layers.\n"
          ],
          "name": "stdout"
        }
      ]
    },
    {
      "cell_type": "markdown",
      "metadata": {
        "id": "QL9nMti5u9RO",
        "colab_type": "text"
      },
      "source": [
        "##Step 9: Define the optimizer to be used in this model"
      ]
    },
    {
      "cell_type": "code",
      "metadata": {
        "id": "9N6rv_kzcnlI",
        "colab_type": "code",
        "colab": {}
      },
      "source": [
        "#Define the optimizer to be used in this model\t2\n",
        "sgd_optimizer = tf.keras.optimizers.SGD(lr=learning_rate)"
      ],
      "execution_count": 0,
      "outputs": []
    },
    {
      "cell_type": "markdown",
      "metadata": {
        "id": "hkF1jsunvCLc",
        "colab_type": "text"
      },
      "source": [
        "##Step 10: Compile the model with the corresponding Loss and metrics to monitor"
      ]
    },
    {
      "cell_type": "code",
      "metadata": {
        "id": "P5nBeS03cnlM",
        "colab_type": "code",
        "colab": {}
      },
      "source": [
        "#Compile the model with the corresponding Loss and metrics to monitor\t2\n",
        "model.compile(optimizer=sgd_optimizer,loss='categorical_crossentropy',metrics=['accuracy'])"
      ],
      "execution_count": 0,
      "outputs": []
    },
    {
      "cell_type": "markdown",
      "metadata": {
        "id": "DKU1x9bSvHjY",
        "colab_type": "text"
      },
      "source": [
        "##Step 12: Fit the model and use model.Evaluate to return the score"
      ]
    },
    {
      "cell_type": "code",
      "metadata": {
        "id": "wwsb3BiVcnlT",
        "colab_type": "code",
        "colab": {
          "base_uri": "https://localhost:8080/",
          "height": 391
        },
        "outputId": "710f71cc-e203-4100-c787-3be9a6b367ea"
      },
      "source": [
        "#Fit the model and use model.evaluate() to return the score\t1\n",
        "model.fit(X_train,y_train,epochs=10,validation_data=(X_test,y_test),batch_size=32)"
      ],
      "execution_count": 20,
      "outputs": [
        {
          "output_type": "stream",
          "text": [
            "Train on 42000 samples, validate on 18000 samples\n",
            "Epoch 1/10\n",
            "42000/42000 [==============================] - 3s 73us/sample - loss: 2.3044 - acc: 0.1018 - val_loss: 2.3010 - val_acc: 0.1062\n",
            "Epoch 2/10\n",
            "42000/42000 [==============================] - 3s 71us/sample - loss: 2.2998 - acc: 0.1157 - val_loss: 2.2990 - val_acc: 0.1197\n",
            "Epoch 3/10\n",
            "42000/42000 [==============================] - 3s 70us/sample - loss: 2.2981 - acc: 0.1234 - val_loss: 2.2971 - val_acc: 0.1253\n",
            "Epoch 4/10\n",
            "42000/42000 [==============================] - 3s 71us/sample - loss: 2.2960 - acc: 0.1320 - val_loss: 2.2946 - val_acc: 0.1373\n",
            "Epoch 5/10\n",
            "42000/42000 [==============================] - 3s 71us/sample - loss: 2.2934 - acc: 0.1414 - val_loss: 2.2921 - val_acc: 0.1468\n",
            "Epoch 6/10\n",
            "42000/42000 [==============================] - 3s 73us/sample - loss: 2.2905 - acc: 0.1519 - val_loss: 2.2888 - val_acc: 0.1613\n",
            "Epoch 7/10\n",
            "42000/42000 [==============================] - 3s 73us/sample - loss: 2.2873 - acc: 0.1589 - val_loss: 2.2856 - val_acc: 0.1604\n",
            "Epoch 8/10\n",
            "42000/42000 [==============================] - 3s 71us/sample - loss: 2.2839 - acc: 0.1680 - val_loss: 2.2814 - val_acc: 0.1708\n",
            "Epoch 9/10\n",
            "42000/42000 [==============================] - 3s 71us/sample - loss: 2.2799 - acc: 0.1774 - val_loss: 2.2771 - val_acc: 0.1788\n",
            "Epoch 10/10\n",
            "42000/42000 [==============================] - 3s 71us/sample - loss: 2.2752 - acc: 0.1829 - val_loss: 2.2723 - val_acc: 0.1892\n"
          ],
          "name": "stdout"
        },
        {
          "output_type": "execute_result",
          "data": {
            "text/plain": [
              "<tensorflow.python.keras.callbacks.History at 0x7fdd02071a58>"
            ]
          },
          "metadata": {
            "tags": []
          },
          "execution_count": 20
        }
      ]
    },
    {
      "cell_type": "code",
      "metadata": {
        "id": "tX8dfY4kx_ji",
        "colab_type": "code",
        "colab": {
          "base_uri": "https://localhost:8080/",
          "height": 357
        },
        "outputId": "054b836b-21ed-4360-8f55-9ce79ae3c278"
      },
      "source": [
        "model.summary()"
      ],
      "execution_count": 21,
      "outputs": [
        {
          "output_type": "stream",
          "text": [
            "Model: \"sequential\"\n",
            "_________________________________________________________________\n",
            "Layer (type)                 Output Shape              Param #   \n",
            "=================================================================\n",
            "reshape (Reshape)            (None, 1024)              0         \n",
            "_________________________________________________________________\n",
            "dense (Dense)                (None, 100)               102500    \n",
            "_________________________________________________________________\n",
            "dense_1 (Dense)              (None, 100)               10100     \n",
            "_________________________________________________________________\n",
            "dense_2 (Dense)              (None, 100)               10100     \n",
            "_________________________________________________________________\n",
            "dense_3 (Dense)              (None, 10)                1010      \n",
            "_________________________________________________________________\n",
            "dense_4 (Dense)              (None, 10)                110       \n",
            "=================================================================\n",
            "Total params: 123,820\n",
            "Trainable params: 123,820\n",
            "Non-trainable params: 0\n",
            "_________________________________________________________________\n"
          ],
          "name": "stdout"
        }
      ]
    },
    {
      "cell_type": "code",
      "metadata": {
        "id": "pgZS6aKWvTm7",
        "colab_type": "code",
        "colab": {
          "base_uri": "https://localhost:8080/",
          "height": 51
        },
        "outputId": "7d9d003f-43c0-43fc-c4d7-30b5d8cf17dc"
      },
      "source": [
        "score = model.evaluate(X_test, y_test, batch_size=16)\n",
        "print(score)"
      ],
      "execution_count": 22,
      "outputs": [
        {
          "output_type": "stream",
          "text": [
            "18000/18000 [==============================] - 1s 45us/sample - loss: 2.2723 - acc: 0.1892\n",
            "[2.2723237728542753, 0.18922222]\n"
          ],
          "name": "stdout"
        }
      ]
    },
    {
      "cell_type": "markdown",
      "metadata": {
        "id": "0jhhmdlKvZ9Y",
        "colab_type": "text"
      },
      "source": [
        "#Step 13: Disable Regularization by setting appropriate value for Lambda and check the loss of the NN"
      ]
    },
    {
      "cell_type": "code",
      "metadata": {
        "id": "Dl8eLcbFcnlW",
        "colab_type": "code",
        "colab": {
          "base_uri": "https://localhost:8080/",
          "height": 408
        },
        "outputId": "de5578c9-f491-40d8-92eb-431f98d992ba"
      },
      "source": [
        "#Disable Regularization by setting appropriate value for Lambda and check the loss of the NN\t2\n",
        "#Normalize the data\n",
        "# example of l2 on a dense layer\n",
        "from keras.layers import Dense\n",
        "from keras.regularizers import l2\n",
        "\n",
        "model2 = tf.keras.models.Sequential()\n",
        "model2.add(tf.keras.layers.Dense(200,activation = 'relu'))\n",
        "model2.add(tf.keras.layers.Dense(200, kernel_regularizer=l2(0.01), bias_regularizer=l2(0.01)))\n",
        "model2.add(tf.keras.layers.Dense(100,activation = 'relu'))\n",
        "model2.add(tf.keras.layers.Dense(10,activation='softmax'))\n",
        "model2.compile(optimizer=sgd_optimizer,loss='categorical_crossentropy',metrics=['accuracy'])\n",
        "model2.fit(X_train,y_train,epochs=10,validation_data=(X_test,y_test),batch_size=32)"
      ],
      "execution_count": 23,
      "outputs": [
        {
          "output_type": "stream",
          "text": [
            "Using TensorFlow backend.\n"
          ],
          "name": "stderr"
        },
        {
          "output_type": "stream",
          "text": [
            "Train on 42000 samples, validate on 18000 samples\n",
            "Epoch 1/10\n",
            "42000/42000 [==============================] - 4s 89us/sample - loss: 4.2523 - acc: 0.1039 - val_loss: 4.1961 - val_acc: 0.1126\n",
            "Epoch 2/10\n",
            "42000/42000 [==============================] - 4s 86us/sample - loss: 4.1422 - acc: 0.1246 - val_loss: 4.0914 - val_acc: 0.1297\n",
            "Epoch 3/10\n",
            "42000/42000 [==============================] - 4s 83us/sample - loss: 4.0404 - acc: 0.1416 - val_loss: 3.9918 - val_acc: 0.1517\n",
            "Epoch 4/10\n",
            "42000/42000 [==============================] - 4s 84us/sample - loss: 3.9432 - acc: 0.1588 - val_loss: 3.8961 - val_acc: 0.1798\n",
            "Epoch 5/10\n",
            "42000/42000 [==============================] - 4s 85us/sample - loss: 3.8495 - acc: 0.1829 - val_loss: 3.8050 - val_acc: 0.1864\n",
            "Epoch 6/10\n",
            "42000/42000 [==============================] - 4s 83us/sample - loss: 3.7593 - acc: 0.2048 - val_loss: 3.7157 - val_acc: 0.2204\n",
            "Epoch 7/10\n",
            "42000/42000 [==============================] - 3s 82us/sample - loss: 3.6713 - acc: 0.2315 - val_loss: 3.6281 - val_acc: 0.2452\n",
            "Epoch 8/10\n",
            "42000/42000 [==============================] - 3s 83us/sample - loss: 3.5842 - acc: 0.2564 - val_loss: 3.5415 - val_acc: 0.2624\n",
            "Epoch 9/10\n",
            "42000/42000 [==============================] - 4s 84us/sample - loss: 3.4973 - acc: 0.2810 - val_loss: 3.4542 - val_acc: 0.2902\n",
            "Epoch 10/10\n",
            "42000/42000 [==============================] - 4s 85us/sample - loss: 3.4105 - acc: 0.3053 - val_loss: 3.3671 - val_acc: 0.3147\n"
          ],
          "name": "stdout"
        },
        {
          "output_type": "execute_result",
          "data": {
            "text/plain": [
              "<tensorflow.python.keras.callbacks.History at 0x7fdcc19ef940>"
            ]
          },
          "metadata": {
            "tags": []
          },
          "execution_count": 23
        }
      ]
    },
    {
      "cell_type": "code",
      "metadata": {
        "id": "rmOQNkKk72jT",
        "colab_type": "code",
        "colab": {}
      },
      "source": [
        "#Seeing the accuracy increases from 13% to 65% - try increasing the epochs and see it the max accuracy\n",
        "#model2.fit(X_train,y_train,epochs=20,validation_data=(X_test,y_test),batch_size=32)"
      ],
      "execution_count": 0,
      "outputs": []
    },
    {
      "cell_type": "markdown",
      "metadata": {
        "id": "O50yU0xDvj0R",
        "colab_type": "text"
      },
      "source": [
        "##Step 14: Increase the Regularization parameter (Lambda) and check how the loss is for the NN. Record findings"
      ]
    },
    {
      "cell_type": "code",
      "metadata": {
        "id": "c3zB6S9jcnlZ",
        "colab_type": "code",
        "colab": {
          "base_uri": "https://localhost:8080/",
          "height": 391
        },
        "outputId": "5bf48c66-83de-40c5-b4ac-f89fea16095e"
      },
      "source": [
        "#Increase the Regularization parameter (Lambda) and check how the loss is for the NN. Record findings\t2\n",
        "model3 = tf.keras.models.Sequential()\n",
        "model3.add(tf.keras.layers.Dense(200,activation = 'relu'))\n",
        "model3.add(tf.keras.layers.Dense(200, kernel_regularizer=l2(0.1), bias_regularizer=l2(0.1)))\n",
        "model3.add(tf.keras.layers.Dense(100,activation = 'relu'))\n",
        "model3.add(tf.keras.layers.Dense(10,activation='softmax'))\n",
        "model3.compile(optimizer=sgd_optimizer,loss='categorical_crossentropy',metrics=['accuracy'])\n",
        "model3.fit(X_train,y_train,epochs=10,validation_data=(X_test,y_test),batch_size=32)"
      ],
      "execution_count": 25,
      "outputs": [
        {
          "output_type": "stream",
          "text": [
            "Train on 42000 samples, validate on 18000 samples\n",
            "Epoch 1/10\n",
            "42000/42000 [==============================] - 4s 89us/sample - loss: 17.9404 - acc: 0.1152 - val_loss: 14.1821 - val_acc: 0.1217\n",
            "Epoch 2/10\n",
            "42000/42000 [==============================] - 3s 83us/sample - loss: 11.5423 - acc: 0.1390 - val_loss: 9.3223 - val_acc: 0.1536\n",
            "Epoch 3/10\n",
            "42000/42000 [==============================] - 4s 84us/sample - loss: 7.7617 - acc: 0.1595 - val_loss: 6.4501 - val_acc: 0.1508\n",
            "Epoch 4/10\n",
            "42000/42000 [==============================] - 4s 86us/sample - loss: 5.5271 - acc: 0.1739 - val_loss: 4.7519 - val_acc: 0.1787\n",
            "Epoch 5/10\n",
            "42000/42000 [==============================] - 4s 84us/sample - loss: 4.2062 - acc: 0.1868 - val_loss: 3.7479 - val_acc: 0.1911\n",
            "Epoch 6/10\n",
            "42000/42000 [==============================] - 3s 83us/sample - loss: 3.4252 - acc: 0.1951 - val_loss: 3.1541 - val_acc: 0.2109\n",
            "Epoch 7/10\n",
            "42000/42000 [==============================] - 4s 86us/sample - loss: 2.9632 - acc: 0.2066 - val_loss: 2.8031 - val_acc: 0.1863\n",
            "Epoch 8/10\n",
            "42000/42000 [==============================] - 4s 86us/sample - loss: 2.6897 - acc: 0.2108 - val_loss: 2.5948 - val_acc: 0.2000\n",
            "Epoch 9/10\n",
            "42000/42000 [==============================] - 4s 86us/sample - loss: 2.5276 - acc: 0.2215 - val_loss: 2.4716 - val_acc: 0.1902\n",
            "Epoch 10/10\n",
            "42000/42000 [==============================] - 4s 85us/sample - loss: 2.4313 - acc: 0.2215 - val_loss: 2.3977 - val_acc: 0.2490\n"
          ],
          "name": "stdout"
        },
        {
          "output_type": "execute_result",
          "data": {
            "text/plain": [
              "<tensorflow.python.keras.callbacks.History at 0x7fdcc197efd0>"
            ]
          },
          "metadata": {
            "tags": []
          },
          "execution_count": 25
        }
      ]
    },
    {
      "cell_type": "markdown",
      "metadata": {
        "id": "4_idoIvrMbU8",
        "colab_type": "text"
      },
      "source": [
        "###Using BatchNormalization layer"
      ]
    },
    {
      "cell_type": "code",
      "metadata": {
        "id": "M1RD8kaABmwV",
        "colab_type": "code",
        "colab": {
          "base_uri": "https://localhost:8080/",
          "height": 391
        },
        "outputId": "bf0212b9-25d2-4eac-d3f5-abd2428efb08"
      },
      "source": [
        "model3_bn = tf.keras.models.Sequential()\n",
        "model3_bn.add(tf.keras.layers.Dense(200,activation = 'relu'))\n",
        "model3_bn.add(tf.keras.layers.BatchNormalization())\n",
        "model3_bn.add(tf.keras.layers.Dense(100,activation='relu'))\n",
        "model3_bn.add(tf.keras.layers.Dense(10,activation='softmax'))\n",
        "model3_bn.compile(optimizer=sgd_optimizer,loss='categorical_crossentropy',metrics=['accuracy'])\n",
        "model3_bn.fit(X_train,y_train,epochs=10,validation_data=(X_test,y_test),batch_size=32)"
      ],
      "execution_count": 26,
      "outputs": [
        {
          "output_type": "stream",
          "text": [
            "Train on 42000 samples, validate on 18000 samples\n",
            "Epoch 1/10\n",
            "42000/42000 [==============================] - 4s 100us/sample - loss: 2.2470 - acc: 0.1855 - val_loss: 2.0723 - val_acc: 0.2894\n",
            "Epoch 2/10\n",
            "42000/42000 [==============================] - 4s 96us/sample - loss: 1.9613 - acc: 0.3514 - val_loss: 1.8217 - val_acc: 0.4212\n",
            "Epoch 3/10\n",
            "42000/42000 [==============================] - 4s 95us/sample - loss: 1.7331 - acc: 0.4617 - val_loss: 1.6090 - val_acc: 0.5134\n",
            "Epoch 4/10\n",
            "42000/42000 [==============================] - 4s 92us/sample - loss: 1.5503 - acc: 0.5378 - val_loss: 1.4407 - val_acc: 0.5816\n",
            "Epoch 5/10\n",
            "42000/42000 [==============================] - 4s 94us/sample - loss: 1.4122 - acc: 0.5850 - val_loss: 1.3451 - val_acc: 0.6084\n",
            "Epoch 6/10\n",
            "42000/42000 [==============================] - 4s 96us/sample - loss: 1.3074 - acc: 0.6182 - val_loss: 1.2371 - val_acc: 0.6449\n",
            "Epoch 7/10\n",
            "42000/42000 [==============================] - 4s 95us/sample - loss: 1.2299 - acc: 0.6389 - val_loss: 1.1908 - val_acc: 0.6508\n",
            "Epoch 8/10\n",
            "42000/42000 [==============================] - 4s 94us/sample - loss: 1.1666 - acc: 0.6591 - val_loss: 1.1261 - val_acc: 0.6731\n",
            "Epoch 9/10\n",
            "42000/42000 [==============================] - 4s 97us/sample - loss: 1.1180 - acc: 0.6700 - val_loss: 1.0873 - val_acc: 0.6818\n",
            "Epoch 10/10\n",
            "42000/42000 [==============================] - 4s 96us/sample - loss: 1.0751 - acc: 0.6820 - val_loss: 1.0612 - val_acc: 0.6901\n"
          ],
          "name": "stdout"
        },
        {
          "output_type": "execute_result",
          "data": {
            "text/plain": [
              "<tensorflow.python.keras.callbacks.History at 0x7fdcc17d9f28>"
            ]
          },
          "metadata": {
            "tags": []
          },
          "execution_count": 26
        }
      ]
    },
    {
      "cell_type": "markdown",
      "metadata": {
        "id": "29y0D5h299Qk",
        "colab_type": "text"
      },
      "source": [
        "Increasing the lambda from 0.01 to 0.1 the loss is reducing"
      ]
    },
    {
      "cell_type": "markdown",
      "metadata": {
        "id": "l0IYRPtCvpSw",
        "colab_type": "text"
      },
      "source": [
        "#Step 15: Network overfit with a small subset of the dataset. Check if the network will overfit when you use no regularization and the loss is very small and accuracy is 100%\n"
      ]
    },
    {
      "cell_type": "code",
      "metadata": {
        "id": "JCcONCeacnlc",
        "colab_type": "code",
        "colab": {
          "base_uri": "https://localhost:8080/",
          "height": 391
        },
        "outputId": "9c2553f0-1336-4b9b-e185-4776c746c0ba"
      },
      "source": [
        "#Network overfit with a small subset of the dataset. Check if the network will overfit when you use no regularization and the loss is very small and accuracy is 100%.\t2\n",
        "X_train_subset = X_train[0:4200]\n",
        "X_test_subset = X_test[0:4200]\n",
        "y_train_subset = y_train[0:4200]\n",
        "y_test_subset = y_test[0:4200]\n",
        "small_model = tf.keras.Sequential([\n",
        "    # `input_shape` is only required here so that `.summary` works.\n",
        "    tf.keras.layers.Dense(16, activation='elu'),\n",
        "    tf.keras.layers.Dense(16, activation='elu'),\n",
        "    tf.keras.layers.Dense(10, activation='softmax')\n",
        "])\n",
        "small_model.compile(optimizer=sgd_optimizer,loss='categorical_crossentropy',metrics=['accuracy'])\n",
        "small_model.fit(X_train_subset,y_train_subset,epochs=10,validation_data=(X_test_subset,y_test_subset),batch_size=32)"
      ],
      "execution_count": 27,
      "outputs": [
        {
          "output_type": "stream",
          "text": [
            "Train on 4200 samples, validate on 4200 samples\n",
            "Epoch 1/10\n",
            "4200/4200 [==============================] - 0s 100us/sample - loss: 2.3309 - acc: 0.1033 - val_loss: 2.3161 - val_acc: 0.1005\n",
            "Epoch 2/10\n",
            "4200/4200 [==============================] - 0s 68us/sample - loss: 2.3169 - acc: 0.0976 - val_loss: 2.3135 - val_acc: 0.1045\n",
            "Epoch 3/10\n",
            "4200/4200 [==============================] - 0s 68us/sample - loss: 2.3147 - acc: 0.1036 - val_loss: 2.3121 - val_acc: 0.1031\n",
            "Epoch 4/10\n",
            "4200/4200 [==============================] - 0s 68us/sample - loss: 2.3132 - acc: 0.0974 - val_loss: 2.3116 - val_acc: 0.0986\n",
            "Epoch 5/10\n",
            "4200/4200 [==============================] - 0s 69us/sample - loss: 2.3123 - acc: 0.1048 - val_loss: 2.3109 - val_acc: 0.1019\n",
            "Epoch 6/10\n",
            "4200/4200 [==============================] - 0s 68us/sample - loss: 2.3109 - acc: 0.1090 - val_loss: 2.3111 - val_acc: 0.1017\n",
            "Epoch 7/10\n",
            "4200/4200 [==============================] - 0s 69us/sample - loss: 2.3103 - acc: 0.1069 - val_loss: 2.3101 - val_acc: 0.1024\n",
            "Epoch 8/10\n",
            "4200/4200 [==============================] - 0s 69us/sample - loss: 2.3097 - acc: 0.1040 - val_loss: 2.3099 - val_acc: 0.1033\n",
            "Epoch 9/10\n",
            "4200/4200 [==============================] - 0s 72us/sample - loss: 2.3090 - acc: 0.1083 - val_loss: 2.3093 - val_acc: 0.1033\n",
            "Epoch 10/10\n",
            "4200/4200 [==============================] - 0s 70us/sample - loss: 2.3081 - acc: 0.1057 - val_loss: 2.3089 - val_acc: 0.1031\n"
          ],
          "name": "stdout"
        },
        {
          "output_type": "execute_result",
          "data": {
            "text/plain": [
              "<tensorflow.python.keras.callbacks.History at 0x7fdcc1782e10>"
            ]
          },
          "metadata": {
            "tags": []
          },
          "execution_count": 27
        }
      ]
    },
    {
      "cell_type": "markdown",
      "metadata": {
        "id": "IO_o1fVBJs-O",
        "colab_type": "text"
      },
      "source": [
        "With small model and reduced 10% of the dataset we are able to get 100% accuracy - which is OVERFITTING"
      ]
    },
    {
      "cell_type": "markdown",
      "metadata": {
        "id": "yXKmKgflvy4y",
        "colab_type": "text"
      },
      "source": [
        "##Step 16: Load the original dataset with all the images and prepare the data for modelling\n"
      ]
    },
    {
      "cell_type": "code",
      "metadata": {
        "id": "tuRH5CNjcnlf",
        "colab_type": "code",
        "colab": {
          "base_uri": "https://localhost:8080/",
          "height": 119
        },
        "outputId": "1db4f7ae-172f-48bc-c053-c32b818f94fb"
      },
      "source": [
        "#Load the original dataset with all the images and prepare the data for modelling\t4\n",
        "X_test = f['X_test']\n",
        "X_train = f['X_train']\n",
        "X_val = f['X_val']\n",
        "y_test = f['y_test']\n",
        "y_train = f['y_train']\n",
        "y_val = f['y_val']\n",
        "X_test = np.array(X_test)\n",
        "X_test = X_test.reshape(18000,1024)\n",
        "#similarly convert required dataset to numpy array and reshape 32X32 into 1024\n",
        "X_train = np.array(X_train).reshape(42000,1024)\n",
        "#Normalize\n",
        "X_train = X_train / 255.0\n",
        "X_test = X_test / 255.0\n",
        "#one hot encoding labels\n",
        "print('Before one hot conversion :',y_train[0:5])\n",
        "y_train = tf.keras.utils.to_categorical(y_train,num_classes=10)\n",
        "y_test = tf.keras.utils.to_categorical(y_test,num_classes=10)\n",
        "print('After one hot conversion :',y_train[0:5])"
      ],
      "execution_count": 28,
      "outputs": [
        {
          "output_type": "stream",
          "text": [
            "Before one hot conversion : [2 6 7 4 4]\n",
            "After one hot conversion : [[0. 0. 1. 0. 0. 0. 0. 0. 0. 0.]\n",
            " [0. 0. 0. 0. 0. 0. 1. 0. 0. 0.]\n",
            " [0. 0. 0. 0. 0. 0. 0. 1. 0. 0.]\n",
            " [0. 0. 0. 0. 1. 0. 0. 0. 0. 0.]\n",
            " [0. 0. 0. 0. 1. 0. 0. 0. 0. 0.]]\n"
          ],
          "name": "stdout"
        }
      ]
    },
    {
      "cell_type": "markdown",
      "metadata": {
        "id": "BommiojTv6c-",
        "colab_type": "text"
      },
      "source": [
        "##Step 17: Start with a small Regularization. Keep adjusting the learning rate to check the loss. Record findings\n"
      ]
    },
    {
      "cell_type": "code",
      "metadata": {
        "id": "iL9Ue_Wlcnlh",
        "colab_type": "code",
        "colab": {
          "base_uri": "https://localhost:8080/",
          "height": 391
        },
        "outputId": "234ef7fa-bb12-485a-9380-65ce3038ec6c"
      },
      "source": [
        "#Start with a small Regularization. Keep adjusting the learning rate to check the loss. Record findings\t4\n",
        "model5= tf.keras.models.Sequential()\n",
        "model5.add(tf.keras.layers.Dense(200,activation = 'relu'))\n",
        "model5.add(tf.keras.layers.BatchNormalization())\n",
        "model5.add(tf.keras.layers.Dense(100,activation='relu'))\n",
        "model5.add(tf.keras.layers.Dense(10,activation='softmax'))\n",
        "sgd_optimizer = tf.keras.optimizers.SGD(lr=0.5)\n",
        "model5.compile(optimizer=sgd_optimizer,loss='categorical_crossentropy',metrics=['accuracy'])\n",
        "model5.fit(X_train,y_train,epochs=10,validation_data=(X_test,y_test),batch_size=32)"
      ],
      "execution_count": 29,
      "outputs": [
        {
          "output_type": "stream",
          "text": [
            "Train on 42000 samples, validate on 18000 samples\n",
            "Epoch 1/10\n",
            "42000/42000 [==============================] - 4s 102us/sample - loss: 1.7236 - acc: 0.4042 - val_loss: 3.3597 - val_acc: 0.1938\n",
            "Epoch 2/10\n",
            "42000/42000 [==============================] - 4s 95us/sample - loss: 1.4547 - acc: 0.5203 - val_loss: 2.0668 - val_acc: 0.3618\n",
            "Epoch 3/10\n",
            "42000/42000 [==============================] - 4s 96us/sample - loss: 1.3650 - acc: 0.5581 - val_loss: 1.7818 - val_acc: 0.4814\n",
            "Epoch 4/10\n",
            "42000/42000 [==============================] - 4s 95us/sample - loss: 1.2862 - acc: 0.5888 - val_loss: 2.2037 - val_acc: 0.3807\n",
            "Epoch 5/10\n",
            "42000/42000 [==============================] - 4s 95us/sample - loss: 1.2588 - acc: 0.5944 - val_loss: 2.2580 - val_acc: 0.4292\n",
            "Epoch 6/10\n",
            "42000/42000 [==============================] - 4s 97us/sample - loss: 1.2385 - acc: 0.6043 - val_loss: 1.8751 - val_acc: 0.4296\n",
            "Epoch 7/10\n",
            "42000/42000 [==============================] - 4s 94us/sample - loss: 1.2133 - acc: 0.6129 - val_loss: 1.2700 - val_acc: 0.6028\n",
            "Epoch 8/10\n",
            "42000/42000 [==============================] - 4s 93us/sample - loss: 1.2835 - acc: 0.5782 - val_loss: 1.6922 - val_acc: 0.4240\n",
            "Epoch 9/10\n",
            "42000/42000 [==============================] - 4s 95us/sample - loss: 1.3512 - acc: 0.5497 - val_loss: 1.4261 - val_acc: 0.5258\n",
            "Epoch 10/10\n",
            "42000/42000 [==============================] - 4s 95us/sample - loss: 1.3429 - acc: 0.5567 - val_loss: 1.6338 - val_acc: 0.4856\n"
          ],
          "name": "stdout"
        },
        {
          "output_type": "execute_result",
          "data": {
            "text/plain": [
              "<tensorflow.python.keras.callbacks.History at 0x7fdcc16e6b00>"
            ]
          },
          "metadata": {
            "tags": []
          },
          "execution_count": 29
        }
      ]
    },
    {
      "cell_type": "markdown",
      "metadata": {
        "id": "hwTIhvP2MmS9",
        "colab_type": "text"
      },
      "source": [
        "<font color=\"red\">Learning Rate 0.001</font>\n",
        "<br>Epoch 1/10\n",
        "42000/42000 [=] - 8s 184us/sample - loss: 2.2717 - acc: 0.1758 - val_loss: 2.1247 - val_acc: 0.2543\n",
        "<br>Epoch 10/10\n",
        "42000/42000 [=] - 7s 158us/sample - loss: 1.0986 - acc: 0.6772 - val_loss: 1.0553 - val_acc: 0.6950\n",
        "<br><br><font color=\"red\">Learning Rate 0.01</font>\n",
        "<br>Epoch 1/10\n",
        "42000/42000 [=] - 8s 180us/sample - loss: 1.6713 - acc: 0.4598 - val_loss: 1.4193 - val_acc: 0.5287\n",
        "<br>Epoch 10/10\n",
        "42000/42000 [=] - 6s 152us/sample - loss: 0.9359 - acc: 0.7125 - val_loss: 1.2810 - val_acc: 0.5940\n",
        "<br><br><font color=\"red\">Learning Rate 0.05</font>\n",
        "<br>Epoch 1/10\n",
        "42000/42000 [=] - 8s 190us/sample - loss: 1.6779 - acc: 0.4472 - val_loss: 2.5653 - val_acc: 0.2830\n",
        "<br>Epoch 10/10\n",
        "42000/42000 [=] - 7s 159us/sample - loss: 1.2071 - acc: 0.6093 - val_loss: 1.1955 - val_acc: 0.6128\n",
        "<br><br><font color=\"red\">Learning Rate 0.1</font>\n",
        "<br>Epoch 1/10\n",
        "42000/42000 [=] - 8s 186us/sample - loss: 1.6702 - acc: 0.4298 - val_loss: 3.2386 - val_acc: 0.2166\n",
        "<br>Epoch 10/10\n",
        "42000/42000 [=] - 7s 162us/sample - loss: 1.2186 - acc: 0.6075 - val_loss: 1.4296 - val_acc: 0.5257\n",
        "<br><br><font color=\"red\">Learning Rate 0.3</font>\n",
        "<br>Epoch 1/10\n",
        "42000/42000 [=] - 8s 187us/sample - loss: 1.6386 - acc: 0.4402 - val_loss: 1.5808 - val_acc: 0.4878\n",
        "<br>Epoch 10/10\n",
        "42000/42000 [=] - 8s 200us/sample - loss: 0.9615 - acc: 0.7027 - val_loss: 1.2401 - val_acc: 0.6176\n"
      ]
    },
    {
      "cell_type": "code",
      "metadata": {
        "id": "iaejhOkjMRC5",
        "colab_type": "code",
        "colab": {}
      },
      "source": [
        ""
      ],
      "execution_count": 0,
      "outputs": []
    },
    {
      "cell_type": "markdown",
      "metadata": {
        "id": "5OqLCHh8wcPL",
        "colab_type": "text"
      },
      "source": [
        "##Step 18: Perform Hyperparameter Optimization"
      ]
    },
    {
      "cell_type": "code",
      "metadata": {
        "id": "i2Qc1pCYcnll",
        "colab_type": "code",
        "colab": {
          "base_uri": "https://localhost:8080/",
          "height": 391
        },
        "outputId": "d0232d6c-36b6-4b0e-a44c-14a4945d457b"
      },
      "source": [
        "#Perform Hyperparameter Optimization . Record findings\t4\n",
        "#changing optimizer to Adam\n",
        "model5= tf.keras.models.Sequential()\n",
        "model5.add(tf.keras.layers.Dense(1024,activation = 'relu'))\n",
        "model5.add(tf.keras.layers.BatchNormalization())\n",
        "model5.add(tf.keras.layers.Dense(512,activation='relu'))\n",
        "model5.add(tf.keras.layers.Dense(256,activation='relu'))\n",
        "model5.add(tf.keras.layers.Dense(128,activation='relu'))\n",
        "model5.add(tf.keras.layers.Dense(10,activation='softmax'))\n",
        "adam_optimizer = tf.keras.optimizers.Adam(learning_rate=0.001, beta_1=0.9, beta_2=0.999, amsgrad=False)\n",
        "model5.compile(optimizer=adam_optimizer,loss='categorical_crossentropy',metrics=['accuracy'])\n",
        "model5.fit(X_train,y_train,epochs=10,validation_data=(X_test,y_test),batch_size=64)"
      ],
      "execution_count": 30,
      "outputs": [
        {
          "output_type": "stream",
          "text": [
            "Train on 42000 samples, validate on 18000 samples\n",
            "Epoch 1/10\n",
            "42000/42000 [==============================] - 8s 187us/sample - loss: 1.3143 - acc: 0.5680 - val_loss: 2.2012 - val_acc: 0.3657\n",
            "Epoch 2/10\n",
            "42000/42000 [==============================] - 8s 182us/sample - loss: 0.9879 - acc: 0.6881 - val_loss: 2.1991 - val_acc: 0.4034\n",
            "Epoch 3/10\n",
            "42000/42000 [==============================] - 8s 181us/sample - loss: 0.8650 - acc: 0.7254 - val_loss: 1.0979 - val_acc: 0.6457\n",
            "Epoch 4/10\n",
            "42000/42000 [==============================] - 8s 187us/sample - loss: 0.7822 - acc: 0.7531 - val_loss: 1.1210 - val_acc: 0.6502\n",
            "Epoch 5/10\n",
            "42000/42000 [==============================] - 8s 183us/sample - loss: 0.7116 - acc: 0.7745 - val_loss: 0.8890 - val_acc: 0.7236\n",
            "Epoch 6/10\n",
            "42000/42000 [==============================] - 8s 180us/sample - loss: 0.6666 - acc: 0.7911 - val_loss: 0.9790 - val_acc: 0.6898\n",
            "Epoch 7/10\n",
            "42000/42000 [==============================] - 8s 181us/sample - loss: 0.6374 - acc: 0.7971 - val_loss: 0.8123 - val_acc: 0.7443\n",
            "Epoch 8/10\n",
            "42000/42000 [==============================] - 8s 185us/sample - loss: 0.6003 - acc: 0.8091 - val_loss: 0.8455 - val_acc: 0.7369\n",
            "Epoch 9/10\n",
            "42000/42000 [==============================] - 8s 182us/sample - loss: 0.5696 - acc: 0.8194 - val_loss: 0.6742 - val_acc: 0.7913\n",
            "Epoch 10/10\n",
            "42000/42000 [==============================] - 8s 180us/sample - loss: 0.5422 - acc: 0.8260 - val_loss: 0.7843 - val_acc: 0.7564\n"
          ],
          "name": "stdout"
        },
        {
          "output_type": "execute_result",
          "data": {
            "text/plain": [
              "<tensorflow.python.keras.callbacks.History at 0x7fdcc143eba8>"
            ]
          },
          "metadata": {
            "tags": []
          },
          "execution_count": 30
        }
      ]
    },
    {
      "cell_type": "markdown",
      "metadata": {
        "id": "EVQ5eyJzRChU",
        "colab_type": "text"
      },
      "source": [
        "Model Config:<font color=\"red\">\n",
        "BatchNormalization, Adam Optimizer with learning rate 0.001</font>\n",
        "<br>Epoch 1/10\n",
        "42000/42000 - 9s 209us/sample - loss: 1.4179 - acc: 0.5520 - val_loss: 1.5119 - val_acc: 0.5004\n",
        "<br>Epoch 10/10\n",
        "42000/42000  - 7s 178us/sample - loss: 0.7657 - acc: 0.7663 - val_loss: 1.0693 - val_acc: 0.6824\n",
        "<br>\n",
        "Model Config:\n",
        "BatchNormalization, Adam Optimizer with <font color=\"red\">learning rate 0.01</font>\n",
        "<br>\n",
        "Epoch 1/10\n",
        "42000/42000  - 10s 240us/sample - loss: 1.6192 - acc: 0.4372 - val_loss: 2.7127 - val_acc: 0.3062\n",
        "<br>Epoch 10/10\n",
        "42000/42000  - 8s 202us/sample - loss: 1.0224 - acc: 0.6829 - val_loss: 1.0512 - val_acc: 0.6731\n",
        "Model Config:\n",
        "BatchNormalization, Adam Optimizer with learning rate 0.001\n",
        "changing <font color=\"red\">batch_size from 32 to 64 </font>\n",
        "<br>Epoch 1/10\n",
        "42000/42000  - 7s 163us/sample - loss: 1.4260 - acc: 0.5518 - val_loss: 1.5168 - val_acc: 0.4904\n",
        "<br>Epoch 10/10\n",
        "42000/42000  - 5s 121us/sample - loss: 0.6674 - acc: 0.8002 - val_loss: 1.0364 - val_acc: 0.6982\n",
        "<br><br>\n",
        "With Model Architecture:\n",
        "model5.add(tf.keras.layers.Dense(1024,activation = 'relu'))\n",
        "<br>model5.add(tf.keras.layers.BatchNormalization())\n",
        "<br>model5.add(tf.keras.layers.Dense(512,activation='relu'))\n",
        "<br>model5.add(tf.keras.layers.Dense(256,activation='relu'))\n",
        "<br>model5.add(tf.keras.layers.Dense(128,activation='relu'))\n",
        "<br>model5.add(tf.keras.layers.Dense(10,activation='softmax'))\n",
        "<br>Epoch 1/10\n",
        "42000/42000  - 23s 558us/sample - loss: 1.3400 - acc: 0.5550 - val_loss: 2.4633 - val_acc: 0.2915\n",
        "<br>Epoch 10/10\n",
        "42000/42000  - 21s 497us/sample - loss: 0.5378 - acc: 0.8287 - val_loss: 0.8199 - val_acc: 0.7449\n",
        "\n"
      ]
    },
    {
      "cell_type": "markdown",
      "metadata": {
        "id": "0kMSyX9hwgyf",
        "colab_type": "text"
      },
      "source": [
        "### Hyperparameter Optimization using RandomSearchCV"
      ]
    },
    {
      "cell_type": "code",
      "metadata": {
        "id": "_TQhvgpYlGST",
        "colab_type": "code",
        "colab": {}
      },
      "source": [
        "from keras.optimizers import SGD\n",
        "epochs=10\n",
        "learning_rate = 0.1\n",
        "decay_rate = learning_rate / epochs\n",
        "momentum = 0.8\n",
        "\n",
        "sgd = SGD(lr=learning_rate, momentum=momentum, decay=decay_rate, nesterov=False)"
      ],
      "execution_count": 0,
      "outputs": []
    },
    {
      "cell_type": "code",
      "metadata": {
        "id": "NZXKdLRjoPWV",
        "colab_type": "code",
        "colab": {}
      },
      "source": [
        "# build the model\n",
        "from keras.models import Sequential\n",
        "from keras.layers import Dense, Dropout, Activation, Flatten, BatchNormalization\n",
        "input_dim = X_train.shape[1]\n",
        "num_classes = 10\n",
        "\n",
        "lr_model = Sequential()\n",
        "lr_model.add(Dense(1024,activation = 'relu'))\n",
        "lr_model.add(BatchNormalization())\n",
        "lr_model.add(Dense(512,activation='relu'))\n",
        "lr_model.add(Dense(256,activation='relu'))\n",
        "lr_model.add(Dense(128,activation='relu'))\n",
        "lr_model.add(Dense(10,activation='softmax'))\n",
        "\n",
        "# compile the model\n",
        "lr_model.compile(loss='categorical_crossentropy',\n",
        "              optimizer=sgd,\n",
        "              metrics=['acc'])"
      ],
      "execution_count": 0,
      "outputs": []
    },
    {
      "cell_type": "code",
      "metadata": {
        "id": "4pVraMLDoSso",
        "colab_type": "code",
        "colab": {
          "base_uri": "https://localhost:8080/",
          "height": 408
        },
        "outputId": "1e795400-b1d7-4398-b181-85fa6727afa2"
      },
      "source": [
        "%%time\n",
        "# Fit the model\n",
        "batch_size = int(input_dim/100)\n",
        "\n",
        "lr_model_history = lr_model.fit(X_train, y_train,\n",
        "                    batch_size=batch_size,\n",
        "                    epochs=epochs,\n",
        "                    verbose=1,\n",
        "                    validation_data=(X_test, y_test))"
      ],
      "execution_count": 47,
      "outputs": [
        {
          "output_type": "stream",
          "text": [
            "Train on 42000 samples, validate on 18000 samples\n",
            "Epoch 1/10\n",
            "42000/42000 [==============================] - 39s 931us/step - loss: 1.8915 - acc: 0.3667 - val_loss: 1.3497 - val_acc: 0.5904\n",
            "Epoch 2/10\n",
            "42000/42000 [==============================] - 39s 930us/step - loss: 1.2616 - acc: 0.5984 - val_loss: 1.1472 - val_acc: 0.6397\n",
            "Epoch 3/10\n",
            "42000/42000 [==============================] - 39s 928us/step - loss: 1.0956 - acc: 0.6533 - val_loss: 0.9979 - val_acc: 0.6926\n",
            "Epoch 4/10\n",
            "42000/42000 [==============================] - 39s 931us/step - loss: 1.0069 - acc: 0.6813 - val_loss: 0.8977 - val_acc: 0.7248\n",
            "Epoch 5/10\n",
            "42000/42000 [==============================] - 39s 921us/step - loss: 0.9341 - acc: 0.7052 - val_loss: 0.8886 - val_acc: 0.7327\n",
            "Epoch 6/10\n",
            "42000/42000 [==============================] - 40s 946us/step - loss: 0.8969 - acc: 0.7194 - val_loss: 0.8397 - val_acc: 0.7442\n",
            "Epoch 7/10\n",
            "42000/42000 [==============================] - 40s 961us/step - loss: 0.8717 - acc: 0.7278 - val_loss: 0.7947 - val_acc: 0.7659\n",
            "Epoch 8/10\n",
            "42000/42000 [==============================] - 39s 935us/step - loss: 0.8415 - acc: 0.7340 - val_loss: 0.8136 - val_acc: 0.7565\n",
            "Epoch 9/10\n",
            "42000/42000 [==============================] - 39s 932us/step - loss: 0.8077 - acc: 0.7470 - val_loss: 0.7245 - val_acc: 0.7894\n",
            "Epoch 10/10\n",
            "42000/42000 [==============================] - 39s 921us/step - loss: 0.7883 - acc: 0.7500 - val_loss: 0.7430 - val_acc: 0.7829\n",
            "CPU times: user 29min 36s, sys: 7min 15s, total: 36min 52s\n",
            "Wall time: 6min 32s\n"
          ],
          "name": "stdout"
        }
      ]
    },
    {
      "cell_type": "code",
      "metadata": {
        "id": "Sk9R6_2NoV8w",
        "colab_type": "code",
        "colab": {
          "base_uri": "https://localhost:8080/",
          "height": 807
        },
        "outputId": "95847370-e6e2-4774-e2e7-a597996a7afc"
      },
      "source": [
        "# Plot the loss function\n",
        "fig, ax = plt.subplots(1, 1, figsize=(10,6))\n",
        "ax.plot(np.sqrt(lr_model_history.history['loss']), 'r', label='train')\n",
        "ax.plot(np.sqrt(lr_model_history.history['val_loss']), 'b' ,label='val')\n",
        "ax.set_xlabel(r'Epoch', fontsize=20)\n",
        "ax.set_ylabel(r'Loss', fontsize=20)\n",
        "ax.legend()\n",
        "ax.tick_params(labelsize=20)\n",
        "plt.show()\n",
        "# Plot the accuracy\n",
        "fig, ax = plt.subplots(1, 1, figsize=(10,6))\n",
        "ax.plot(np.sqrt(lr_model_history.history['acc']), 'r', label='train')\n",
        "ax.plot(np.sqrt(lr_model_history.history['val_acc']), 'b' ,label='val')\n",
        "ax.set_xlabel(r'Epoch', fontsize=20)\n",
        "ax.set_ylabel(r'Accuracy', fontsize=20)\n",
        "ax.legend()\n",
        "ax.tick_params(labelsize=20)\n",
        "plt.show()"
      ],
      "execution_count": 48,
      "outputs": [
        {
          "output_type": "display_data",
          "data": {
            "image/png": "[encoded data removed]",
            "text/plain": [
              "<Figure size 720x432 with 1 Axes>"
            ]
          },
          "metadata": {
            "tags": []
          }
        },
        {
          "output_type": "display_data",
          "data": {
            "image/png": "[encoded data removed]",
            "text/plain": [
              "<Figure size 720x432 with 1 Axes>"
            ]
          },
          "metadata": {
            "tags": []
          }
        }
      ]
    },
    {
      "cell_type": "code",
      "metadata": {
        "id": "qfms3nEjquBx",
        "colab_type": "code",
        "colab": {}
      },
      "source": [
        "import numpy\n",
        "from sklearn.model_selection import GridSearchCV\n",
        "from keras.wrappers.scikit_learn import KerasClassifier\n",
        "from keras.optimizers import RMSprop"
      ],
      "execution_count": 0,
      "outputs": []
    },
    {
      "cell_type": "code",
      "metadata": {
        "id": "qMJu0-OBqvdD",
        "colab_type": "code",
        "colab": {}
      },
      "source": [
        "# let's create a function that creates the model (required for KerasClassifier) \n",
        "# while accepting the hyperparameters we want to tune \n",
        "# we also pass some default values such as optimizer='rmsprop'\n",
        "def create_model(init_mode='uniform'):\n",
        "    # define model\n",
        "    model = Sequential()\n",
        "    model.add(Dense(64, kernel_initializer=init_mode, activation=tf.nn.relu, input_dim=1024)) \n",
        "    model.add(Dropout(0.1))\n",
        "    model.add(Dense(64, kernel_initializer=init_mode, activation=tf.nn.relu))\n",
        "    model.add(Dense(10, kernel_initializer=init_mode, activation=tf.nn.softmax))\n",
        "    # compile model\n",
        "    model.compile(loss='categorical_crossentropy',\n",
        "              optimizer=RMSprop(),\n",
        "              metrics=['accuracy'])\n",
        "    return model"
      ],
      "execution_count": 0,
      "outputs": []
    },
    {
      "cell_type": "code",
      "metadata": {
        "id": "089Ry8FvqvUU",
        "colab_type": "code",
        "colab": {
          "base_uri": "https://localhost:8080/",
          "height": 391
        },
        "outputId": "827dbc84-82a9-4cf3-aac9-d64ef45fd413"
      },
      "source": [
        "%%time\n",
        "seed = 7\n",
        "numpy.random.seed(seed)\n",
        "batch_size = 128\n",
        "epochs = 10\n",
        "\n",
        "model_CV = KerasClassifier(build_fn=create_model, epochs=epochs, \n",
        "                           batch_size=batch_size, verbose=1)\n",
        "# define the grid search parameters\n",
        "init_mode = ['uniform', 'lecun_uniform', 'normal', 'zero', \n",
        "             'glorot_normal', 'glorot_uniform', 'he_normal', 'he_uniform']\n",
        "\n",
        "param_grid = dict(init_mode=init_mode)\n",
        "grid = GridSearchCV(estimator=model_CV, param_grid=param_grid, n_jobs=-1, cv=3)\n",
        "grid_result = grid.fit(X_train, y_train)"
      ],
      "execution_count": 57,
      "outputs": [
        {
          "output_type": "stream",
          "text": [
            "Epoch 1/10\n",
            "42000/42000 [==============================] - 2s 46us/step - loss: 2.2465 - acc: 0.1526\n",
            "Epoch 2/10\n",
            "42000/42000 [==============================] - 1s 31us/step - loss: 2.0068 - acc: 0.2605\n",
            "Epoch 3/10\n",
            "42000/42000 [==============================] - 1s 31us/step - loss: 1.9053 - acc: 0.2989\n",
            "Epoch 4/10\n",
            "42000/42000 [==============================] - 1s 32us/step - loss: 1.8231 - acc: 0.3492\n",
            "Epoch 5/10\n",
            "42000/42000 [==============================] - 1s 31us/step - loss: 1.7490 - acc: 0.3816\n",
            "Epoch 6/10\n",
            "42000/42000 [==============================] - 1s 33us/step - loss: 1.6892 - acc: 0.4125\n",
            "Epoch 7/10\n",
            "42000/42000 [==============================] - 1s 32us/step - loss: 1.6439 - acc: 0.4315\n",
            "Epoch 8/10\n",
            "42000/42000 [==============================] - 1s 32us/step - loss: 1.5991 - acc: 0.4520\n",
            "Epoch 9/10\n",
            "42000/42000 [==============================] - 1s 32us/step - loss: 1.5666 - acc: 0.4655\n",
            "Epoch 10/10\n",
            "42000/42000 [==============================] - 1s 32us/step - loss: 1.5408 - acc: 0.4768\n",
            "CPU times: user 28.4 s, sys: 5.99 s, total: 34.4 s\n",
            "Wall time: 26.6 s\n"
          ],
          "name": "stdout"
        }
      ]
    },
    {
      "cell_type": "code",
      "metadata": {
        "id": "UOwMKw2grAnN",
        "colab_type": "code",
        "colab": {
          "base_uri": "https://localhost:8080/",
          "height": 170
        },
        "outputId": "d21f2e6c-0164-417b-c9a1-7b692d5e3a49"
      },
      "source": [
        "# print results\n",
        "print(f'Best Accuracy for {grid_result.best_score_} using {grid_result.best_params_}')\n",
        "means = grid_result.cv_results_['mean_test_score']\n",
        "stds = grid_result.cv_results_['std_test_score']\n",
        "params = grid_result.cv_results_['params']\n",
        "for mean, stdev, param in zip(means, stds, params):\n",
        "    print(f' mean={mean:.4}, std={stdev:.4} using {param}')"
      ],
      "execution_count": 58,
      "outputs": [
        {
          "output_type": "stream",
          "text": [
            "Best Accuracy for 0.5486190476417542 using {'init_mode': 'glorot_uniform'}\n",
            " mean=0.1001, std=0.003128 using {'init_mode': 'uniform'}\n",
            " mean=0.3018, std=0.1105 using {'init_mode': 'lecun_uniform'}\n",
            " mean=0.4205, std=0.2258 using {'init_mode': 'normal'}\n",
            " mean=0.09981, std=0.002566 using {'init_mode': 'zero'}\n",
            " mean=0.5331, std=0.05113 using {'init_mode': 'glorot_normal'}\n",
            " mean=0.5486, std=0.03639 using {'init_mode': 'glorot_uniform'}\n",
            " mean=0.4665, std=0.04554 using {'init_mode': 'he_normal'}\n",
            " mean=0.4907, std=0.03711 using {'init_mode': 'he_uniform'}\n"
          ],
          "name": "stdout"
        }
      ]
    },
    {
      "cell_type": "markdown",
      "metadata": {
        "id": "gvTDgeCPu_Gq",
        "colab_type": "text"
      },
      "source": [
        "Best Accuracy for 0.5486190476417542 using {'init_mode': 'glorot_uniform'}\n"
      ]
    },
    {
      "cell_type": "code",
      "metadata": {
        "id": "BbuCGbBqtHHg",
        "colab_type": "code",
        "colab": {}
      },
      "source": [
        "# repeat some of the initial values here so we make sure they were not changed\n",
        "input_dim = X_train.shape[1]\n",
        "num_classes = 10\n",
        "\n",
        "# let's create a function that creates the model (required for KerasClassifier) \n",
        "# while accepting the hyperparameters we want to tune \n",
        "# we also pass some default values such as optimizer='rmsprop'\n",
        "def create_model_2(optimizer='rmsprop', init='glorot_uniform'):\n",
        "    model = Sequential()\n",
        "    model.add(Dense(64, input_dim=input_dim, kernel_initializer=init, activation='relu'))\n",
        "    model.add(Dropout(0.1))\n",
        "    model.add(Dense(64, kernel_initializer=init, activation=tf.nn.relu))\n",
        "    model.add(Dense(num_classes, kernel_initializer=init, activation=tf.nn.softmax))\n",
        "\n",
        "    # compile model\n",
        "    model.compile(loss='categorical_crossentropy', \n",
        "                  optimizer=optimizer, \n",
        "                  metrics=['accuracy'])\n",
        "\n",
        "    return model\n"
      ],
      "execution_count": 0,
      "outputs": []
    },
    {
      "cell_type": "code",
      "metadata": {
        "id": "ISalWb7htKgh",
        "colab_type": "code",
        "colab": {
          "base_uri": "https://localhost:8080/",
          "height": 1000
        },
        "outputId": "81fc62b8-1a35-4e98-eb6b-25eae134a8ca"
      },
      "source": [
        "%%time\n",
        "# fix random seed for reproducibility (this might work or might not work \n",
        "# depending on each library's implenentation)\n",
        "seed = 7\n",
        "numpy.random.seed(seed)\n",
        "\n",
        "# create the sklearn model for the network\n",
        "model_init_batch_epoch_CV = KerasClassifier(build_fn=create_model_2, verbose=1)\n",
        "\n",
        "# we choose the initializers that came at the top in our previous cross-validation!!\n",
        "init_mode = ['glorot_uniform', 'uniform'] \n",
        "batches = [128, 512]\n",
        "epochs = [10, 20]\n",
        "\n",
        "# grid search for initializer, batch size and number of epochs\n",
        "param_grid = dict(epochs=epochs, batch_size=batches, init=init_mode)\n",
        "grid = GridSearchCV(estimator=model_init_batch_epoch_CV, \n",
        "                    param_grid=param_grid,\n",
        "                    cv=3)\n",
        "grid_result = grid.fit(X_train, y_train)"
      ],
      "execution_count": 61,
      "outputs": [
        {
          "output_type": "stream",
          "text": [
            "Epoch 1/10\n",
            "28000/28000 [==============================] - 2s 57us/step - loss: 2.2999 - acc: 0.1181\n",
            "Epoch 2/10\n",
            "28000/28000 [==============================] - 1s 31us/step - loss: 2.1451 - acc: 0.1970\n",
            "Epoch 3/10\n",
            "28000/28000 [==============================] - 1s 32us/step - loss: 1.9786 - acc: 0.2693\n",
            "Epoch 4/10\n",
            "28000/28000 [==============================] - 1s 30us/step - loss: 1.8926 - acc: 0.3100\n",
            "Epoch 5/10\n",
            "28000/28000 [==============================] - 1s 31us/step - loss: 1.7985 - acc: 0.3588\n",
            "Epoch 6/10\n",
            "28000/28000 [==============================] - 1s 30us/step - loss: 1.7249 - acc: 0.3895\n",
            "Epoch 7/10\n",
            "28000/28000 [==============================] - 1s 30us/step - loss: 1.6641 - acc: 0.4164\n",
            "Epoch 8/10\n",
            "28000/28000 [==============================] - 1s 31us/step - loss: 1.6264 - acc: 0.4309\n",
            "Epoch 9/10\n",
            "28000/28000 [==============================] - 1s 30us/step - loss: 1.5743 - acc: 0.4553\n",
            "Epoch 10/10\n",
            "28000/28000 [==============================] - 1s 30us/step - loss: 1.5351 - acc: 0.4735\n",
            "14000/14000 [==============================] - 0s 29us/step\n",
            "Epoch 1/10\n",
            "28000/28000 [==============================] - 2s 60us/step - loss: 2.2988 - acc: 0.1198\n",
            "Epoch 2/10\n",
            "28000/28000 [==============================] - 1s 32us/step - loss: 2.1242 - acc: 0.2290\n",
            "Epoch 3/10\n",
            "28000/28000 [==============================] - 1s 32us/step - loss: 1.9175 - acc: 0.3151\n",
            "Epoch 4/10\n",
            "28000/28000 [==============================] - 1s 33us/step - loss: 1.7849 - acc: 0.3736\n",
            "Epoch 5/10\n",
            "28000/28000 [==============================] - 1s 33us/step - loss: 1.6928 - acc: 0.4157\n",
            "Epoch 6/10\n",
            "28000/28000 [==============================] - 1s 34us/step - loss: 1.6163 - acc: 0.4460\n",
            "Epoch 7/10\n",
            "28000/28000 [==============================] - 1s 35us/step - loss: 1.5623 - acc: 0.4666\n",
            "Epoch 8/10\n",
            "28000/28000 [==============================] - 1s 33us/step - loss: 1.5222 - acc: 0.4836\n",
            "Epoch 9/10\n",
            "28000/28000 [==============================] - 1s 33us/step - loss: 1.4882 - acc: 0.4981\n",
            "Epoch 10/10\n",
            "28000/28000 [==============================] - 1s 33us/step - loss: 1.4650 - acc: 0.5065\n",
            "14000/14000 [==============================] - 0s 30us/step\n",
            "Epoch 1/10\n",
            "28000/28000 [==============================] - 2s 63us/step - loss: 2.2998 - acc: 0.1078\n",
            "Epoch 2/10\n",
            "28000/28000 [==============================] - 1s 34us/step - loss: 2.1875 - acc: 0.1761\n",
            "Epoch 3/10\n",
            "28000/28000 [==============================] - 1s 33us/step - loss: 2.0571 - acc: 0.2289\n",
            "Epoch 4/10\n",
            "28000/28000 [==============================] - 1s 32us/step - loss: 1.9965 - acc: 0.2482\n",
            "Epoch 5/10\n",
            "28000/28000 [==============================] - 1s 32us/step - loss: 1.9667 - acc: 0.2615\n",
            "Epoch 6/10\n",
            "28000/28000 [==============================] - 1s 32us/step - loss: 1.9492 - acc: 0.2747\n",
            "Epoch 7/10\n",
            "28000/28000 [==============================] - 1s 32us/step - loss: 1.9282 - acc: 0.2843\n",
            "Epoch 8/10\n",
            "28000/28000 [==============================] - 1s 33us/step - loss: 1.9098 - acc: 0.2958\n",
            "Epoch 9/10\n",
            "28000/28000 [==============================] - 1s 33us/step - loss: 1.8922 - acc: 0.3063\n",
            "Epoch 10/10\n",
            "28000/28000 [==============================] - 1s 32us/step - loss: 1.8825 - acc: 0.3066\n",
            "14000/14000 [==============================] - 0s 31us/step\n",
            "Epoch 1/10\n",
            "28000/28000 [==============================] - 2s 63us/step - loss: 2.2997 - acc: 0.1046\n",
            "Epoch 2/10\n",
            "28000/28000 [==============================] - 1s 32us/step - loss: 2.2356 - acc: 0.1504\n",
            "Epoch 3/10\n",
            "28000/28000 [==============================] - 1s 33us/step - loss: 2.1463 - acc: 0.1927\n",
            "Epoch 4/10\n",
            "28000/28000 [==============================] - 1s 34us/step - loss: 2.0693 - acc: 0.2220\n",
            "Epoch 5/10\n",
            "28000/28000 [==============================] - 1s 33us/step - loss: 1.9980 - acc: 0.2571\n",
            "Epoch 6/10\n",
            "28000/28000 [==============================] - 1s 33us/step - loss: 1.9101 - acc: 0.3006\n",
            "Epoch 7/10\n",
            "28000/28000 [==============================] - 1s 32us/step - loss: 1.8428 - acc: 0.3294\n",
            "Epoch 8/10\n",
            "28000/28000 [==============================] - 1s 33us/step - loss: 1.8033 - acc: 0.3399\n",
            "Epoch 9/10\n",
            "28000/28000 [==============================] - 1s 33us/step - loss: 1.7757 - acc: 0.3581\n",
            "Epoch 10/10\n",
            "28000/28000 [==============================] - 1s 32us/step - loss: 1.7438 - acc: 0.3740\n",
            "14000/14000 [==============================] - 0s 34us/step\n",
            "Epoch 1/10\n",
            "28000/28000 [==============================] - 2s 68us/step - loss: 2.3030 - acc: 0.1009\n",
            "Epoch 2/10\n",
            "28000/28000 [==============================] - 1s 32us/step - loss: 2.2823 - acc: 0.1148\n",
            "Epoch 3/10\n",
            "28000/28000 [==============================] - 1s 31us/step - loss: 2.1769 - acc: 0.1597\n",
            "Epoch 4/10\n",
            "28000/28000 [==============================] - 1s 32us/step - loss: 2.1060 - acc: 0.1923\n",
            "Epoch 5/10\n",
            "28000/28000 [==============================] - 1s 33us/step - loss: 2.0467 - acc: 0.2204\n",
            "Epoch 6/10\n",
            "28000/28000 [==============================] - 1s 33us/step - loss: 2.0097 - acc: 0.2400\n",
            "Epoch 7/10\n",
            "28000/28000 [==============================] - 1s 35us/step - loss: 1.9787 - acc: 0.2581\n",
            "Epoch 8/10\n",
            "28000/28000 [==============================] - 1s 37us/step - loss: 1.9499 - acc: 0.2716\n",
            "Epoch 9/10\n",
            "28000/28000 [==============================] - 1s 37us/step - loss: 1.9222 - acc: 0.2866\n",
            "Epoch 10/10\n",
            "28000/28000 [==============================] - 1s 36us/step - loss: 1.9065 - acc: 0.2969\n",
            "14000/14000 [==============================] - 1s 40us/step\n",
            "Epoch 1/10\n",
            "28000/28000 [==============================] - 2s 71us/step - loss: 2.3028 - acc: 0.1007\n",
            "Epoch 2/10\n",
            "28000/28000 [==============================] - 1s 33us/step - loss: 2.2675 - acc: 0.1236\n",
            "Epoch 3/10\n",
            "28000/28000 [==============================] - 1s 34us/step - loss: 2.1812 - acc: 0.1812\n",
            "Epoch 4/10\n",
            "28000/28000 [==============================] - 1s 34us/step - loss: 2.0858 - acc: 0.2390\n",
            "Epoch 5/10\n",
            "28000/28000 [==============================] - 1s 33us/step - loss: 2.0104 - acc: 0.2755\n",
            "Epoch 6/10\n",
            "28000/28000 [==============================] - 1s 34us/step - loss: 1.9658 - acc: 0.2864\n",
            "Epoch 7/10\n",
            "28000/28000 [==============================] - 1s 33us/step - loss: 1.9346 - acc: 0.3041\n",
            "Epoch 8/10\n",
            "28000/28000 [==============================] - 1s 33us/step - loss: 1.9168 - acc: 0.3100\n",
            "Epoch 9/10\n",
            "28000/28000 [==============================] - 1s 33us/step - loss: 1.8988 - acc: 0.3208\n",
            "Epoch 10/10\n",
            "28000/28000 [==============================] - 1s 33us/step - loss: 1.8766 - acc: 0.3274\n",
            "14000/14000 [==============================] - 1s 38us/step\n",
            "Epoch 1/20\n",
            "28000/28000 [==============================] - 2s 73us/step - loss: 2.2979 - acc: 0.1181\n",
            "Epoch 2/20\n",
            "28000/28000 [==============================] - 1s 33us/step - loss: 2.1342 - acc: 0.2120\n",
            "Epoch 3/20\n",
            "28000/28000 [==============================] - 1s 34us/step - loss: 1.9461 - acc: 0.2906\n",
            "Epoch 4/20\n",
            "28000/28000 [==============================] - 1s 34us/step - loss: 1.8349 - acc: 0.3437\n",
            "Epoch 5/20\n",
            "28000/28000 [==============================] - 1s 34us/step - loss: 1.7408 - acc: 0.3852\n",
            "Epoch 6/20\n",
            "28000/28000 [==============================] - 1s 34us/step - loss: 1.6749 - acc: 0.4130\n",
            "Epoch 7/20\n",
            "28000/28000 [==============================] - 1s 34us/step - loss: 1.6367 - acc: 0.4259\n",
            "Epoch 8/20\n",
            "28000/28000 [==============================] - 1s 33us/step - loss: 1.5896 - acc: 0.4531\n",
            "Epoch 9/20\n",
            "28000/28000 [==============================] - 1s 34us/step - loss: 1.5533 - acc: 0.4689\n",
            "Epoch 10/20\n",
            "28000/28000 [==============================] - 1s 34us/step - loss: 1.5300 - acc: 0.4781\n",
            "Epoch 11/20\n",
            "28000/28000 [==============================] - 1s 34us/step - loss: 1.4961 - acc: 0.4887\n",
            "Epoch 12/20\n",
            "28000/28000 [==============================] - 1s 34us/step - loss: 1.4780 - acc: 0.4989\n",
            "Epoch 13/20\n",
            "28000/28000 [==============================] - 1s 32us/step - loss: 1.4564 - acc: 0.5092\n",
            "Epoch 14/20\n",
            "28000/28000 [==============================] - 1s 32us/step - loss: 1.4433 - acc: 0.5113\n",
            "Epoch 15/20\n",
            "28000/28000 [==============================] - 1s 36us/step - loss: 1.4274 - acc: 0.5202\n",
            "Epoch 16/20\n",
            "28000/28000 [==============================] - 1s 36us/step - loss: 1.4089 - acc: 0.5280\n",
            "Epoch 17/20\n",
            "28000/28000 [==============================] - 1s 38us/step - loss: 1.4027 - acc: 0.5301\n",
            "Epoch 18/20\n",
            "28000/28000 [==============================] - 1s 38us/step - loss: 1.3874 - acc: 0.5343\n",
            "Epoch 19/20\n",
            "28000/28000 [==============================] - 1s 37us/step - loss: 1.3772 - acc: 0.5383\n",
            "Epoch 20/20\n",
            "28000/28000 [==============================] - 1s 37us/step - loss: 1.3688 - acc: 0.5423\n",
            "14000/14000 [==============================] - 1s 42us/step\n",
            "Epoch 1/20\n",
            "28000/28000 [==============================] - 2s 80us/step - loss: 2.3050 - acc: 0.1118\n",
            "Epoch 2/20\n",
            "28000/28000 [==============================] - 1s 37us/step - loss: 2.2091 - acc: 0.1671\n",
            "Epoch 3/20\n",
            "28000/28000 [==============================] - 1s 34us/step - loss: 2.0643 - acc: 0.2275\n",
            "Epoch 4/20\n",
            "28000/28000 [==============================] - 1s 34us/step - loss: 1.9680 - acc: 0.2687\n",
            "Epoch 5/20\n",
            "28000/28000 [==============================] - 1s 32us/step - loss: 1.9098 - acc: 0.2950\n",
            "Epoch 6/20\n",
            "28000/28000 [==============================] - 1s 33us/step - loss: 1.8612 - acc: 0.3149\n",
            "Epoch 7/20\n",
            "28000/28000 [==============================] - 1s 32us/step - loss: 1.8316 - acc: 0.3329\n",
            "Epoch 8/20\n",
            "28000/28000 [==============================] - 1s 33us/step - loss: 1.7939 - acc: 0.3518\n",
            "Epoch 9/20\n",
            "28000/28000 [==============================] - 1s 32us/step - loss: 1.7749 - acc: 0.3644\n",
            "Epoch 10/20\n",
            "28000/28000 [==============================] - 1s 33us/step - loss: 1.7455 - acc: 0.3855\n",
            "Epoch 11/20\n",
            "28000/28000 [==============================] - 1s 33us/step - loss: 1.7223 - acc: 0.3932\n",
            "Epoch 12/20\n",
            "28000/28000 [==============================] - 1s 33us/step - loss: 1.7137 - acc: 0.3974\n",
            "Epoch 13/20\n",
            "28000/28000 [==============================] - 1s 35us/step - loss: 1.7031 - acc: 0.4047\n",
            "Epoch 14/20\n",
            "28000/28000 [==============================] - 1s 35us/step - loss: 1.6815 - acc: 0.4178\n",
            "Epoch 15/20\n",
            "28000/28000 [==============================] - 1s 35us/step - loss: 1.6649 - acc: 0.4215\n",
            "Epoch 16/20\n",
            "28000/28000 [==============================] - 1s 35us/step - loss: 1.6531 - acc: 0.4252\n",
            "Epoch 17/20\n",
            "28000/28000 [==============================] - 1s 35us/step - loss: 1.6412 - acc: 0.4328\n",
            "Epoch 18/20\n",
            "28000/28000 [==============================] - 1s 36us/step - loss: 1.6207 - acc: 0.4427\n",
            "Epoch 19/20\n",
            "28000/28000 [==============================] - 1s 34us/step - loss: 1.5956 - acc: 0.4553\n",
            "Epoch 20/20\n",
            "28000/28000 [==============================] - 1s 35us/step - loss: 1.5777 - acc: 0.4630\n",
            "14000/14000 [==============================] - 1s 45us/step\n",
            "Epoch 1/20\n",
            "28000/28000 [==============================] - 2s 81us/step - loss: 2.3069 - acc: 0.1038\n",
            "Epoch 2/20\n",
            "28000/28000 [==============================] - 1s 35us/step - loss: 2.2379 - acc: 0.1460\n",
            "Epoch 3/20\n",
            "28000/28000 [==============================] - 1s 35us/step - loss: 2.1339 - acc: 0.1984\n",
            "Epoch 4/20\n",
            "28000/28000 [==============================] - 1s 35us/step - loss: 2.0668 - acc: 0.2320\n",
            "Epoch 5/20\n",
            "28000/28000 [==============================] - 1s 34us/step - loss: 2.0126 - acc: 0.2564\n",
            "Epoch 6/20\n",
            "28000/28000 [==============================] - 1s 34us/step - loss: 1.9354 - acc: 0.2860\n",
            "Epoch 7/20\n",
            "28000/28000 [==============================] - 1s 35us/step - loss: 1.8900 - acc: 0.3065\n",
            "Epoch 8/20\n",
            "28000/28000 [==============================] - 1s 34us/step - loss: 1.8524 - acc: 0.3241\n",
            "Epoch 9/20\n",
            "28000/28000 [==============================] - 1s 34us/step - loss: 1.8284 - acc: 0.3323\n",
            "Epoch 10/20\n",
            "28000/28000 [==============================] - 1s 34us/step - loss: 1.8030 - acc: 0.3442\n",
            "Epoch 11/20\n",
            "28000/28000 [==============================] - 1s 35us/step - loss: 1.7966 - acc: 0.3481\n",
            "Epoch 12/20\n",
            "28000/28000 [==============================] - 1s 34us/step - loss: 1.7804 - acc: 0.3524\n",
            "Epoch 13/20\n",
            "28000/28000 [==============================] - 1s 33us/step - loss: 1.7703 - acc: 0.3576\n",
            "Epoch 14/20\n",
            "28000/28000 [==============================] - 1s 34us/step - loss: 1.7625 - acc: 0.3578\n",
            "Epoch 15/20\n",
            "28000/28000 [==============================] - 1s 34us/step - loss: 1.7512 - acc: 0.3605\n",
            "Epoch 16/20\n",
            "28000/28000 [==============================] - 1s 34us/step - loss: 1.7401 - acc: 0.3624\n",
            "Epoch 17/20\n",
            "28000/28000 [==============================] - 1s 34us/step - loss: 1.7279 - acc: 0.3698\n",
            "Epoch 18/20\n",
            "28000/28000 [==============================] - 1s 34us/step - loss: 1.7235 - acc: 0.3705\n",
            "Epoch 19/20\n",
            "28000/28000 [==============================] - 1s 33us/step - loss: 1.7231 - acc: 0.3731\n",
            "Epoch 20/20\n",
            "28000/28000 [==============================] - 1s 33us/step - loss: 1.7158 - acc: 0.3745\n",
            "14000/14000 [==============================] - 1s 46us/step\n",
            "Epoch 1/20\n",
            "28000/28000 [==============================] - 3s 92us/step - loss: 2.3016 - acc: 0.1027\n",
            "Epoch 2/20\n",
            "28000/28000 [==============================] - 1s 44us/step - loss: 2.2348 - acc: 0.1420\n",
            "Epoch 3/20\n",
            "28000/28000 [==============================] - 1s 34us/step - loss: 2.1238 - acc: 0.1904\n",
            "Epoch 4/20\n",
            "28000/28000 [==============================] - 1s 34us/step - loss: 2.0517 - acc: 0.2200\n",
            "Epoch 5/20\n",
            "28000/28000 [==============================] - 1s 34us/step - loss: 1.9842 - acc: 0.2556\n",
            "Epoch 6/20\n",
            "28000/28000 [==============================] - 1s 35us/step - loss: 1.9128 - acc: 0.2969\n",
            "Epoch 7/20\n",
            "28000/28000 [==============================] - 1s 34us/step - loss: 1.8479 - acc: 0.3309\n",
            "Epoch 8/20\n",
            "28000/28000 [==============================] - 1s 34us/step - loss: 1.7934 - acc: 0.3589\n",
            "Epoch 9/20\n",
            "28000/28000 [==============================] - 1s 33us/step - loss: 1.7508 - acc: 0.3773\n",
            "Epoch 10/20\n",
            "28000/28000 [==============================] - 1s 34us/step - loss: 1.7226 - acc: 0.3957\n",
            "Epoch 11/20\n",
            "28000/28000 [==============================] - 1s 33us/step - loss: 1.6775 - acc: 0.4106\n",
            "Epoch 12/20\n",
            "28000/28000 [==============================] - 1s 34us/step - loss: 1.6535 - acc: 0.4266\n",
            "Epoch 13/20\n",
            "28000/28000 [==============================] - 1s 34us/step - loss: 1.6376 - acc: 0.4319\n",
            "Epoch 14/20\n",
            "28000/28000 [==============================] - 1s 33us/step - loss: 1.6177 - acc: 0.4389\n",
            "Epoch 15/20\n",
            "28000/28000 [==============================] - 1s 32us/step - loss: 1.6143 - acc: 0.4411\n",
            "Epoch 16/20\n",
            "28000/28000 [==============================] - 1s 33us/step - loss: 1.5970 - acc: 0.4499\n",
            "Epoch 17/20\n",
            "28000/28000 [==============================] - 1s 32us/step - loss: 1.5806 - acc: 0.4561\n",
            "Epoch 18/20\n",
            "28000/28000 [==============================] - 1s 33us/step - loss: 1.5663 - acc: 0.4579\n",
            "Epoch 19/20\n",
            "28000/28000 [==============================] - 1s 34us/step - loss: 1.5626 - acc: 0.4635\n",
            "Epoch 20/20\n",
            "28000/28000 [==============================] - 1s 33us/step - loss: 1.5583 - acc: 0.4633\n",
            "14000/14000 [==============================] - 1s 44us/step\n",
            "Epoch 1/20\n",
            "28000/28000 [==============================] - 2s 79us/step - loss: 2.3030 - acc: 0.1035\n",
            "Epoch 2/20\n",
            "28000/28000 [==============================] - 1s 33us/step - loss: 2.2442 - acc: 0.1504\n",
            "Epoch 3/20\n",
            "28000/28000 [==============================] - 1s 34us/step - loss: 2.0975 - acc: 0.2096\n",
            "Epoch 4/20\n",
            "28000/28000 [==============================] - 1s 33us/step - loss: 1.9981 - acc: 0.2536\n",
            "Epoch 5/20\n",
            "28000/28000 [==============================] - 1s 33us/step - loss: 1.9348 - acc: 0.2841\n",
            "Epoch 6/20\n",
            "28000/28000 [==============================] - 1s 34us/step - loss: 1.8839 - acc: 0.3134\n",
            "Epoch 7/20\n",
            "28000/28000 [==============================] - 1s 32us/step - loss: 1.8235 - acc: 0.3394\n",
            "Epoch 8/20\n",
            "28000/28000 [==============================] - 1s 33us/step - loss: 1.7704 - acc: 0.3601\n",
            "Epoch 9/20\n",
            "28000/28000 [==============================] - 1s 33us/step - loss: 1.7260 - acc: 0.3776\n",
            "Epoch 10/20\n",
            "28000/28000 [==============================] - 1s 33us/step - loss: 1.6827 - acc: 0.4018\n",
            "Epoch 11/20\n",
            "28000/28000 [==============================] - 1s 33us/step - loss: 1.6560 - acc: 0.4115\n",
            "Epoch 12/20\n",
            "28000/28000 [==============================] - 1s 34us/step - loss: 1.6247 - acc: 0.4303\n",
            "Epoch 13/20\n",
            "28000/28000 [==============================] - 1s 34us/step - loss: 1.5951 - acc: 0.4432\n",
            "Epoch 14/20\n",
            "28000/28000 [==============================] - 1s 33us/step - loss: 1.5741 - acc: 0.4494\n",
            "Epoch 15/20\n",
            "28000/28000 [==============================] - 1s 32us/step - loss: 1.5603 - acc: 0.4553\n",
            "Epoch 16/20\n",
            "28000/28000 [==============================] - 1s 33us/step - loss: 1.5352 - acc: 0.4665\n",
            "Epoch 17/20\n",
            "28000/28000 [==============================] - 1s 33us/step - loss: 1.5143 - acc: 0.4713\n",
            "Epoch 18/20\n",
            "28000/28000 [==============================] - 1s 34us/step - loss: 1.5057 - acc: 0.4824\n",
            "Epoch 19/20\n",
            "28000/28000 [==============================] - 1s 33us/step - loss: 1.4946 - acc: 0.4864\n",
            "Epoch 20/20\n",
            "28000/28000 [==============================] - 1s 34us/step - loss: 1.4729 - acc: 0.4938\n",
            "14000/14000 [==============================] - 1s 48us/step\n",
            "Epoch 1/20\n",
            "28000/28000 [==============================] - 2s 83us/step - loss: 2.3026 - acc: 0.0997\n",
            "Epoch 2/20\n",
            "28000/28000 [==============================] - 1s 34us/step - loss: 2.2786 - acc: 0.1216\n",
            "Epoch 3/20\n",
            "28000/28000 [==============================] - 1s 35us/step - loss: 2.2143 - acc: 0.1553\n",
            "Epoch 4/20\n",
            "28000/28000 [==============================] - 1s 34us/step - loss: 2.1504 - acc: 0.1764\n",
            "Epoch 5/20\n",
            "28000/28000 [==============================] - 1s 35us/step - loss: 2.0870 - acc: 0.2087\n",
            "Epoch 6/20\n",
            "28000/28000 [==============================] - 1s 34us/step - loss: 2.0426 - acc: 0.2365\n",
            "Epoch 7/20\n",
            "28000/28000 [==============================] - 1s 34us/step - loss: 2.0018 - acc: 0.2613\n",
            "Epoch 8/20\n",
            "28000/28000 [==============================] - 1s 34us/step - loss: 1.9610 - acc: 0.2859\n",
            "Epoch 9/20\n",
            "28000/28000 [==============================] - 1s 34us/step - loss: 1.9162 - acc: 0.3098\n",
            "Epoch 10/20\n",
            "28000/28000 [==============================] - 1s 33us/step - loss: 1.8783 - acc: 0.3293\n",
            "Epoch 11/20\n",
            "28000/28000 [==============================] - 1s 34us/step - loss: 1.8414 - acc: 0.3434\n",
            "Epoch 12/20\n",
            "28000/28000 [==============================] - 1s 33us/step - loss: 1.8131 - acc: 0.3524\n",
            "Epoch 13/20\n",
            "28000/28000 [==============================] - 1s 34us/step - loss: 1.7869 - acc: 0.3662\n",
            "Epoch 14/20\n",
            "28000/28000 [==============================] - 1s 33us/step - loss: 1.7590 - acc: 0.3810\n",
            "Epoch 15/20\n",
            "28000/28000 [==============================] - 1s 33us/step - loss: 1.7340 - acc: 0.3881\n",
            "Epoch 16/20\n",
            "28000/28000 [==============================] - 1s 32us/step - loss: 1.7112 - acc: 0.4018\n",
            "Epoch 17/20\n",
            "28000/28000 [==============================] - 1s 34us/step - loss: 1.6913 - acc: 0.4101\n",
            "Epoch 18/20\n",
            "28000/28000 [==============================] - 1s 33us/step - loss: 1.6709 - acc: 0.4185\n",
            "Epoch 19/20\n",
            "28000/28000 [==============================] - 1s 33us/step - loss: 1.6622 - acc: 0.4204\n",
            "Epoch 20/20\n",
            "28000/28000 [==============================] - 1s 33us/step - loss: 1.6459 - acc: 0.4271\n",
            "14000/14000 [==============================] - 1s 51us/step\n",
            "Epoch 1/10\n",
            "28000/28000 [==============================] - 2s 68us/step - loss: 2.3187 - acc: 0.1056\n",
            "Epoch 2/10\n",
            "28000/28000 [==============================] - 0s 16us/step - loss: 2.2797 - acc: 0.1246\n",
            "Epoch 3/10\n",
            "28000/28000 [==============================] - 0s 16us/step - loss: 2.2246 - acc: 0.1596\n",
            "Epoch 4/10\n",
            "28000/28000 [==============================] - 0s 16us/step - loss: 2.1517 - acc: 0.1981\n",
            "Epoch 5/10\n",
            "28000/28000 [==============================] - 0s 15us/step - loss: 2.0850 - acc: 0.2409\n",
            "Epoch 6/10\n",
            "28000/28000 [==============================] - 0s 15us/step - loss: 2.0224 - acc: 0.2746\n",
            "Epoch 7/10\n",
            "28000/28000 [==============================] - 0s 15us/step - loss: 1.9588 - acc: 0.3029\n",
            "Epoch 8/10\n",
            "28000/28000 [==============================] - 0s 15us/step - loss: 1.9198 - acc: 0.3166\n",
            "Epoch 9/10\n",
            "28000/28000 [==============================] - 0s 15us/step - loss: 1.8678 - acc: 0.3437\n",
            "Epoch 10/10\n",
            "28000/28000 [==============================] - 0s 15us/step - loss: 1.8293 - acc: 0.3598\n",
            "14000/14000 [==============================] - 1s 44us/step\n",
            "Epoch 1/10\n",
            "28000/28000 [==============================] - 2s 70us/step - loss: 2.3211 - acc: 0.1043\n",
            "Epoch 2/10\n",
            "28000/28000 [==============================] - 0s 16us/step - loss: 2.2850 - acc: 0.1326\n",
            "Epoch 3/10\n",
            "28000/28000 [==============================] - 0s 15us/step - loss: 2.2255 - acc: 0.1855\n",
            "Epoch 4/10\n",
            "28000/28000 [==============================] - 0s 15us/step - loss: 2.1333 - acc: 0.2358\n",
            "Epoch 5/10\n",
            "28000/28000 [==============================] - 0s 15us/step - loss: 2.0445 - acc: 0.2720\n",
            "Epoch 6/10\n",
            "28000/28000 [==============================] - 0s 15us/step - loss: 1.9689 - acc: 0.2990\n",
            "Epoch 7/10\n",
            "28000/28000 [==============================] - 0s 15us/step - loss: 1.8956 - acc: 0.3308\n",
            "Epoch 8/10\n",
            "28000/28000 [==============================] - 0s 15us/step - loss: 1.8365 - acc: 0.3570\n",
            "Epoch 9/10\n",
            "28000/28000 [==============================] - 0s 15us/step - loss: 1.7890 - acc: 0.3743\n",
            "Epoch 10/10\n",
            "28000/28000 [==============================] - 0s 15us/step - loss: 1.7528 - acc: 0.3905\n",
            "14000/14000 [==============================] - 1s 49us/step\n",
            "Epoch 1/10\n",
            "28000/28000 [==============================] - 2s 73us/step - loss: 2.3150 - acc: 0.1050\n",
            "Epoch 2/10\n",
            "28000/28000 [==============================] - 0s 15us/step - loss: 2.2892 - acc: 0.1191\n",
            "Epoch 3/10\n",
            "28000/28000 [==============================] - 0s 16us/step - loss: 2.2341 - acc: 0.1782\n",
            "Epoch 4/10\n",
            "28000/28000 [==============================] - 0s 14us/step - loss: 2.1276 - acc: 0.2406\n",
            "Epoch 5/10\n",
            "28000/28000 [==============================] - 0s 15us/step - loss: 2.0116 - acc: 0.2919\n",
            "Epoch 6/10\n",
            "28000/28000 [==============================] - 0s 15us/step - loss: 1.9191 - acc: 0.3303\n",
            "Epoch 7/10\n",
            "28000/28000 [==============================] - 0s 15us/step - loss: 1.8473 - acc: 0.3538\n",
            "Epoch 8/10\n",
            "28000/28000 [==============================] - 0s 14us/step - loss: 1.7948 - acc: 0.3751\n",
            "Epoch 9/10\n",
            "28000/28000 [==============================] - 0s 15us/step - loss: 1.7472 - acc: 0.3940\n",
            "Epoch 10/10\n",
            "28000/28000 [==============================] - 0s 15us/step - loss: 1.7030 - acc: 0.4113\n",
            "14000/14000 [==============================] - 1s 46us/step\n",
            "Epoch 1/10\n",
            "28000/28000 [==============================] - 2s 76us/step - loss: 2.3027 - acc: 0.0996\n",
            "Epoch 2/10\n",
            "28000/28000 [==============================] - 0s 16us/step - loss: 2.2963 - acc: 0.1253\n",
            "Epoch 3/10\n",
            "28000/28000 [==============================] - 0s 15us/step - loss: 2.2482 - acc: 0.1657\n",
            "Epoch 4/10\n",
            "28000/28000 [==============================] - 0s 14us/step - loss: 2.1594 - acc: 0.2131\n",
            "Epoch 5/10\n",
            "28000/28000 [==============================] - 0s 15us/step - loss: 2.0745 - acc: 0.2441\n",
            "Epoch 6/10\n",
            "28000/28000 [==============================] - 0s 14us/step - loss: 2.0110 - acc: 0.2676\n",
            "Epoch 7/10\n",
            "28000/28000 [==============================] - 0s 14us/step - loss: 1.9534 - acc: 0.2885\n",
            "Epoch 8/10\n",
            "28000/28000 [==============================] - 0s 14us/step - loss: 1.9161 - acc: 0.3005\n",
            "Epoch 9/10\n",
            "28000/28000 [==============================] - 0s 15us/step - loss: 1.8738 - acc: 0.3195\n",
            "Epoch 10/10\n",
            "28000/28000 [==============================] - 0s 15us/step - loss: 1.8519 - acc: 0.3289\n",
            "14000/14000 [==============================] - 1s 52us/step\n",
            "Epoch 1/10\n",
            "28000/28000 [==============================] - 2s 75us/step - loss: 2.3031 - acc: 0.1029\n",
            "Epoch 2/10\n",
            "28000/28000 [==============================] - 0s 15us/step - loss: 2.2961 - acc: 0.1241\n",
            "Epoch 3/10\n",
            "28000/28000 [==============================] - 0s 15us/step - loss: 2.2478 - acc: 0.1711\n",
            "Epoch 4/10\n",
            "28000/28000 [==============================] - 0s 15us/step - loss: 2.1548 - acc: 0.2161\n",
            "Epoch 5/10\n",
            "28000/28000 [==============================] - 0s 15us/step - loss: 2.0661 - acc: 0.2400\n",
            "Epoch 6/10\n",
            "28000/28000 [==============================] - 0s 15us/step - loss: 2.0007 - acc: 0.2672\n",
            "Epoch 7/10\n",
            "28000/28000 [==============================] - 0s 15us/step - loss: 1.9486 - acc: 0.2886\n",
            "Epoch 8/10\n",
            "28000/28000 [==============================] - 0s 15us/step - loss: 1.9038 - acc: 0.3058\n",
            "Epoch 9/10\n",
            "28000/28000 [==============================] - 0s 14us/step - loss: 1.8628 - acc: 0.3198\n",
            "Epoch 10/10\n",
            "28000/28000 [==============================] - 0s 15us/step - loss: 1.8439 - acc: 0.3270\n",
            "14000/14000 [==============================] - 1s 55us/step\n",
            "Epoch 1/10\n",
            "28000/28000 [==============================] - 2s 80us/step - loss: 2.3030 - acc: 0.0989\n",
            "Epoch 2/10\n",
            "28000/28000 [==============================] - 0s 15us/step - loss: 2.3016 - acc: 0.1080\n",
            "Epoch 3/10\n",
            "28000/28000 [==============================] - 0s 15us/step - loss: 2.2814 - acc: 0.1361\n",
            "Epoch 4/10\n",
            "28000/28000 [==============================] - 0s 14us/step - loss: 2.2212 - acc: 0.1895\n",
            "Epoch 5/10\n",
            "28000/28000 [==============================] - 0s 15us/step - loss: 2.1435 - acc: 0.2233\n",
            "Epoch 6/10\n",
            "28000/28000 [==============================] - 0s 15us/step - loss: 2.0704 - acc: 0.2502\n",
            "Epoch 7/10\n",
            "28000/28000 [==============================] - 0s 14us/step - loss: 2.0139 - acc: 0.2685\n",
            "Epoch 8/10\n",
            "28000/28000 [==============================] - 0s 15us/step - loss: 1.9655 - acc: 0.2876\n",
            "Epoch 9/10\n",
            "28000/28000 [==============================] - 0s 14us/step - loss: 1.9286 - acc: 0.3007\n",
            "Epoch 10/10\n",
            "28000/28000 [==============================] - 0s 15us/step - loss: 1.8955 - acc: 0.3170\n",
            "14000/14000 [==============================] - 1s 55us/step\n",
            "Epoch 1/20\n",
            "28000/28000 [==============================] - 2s 83us/step - loss: 2.3139 - acc: 0.1132\n",
            "Epoch 2/20\n",
            "28000/28000 [==============================] - 0s 16us/step - loss: 2.2772 - acc: 0.1243\n",
            "Epoch 3/20\n",
            "28000/28000 [==============================] - 0s 15us/step - loss: 2.2335 - acc: 0.1537\n",
            "Epoch 4/20\n",
            "28000/28000 [==============================] - 0s 15us/step - loss: 2.1638 - acc: 0.2054\n",
            "Epoch 5/20\n",
            "28000/28000 [==============================] - 0s 15us/step - loss: 2.0915 - acc: 0.2432\n",
            "Epoch 6/20\n",
            "28000/28000 [==============================] - 0s 15us/step - loss: 2.0188 - acc: 0.2743\n",
            "Epoch 7/20\n",
            "28000/28000 [==============================] - 0s 15us/step - loss: 1.9521 - acc: 0.3055\n",
            "Epoch 8/20\n",
            "28000/28000 [==============================] - 0s 15us/step - loss: 1.8920 - acc: 0.3347\n",
            "Epoch 9/20\n",
            "28000/28000 [==============================] - 0s 15us/step - loss: 1.8480 - acc: 0.3478\n",
            "Epoch 10/20\n",
            "28000/28000 [==============================] - 0s 15us/step - loss: 1.8069 - acc: 0.3625\n",
            "Epoch 11/20\n",
            "28000/28000 [==============================] - 0s 15us/step - loss: 1.7693 - acc: 0.3812\n",
            "Epoch 12/20\n",
            "28000/28000 [==============================] - 0s 14us/step - loss: 1.7326 - acc: 0.4002\n",
            "Epoch 13/20\n",
            "28000/28000 [==============================] - 0s 15us/step - loss: 1.7155 - acc: 0.4056\n",
            "Epoch 14/20\n",
            "28000/28000 [==============================] - 0s 15us/step - loss: 1.6789 - acc: 0.4225\n",
            "Epoch 15/20\n",
            "28000/28000 [==============================] - 0s 15us/step - loss: 1.6614 - acc: 0.4265\n",
            "Epoch 16/20\n",
            "28000/28000 [==============================] - 0s 15us/step - loss: 1.6336 - acc: 0.4343\n",
            "Epoch 17/20\n",
            "28000/28000 [==============================] - 0s 15us/step - loss: 1.6240 - acc: 0.4423\n",
            "Epoch 18/20\n",
            "28000/28000 [==============================] - 0s 14us/step - loss: 1.5931 - acc: 0.4537\n",
            "Epoch 19/20\n",
            "28000/28000 [==============================] - 0s 14us/step - loss: 1.5852 - acc: 0.4565\n",
            "Epoch 20/20\n",
            "28000/28000 [==============================] - 0s 15us/step - loss: 1.5642 - acc: 0.4599\n",
            "14000/14000 [==============================] - 1s 57us/step\n",
            "Epoch 1/20\n",
            "28000/28000 [==============================] - 2s 83us/step - loss: 2.3148 - acc: 0.1061\n",
            "Epoch 2/20\n",
            "28000/28000 [==============================] - 0s 15us/step - loss: 2.2871 - acc: 0.1306\n",
            "Epoch 3/20\n",
            "28000/28000 [==============================] - 0s 15us/step - loss: 2.2285 - acc: 0.1744\n",
            "Epoch 4/20\n",
            "28000/28000 [==============================] - 0s 15us/step - loss: 2.1342 - acc: 0.2269\n",
            "Epoch 5/20\n",
            "28000/28000 [==============================] - 0s 15us/step - loss: 2.0506 - acc: 0.2662\n",
            "Epoch 6/20\n",
            "28000/28000 [==============================] - 0s 15us/step - loss: 1.9742 - acc: 0.2992\n",
            "Epoch 7/20\n",
            "28000/28000 [==============================] - 0s 15us/step - loss: 1.9089 - acc: 0.3306\n",
            "Epoch 8/20\n",
            "28000/28000 [==============================] - 0s 15us/step - loss: 1.8471 - acc: 0.3557\n",
            "Epoch 9/20\n",
            "28000/28000 [==============================] - 0s 15us/step - loss: 1.7955 - acc: 0.3801\n",
            "Epoch 10/20\n",
            "28000/28000 [==============================] - 0s 15us/step - loss: 1.7384 - acc: 0.3984\n",
            "Epoch 11/20\n",
            "28000/28000 [==============================] - 0s 15us/step - loss: 1.6905 - acc: 0.4217\n",
            "Epoch 12/20\n",
            "28000/28000 [==============================] - 0s 14us/step - loss: 1.6593 - acc: 0.4282\n",
            "Epoch 13/20\n",
            "28000/28000 [==============================] - 0s 15us/step - loss: 1.6282 - acc: 0.4464\n",
            "Epoch 14/20\n",
            "28000/28000 [==============================] - 0s 15us/step - loss: 1.5945 - acc: 0.4559\n",
            "Epoch 15/20\n",
            "28000/28000 [==============================] - 0s 15us/step - loss: 1.5673 - acc: 0.4629\n",
            "Epoch 16/20\n",
            "28000/28000 [==============================] - 0s 16us/step - loss: 1.5500 - acc: 0.4707\n",
            "Epoch 17/20\n",
            "28000/28000 [==============================] - 0s 16us/step - loss: 1.5258 - acc: 0.4833\n",
            "Epoch 18/20\n",
            "28000/28000 [==============================] - 0s 16us/step - loss: 1.5169 - acc: 0.4836\n",
            "Epoch 19/20\n",
            "28000/28000 [==============================] - 0s 16us/step - loss: 1.4936 - acc: 0.4948\n",
            "Epoch 20/20\n",
            "28000/28000 [==============================] - 0s 17us/step - loss: 1.4863 - acc: 0.4927\n",
            "14000/14000 [==============================] - 1s 64us/step\n",
            "Epoch 1/20\n",
            "28000/28000 [==============================] - 2s 87us/step - loss: 2.3143 - acc: 0.1059\n",
            "Epoch 2/20\n",
            "28000/28000 [==============================] - 0s 15us/step - loss: 2.2951 - acc: 0.1228\n",
            "Epoch 3/20\n",
            "28000/28000 [==============================] - 0s 15us/step - loss: 2.2537 - acc: 0.1639\n",
            "Epoch 4/20\n",
            "28000/28000 [==============================] - 0s 16us/step - loss: 2.1695 - acc: 0.2193\n",
            "Epoch 5/20\n",
            "28000/28000 [==============================] - 0s 15us/step - loss: 2.0745 - acc: 0.2649\n",
            "Epoch 6/20\n",
            "28000/28000 [==============================] - 0s 15us/step - loss: 1.9736 - acc: 0.3112\n",
            "Epoch 7/20\n",
            "28000/28000 [==============================] - 0s 15us/step - loss: 1.8992 - acc: 0.3383\n",
            "Epoch 8/20\n",
            "28000/28000 [==============================] - 0s 15us/step - loss: 1.8353 - acc: 0.3654\n",
            "Epoch 9/20\n",
            "28000/28000 [==============================] - 0s 15us/step - loss: 1.7836 - acc: 0.3879\n",
            "Epoch 10/20\n",
            "28000/28000 [==============================] - 0s 15us/step - loss: 1.7301 - acc: 0.4086\n",
            "Epoch 11/20\n",
            "28000/28000 [==============================] - 0s 14us/step - loss: 1.6958 - acc: 0.4201\n",
            "Epoch 12/20\n",
            "28000/28000 [==============================] - 0s 14us/step - loss: 1.6458 - acc: 0.4436\n",
            "Epoch 13/20\n",
            "28000/28000 [==============================] - 0s 14us/step - loss: 1.6176 - acc: 0.4521\n",
            "Epoch 14/20\n",
            "28000/28000 [==============================] - 0s 15us/step - loss: 1.5934 - acc: 0.4575\n",
            "Epoch 15/20\n",
            "28000/28000 [==============================] - 0s 15us/step - loss: 1.5788 - acc: 0.4605\n",
            "Epoch 16/20\n",
            "28000/28000 [==============================] - 0s 15us/step - loss: 1.5410 - acc: 0.4741\n",
            "Epoch 17/20\n",
            "28000/28000 [==============================] - 0s 15us/step - loss: 1.5231 - acc: 0.4846\n",
            "Epoch 18/20\n",
            "28000/28000 [==============================] - 0s 15us/step - loss: 1.5055 - acc: 0.4901\n",
            "Epoch 19/20\n",
            "28000/28000 [==============================] - 0s 15us/step - loss: 1.4745 - acc: 0.5066\n",
            "Epoch 20/20\n",
            "28000/28000 [==============================] - 0s 15us/step - loss: 1.4616 - acc: 0.5137\n",
            "14000/14000 [==============================] - 1s 64us/step\n",
            "Epoch 1/20\n",
            "28000/28000 [==============================] - 2s 87us/step - loss: 2.3029 - acc: 0.1015\n",
            "Epoch 2/20\n",
            "28000/28000 [==============================] - 0s 15us/step - loss: 2.3012 - acc: 0.1093\n",
            "Epoch 3/20\n",
            "28000/28000 [==============================] - 0s 15us/step - loss: 2.2741 - acc: 0.1494\n",
            "Epoch 4/20\n",
            "28000/28000 [==============================] - 0s 15us/step - loss: 2.2048 - acc: 0.1848\n",
            "Epoch 5/20\n",
            "28000/28000 [==============================] - 0s 15us/step - loss: 2.1414 - acc: 0.2063\n",
            "Epoch 6/20\n",
            "28000/28000 [==============================] - 0s 15us/step - loss: 2.0823 - acc: 0.2331\n",
            "Epoch 7/20\n",
            "28000/28000 [==============================] - 0s 15us/step - loss: 2.0265 - acc: 0.2605\n",
            "Epoch 8/20\n",
            "28000/28000 [==============================] - 0s 16us/step - loss: 1.9816 - acc: 0.2794\n",
            "Epoch 9/20\n",
            "28000/28000 [==============================] - 0s 15us/step - loss: 1.9366 - acc: 0.3052\n",
            "Epoch 10/20\n",
            "28000/28000 [==============================] - 0s 15us/step - loss: 1.8961 - acc: 0.3229\n",
            "Epoch 11/20\n",
            "28000/28000 [==============================] - 0s 15us/step - loss: 1.8587 - acc: 0.3402\n",
            "Epoch 12/20\n",
            "28000/28000 [==============================] - 0s 16us/step - loss: 1.8260 - acc: 0.3511\n",
            "Epoch 13/20\n",
            "28000/28000 [==============================] - 0s 16us/step - loss: 1.7931 - acc: 0.3698\n",
            "Epoch 14/20\n",
            "28000/28000 [==============================] - 0s 15us/step - loss: 1.7640 - acc: 0.3871\n",
            "Epoch 15/20\n",
            "28000/28000 [==============================] - 0s 15us/step - loss: 1.7282 - acc: 0.3953\n",
            "Epoch 16/20\n",
            "28000/28000 [==============================] - 0s 15us/step - loss: 1.6979 - acc: 0.4069\n",
            "Epoch 17/20\n",
            "28000/28000 [==============================] - 0s 15us/step - loss: 1.6730 - acc: 0.4195\n",
            "Epoch 18/20\n",
            "28000/28000 [==============================] - 0s 15us/step - loss: 1.6382 - acc: 0.4329\n",
            "Epoch 19/20\n",
            "28000/28000 [==============================] - 0s 16us/step - loss: 1.6172 - acc: 0.4419\n",
            "Epoch 20/20\n",
            "28000/28000 [==============================] - 0s 15us/step - loss: 1.5993 - acc: 0.4481\n",
            "14000/14000 [==============================] - 1s 66us/step\n",
            "Epoch 1/20\n",
            "28000/28000 [==============================] - 3s 91us/step - loss: 2.3030 - acc: 0.1017\n",
            "Epoch 2/20\n",
            "28000/28000 [==============================] - 0s 15us/step - loss: 2.3016 - acc: 0.1071\n",
            "Epoch 3/20\n",
            "28000/28000 [==============================] - 0s 15us/step - loss: 2.2800 - acc: 0.1399\n",
            "Epoch 4/20\n",
            "28000/28000 [==============================] - 0s 15us/step - loss: 2.1984 - acc: 0.1959\n",
            "Epoch 5/20\n",
            "28000/28000 [==============================] - 0s 15us/step - loss: 2.0963 - acc: 0.2361\n",
            "Epoch 6/20\n",
            "28000/28000 [==============================] - 0s 15us/step - loss: 2.0205 - acc: 0.2627\n",
            "Epoch 7/20\n",
            "28000/28000 [==============================] - 0s 15us/step - loss: 1.9621 - acc: 0.2863\n",
            "Epoch 8/20\n",
            "28000/28000 [==============================] - 0s 15us/step - loss: 1.9158 - acc: 0.3043\n",
            "Epoch 9/20\n",
            "28000/28000 [==============================] - 0s 15us/step - loss: 1.8733 - acc: 0.3200\n",
            "Epoch 10/20\n",
            "28000/28000 [==============================] - 0s 15us/step - loss: 1.8355 - acc: 0.3351\n",
            "Epoch 11/20\n",
            "28000/28000 [==============================] - 0s 15us/step - loss: 1.8088 - acc: 0.3476\n",
            "Epoch 12/20\n",
            "28000/28000 [==============================] - 0s 15us/step - loss: 1.7801 - acc: 0.3596\n",
            "Epoch 13/20\n",
            "28000/28000 [==============================] - 0s 15us/step - loss: 1.7496 - acc: 0.3693\n",
            "Epoch 14/20\n",
            "28000/28000 [==============================] - 0s 16us/step - loss: 1.7277 - acc: 0.3798\n",
            "Epoch 15/20\n",
            "28000/28000 [==============================] - 0s 15us/step - loss: 1.7091 - acc: 0.3844\n",
            "Epoch 16/20\n",
            "28000/28000 [==============================] - 0s 16us/step - loss: 1.6834 - acc: 0.3974\n",
            "Epoch 17/20\n",
            "28000/28000 [==============================] - 0s 15us/step - loss: 1.6668 - acc: 0.4039\n",
            "Epoch 18/20\n",
            "28000/28000 [==============================] - 0s 15us/step - loss: 1.6498 - acc: 0.4110\n",
            "Epoch 19/20\n",
            "28000/28000 [==============================] - 0s 15us/step - loss: 1.6406 - acc: 0.4174\n",
            "Epoch 20/20\n",
            "28000/28000 [==============================] - 0s 15us/step - loss: 1.6245 - acc: 0.4228\n",
            "14000/14000 [==============================] - 1s 68us/step\n",
            "Epoch 1/20\n",
            "28000/28000 [==============================] - 3s 92us/step - loss: 2.3030 - acc: 0.0991\n",
            "Epoch 2/20\n",
            "28000/28000 [==============================] - 0s 15us/step - loss: 2.3006 - acc: 0.1089\n",
            "Epoch 3/20\n",
            "28000/28000 [==============================] - 0s 15us/step - loss: 2.2760 - acc: 0.1353\n",
            "Epoch 4/20\n",
            "28000/28000 [==============================] - 0s 15us/step - loss: 2.2130 - acc: 0.1731\n",
            "Epoch 5/20\n",
            "28000/28000 [==============================] - 0s 15us/step - loss: 2.1469 - acc: 0.1974\n",
            "Epoch 6/20\n",
            "28000/28000 [==============================] - 0s 15us/step - loss: 2.0890 - acc: 0.2309\n",
            "Epoch 7/20\n",
            "28000/28000 [==============================] - 0s 15us/step - loss: 2.0343 - acc: 0.2542\n",
            "Epoch 8/20\n",
            "28000/28000 [==============================] - 0s 15us/step - loss: 1.9822 - acc: 0.2768\n",
            "Epoch 9/20\n",
            "28000/28000 [==============================] - 0s 15us/step - loss: 1.9356 - acc: 0.2990\n",
            "Epoch 10/20\n",
            "28000/28000 [==============================] - 0s 15us/step - loss: 1.8896 - acc: 0.3240\n",
            "Epoch 11/20\n",
            "28000/28000 [==============================] - 0s 15us/step - loss: 1.8592 - acc: 0.3314\n",
            "Epoch 12/20\n",
            "28000/28000 [==============================] - 0s 15us/step - loss: 1.8194 - acc: 0.3437\n",
            "Epoch 13/20\n",
            "28000/28000 [==============================] - 0s 15us/step - loss: 1.7874 - acc: 0.3642\n",
            "Epoch 14/20\n",
            "28000/28000 [==============================] - 0s 15us/step - loss: 1.7651 - acc: 0.3741\n",
            "Epoch 15/20\n",
            "28000/28000 [==============================] - 0s 15us/step - loss: 1.7292 - acc: 0.3835\n",
            "Epoch 16/20\n",
            "28000/28000 [==============================] - 0s 15us/step - loss: 1.7079 - acc: 0.3930\n",
            "Epoch 17/20\n",
            "28000/28000 [==============================] - 0s 15us/step - loss: 1.6773 - acc: 0.4085\n",
            "Epoch 18/20\n",
            "28000/28000 [==============================] - 0s 14us/step - loss: 1.6542 - acc: 0.4181\n",
            "Epoch 19/20\n",
            "28000/28000 [==============================] - 0s 14us/step - loss: 1.6395 - acc: 0.4207\n",
            "Epoch 20/20\n",
            "28000/28000 [==============================] - 0s 15us/step - loss: 1.6120 - acc: 0.4393\n",
            "14000/14000 [==============================] - 1s 66us/step\n",
            "Epoch 1/20\n",
            "42000/42000 [==============================] - 3s 68us/step - loss: 2.3102 - acc: 0.1097\n",
            "Epoch 2/20\n",
            "42000/42000 [==============================] - 1s 15us/step - loss: 2.2487 - acc: 0.1596\n",
            "Epoch 3/20\n",
            "42000/42000 [==============================] - 1s 15us/step - loss: 2.1247 - acc: 0.2278\n",
            "Epoch 4/20\n",
            "42000/42000 [==============================] - 1s 15us/step - loss: 2.0101 - acc: 0.2706\n",
            "Epoch 5/20\n",
            "42000/42000 [==============================] - 1s 15us/step - loss: 1.9214 - acc: 0.3080\n",
            "Epoch 6/20\n",
            "42000/42000 [==============================] - 1s 15us/step - loss: 1.8518 - acc: 0.3443\n",
            "Epoch 7/20\n",
            "42000/42000 [==============================] - 1s 15us/step - loss: 1.7932 - acc: 0.3681\n",
            "Epoch 8/20\n",
            "42000/42000 [==============================] - 1s 15us/step - loss: 1.7470 - acc: 0.3880\n",
            "Epoch 9/20\n",
            "42000/42000 [==============================] - 1s 15us/step - loss: 1.6976 - acc: 0.4162\n",
            "Epoch 10/20\n",
            "42000/42000 [==============================] - 1s 15us/step - loss: 1.6572 - acc: 0.4288\n",
            "Epoch 11/20\n",
            "42000/42000 [==============================] - 1s 15us/step - loss: 1.6125 - acc: 0.4488\n",
            "Epoch 12/20\n",
            "42000/42000 [==============================] - 1s 15us/step - loss: 1.5818 - acc: 0.4614\n",
            "Epoch 13/20\n",
            "42000/42000 [==============================] - 1s 15us/step - loss: 1.5478 - acc: 0.4748\n",
            "Epoch 14/20\n",
            "42000/42000 [==============================] - 1s 16us/step - loss: 1.5323 - acc: 0.4818\n",
            "Epoch 15/20\n",
            "42000/42000 [==============================] - 1s 16us/step - loss: 1.4969 - acc: 0.4910\n",
            "Epoch 16/20\n",
            "42000/42000 [==============================] - 1s 16us/step - loss: 1.4773 - acc: 0.4988\n",
            "Epoch 17/20\n",
            "42000/42000 [==============================] - 1s 16us/step - loss: 1.4599 - acc: 0.5072\n",
            "Epoch 18/20\n",
            "42000/42000 [==============================] - 1s 15us/step - loss: 1.4458 - acc: 0.5114\n",
            "Epoch 19/20\n",
            "42000/42000 [==============================] - 1s 15us/step - loss: 1.4278 - acc: 0.5199\n",
            "Epoch 20/20\n",
            "42000/42000 [==============================] - 1s 15us/step - loss: 1.4116 - acc: 0.5248\n",
            "CPU times: user 10min 28s, sys: 1min 55s, total: 12min 24s\n",
            "Wall time: 5min 21s\n"
          ],
          "name": "stdout"
        }
      ]
    },
    {
      "cell_type": "code",
      "metadata": {
        "id": "DrL9aeKYtPvu",
        "colab_type": "code",
        "colab": {
          "base_uri": "https://localhost:8080/",
          "height": 170
        },
        "outputId": "a736f967-9803-499b-8fa2-5f85c34d4cd3"
      },
      "source": [
        "# print results\n",
        "print(f'Best Accuracy for {grid_result.best_score_:.4} using {grid_result.best_params_}')\n",
        "means = grid_result.cv_results_['mean_test_score']\n",
        "stds = grid_result.cv_results_['std_test_score']\n",
        "params = grid_result.cv_results_['params']\n",
        "for mean, stdev, param in zip(means, stds, params):\n",
        "    print(f'mean={mean:.4}, std={stdev:.4} using {param}')"
      ],
      "execution_count": 62,
      "outputs": [
        {
          "output_type": "stream",
          "text": [
            "Best Accuracy for 0.539 using {'batch_size': 512, 'epochs': 20, 'init': 'glorot_uniform'}\n",
            "mean=0.471, std=0.08653 using {'batch_size': 128, 'epochs': 10, 'init': 'glorot_uniform'}\n",
            "mean=0.3839, std=0.05688 using {'batch_size': 128, 'epochs': 10, 'init': 'uniform'}\n",
            "mean=0.5174, std=0.07241 using {'batch_size': 128, 'epochs': 20, 'init': 'glorot_uniform'}\n",
            "mean=0.5225, std=0.02316 using {'batch_size': 128, 'epochs': 20, 'init': 'uniform'}\n",
            "mean=0.4327, std=0.04749 using {'batch_size': 512, 'epochs': 10, 'init': 'glorot_uniform'}\n",
            "mean=0.3604, std=0.004939 using {'batch_size': 512, 'epochs': 10, 'init': 'uniform'}\n",
            "mean=0.539, std=0.0213 using {'batch_size': 512, 'epochs': 20, 'init': 'glorot_uniform'}\n",
            "mean=0.4621, std=0.03716 using {'batch_size': 512, 'epochs': 20, 'init': 'uniform'}\n"
          ],
          "name": "stdout"
        }
      ]
    },
    {
      "cell_type": "markdown",
      "metadata": {
        "id": "orTUv-sBu2NP",
        "colab_type": "text"
      },
      "source": [
        "Best Accuracy for 0.539 using {'batch_size': 512, 'epochs': 20,\n",
        "'init': 'glorot_uniform'}"
      ]
    },
    {
      "cell_type": "markdown",
      "metadata": {
        "id": "hbG61Canw-Ml",
        "colab_type": "text"
      },
      "source": [
        "##Step 19: Best hyperparameters found in the previous step (Step 18)"
      ]
    },
    {
      "cell_type": "code",
      "metadata": {
        "id": "neRMHs2_cnls",
        "colab_type": "code",
        "colab": {}
      },
      "source": [
        "#Set the best hyperparameters found in the previous step. Check the Network’s accuracy.\t7"
      ],
      "execution_count": 0,
      "outputs": []
    },
    {
      "cell_type": "code",
      "metadata": {
        "id": "v979IFm7vWd0",
        "colab_type": "code",
        "colab": {
          "base_uri": "https://localhost:8080/",
          "height": 731
        },
        "outputId": "bb251fcd-da8b-41bf-ac0f-56e198e4dfba"
      },
      "source": [
        "#Using the best parameters found and \n",
        "#Best Accuracy for 0.539 using {'batch_size': 512, 'epochs': 20, 'init': 'glorot_uniform'}\n",
        "\n",
        "model_final= tf.keras.models.Sequential()\n",
        "model_final.add(tf.keras.layers.Dense(1024,kernel_initializer='glorot_uniform',activation = 'relu'))\n",
        "model_final.add(tf.keras.layers.BatchNormalization())\n",
        "model_final.add(tf.keras.layers.Dense(512,kernel_initializer='glorot_uniform',activation='relu'))\n",
        "model_final.add(tf.keras.layers.Dense(256,kernel_initializer='glorot_uniform',activation='relu'))\n",
        "model_final.add(tf.keras.layers.Dense(128,kernel_initializer='glorot_uniform',activation='relu'))\n",
        "model_final.add(tf.keras.layers.Dense(10,kernel_initializer='glorot_uniform',activation='softmax'))\n",
        "adam_optimizer = tf.keras.optimizers.Adam(learning_rate=0.001, beta_1=0.9, beta_2=0.999, amsgrad=False)\n",
        "model_final.compile(optimizer=adam_optimizer,loss='categorical_crossentropy',metrics=['accuracy'])\n",
        "model_final.fit(X_train,y_train,epochs=20,validation_data=(X_test,y_test),batch_size=512)"
      ],
      "execution_count": 64,
      "outputs": [
        {
          "output_type": "stream",
          "text": [
            "Train on 42000 samples, validate on 18000 samples\n",
            "Epoch 1/20\n",
            "42000/42000 [==============================] - 3s 75us/sample - loss: 1.3258 - acc: 0.5671 - val_loss: 1.7327 - val_acc: 0.4050\n",
            "Epoch 2/20\n",
            "42000/42000 [==============================] - 2s 40us/sample - loss: 0.8773 - acc: 0.7288 - val_loss: 1.8057 - val_acc: 0.3945\n",
            "Epoch 3/20\n",
            "42000/42000 [==============================] - 2s 41us/sample - loss: 0.7614 - acc: 0.7654 - val_loss: 2.0966 - val_acc: 0.3719\n",
            "Epoch 4/20\n",
            "42000/42000 [==============================] - 2s 41us/sample - loss: 0.6977 - acc: 0.7849 - val_loss: 2.6604 - val_acc: 0.3665\n",
            "Epoch 5/20\n",
            "42000/42000 [==============================] - 2s 41us/sample - loss: 0.6548 - acc: 0.8009 - val_loss: 2.9148 - val_acc: 0.3512\n",
            "Epoch 6/20\n",
            "42000/42000 [==============================] - 2s 41us/sample - loss: 0.6384 - acc: 0.8043 - val_loss: 1.8538 - val_acc: 0.4802\n",
            "Epoch 7/20\n",
            "42000/42000 [==============================] - 2s 41us/sample - loss: 0.5839 - acc: 0.8212 - val_loss: 1.8479 - val_acc: 0.5451\n",
            "Epoch 8/20\n",
            "42000/42000 [==============================] - 2s 41us/sample - loss: 0.5726 - acc: 0.8246 - val_loss: 1.4358 - val_acc: 0.6012\n",
            "Epoch 9/20\n",
            "42000/42000 [==============================] - 2s 41us/sample - loss: 0.5142 - acc: 0.8430 - val_loss: 1.3078 - val_acc: 0.6216\n",
            "Epoch 10/20\n",
            "42000/42000 [==============================] - 2s 41us/sample - loss: 0.5204 - acc: 0.8395 - val_loss: 1.6055 - val_acc: 0.5698\n",
            "Epoch 11/20\n",
            "42000/42000 [==============================] - 2s 41us/sample - loss: 0.5091 - acc: 0.8426 - val_loss: 3.1004 - val_acc: 0.3793\n",
            "Epoch 12/20\n",
            "42000/42000 [==============================] - 2s 41us/sample - loss: 0.5143 - acc: 0.8398 - val_loss: 1.1451 - val_acc: 0.6672\n",
            "Epoch 13/20\n",
            "42000/42000 [==============================] - 2s 42us/sample - loss: 0.4246 - acc: 0.8705 - val_loss: 1.3772 - val_acc: 0.6267\n",
            "Epoch 14/20\n",
            "42000/42000 [==============================] - 2s 42us/sample - loss: 0.4657 - acc: 0.8547 - val_loss: 1.1269 - val_acc: 0.6699\n",
            "Epoch 15/20\n",
            "42000/42000 [==============================] - 2s 42us/sample - loss: 0.4148 - acc: 0.8716 - val_loss: 1.1124 - val_acc: 0.6996\n",
            "Epoch 16/20\n",
            "42000/42000 [==============================] - 2s 42us/sample - loss: 0.4016 - acc: 0.8757 - val_loss: 1.2051 - val_acc: 0.6531\n",
            "Epoch 17/20\n",
            "42000/42000 [==============================] - 2s 42us/sample - loss: 0.4085 - acc: 0.8712 - val_loss: 1.0201 - val_acc: 0.6937\n",
            "Epoch 18/20\n",
            "42000/42000 [==============================] - 2s 42us/sample - loss: 0.3516 - acc: 0.8910 - val_loss: 1.0210 - val_acc: 0.7174\n",
            "Epoch 19/20\n",
            "42000/42000 [==============================] - 2s 42us/sample - loss: 0.3643 - acc: 0.8860 - val_loss: 1.0085 - val_acc: 0.7088\n",
            "Epoch 20/20\n",
            "42000/42000 [==============================] - 2s 43us/sample - loss: 0.3692 - acc: 0.8827 - val_loss: 1.3403 - val_acc: 0.6435\n"
          ],
          "name": "stdout"
        },
        {
          "output_type": "execute_result",
          "data": {
            "text/plain": [
              "<tensorflow.python.keras.callbacks.History at 0x7fdcacc3ddd8>"
            ]
          },
          "metadata": {
            "tags": []
          },
          "execution_count": 64
        }
      ]
    },
    {
      "cell_type": "code",
      "metadata": {
        "id": "6t3g126wwW3q",
        "colab_type": "code",
        "colab": {
          "base_uri": "https://localhost:8080/",
          "height": 1000
        },
        "outputId": "bc917ed9-bcae-4a47-a3bc-dd6144fbd1e4"
      },
      "source": [
        "%%time\n",
        "model_final= tf.keras.models.Sequential()\n",
        "model_final.add(tf.keras.layers.Dense(1024,kernel_initializer='glorot_uniform',activation = 'relu'))\n",
        "model_final.add(tf.keras.layers.BatchNormalization())\n",
        "model_final.add(tf.keras.layers.Dense(512,kernel_initializer='glorot_uniform',activation='relu'))\n",
        "model_final.add(tf.keras.layers.Dense(256,kernel_initializer='glorot_uniform',activation='relu'))\n",
        "model_final.add(tf.keras.layers.Dense(128,kernel_initializer='glorot_uniform',activation='relu'))\n",
        "model_final.add(tf.keras.layers.Dense(10,kernel_initializer='glorot_uniform',activation='softmax'))\n",
        "adam_optimizer = tf.keras.optimizers.Adam(learning_rate=0.001, beta_1=0.9, beta_2=0.999, amsgrad=False)\n",
        "model_final.compile(optimizer=adam_optimizer,loss='categorical_crossentropy',metrics=['accuracy'])\n",
        "#model_final.fit(X_train,y_train,epochs=30,validation_data=(X_test,y_test),batch_size=512)\n",
        "# Fit the model\n",
        "\n",
        "\n",
        "model_final_history = model_final.fit(X_train, y_train,\n",
        "                    batch_size=512,\n",
        "                    epochs=30,\n",
        "                    verbose=1,\n",
        "                    validation_data=(X_test, y_test))"
      ],
      "execution_count": 68,
      "outputs": [
        {
          "output_type": "stream",
          "text": [
            "Train on 42000 samples, validate on 18000 samples\n",
            "Epoch 1/30\n",
            "42000/42000 [==============================] - 4s 85us/sample - loss: 1.3635 - acc: 0.5502 - val_loss: 1.7014 - val_acc: 0.4168\n",
            "Epoch 2/30\n",
            "42000/42000 [==============================] - 2s 43us/sample - loss: 0.8946 - acc: 0.7245 - val_loss: 2.1811 - val_acc: 0.3455\n",
            "Epoch 3/30\n",
            "42000/42000 [==============================] - 2s 41us/sample - loss: 0.7960 - acc: 0.7541 - val_loss: 1.5860 - val_acc: 0.4734\n",
            "Epoch 4/30\n",
            "42000/42000 [==============================] - 2s 42us/sample - loss: 0.7255 - acc: 0.7771 - val_loss: 1.6044 - val_acc: 0.5116\n",
            "Epoch 5/30\n",
            "42000/42000 [==============================] - 2s 42us/sample - loss: 0.6540 - acc: 0.7992 - val_loss: 1.4761 - val_acc: 0.5401\n",
            "Epoch 6/30\n",
            "42000/42000 [==============================] - 2s 42us/sample - loss: 0.6078 - acc: 0.8152 - val_loss: 2.1577 - val_acc: 0.4518\n",
            "Epoch 7/30\n",
            "42000/42000 [==============================] - 2s 41us/sample - loss: 0.5697 - acc: 0.8235 - val_loss: 1.2590 - val_acc: 0.6304\n",
            "Epoch 8/30\n",
            "42000/42000 [==============================] - 2s 42us/sample - loss: 0.5844 - acc: 0.8233 - val_loss: 1.9486 - val_acc: 0.4775\n",
            "Epoch 9/30\n",
            "42000/42000 [==============================] - 2s 41us/sample - loss: 0.5456 - acc: 0.8322 - val_loss: 1.8582 - val_acc: 0.4935\n",
            "Epoch 10/30\n",
            "42000/42000 [==============================] - 2s 41us/sample - loss: 0.5247 - acc: 0.8372 - val_loss: 1.5758 - val_acc: 0.5547\n",
            "Epoch 11/30\n",
            "42000/42000 [==============================] - 2s 42us/sample - loss: 0.5202 - acc: 0.8388 - val_loss: 1.9453 - val_acc: 0.5053\n",
            "Epoch 12/30\n",
            "42000/42000 [==============================] - 2s 43us/sample - loss: 0.4706 - acc: 0.8532 - val_loss: 0.9324 - val_acc: 0.7237\n",
            "Epoch 13/30\n",
            "42000/42000 [==============================] - 2s 42us/sample - loss: 0.4311 - acc: 0.8668 - val_loss: 1.3794 - val_acc: 0.6182\n",
            "Epoch 14/30\n",
            "42000/42000 [==============================] - 2s 41us/sample - loss: 0.4153 - acc: 0.8704 - val_loss: 1.2280 - val_acc: 0.6508\n",
            "Epoch 15/30\n",
            "42000/42000 [==============================] - 2s 42us/sample - loss: 0.4256 - acc: 0.8680 - val_loss: 0.9265 - val_acc: 0.7356\n",
            "Epoch 16/30\n",
            "42000/42000 [==============================] - 2s 42us/sample - loss: 0.3845 - acc: 0.8790 - val_loss: 0.9382 - val_acc: 0.7324\n",
            "Epoch 17/30\n",
            "42000/42000 [==============================] - 2s 43us/sample - loss: 0.3996 - acc: 0.8746 - val_loss: 0.7480 - val_acc: 0.7746\n",
            "Epoch 18/30\n",
            "42000/42000 [==============================] - 2s 42us/sample - loss: 0.3442 - acc: 0.8921 - val_loss: 1.2498 - val_acc: 0.6726\n",
            "Epoch 19/30\n",
            "42000/42000 [==============================] - 2s 43us/sample - loss: 0.3630 - acc: 0.8858 - val_loss: 1.0470 - val_acc: 0.7033\n",
            "Epoch 20/30\n",
            "42000/42000 [==============================] - 2s 43us/sample - loss: 0.3104 - acc: 0.9037 - val_loss: 1.5468 - val_acc: 0.6104\n",
            "Epoch 21/30\n",
            "42000/42000 [==============================] - 2s 42us/sample - loss: 0.3624 - acc: 0.8825 - val_loss: 1.3828 - val_acc: 0.6378\n",
            "Epoch 22/30\n",
            "42000/42000 [==============================] - 2s 43us/sample - loss: 0.3361 - acc: 0.8935 - val_loss: 1.0297 - val_acc: 0.7142\n",
            "Epoch 23/30\n",
            "42000/42000 [==============================] - 2s 42us/sample - loss: 0.2890 - acc: 0.9084 - val_loss: 0.7712 - val_acc: 0.7779\n",
            "Epoch 24/30\n",
            "42000/42000 [==============================] - 2s 43us/sample - loss: 0.2578 - acc: 0.9186 - val_loss: 1.7941 - val_acc: 0.6136\n",
            "Epoch 25/30\n",
            "42000/42000 [==============================] - 2s 43us/sample - loss: 0.3959 - acc: 0.8729 - val_loss: 0.9121 - val_acc: 0.7444\n",
            "Epoch 26/30\n",
            "42000/42000 [==============================] - 2s 43us/sample - loss: 0.2637 - acc: 0.9159 - val_loss: 0.7022 - val_acc: 0.8028\n",
            "Epoch 27/30\n",
            "42000/42000 [==============================] - 2s 42us/sample - loss: 0.2475 - acc: 0.9209 - val_loss: 0.8700 - val_acc: 0.7623\n",
            "Epoch 28/30\n",
            "42000/42000 [==============================] - 2s 42us/sample - loss: 0.2725 - acc: 0.9134 - val_loss: 0.9258 - val_acc: 0.7536\n",
            "Epoch 29/30\n",
            "42000/42000 [==============================] - 2s 40us/sample - loss: 0.2677 - acc: 0.9142 - val_loss: 1.4080 - val_acc: 0.6533\n",
            "Epoch 30/30\n",
            "42000/42000 [==============================] - 2s 41us/sample - loss: 0.2556 - acc: 0.9179 - val_loss: 1.3671 - val_acc: 0.6853\n",
            "CPU times: user 11min 1s, sys: 1min 7s, total: 12min 8s\n",
            "Wall time: 58 s\n"
          ],
          "name": "stdout"
        }
      ]
    },
    {
      "cell_type": "markdown",
      "metadata": {
        "id": "CN49yb27xJlQ",
        "colab_type": "text"
      },
      "source": [
        "Hence Achieved 91.59.11%  as maximum accuracy in training set and 80.28% as maximum accuray in validation set using performance tuning. <font color=\"red\"> without CNN</font>."
      ]
    }
  ]
}