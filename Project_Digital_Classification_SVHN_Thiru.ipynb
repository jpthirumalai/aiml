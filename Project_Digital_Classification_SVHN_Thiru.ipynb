{
  "nbformat": 4,
  "nbformat_minor": 0,
  "metadata": {
    "kernelspec": {
      "name": "python3",
      "display_name": "Python 3"
    },
    "language_info": {
      "codemirror_mode": {
        "name": "ipython",
        "version": 3
      },
      "file_extension": ".py",
      "mimetype": "text/x-python",
      "name": "python",
      "nbconvert_exporter": "python",
      "pygments_lexer": "ipython3",
      "version": "3.7.3"
    },
    "colab": {
      "name": "Project-Digital-Classification-SVHN-Thiru.ipynb",
      "provenance": [],
      "collapsed_sections": [],
      "include_colab_link": true
    },
    "accelerator": "GPU"
  },
  "cells": [
    {
      "cell_type": "markdown",
      "metadata": {
        "id": "view-in-github",
        "colab_type": "text"
      },
      "source": [
        "<a href=\"https://colab.research.google.com/github/jpthirumalai/aiml/blob/master/Project_Digital_Classification_SVHN_Thiru.ipynb\" target=\"_parent\"><img src=\"https://colab.research.google.com/assets/colab-badge.svg\" alt=\"Open In Colab\"/></a>"
      ]
    },
    {
      "cell_type": "code",
      "metadata": {
        "id": "wfajwoeBcnke",
        "colab_type": "code",
        "outputId": "545a99b4-789b-4992-8e85-422fd3b6b8a3",
        "colab": {
          "base_uri": "https://localhost:8080/",
          "height": 122
        }
      },
      "source": [
        "from google.colab import drive\n",
        "drive.mount('/content/drive')"
      ],
      "execution_count": 2,
      "outputs": [
        {
          "output_type": "stream",
          "text": [
            "Go to this URL in a browser: https://accounts.google.com/o/oauth2/auth?client_id=947318989803-6bn6qk8qdgf4n4g3pfee6491hc0brc4i.apps.googleusercontent.com&redirect_uri=urn%3aietf%3awg%3aoauth%3a2.0%3aoob&response_type=code&scope=email%20https%3a%2f%2fwww.googleapis.com%2fauth%2fdocs.test%20https%3a%2f%2fwww.googleapis.com%2fauth%2fdrive%20https%3a%2f%2fwww.googleapis.com%2fauth%2fdrive.photos.readonly%20https%3a%2f%2fwww.googleapis.com%2fauth%2fpeopleapi.readonly\n",
            "\n",
            "Enter your authorization code:\n",
            "··········\n",
            "Mounted at /content/drive\n"
          ],
          "name": "stdout"
        }
      ]
    },
    {
      "cell_type": "code",
      "metadata": {
        "id": "LYoOHQYiiJYw",
        "colab_type": "code",
        "colab": {}
      },
      "source": [
        "projfolder = '/content/drive/My Drive/AIML/AI/NNProject/'"
      ],
      "execution_count": 0,
      "outputs": []
    },
    {
      "cell_type": "code",
      "metadata": {
        "id": "MlV2rWPhcnki",
        "colab_type": "code",
        "colab": {}
      },
      "source": [
        "import tensorflow.compat.v1 as tf\n",
        "#tf.reset_default_graph()\n",
        "#tf.compat.v1.disable_eager_execution()\n",
        "import h5py\n",
        "file=projfolder+'SVHN_single_grey1.h5'\n",
        "f= h5py.File(file,'r')"
      ],
      "execution_count": 0,
      "outputs": []
    },
    {
      "cell_type": "markdown",
      "metadata": {
        "id": "BWoGQa4GtxBl",
        "colab_type": "text"
      },
      "source": [
        "##Step 1: Load Train and Test data from .h5 file"
      ]
    },
    {
      "cell_type": "code",
      "metadata": {
        "id": "MGKxUcpjcnkl",
        "colab_type": "code",
        "outputId": "89500125-db40-408f-e0ab-f6c25cfdcccb",
        "colab": {
          "base_uri": "https://localhost:8080/",
          "height": 34
        }
      },
      "source": [
        "#Load the X_train, X_test, Y_train, Y_test, X_val and Y_val datasets from the h5py file\t2\n",
        "list(f.keys())\n"
      ],
      "execution_count": 8,
      "outputs": [
        {
          "output_type": "execute_result",
          "data": {
            "text/plain": [
              "['X_test', 'X_train', 'X_val', 'y_test', 'y_train', 'y_val']"
            ]
          },
          "metadata": {
            "tags": []
          },
          "execution_count": 8
        }
      ]
    },
    {
      "cell_type": "code",
      "metadata": {
        "id": "qX0wr1sIwqTP",
        "colab_type": "code",
        "outputId": "e7bb0f09-aacb-4d06-992b-469a3498c1ec",
        "colab": {
          "base_uri": "https://localhost:8080/",
          "height": 119
        }
      },
      "source": [
        "for key in list(f.keys()):\n",
        "  print('Shape of '+key+':'+str(f[key].shape))"
      ],
      "execution_count": 9,
      "outputs": [
        {
          "output_type": "stream",
          "text": [
            "Shape of X_test:(18000, 32, 32)\n",
            "Shape of X_train:(42000, 32, 32)\n",
            "Shape of X_val:(60000, 32, 32)\n",
            "Shape of y_test:(18000,)\n",
            "Shape of y_train:(42000,)\n",
            "Shape of y_val:(60000,)\n"
          ],
          "name": "stdout"
        }
      ]
    },
    {
      "cell_type": "code",
      "metadata": {
        "id": "UxKK6TwvzJcp",
        "colab_type": "code",
        "colab": {}
      },
      "source": [
        "X_test = f['X_test']\n",
        "X_train = f['X_train']\n",
        "X_val = f['X_val']\n",
        "y_test = f['y_test']\n",
        "y_train = f['y_train']\n",
        "y_val = f['y_val']"
      ],
      "execution_count": 0,
      "outputs": []
    },
    {
      "cell_type": "markdown",
      "metadata": {
        "id": "05F3bRkJt-VX",
        "colab_type": "text"
      },
      "source": [
        "## Step 2: Flatten the images for Keras"
      ]
    },
    {
      "cell_type": "code",
      "metadata": {
        "id": "MyklvqQzpShO",
        "colab_type": "code",
        "colab": {
          "base_uri": "https://localhost:8080/",
          "height": 164
        },
        "outputId": "f4aeb306-2c8c-44ca-d851-4ef5a7463943"
      },
      "source": [
        " #Flatten the images for Keras\t2\n",
        " X_test.reshape(18000,1024)"
      ],
      "execution_count": 82,
      "outputs": [
        {
          "output_type": "error",
          "ename": "AttributeError",
          "evalue": "ignored",
          "traceback": [
            "\u001b[0;31m---------------------------------------------------------------------------\u001b[0m",
            "\u001b[0;31mAttributeError\u001b[0m                            Traceback (most recent call last)",
            "\u001b[0;32m<ipython-input-82-94e9ca8fabac>\u001b[0m in \u001b[0;36m<module>\u001b[0;34m()\u001b[0m\n\u001b[0;32m----> 1\u001b[0;31m \u001b[0mX_test\u001b[0m\u001b[0;34m.\u001b[0m\u001b[0mreshape\u001b[0m\u001b[0;34m(\u001b[0m\u001b[0;36m18000\u001b[0m\u001b[0;34m,\u001b[0m\u001b[0;36m1024\u001b[0m\u001b[0;34m)\u001b[0m\u001b[0;34m\u001b[0m\u001b[0;34m\u001b[0m\u001b[0m\n\u001b[0m",
            "\u001b[0;31mAttributeError\u001b[0m: 'Dataset' object has no attribute 'reshape'"
          ]
        }
      ]
    },
    {
      "cell_type": "code",
      "metadata": {
        "id": "79D6mV2Nlnzj",
        "colab_type": "code",
        "colab": {
          "base_uri": "https://localhost:8080/",
          "height": 68
        },
        "outputId": "c9ab5d77-a01f-45ef-c62a-a2ef83e7e4a9"
      },
      "source": [
        "# through thies error AttributeError: 'Dataset' object has no attribute 'reshape', need to convert to numpy array\n",
        "X_test = np.array(X_test)\n",
        "print('before converting',X_test.shape)\n",
        "X_test = X_test.reshape(18000,1024)\n",
        "print('after converting Test Size',X_test.shape)\n",
        "#similarly convert required dataset to numpy array and reshape 32X32 into 1024\n",
        "X_train = np.array(X_train).reshape(42000,1024)\n",
        "\n",
        "print('after converting Train Size',X_train.shape)"
      ],
      "execution_count": 94,
      "outputs": [
        {
          "output_type": "stream",
          "text": [
            "before converting (18000, 32, 32)\n",
            "after converting Test Size (18000, 1024)\n",
            "after converting Train Size (42000, 1024)\n"
          ],
          "name": "stdout"
        }
      ]
    },
    {
      "cell_type": "markdown",
      "metadata": {
        "id": "Teh5EKALuFTw",
        "colab_type": "text"
      },
      "source": [
        "### Verifying the image"
      ]
    },
    {
      "cell_type": "code",
      "metadata": {
        "id": "YYF2yjE_cnkp",
        "colab_type": "code",
        "outputId": "9f4b3708-30a5-4e3f-b95a-11740e604428",
        "colab": {
          "base_uri": "https://localhost:8080/",
          "height": 283
        }
      },
      "source": [
        "import matplotlib.pyplot as plt\n",
        "import numpy as np\n",
        "# testing the image in the index 105\n",
        "print('Label: ', X_train[105])\n",
        "plt.imshow(X_train[105].reshape(32,32), cmap=plt.cm.bone);"
      ],
      "execution_count": 95,
      "outputs": [
        {
          "output_type": "stream",
          "text": [
            "Label:  [143.1893 141.7164 129.8146 ...  67.7635  68.3613  73.3608]\n"
          ],
          "name": "stdout"
        },
        {
          "output_type": "display_data",
          "data": {
            "image/png": "[encoded data removed]",
            "text/plain": [
              "<Figure size 432x288 with 1 Axes>"
            ]
          },
          "metadata": {
            "tags": []
          }
        }
      ]
    },
    {
      "cell_type": "code",
      "metadata": {
        "id": "XooLW_JOcnkt",
        "colab_type": "code",
        "outputId": "78960c57-725b-4c8d-d106-068c8a337690",
        "colab": {
          "base_uri": "https://localhost:8080/",
          "height": 34
        }
      },
      "source": [
        "#printing the value in y_train same index number 105\n",
        "print('Label at 10 : ', y_train[105])"
      ],
      "execution_count": 96,
      "outputs": [
        {
          "output_type": "stream",
          "text": [
            "Label at 10 :  8\n"
          ],
          "name": "stdout"
        }
      ]
    },
    {
      "cell_type": "markdown",
      "metadata": {
        "id": "n7Me-h8QuNQI",
        "colab_type": "text"
      },
      "source": [
        "## Step 3: Normalize the inputs from 0 to 1"
      ]
    },
    {
      "cell_type": "code",
      "metadata": {
        "id": "HSNYyFnTcnk0",
        "colab_type": "code",
        "colab": {
          "base_uri": "https://localhost:8080/",
          "height": 68
        },
        "outputId": "f5c3e016-27f2-4334-dd20-fdd261965fee"
      },
      "source": [
        "#Normalize the inputs for X_train, X_test and X_val\t1\n",
        "X_train[0:2]"
      ],
      "execution_count": 97,
      "outputs": [
        {
          "output_type": "execute_result",
          "data": {
            "text/plain": [
              "array([[33.0704, 30.2601, 26.852 , ..., 49.6682, 50.853 , 53.0377],\n",
              "       [86.9591, 87.0685, 88.3735, ..., 75.2206, 76.6396, 79.2865]],\n",
              "      dtype=float32)"
            ]
          },
          "metadata": {
            "tags": []
          },
          "execution_count": 97
        }
      ]
    },
    {
      "cell_type": "code",
      "metadata": {
        "id": "9gDwQVxtrRuH",
        "colab_type": "code",
        "colab": {
          "base_uri": "https://localhost:8080/",
          "height": 85
        },
        "outputId": "976a15aa-9e17-4e25-f04c-bd298823ee7e"
      },
      "source": [
        "# # normalize inputs from 0-255 to 0-1\n",
        "X_train = X_train / 255.0\n",
        "X_test = X_test / 255.0\n",
        "X_train[0:2]"
      ],
      "execution_count": 98,
      "outputs": [
        {
          "output_type": "execute_result",
          "data": {
            "text/plain": [
              "array([[0.12968785, 0.11866706, 0.10530196, ..., 0.19477727, 0.19942354,\n",
              "        0.20799099],\n",
              "       [0.34101608, 0.3414451 , 0.34656274, ..., 0.29498273, 0.30054745,\n",
              "        0.31092745]], dtype=float32)"
            ]
          },
          "metadata": {
            "tags": []
          },
          "execution_count": 98
        }
      ]
    },
    {
      "cell_type": "markdown",
      "metadata": {
        "id": "9ouVw_zAuche",
        "colab_type": "text"
      },
      "source": [
        "##Step 4: Conert the class matrices / Label into one hot vectors"
      ]
    },
    {
      "cell_type": "code",
      "metadata": {
        "id": "0Fo5GeMhcnk3",
        "colab_type": "code",
        "colab": {
          "base_uri": "https://localhost:8080/",
          "height": 119
        },
        "outputId": "d063593c-2a8f-4244-ae6d-a8b185586ac4"
      },
      "source": [
        "#Convert the class matrices Y_train, Y_test and Y_val into one hot vectors\t1\n",
        "print('Before one hot conversion :',y_train[0:5])\n",
        "y_train = tf.keras.utils.to_categorical(y_train,num_classes=10)\n",
        "y_test = tf.keras.utils.to_categorical(y_test,num_classes=10)\n",
        "print('After one hot conversion :',y_train[0:5])"
      ],
      "execution_count": 101,
      "outputs": [
        {
          "output_type": "stream",
          "text": [
            "Before one hot conversion : [2 6 7 4 4]\n",
            "After one hot conversion : [[0. 0. 1. 0. 0. 0. 0. 0. 0. 0.]\n",
            " [0. 0. 0. 0. 0. 0. 1. 0. 0. 0.]\n",
            " [0. 0. 0. 0. 0. 0. 0. 1. 0. 0.]\n",
            " [0. 0. 0. 0. 1. 0. 0. 0. 0. 0.]\n",
            " [0. 0. 0. 0. 1. 0. 0. 0. 0. 0.]]\n"
          ],
          "name": "stdout"
        }
      ]
    },
    {
      "cell_type": "markdown",
      "metadata": {
        "id": "7piwPItaumEV",
        "colab_type": "text"
      },
      "source": [
        "## Step 5: Print train and Test val shapes"
      ]
    },
    {
      "cell_type": "code",
      "metadata": {
        "id": "Q8YyZbJ1cnk7",
        "colab_type": "code",
        "colab": {
          "base_uri": "https://localhost:8080/",
          "height": 34
        },
        "outputId": "db3e2fc0-d329-4a9e-f763-17f1b1bebe42"
      },
      "source": [
        "#Print the train, test and val shapes\t2\n",
        "print('Shape of Training set Train:', X_train.shape, 'Test:', X_test.shape )"
      ],
      "execution_count": 102,
      "outputs": [
        {
          "output_type": "stream",
          "text": [
            "Shape of Training set Train: (42000, 1024) Test: (18000, 1024)\n"
          ],
          "name": "stdout"
        }
      ]
    },
    {
      "cell_type": "markdown",
      "metadata": {
        "id": "bkCDublEurWJ",
        "colab_type": "text"
      },
      "source": [
        "##Step 6: Visualize the first 10 images in X_train and the corresponding Y_train labels"
      ]
    },
    {
      "cell_type": "code",
      "metadata": {
        "id": "T9UQXZwtcnk_",
        "colab_type": "code",
        "colab": {
          "base_uri": "https://localhost:8080/",
          "height": 78
        },
        "outputId": "aa025d2b-ce6d-46ab-8638-adc0a006d214"
      },
      "source": [
        "#Visualize the first 10 images in X_train and the corresponding Y_train labels\t2\n",
        "plt.figure(figsize=(10, 1))\n",
        "for i in range(10):\n",
        "    plt.subplot(1, 10, i+1)\n",
        "    plt.imshow(X_train[i].reshape(32, 32), cmap=\"gray\")\n",
        "    plt.axis('off')\n",
        "plt.show()"
      ],
      "execution_count": 103,
      "outputs": [
        {
          "output_type": "display_data",
          "data": {
            "image/png": "[encoded data removed]",
            "text/plain": [
              "<Figure size 720x72 with 10 Axes>"
            ]
          },
          "metadata": {
            "tags": []
          }
        }
      ]
    },
    {
      "cell_type": "code",
      "metadata": {
        "id": "LapoqwB3tuCm",
        "colab_type": "code",
        "colab": {
          "base_uri": "https://localhost:8080/",
          "height": 187
        },
        "outputId": "89815509-cf5e-4068-d939-60c26b9fbb6a"
      },
      "source": [
        "print(y_train[0:10])"
      ],
      "execution_count": 106,
      "outputs": [
        {
          "output_type": "stream",
          "text": [
            "[[0. 0. 1. 0. 0. 0. 0. 0. 0. 0.]\n",
            " [0. 0. 0. 0. 0. 0. 1. 0. 0. 0.]\n",
            " [0. 0. 0. 0. 0. 0. 0. 1. 0. 0.]\n",
            " [0. 0. 0. 0. 1. 0. 0. 0. 0. 0.]\n",
            " [0. 0. 0. 0. 1. 0. 0. 0. 0. 0.]\n",
            " [1. 0. 0. 0. 0. 0. 0. 0. 0. 0.]\n",
            " [0. 0. 0. 1. 0. 0. 0. 0. 0. 0.]\n",
            " [1. 0. 0. 0. 0. 0. 0. 0. 0. 0.]\n",
            " [0. 0. 0. 0. 0. 0. 0. 1. 0. 0.]\n",
            " [0. 0. 0. 1. 0. 0. 0. 0. 0. 0.]]\n"
          ],
          "name": "stdout"
        }
      ]
    },
    {
      "cell_type": "markdown",
      "metadata": {
        "id": "egr0w6BUuyh8",
        "colab_type": "text"
      },
      "source": [
        "##Step 7: In the train and test loop, define the hyperparameters for the model"
      ]
    },
    {
      "cell_type": "code",
      "metadata": {
        "id": "NQG9K5CPcnlC",
        "colab_type": "code",
        "colab": {}
      },
      "source": [
        "#In the train and test loop, define the hyperparameters for the model\t4\n",
        "learning_rate = 0.001\n",
        "activation = 'relu'\n",
        "optimizer='sgd'\n",
        "loss='categorical_crossentropy'\n",
        "batch_size = 32\n"
      ],
      "execution_count": 0,
      "outputs": []
    },
    {
      "cell_type": "markdown",
      "metadata": {
        "id": "kqYQ2_vZu4xN",
        "colab_type": "text"
      },
      "source": [
        "##Step 8: Create a Sequential model in Keras"
      ]
    },
    {
      "cell_type": "code",
      "metadata": {
        "id": "3_OmPeLicnlF",
        "colab_type": "code",
        "colab": {}
      },
      "source": [
        "#Create a Sequential model in Keras with input layer with the correct input shape, Hidden Layers, Output Layers and the activation functions\t8\n",
        "#Initialize sequential model\n",
        "model = tf.keras.models.Sequential()\n",
        "#Reshape data from 2D to 1D ->28*28 to 784\n",
        "model.add(tf.keras.layers.Reshape((1024,),input_shape=(1024,)))\n",
        "#Add Dense layer which provides 10 outputs after applying softmax\n",
        "model.add(tf.keras.layers.Dense(100,activation = 'relu'))\n",
        "model.add(tf.keras.layers.Dense(100,activation='relu'))\n",
        "model.add(tf.keras.layers.Dense(100,activation='relu'))\n",
        "model.add(tf.keras.layers.Dense(10,activation='relu'))\n",
        "model.add(tf.keras.layers.Dense(10,activation='softmax'))"
      ],
      "execution_count": 0,
      "outputs": []
    },
    {
      "cell_type": "markdown",
      "metadata": {
        "id": "QL9nMti5u9RO",
        "colab_type": "text"
      },
      "source": [
        "##Step 9: Define the optimizer to be used in this model"
      ]
    },
    {
      "cell_type": "code",
      "metadata": {
        "id": "9N6rv_kzcnlI",
        "colab_type": "code",
        "colab": {}
      },
      "source": [
        "#Define the optimizer to be used in this model\t2\n",
        "sgd_optimizer = tf.keras.optimizers.SGD(lr=learning_rate)"
      ],
      "execution_count": 0,
      "outputs": []
    },
    {
      "cell_type": "markdown",
      "metadata": {
        "id": "hkF1jsunvCLc",
        "colab_type": "text"
      },
      "source": [
        "##Step 10: Compile the model with the corresponding Loss and metrics to monitor"
      ]
    },
    {
      "cell_type": "code",
      "metadata": {
        "id": "P5nBeS03cnlM",
        "colab_type": "code",
        "colab": {}
      },
      "source": [
        "#Compile the model with the corresponding Loss and metrics to monitor\t2\n",
        "model.compile(optimizer=sgd_optimizer,loss='categorical_crossentropy',metrics=['accuracy'])"
      ],
      "execution_count": 0,
      "outputs": []
    },
    {
      "cell_type": "markdown",
      "metadata": {
        "id": "DKU1x9bSvHjY",
        "colab_type": "text"
      },
      "source": [
        "##Step 12: Fit the model and use model.Evaluate to return the score"
      ]
    },
    {
      "cell_type": "code",
      "metadata": {
        "id": "wwsb3BiVcnlT",
        "colab_type": "code",
        "colab": {
          "base_uri": "https://localhost:8080/",
          "height": 391
        },
        "outputId": "ac2f87ca-0016-4aa7-c0ff-0798223ea5fa"
      },
      "source": [
        "#Fit the model and use model.evaluate() to return the score\t1\n",
        "model.fit(X_train,y_train,epochs=10,validation_data=(X_test,y_test),batch_size=32)"
      ],
      "execution_count": 125,
      "outputs": [
        {
          "output_type": "stream",
          "text": [
            "Train on 42000 samples, validate on 18000 samples\n",
            "Epoch 1/10\n",
            "42000/42000 [==============================] - 5s 114us/sample - loss: 2.3038 - acc: 0.1041 - val_loss: 2.3011 - val_acc: 0.1134\n",
            "Epoch 2/10\n",
            "42000/42000 [==============================] - 4s 105us/sample - loss: 2.3002 - acc: 0.1162 - val_loss: 2.2988 - val_acc: 0.1178\n",
            "Epoch 3/10\n",
            "42000/42000 [==============================] - 4s 107us/sample - loss: 2.2981 - acc: 0.1197 - val_loss: 2.2968 - val_acc: 0.1223\n",
            "Epoch 4/10\n",
            "42000/42000 [==============================] - 5s 108us/sample - loss: 2.2961 - acc: 0.1268 - val_loss: 2.2946 - val_acc: 0.1302\n",
            "Epoch 5/10\n",
            "42000/42000 [==============================] - 4s 105us/sample - loss: 2.2937 - acc: 0.1353 - val_loss: 2.2923 - val_acc: 0.1377\n",
            "Epoch 6/10\n",
            "42000/42000 [==============================] - 4s 106us/sample - loss: 2.2914 - acc: 0.1433 - val_loss: 2.2899 - val_acc: 0.1474\n",
            "Epoch 7/10\n",
            "42000/42000 [==============================] - 4s 106us/sample - loss: 2.2888 - acc: 0.1509 - val_loss: 2.2874 - val_acc: 0.1556\n",
            "Epoch 8/10\n",
            "42000/42000 [==============================] - 4s 106us/sample - loss: 2.2861 - acc: 0.1562 - val_loss: 2.2841 - val_acc: 0.1594\n",
            "Epoch 9/10\n",
            "42000/42000 [==============================] - 4s 107us/sample - loss: 2.2830 - acc: 0.1592 - val_loss: 2.2809 - val_acc: 0.1605\n",
            "Epoch 10/10\n",
            "42000/42000 [==============================] - 4s 104us/sample - loss: 2.2795 - acc: 0.1648 - val_loss: 2.2773 - val_acc: 0.1598\n"
          ],
          "name": "stdout"
        },
        {
          "output_type": "execute_result",
          "data": {
            "text/plain": [
              "<tensorflow.python.keras.callbacks.History at 0x7f83851dbef0>"
            ]
          },
          "metadata": {
            "tags": []
          },
          "execution_count": 125
        }
      ]
    },
    {
      "cell_type": "code",
      "metadata": {
        "id": "tX8dfY4kx_ji",
        "colab_type": "code",
        "colab": {
          "base_uri": "https://localhost:8080/",
          "height": 357
        },
        "outputId": "ef26d80d-c86c-4c67-f6b5-727801ffbbc1"
      },
      "source": [
        "model.summary()"
      ],
      "execution_count": 126,
      "outputs": [
        {
          "output_type": "stream",
          "text": [
            "Model: \"sequential_3\"\n",
            "_________________________________________________________________\n",
            "Layer (type)                 Output Shape              Param #   \n",
            "=================================================================\n",
            "reshape_3 (Reshape)          (None, 1024)              0         \n",
            "_________________________________________________________________\n",
            "dense_7 (Dense)              (None, 100)               102500    \n",
            "_________________________________________________________________\n",
            "dense_8 (Dense)              (None, 100)               10100     \n",
            "_________________________________________________________________\n",
            "dense_9 (Dense)              (None, 100)               10100     \n",
            "_________________________________________________________________\n",
            "dense_10 (Dense)             (None, 10)                1010      \n",
            "_________________________________________________________________\n",
            "dense_11 (Dense)             (None, 10)                110       \n",
            "=================================================================\n",
            "Total params: 123,820\n",
            "Trainable params: 123,820\n",
            "Non-trainable params: 0\n",
            "_________________________________________________________________\n"
          ],
          "name": "stdout"
        }
      ]
    },
    {
      "cell_type": "code",
      "metadata": {
        "id": "pgZS6aKWvTm7",
        "colab_type": "code",
        "colab": {}
      },
      "source": [
        "model.evaluate()"
      ],
      "execution_count": 0,
      "outputs": []
    },
    {
      "cell_type": "markdown",
      "metadata": {
        "id": "0jhhmdlKvZ9Y",
        "colab_type": "text"
      },
      "source": [
        "#Step 13: Disable Regularization by setting appropriate value for Lambda and check the loss of the NN"
      ]
    },
    {
      "cell_type": "code",
      "metadata": {
        "id": "Dl8eLcbFcnlW",
        "colab_type": "code",
        "colab": {
          "base_uri": "https://localhost:8080/",
          "height": 391
        },
        "outputId": "218e8fd7-53b9-4de8-fa81-56a3c94a5f4e"
      },
      "source": [
        "#Disable Regularization by setting appropriate value for Lambda and check the loss of the NN\t2\n",
        "#Normalize the data\n",
        "# example of l2 on a dense layer\n",
        "from keras.layers import Dense\n",
        "from keras.regularizers import l2\n",
        "\n",
        "model2 = tf.keras.models.Sequential()\n",
        "model2.add(tf.keras.layers.Dense(200,activation = 'relu'))\n",
        "model2.add(tf.keras.layers.Dense(200, kernel_regularizer=l2(0.01), bias_regularizer=l2(0.01)))\n",
        "model2.add(tf.keras.layers.Dense(100,activation = 'relu'))\n",
        "model2.add(tf.keras.layers.Dense(10,activation='softmax'))\n",
        "model2.compile(optimizer=sgd_optimizer,loss='categorical_crossentropy',metrics=['accuracy'])\n",
        "model2.fit(X_train,y_train,epochs=10,validation_data=(X_test,y_test),batch_size=32)"
      ],
      "execution_count": 151,
      "outputs": [
        {
          "output_type": "stream",
          "text": [
            "Train on 42000 samples, validate on 18000 samples\n",
            "Epoch 1/10\n",
            "42000/42000 [==============================] - 7s 166us/sample - loss: 4.2485 - acc: 0.1051 - val_loss: 4.1890 - val_acc: 0.1099\n",
            "Epoch 2/10\n",
            "42000/42000 [==============================] - 6s 151us/sample - loss: 4.1359 - acc: 0.1230 - val_loss: 4.0840 - val_acc: 0.1246\n",
            "Epoch 3/10\n",
            "42000/42000 [==============================] - 6s 153us/sample - loss: 4.0334 - acc: 0.1403 - val_loss: 3.9825 - val_acc: 0.1627\n",
            "Epoch 4/10\n",
            "42000/42000 [==============================] - 7s 155us/sample - loss: 3.9349 - acc: 0.1659 - val_loss: 3.8879 - val_acc: 0.1738\n",
            "Epoch 5/10\n",
            "42000/42000 [==============================] - 6s 154us/sample - loss: 3.8406 - acc: 0.1907 - val_loss: 3.7942 - val_acc: 0.2173\n",
            "Epoch 6/10\n",
            "42000/42000 [==============================] - 7s 156us/sample - loss: 3.7494 - acc: 0.2184 - val_loss: 3.7050 - val_acc: 0.2290\n",
            "Epoch 7/10\n",
            "42000/42000 [==============================] - 6s 154us/sample - loss: 3.6611 - acc: 0.2427 - val_loss: 3.6175 - val_acc: 0.2604\n",
            "Epoch 8/10\n",
            "42000/42000 [==============================] - 6s 155us/sample - loss: 3.5751 - acc: 0.2643 - val_loss: 3.5325 - val_acc: 0.2948\n",
            "Epoch 9/10\n",
            "42000/42000 [==============================] - 6s 153us/sample - loss: 3.4913 - acc: 0.2930 - val_loss: 3.4498 - val_acc: 0.3025\n",
            "Epoch 10/10\n",
            "42000/42000 [==============================] - 6s 152us/sample - loss: 3.4081 - acc: 0.3126 - val_loss: 3.3668 - val_acc: 0.3063\n"
          ],
          "name": "stdout"
        },
        {
          "output_type": "execute_result",
          "data": {
            "text/plain": [
              "<tensorflow.python.keras.callbacks.History at 0x7f837d1ccfd0>"
            ]
          },
          "metadata": {
            "tags": []
          },
          "execution_count": 151
        }
      ]
    },
    {
      "cell_type": "code",
      "metadata": {
        "id": "rmOQNkKk72jT",
        "colab_type": "code",
        "colab": {
          "base_uri": "https://localhost:8080/",
          "height": 731
        },
        "outputId": "6e604643-6b5f-4cd4-e2c0-20d870939cdf"
      },
      "source": [
        "#Seeing the accuracy increases from 13% to 65% - try increasing the epochs and see it the max accuracy\n",
        "#model2.fit(X_train,y_train,epochs=20,validation_data=(X_test,y_test),batch_size=32)"
      ],
      "execution_count": 130,
      "outputs": [
        {
          "output_type": "stream",
          "text": [
            "Train on 42000 samples, validate on 18000 samples\n",
            "Epoch 1/20\n",
            "42000/42000 [==============================] - 6s 143us/sample - loss: 3.0199 - acc: 0.6862 - val_loss: 2.9467 - val_acc: 0.7079\n",
            "Epoch 2/20\n",
            "42000/42000 [==============================] - 6s 140us/sample - loss: 2.9446 - acc: 0.6952 - val_loss: 2.8756 - val_acc: 0.7148\n",
            "Epoch 3/20\n",
            "42000/42000 [==============================] - 6s 143us/sample - loss: 2.8662 - acc: 0.7047 - val_loss: 2.8063 - val_acc: 0.7212\n",
            "Epoch 4/20\n",
            "42000/42000 [==============================] - 6s 139us/sample - loss: 2.7975 - acc: 0.7082 - val_loss: 2.7416 - val_acc: 0.7263\n",
            "Epoch 5/20\n",
            "42000/42000 [==============================] - 6s 141us/sample - loss: 2.7303 - acc: 0.7148 - val_loss: 2.6770 - val_acc: 0.7313\n",
            "Epoch 6/20\n",
            "42000/42000 [==============================] - 6s 139us/sample - loss: 2.6641 - acc: 0.7229 - val_loss: 2.6150 - val_acc: 0.7383\n",
            "Epoch 7/20\n",
            "42000/42000 [==============================] - 6s 137us/sample - loss: 2.5995 - acc: 0.7279 - val_loss: 2.5559 - val_acc: 0.7408\n",
            "Epoch 8/20\n",
            "42000/42000 [==============================] - 6s 140us/sample - loss: 2.5403 - acc: 0.7340 - val_loss: 2.4982 - val_acc: 0.7486\n",
            "Epoch 9/20\n",
            "42000/42000 [==============================] - 6s 142us/sample - loss: 2.4787 - acc: 0.7386 - val_loss: 2.4422 - val_acc: 0.7506\n",
            "Epoch 10/20\n",
            "42000/42000 [==============================] - 6s 142us/sample - loss: 2.4243 - acc: 0.7426 - val_loss: 2.3903 - val_acc: 0.7546\n",
            "Epoch 11/20\n",
            "42000/42000 [==============================] - 6s 141us/sample - loss: 2.3647 - acc: 0.7494 - val_loss: 2.3349 - val_acc: 0.7597\n",
            "Epoch 12/20\n",
            "42000/42000 [==============================] - 6s 143us/sample - loss: 2.3131 - acc: 0.7530 - val_loss: 2.2866 - val_acc: 0.7628\n",
            "Epoch 13/20\n",
            "42000/42000 [==============================] - 6s 144us/sample - loss: 2.2657 - acc: 0.7549 - val_loss: 2.2450 - val_acc: 0.7648\n",
            "Epoch 14/20\n",
            "42000/42000 [==============================] - 6s 141us/sample - loss: 2.2138 - acc: 0.7617 - val_loss: 2.1956 - val_acc: 0.7691\n",
            "Epoch 15/20\n",
            "42000/42000 [==============================] - 6s 144us/sample - loss: 2.1649 - acc: 0.7639 - val_loss: 2.1530 - val_acc: 0.7726\n",
            "Epoch 16/20\n",
            "42000/42000 [==============================] - 6s 139us/sample - loss: 2.1208 - acc: 0.7675 - val_loss: 2.1058 - val_acc: 0.7754\n",
            "Epoch 17/20\n",
            "42000/42000 [==============================] - 6s 141us/sample - loss: 2.0741 - acc: 0.7702 - val_loss: 2.0649 - val_acc: 0.7778\n",
            "Epoch 18/20\n",
            "42000/42000 [==============================] - 6s 141us/sample - loss: 2.0292 - acc: 0.7742 - val_loss: 2.0233 - val_acc: 0.7803\n",
            "Epoch 19/20\n",
            "42000/42000 [==============================] - 6s 143us/sample - loss: 1.9869 - acc: 0.7772 - val_loss: 1.9833 - val_acc: 0.7824\n",
            "Epoch 20/20\n",
            "42000/42000 [==============================] - 6s 141us/sample - loss: 1.9405 - acc: 0.7821 - val_loss: 1.9502 - val_acc: 0.7822\n"
          ],
          "name": "stdout"
        },
        {
          "output_type": "execute_result",
          "data": {
            "text/plain": [
              "<tensorflow.python.keras.callbacks.History at 0x7f837e208eb8>"
            ]
          },
          "metadata": {
            "tags": []
          },
          "execution_count": 130
        }
      ]
    },
    {
      "cell_type": "markdown",
      "metadata": {
        "id": "O50yU0xDvj0R",
        "colab_type": "text"
      },
      "source": [
        "##Step 14: Increase the Regularization parameter (Lambda) and check how the loss is for the NN. Record findings"
      ]
    },
    {
      "cell_type": "code",
      "metadata": {
        "id": "c3zB6S9jcnlZ",
        "colab_type": "code",
        "colab": {
          "base_uri": "https://localhost:8080/",
          "height": 391
        },
        "outputId": "0abdab36-ffda-4c3b-ae56-b7a01550a433"
      },
      "source": [
        "#Increase the Regularization parameter (Lambda) and check how the loss is for the NN. Record findings\t2\n",
        "model3 = tf.keras.models.Sequential()\n",
        "model3.add(tf.keras.layers.Dense(200,activation = 'relu'))\n",
        "model3.add(tf.keras.layers.Dense(200, kernel_regularizer=l2(0.1), bias_regularizer=l2(0.1)))\n",
        "model3.add(tf.keras.layers.Dense(100,activation = 'relu'))\n",
        "model3.add(tf.keras.layers.Dense(10,activation='softmax'))\n",
        "model3.compile(optimizer=sgd_optimizer,loss='categorical_crossentropy',metrics=['accuracy'])\n",
        "model3.fit(X_train,y_train,epochs=10,validation_data=(X_test,y_test),batch_size=32)"
      ],
      "execution_count": 150,
      "outputs": [
        {
          "output_type": "stream",
          "text": [
            "Train on 42000 samples, validate on 18000 samples\n",
            "Epoch 1/10\n",
            "42000/42000 [==============================] - 8s 185us/sample - loss: 17.9218 - acc: 0.1084 - val_loss: 14.1681 - val_acc: 0.1216\n",
            "Epoch 2/10\n",
            "42000/42000 [==============================] - 7s 157us/sample - loss: 11.5321 - acc: 0.1277 - val_loss: 9.3148 - val_acc: 0.1367\n",
            "Epoch 3/10\n",
            "42000/42000 [==============================] - 7s 157us/sample - loss: 7.7559 - acc: 0.1470 - val_loss: 6.4459 - val_acc: 0.1487\n",
            "Epoch 4/10\n",
            "42000/42000 [==============================] - 6s 155us/sample - loss: 5.5239 - acc: 0.1624 - val_loss: 4.7489 - val_acc: 0.1754\n",
            "Epoch 5/10\n",
            "42000/42000 [==============================] - 7s 156us/sample - loss: 4.2041 - acc: 0.1802 - val_loss: 3.7458 - val_acc: 0.1889\n",
            "Epoch 6/10\n",
            "42000/42000 [==============================] - 7s 157us/sample - loss: 3.4235 - acc: 0.1921 - val_loss: 3.1527 - val_acc: 0.2091\n",
            "Epoch 7/10\n",
            "42000/42000 [==============================] - 7s 157us/sample - loss: 2.9618 - acc: 0.2163 - val_loss: 2.8017 - val_acc: 0.2416\n",
            "Epoch 8/10\n",
            "42000/42000 [==============================] - 7s 171us/sample - loss: 2.6887 - acc: 0.2249 - val_loss: 2.5939 - val_acc: 0.2524\n",
            "Epoch 9/10\n",
            "42000/42000 [==============================] - 7s 156us/sample - loss: 2.5266 - acc: 0.2505 - val_loss: 2.4708 - val_acc: 0.2321\n",
            "Epoch 10/10\n",
            "42000/42000 [==============================] - 6s 152us/sample - loss: 2.4304 - acc: 0.2626 - val_loss: 2.3970 - val_acc: 0.2308\n"
          ],
          "name": "stdout"
        },
        {
          "output_type": "execute_result",
          "data": {
            "text/plain": [
              "<tensorflow.python.keras.callbacks.History at 0x7f837d31e978>"
            ]
          },
          "metadata": {
            "tags": []
          },
          "execution_count": 150
        }
      ]
    },
    {
      "cell_type": "code",
      "metadata": {
        "id": "M1RD8kaABmwV",
        "colab_type": "code",
        "colab": {
          "base_uri": "https://localhost:8080/",
          "height": 391
        },
        "outputId": "e6aac6d8-466a-462a-e77d-14c8c5ba9c4f"
      },
      "source": [
        "model3_bn = tf.keras.models.Sequential()\n",
        "model3_bn.add(tf.keras.layers.Dense(200,activation = 'relu'))\n",
        "model3_bn.add(tf.keras.layers.BatchNormalization())\n",
        "model3_bn.add(tf.keras.layers.Dense(100,activation='relu'))\n",
        "model3_bn.add(tf.keras.layers.Dense(10,activation='softmax'))\n",
        "model3_bn.compile(optimizer=sgd_optimizer,loss='categorical_crossentropy',metrics=['accuracy'])\n",
        "model3_bn.fit(X_train,y_train,epochs=10,validation_data=(X_test,y_test),batch_size=32)"
      ],
      "execution_count": 149,
      "outputs": [
        {
          "output_type": "stream",
          "text": [
            "Train on 42000 samples, validate on 18000 samples\n",
            "Epoch 1/10\n",
            "42000/42000 [==============================] - 7s 162us/sample - loss: 2.2663 - acc: 0.1764 - val_loss: 2.1247 - val_acc: 0.2619\n",
            "Epoch 2/10\n",
            "42000/42000 [==============================] - 6s 147us/sample - loss: 2.0123 - acc: 0.3309 - val_loss: 1.8831 - val_acc: 0.4042\n",
            "Epoch 3/10\n",
            "42000/42000 [==============================] - 6s 149us/sample - loss: 1.7726 - acc: 0.4578 - val_loss: 1.6567 - val_acc: 0.4997\n",
            "Epoch 4/10\n",
            "42000/42000 [==============================] - 6s 150us/sample - loss: 1.5677 - acc: 0.5394 - val_loss: 1.4720 - val_acc: 0.5733\n",
            "Epoch 5/10\n",
            "42000/42000 [==============================] - 6s 145us/sample - loss: 1.4113 - acc: 0.5897 - val_loss: 1.3427 - val_acc: 0.6146\n",
            "Epoch 6/10\n",
            "42000/42000 [==============================] - 6s 149us/sample - loss: 1.2979 - acc: 0.6252 - val_loss: 1.2371 - val_acc: 0.6435\n",
            "Epoch 7/10\n",
            "42000/42000 [==============================] - 6s 145us/sample - loss: 1.2153 - acc: 0.6451 - val_loss: 1.1610 - val_acc: 0.6688\n",
            "Epoch 8/10\n",
            "42000/42000 [==============================] - 6s 143us/sample - loss: 1.1531 - acc: 0.6612 - val_loss: 1.1026 - val_acc: 0.6805\n",
            "Epoch 9/10\n",
            "42000/42000 [==============================] - 6s 143us/sample - loss: 1.1039 - acc: 0.6735 - val_loss: 1.0731 - val_acc: 0.6882\n",
            "Epoch 10/10\n",
            "42000/42000 [==============================] - 6s 148us/sample - loss: 1.0651 - acc: 0.6845 - val_loss: 1.0492 - val_acc: 0.6886\n"
          ],
          "name": "stdout"
        },
        {
          "output_type": "execute_result",
          "data": {
            "text/plain": [
              "<tensorflow.python.keras.callbacks.History at 0x7f837d39eeb8>"
            ]
          },
          "metadata": {
            "tags": []
          },
          "execution_count": 149
        }
      ]
    },
    {
      "cell_type": "markdown",
      "metadata": {
        "id": "29y0D5h299Qk",
        "colab_type": "text"
      },
      "source": [
        "Increasing the lambda from 0.01 to 0.1 the loss is reducing"
      ]
    },
    {
      "cell_type": "markdown",
      "metadata": {
        "id": "l0IYRPtCvpSw",
        "colab_type": "text"
      },
      "source": [
        "#Step 15: Network overfit with a small subset of the dataset. Check if the network will overfit when you use no regularization and the loss is very small and accuracy is 100%\n"
      ]
    },
    {
      "cell_type": "code",
      "metadata": {
        "id": "JCcONCeacnlc",
        "colab_type": "code",
        "colab": {
          "base_uri": "https://localhost:8080/",
          "height": 391
        },
        "outputId": "3ecff07e-92ad-4f9a-cd51-9aeca8c21900"
      },
      "source": [
        "#Network overfit with a small subset of the dataset. Check if the network will overfit when you use no regularization and the loss is very small and accuracy is 100%.\t2\n",
        "X_train_subset = X_train[0:4200]\n",
        "X_test_subset = X_test[0:4200]\n",
        "y_train_subset = y_train[0:4200]\n",
        "y_test_subset = y_test[0:4200]\n",
        "small_model = tf.keras.Sequential([\n",
        "    # `input_shape` is only required here so that `.summary` works.\n",
        "    tf.keras.layers.Dense(16, activation='elu'),\n",
        "    tf.keras.layers.Dense(16, activation='elu'),\n",
        "    tf.keras.layers.Dense(10, activation='softmax')\n",
        "])\n",
        "small_model.compile(optimizer=sgd_optimizer,loss='categorical_crossentropy',metrics=['accuracy'])\n",
        "small_model.fit(X_train_subset,y_train_subset,epochs=10,validation_data=(X_test_subset,y_test_subset),batch_size=32)"
      ],
      "execution_count": 160,
      "outputs": [
        {
          "output_type": "stream",
          "text": [
            "Train on 4200 samples, validate on 4200 samples\n",
            "Epoch 1/10\n",
            "4200/4200 [==============================] - 1s 271us/sample - loss: 2.3349 - acc: 0.0848 - val_loss: 2.3209 - val_acc: 0.0783\n",
            "Epoch 2/10\n",
            "4200/4200 [==============================] - 0s 88us/sample - loss: 2.3129 - acc: 0.0886 - val_loss: 2.3142 - val_acc: 0.0786\n",
            "Epoch 3/10\n",
            "4200/4200 [==============================] - 0s 91us/sample - loss: 2.3119 - acc: 0.0819 - val_loss: 2.3165 - val_acc: 0.0833\n",
            "Epoch 4/10\n",
            "4200/4200 [==============================] - 0s 89us/sample - loss: 2.3110 - acc: 0.0895 - val_loss: 2.3145 - val_acc: 0.0783\n",
            "Epoch 5/10\n",
            "4200/4200 [==============================] - 0s 97us/sample - loss: 2.3099 - acc: 0.0888 - val_loss: 2.3127 - val_acc: 0.0812\n",
            "Epoch 6/10\n",
            "4200/4200 [==============================] - 0s 89us/sample - loss: 2.3098 - acc: 0.0900 - val_loss: 2.3127 - val_acc: 0.0829\n",
            "Epoch 7/10\n",
            "4200/4200 [==============================] - 0s 89us/sample - loss: 2.3087 - acc: 0.0921 - val_loss: 2.3123 - val_acc: 0.0824\n",
            "Epoch 8/10\n",
            "4200/4200 [==============================] - 0s 89us/sample - loss: 2.3082 - acc: 0.0902 - val_loss: 2.3127 - val_acc: 0.0814\n",
            "Epoch 9/10\n",
            "4200/4200 [==============================] - 0s 85us/sample - loss: 2.3074 - acc: 0.0924 - val_loss: 2.3113 - val_acc: 0.0824\n",
            "Epoch 10/10\n",
            "4200/4200 [==============================] - 0s 88us/sample - loss: 2.3070 - acc: 0.0926 - val_loss: 2.3109 - val_acc: 0.0829\n"
          ],
          "name": "stdout"
        },
        {
          "output_type": "execute_result",
          "data": {
            "text/plain": [
              "<tensorflow.python.keras.callbacks.History at 0x7f837cba5438>"
            ]
          },
          "metadata": {
            "tags": []
          },
          "execution_count": 160
        }
      ]
    },
    {
      "cell_type": "markdown",
      "metadata": {
        "id": "IO_o1fVBJs-O",
        "colab_type": "text"
      },
      "source": [
        "With small model and reduced 10% of the dataset we are able to get 100% accuracy - which is OVERFITTING"
      ]
    },
    {
      "cell_type": "markdown",
      "metadata": {
        "id": "yXKmKgflvy4y",
        "colab_type": "text"
      },
      "source": [
        "##Step 16: Load the original dataset with all the images and prepare the data for modelling\n"
      ]
    },
    {
      "cell_type": "code",
      "metadata": {
        "id": "tuRH5CNjcnlf",
        "colab_type": "code",
        "colab": {
          "base_uri": "https://localhost:8080/",
          "height": 119
        },
        "outputId": "23aae7d2-9cac-4924-8523-3b3ff5517275"
      },
      "source": [
        "#Load the original dataset with all the images and prepare the data for modelling\t4\n",
        "X_test = f['X_test']\n",
        "X_train = f['X_train']\n",
        "X_val = f['X_val']\n",
        "y_test = f['y_test']\n",
        "y_train = f['y_train']\n",
        "y_val = f['y_val']\n",
        "X_test = np.array(X_test)\n",
        "X_test = X_test.reshape(18000,1024)\n",
        "#similarly convert required dataset to numpy array and reshape 32X32 into 1024\n",
        "X_train = np.array(X_train).reshape(42000,1024)\n",
        "#Normalize\n",
        "X_train = X_train / 255.0\n",
        "X_test = X_test / 255.0\n",
        "#one hot encoding labels\n",
        "print('Before one hot conversion :',y_train[0:5])\n",
        "y_train = tf.keras.utils.to_categorical(y_train,num_classes=10)\n",
        "y_test = tf.keras.utils.to_categorical(y_test,num_classes=10)\n",
        "print('After one hot conversion :',y_train[0:5])"
      ],
      "execution_count": 165,
      "outputs": [
        {
          "output_type": "stream",
          "text": [
            "Before one hot conversion : [2 6 7 4 4]\n",
            "After one hot conversion : [[0. 0. 1. 0. 0. 0. 0. 0. 0. 0.]\n",
            " [0. 0. 0. 0. 0. 0. 1. 0. 0. 0.]\n",
            " [0. 0. 0. 0. 0. 0. 0. 1. 0. 0.]\n",
            " [0. 0. 0. 0. 1. 0. 0. 0. 0. 0.]\n",
            " [0. 0. 0. 0. 1. 0. 0. 0. 0. 0.]]\n"
          ],
          "name": "stdout"
        }
      ]
    },
    {
      "cell_type": "markdown",
      "metadata": {
        "id": "BommiojTv6c-",
        "colab_type": "text"
      },
      "source": [
        "##Step 17: Start with a small Regularization. Keep adjusting the learning rate to check the loss. Record findings\n"
      ]
    },
    {
      "cell_type": "code",
      "metadata": {
        "id": "iL9Ue_Wlcnlh",
        "colab_type": "code",
        "colab": {
          "base_uri": "https://localhost:8080/",
          "height": 391
        },
        "outputId": "f41e4f74-8124-4bdb-e044-720be643e813"
      },
      "source": [
        "#Start with a small Regularization. Keep adjusting the learning rate to check the loss. Record findings\t4\n",
        "model5= tf.keras.models.Sequential()\n",
        "model5.add(tf.keras.layers.Dense(200,activation = 'relu'))\n",
        "model5.add(tf.keras.layers.BatchNormalization())\n",
        "model5.add(tf.keras.layers.Dense(100,activation='relu'))\n",
        "model5.add(tf.keras.layers.Dense(10,activation='softmax'))\n",
        "sgd_optimizer = tf.keras.optimizers.SGD(lr=0.5)\n",
        "model5.compile(optimizer=sgd_optimizer,loss='categorical_crossentropy',metrics=['accuracy'])\n",
        "model5.fit(X_train,y_train,epochs=10,validation_data=(X_test,y_test),batch_size=32)"
      ],
      "execution_count": 173,
      "outputs": [
        {
          "output_type": "stream",
          "text": [
            "Train on 42000 samples, validate on 18000 samples\n",
            "Epoch 1/10\n",
            "42000/42000 [==============================] - 8s 184us/sample - loss: 1.7165 - acc: 0.4050 - val_loss: 1.9906 - val_acc: 0.4037\n",
            "Epoch 2/10\n",
            "42000/42000 [==============================] - 7s 161us/sample - loss: 1.3903 - acc: 0.5483 - val_loss: 2.3490 - val_acc: 0.3471\n",
            "Epoch 3/10\n",
            "42000/42000 [==============================] - 7s 157us/sample - loss: 1.2811 - acc: 0.5901 - val_loss: 1.4437 - val_acc: 0.5204\n",
            "Epoch 4/10\n",
            "42000/42000 [==============================] - 7s 158us/sample - loss: 1.2357 - acc: 0.6097 - val_loss: 3.2726 - val_acc: 0.2388\n",
            "Epoch 5/10\n",
            "42000/42000 [==============================] - 7s 160us/sample - loss: 1.1813 - acc: 0.6293 - val_loss: 1.6166 - val_acc: 0.5287\n",
            "Epoch 6/10\n",
            "42000/42000 [==============================] - 7s 160us/sample - loss: 1.1494 - acc: 0.6407 - val_loss: 1.0619 - val_acc: 0.6658\n",
            "Epoch 7/10\n",
            "42000/42000 [==============================] - 7s 156us/sample - loss: 1.1319 - acc: 0.6500 - val_loss: 1.1522 - val_acc: 0.6382\n",
            "Epoch 8/10\n",
            "42000/42000 [==============================] - 7s 163us/sample - loss: 1.1225 - acc: 0.6520 - val_loss: 1.3836 - val_acc: 0.5747\n",
            "Epoch 9/10\n",
            "42000/42000 [==============================] - 7s 156us/sample - loss: 1.1095 - acc: 0.6569 - val_loss: 1.2890 - val_acc: 0.5807\n",
            "Epoch 10/10\n",
            "42000/42000 [==============================] - 7s 160us/sample - loss: 1.0992 - acc: 0.6591 - val_loss: 1.3076 - val_acc: 0.5823\n"
          ],
          "name": "stdout"
        },
        {
          "output_type": "execute_result",
          "data": {
            "text/plain": [
              "<tensorflow.python.keras.callbacks.History at 0x7f837c1e4278>"
            ]
          },
          "metadata": {
            "tags": []
          },
          "execution_count": 173
        }
      ]
    },
    {
      "cell_type": "markdown",
      "metadata": {
        "id": "hwTIhvP2MmS9",
        "colab_type": "text"
      },
      "source": [
        "<font color=\"red\">Learning Rate 0.001</font>\n",
        "<br>Epoch 1/10\n",
        "42000/42000 [=] - 8s 184us/sample - loss: 2.2717 - acc: 0.1758 - val_loss: 2.1247 - val_acc: 0.2543\n",
        "<br>Epoch 10/10\n",
        "42000/42000 [=] - 7s 158us/sample - loss: 1.0986 - acc: 0.6772 - val_loss: 1.0553 - val_acc: 0.6950\n",
        "<br><br><font color=\"red\">Learning Rate 0.01</font>\n",
        "<br>Epoch 1/10\n",
        "42000/42000 [=] - 8s 180us/sample - loss: 1.6713 - acc: 0.4598 - val_loss: 1.4193 - val_acc: 0.5287\n",
        "<br>Epoch 10/10\n",
        "42000/42000 [=] - 6s 152us/sample - loss: 0.9359 - acc: 0.7125 - val_loss: 1.2810 - val_acc: 0.5940\n",
        "<br><br><font color=\"red\">Learning Rate 0.05</font>\n",
        "<br>Epoch 1/10\n",
        "42000/42000 [=] - 8s 190us/sample - loss: 1.6779 - acc: 0.4472 - val_loss: 2.5653 - val_acc: 0.2830\n",
        "<br>Epoch 10/10\n",
        "42000/42000 [=] - 7s 159us/sample - loss: 1.2071 - acc: 0.6093 - val_loss: 1.1955 - val_acc: 0.6128\n",
        "<br><br><font color=\"red\">Learning Rate 0.1</font>\n",
        "<br>Epoch 1/10\n",
        "42000/42000 [=] - 8s 186us/sample - loss: 1.6702 - acc: 0.4298 - val_loss: 3.2386 - val_acc: 0.2166\n",
        "<br>Epoch 10/10\n",
        "42000/42000 [=] - 7s 162us/sample - loss: 1.2186 - acc: 0.6075 - val_loss: 1.4296 - val_acc: 0.5257\n",
        "<br><br><font color=\"red\">Learning Rate 0.3</font>\n",
        "<br>Epoch 1/10\n",
        "42000/42000 [=] - 8s 187us/sample - loss: 1.6386 - acc: 0.4402 - val_loss: 1.5808 - val_acc: 0.4878\n",
        "<br>Epoch 10/10\n",
        "42000/42000 [=] - 8s 200us/sample - loss: 0.9615 - acc: 0.7027 - val_loss: 1.2401 - val_acc: 0.6176\n"
      ]
    },
    {
      "cell_type": "code",
      "metadata": {
        "id": "iaejhOkjMRC5",
        "colab_type": "code",
        "colab": {}
      },
      "source": [
        ""
      ],
      "execution_count": 0,
      "outputs": []
    },
    {
      "cell_type": "markdown",
      "metadata": {
        "id": "5OqLCHh8wcPL",
        "colab_type": "text"
      },
      "source": [
        "##Step 18: Perform Hyperparameter Optimization"
      ]
    },
    {
      "cell_type": "code",
      "metadata": {
        "id": "i2Qc1pCYcnll",
        "colab_type": "code",
        "colab": {
          "base_uri": "https://localhost:8080/",
          "height": 391
        },
        "outputId": "cbec9b0f-9d33-4cb7-99d5-96ac2bc14a06"
      },
      "source": [
        "#Perform Hyperparameter Optimization . Record findings\t4\n",
        "#changing optimizer to Adam\n",
        "model5= tf.keras.models.Sequential()\n",
        "model5.add(tf.keras.layers.Dense(1024,activation = 'relu'))\n",
        "model5.add(tf.keras.layers.BatchNormalization())\n",
        "model5.add(tf.keras.layers.Dense(512,activation='relu'))\n",
        "model5.add(tf.keras.layers.Dense(256,activation='relu'))\n",
        "model5.add(tf.keras.layers.Dense(128,activation='relu'))\n",
        "model5.add(tf.keras.layers.Dense(10,activation='softmax'))\n",
        "adam_optimizer = tf.keras.optimizers.Adam(learning_rate=0.001, beta_1=0.9, beta_2=0.999, amsgrad=False)\n",
        "model5.compile(optimizer=adam_optimizer,loss='categorical_crossentropy',metrics=['accuracy'])\n",
        "model5.fit(X_train,y_train,epochs=10,validation_data=(X_test,y_test),batch_size=64)"
      ],
      "execution_count": 195,
      "outputs": [
        {
          "output_type": "stream",
          "text": [
            "Train on 42000 samples, validate on 18000 samples\n",
            "Epoch 1/10\n",
            "42000/42000 [==============================] - 23s 558us/sample - loss: 1.3400 - acc: 0.5550 - val_loss: 2.4633 - val_acc: 0.2915\n",
            "Epoch 2/10\n",
            "42000/42000 [==============================] - 21s 512us/sample - loss: 0.9914 - acc: 0.6861 - val_loss: 1.2912 - val_acc: 0.6069\n",
            "Epoch 3/10\n",
            "42000/42000 [==============================] - 21s 497us/sample - loss: 0.8684 - acc: 0.7258 - val_loss: 0.9554 - val_acc: 0.6959\n",
            "Epoch 4/10\n",
            "42000/42000 [==============================] - 21s 497us/sample - loss: 0.7765 - acc: 0.7547 - val_loss: 1.1173 - val_acc: 0.6419\n",
            "Epoch 5/10\n",
            "42000/42000 [==============================] - 21s 495us/sample - loss: 0.7040 - acc: 0.7793 - val_loss: 0.9174 - val_acc: 0.7161\n",
            "Epoch 6/10\n",
            "42000/42000 [==============================] - 21s 503us/sample - loss: 0.6617 - acc: 0.7902 - val_loss: 1.3836 - val_acc: 0.5947\n",
            "Epoch 7/10\n",
            "42000/42000 [==============================] - 21s 499us/sample - loss: 0.6175 - acc: 0.8062 - val_loss: 0.8851 - val_acc: 0.7204\n",
            "Epoch 8/10\n",
            "42000/42000 [==============================] - 21s 495us/sample - loss: 0.5859 - acc: 0.8129 - val_loss: 1.1193 - val_acc: 0.6583\n",
            "Epoch 9/10\n",
            "42000/42000 [==============================] - 21s 495us/sample - loss: 0.5641 - acc: 0.8182 - val_loss: 0.7018 - val_acc: 0.7799\n",
            "Epoch 10/10\n",
            "42000/42000 [==============================] - 21s 497us/sample - loss: 0.5378 - acc: 0.8287 - val_loss: 0.8199 - val_acc: 0.7449\n"
          ],
          "name": "stdout"
        },
        {
          "output_type": "execute_result",
          "data": {
            "text/plain": [
              "<tensorflow.python.keras.callbacks.History at 0x7f837a779400>"
            ]
          },
          "metadata": {
            "tags": []
          },
          "execution_count": 195
        }
      ]
    },
    {
      "cell_type": "markdown",
      "metadata": {
        "id": "EVQ5eyJzRChU",
        "colab_type": "text"
      },
      "source": [
        "Model Config:<font color=\"red\">\n",
        "BatchNormalization, Adam Optimizer with learning rate 0.001</font>\n",
        "<br>Epoch 1/10\n",
        "42000/42000 - 9s 209us/sample - loss: 1.4179 - acc: 0.5520 - val_loss: 1.5119 - val_acc: 0.5004\n",
        "<br>Epoch 10/10\n",
        "42000/42000  - 7s 178us/sample - loss: 0.7657 - acc: 0.7663 - val_loss: 1.0693 - val_acc: 0.6824\n",
        "<br>\n",
        "Model Config:\n",
        "BatchNormalization, Adam Optimizer with <font color=\"red\">learning rate 0.01</font>\n",
        "<br>\n",
        "Epoch 1/10\n",
        "42000/42000  - 10s 240us/sample - loss: 1.6192 - acc: 0.4372 - val_loss: 2.7127 - val_acc: 0.3062\n",
        "<br>Epoch 10/10\n",
        "42000/42000  - 8s 202us/sample - loss: 1.0224 - acc: 0.6829 - val_loss: 1.0512 - val_acc: 0.6731\n",
        "Model Config:\n",
        "BatchNormalization, Adam Optimizer with learning rate 0.001\n",
        "changing <font color=\"red\">batch_size from 32 to 64 </font>\n",
        "<br>Epoch 1/10\n",
        "42000/42000  - 7s 163us/sample - loss: 1.4260 - acc: 0.5518 - val_loss: 1.5168 - val_acc: 0.4904\n",
        "<br>Epoch 10/10\n",
        "42000/42000  - 5s 121us/sample - loss: 0.6674 - acc: 0.8002 - val_loss: 1.0364 - val_acc: 0.6982\n",
        "<br><br>\n",
        "Epoch 1/10\n",
        "42000/42000  - 23s 558us/sample - loss: 1.3400 - acc: 0.5550 - val_loss: 2.4633 - val_acc: 0.2915\n",
        "<br>Epoch 10/10\n",
        "42000/42000  - 21s 497us/sample - loss: 0.5378 - acc: 0.8287 - val_loss: 0.8199 - val_acc: 0.7449\n",
        "\n"
      ]
    },
    {
      "cell_type": "markdown",
      "metadata": {
        "id": "0kMSyX9hwgyf",
        "colab_type": "text"
      },
      "source": [
        "### Hyperparameter Optimization using RandomSearchCV"
      ]
    },
    {
      "cell_type": "code",
      "metadata": {
        "id": "lhMVm0jtj7qu",
        "colab_type": "code",
        "colab": {
          "base_uri": "https://localhost:8080/",
          "height": 295
        },
        "outputId": "7218e74d-086a-419a-ac49-03e879d37974"
      },
      "source": [
        "\n",
        "def create_model(optimizer='rmsprop', init='glorot_uniform'):\n",
        "    model = Sequential()\n",
        "    model.add(Dense(512, input_shape=(1024,)))\n",
        "    model.add(Activation('relu')) \n",
        "    model.add(Dropout(0.2))  \n",
        "    model.add(Dense(512,init=init))\n",
        "    model.add(Activation('relu'))\n",
        "    model.add(Dropout(0.2))\n",
        "    model.add(Dense(10,init=init))\n",
        "    model.add(Activation('softmax')) \n",
        "    model.compile(loss='binary_crossentropy', optimizer=optimizer, metrics=['accuracy']) \n",
        "    return model\n",
        "from keras.wrappers.scikit_learn import KerasClassifier\n",
        "from sklearn.model_selection import GridSearchCV,RandomizedSearchCV\n",
        "from time import time\n",
        "start= time()\n",
        "model = KerasClassifier(build_fn=create_model,verbose=1)\n",
        "n_iter_search = 16 # Number of parameter settings that are sampled.\n",
        "optimizers = ['rmsprop','sgd', 'adam']\n",
        "init = ['glorot_uniform', 'normal', 'uniform']\n",
        "epochs = np.array([10, 15])\n",
        "batches = np.array([32,64])\n",
        "param_grid = dict(optimizer=optimizers, nb_epoch=epochs, batch_size=batches, init=init)\n",
        "\n",
        "random_search = RandomizedSearchCV(estimator=model, \n",
        "                                   param_distributions=param_grid,\n",
        "                                   n_iter=n_iter_search)\n",
        "random_search.fit(X_train, y_train)\n",
        "print(\"Best: %f using %s\" % (random_search.best_score_, random_search.best_params_))\n",
        "means = random_search.cv_results_['mean_test_score']\n",
        "stds = random_search.cv_results_['std_test_score']\n",
        "params = random_search.cv_results_['params']\n",
        "print(\"total time:\",time()-start)\n",
        "for mean, stdev, param in zip(means, stds, params):\n",
        "    print(\"%f (%f) with: %r\" % (mean, stdev, param))"
      ],
      "execution_count": 1,
      "outputs": [
        {
          "output_type": "stream",
          "text": [
            "Using TensorFlow backend.\n"
          ],
          "name": "stderr"
        },
        {
          "output_type": "display_data",
          "data": {
            "text/html": [
              "<p style=\"color: red;\">\n",
              "The default version of TensorFlow in Colab will soon switch to TensorFlow 2.x.<br>\n",
              "We recommend you <a href=\"https://www.tensorflow.org/guide/migrate\" target=\"_blank\">upgrade</a> now \n",
              "or ensure your notebook will continue to use TensorFlow 1.x via the <code>%tensorflow_version 1.x</code> magic:\n",
              "<a href=\"https://colab.research.google.com/notebooks/tensorflow_version.ipynb\" target=\"_blank\">more info</a>.</p>\n"
            ],
            "text/plain": [
              "<IPython.core.display.HTML object>"
            ]
          },
          "metadata": {
            "tags": []
          }
        },
        {
          "output_type": "error",
          "ename": "NameError",
          "evalue": "ignored",
          "traceback": [
            "\u001b[0;31m---------------------------------------------------------------------------\u001b[0m",
            "\u001b[0;31mNameError\u001b[0m                                 Traceback (most recent call last)",
            "\u001b[0;32m<ipython-input-1-a5f0062566a2>\u001b[0m in \u001b[0;36m<module>\u001b[0;34m()\u001b[0m\n\u001b[1;32m     20\u001b[0m \u001b[0moptimizers\u001b[0m \u001b[0;34m=\u001b[0m \u001b[0;34m[\u001b[0m\u001b[0;34m'rmsprop'\u001b[0m\u001b[0;34m,\u001b[0m\u001b[0;34m'sgd'\u001b[0m\u001b[0;34m,\u001b[0m \u001b[0;34m'adam'\u001b[0m\u001b[0;34m]\u001b[0m\u001b[0;34m\u001b[0m\u001b[0;34m\u001b[0m\u001b[0m\n\u001b[1;32m     21\u001b[0m \u001b[0minit\u001b[0m \u001b[0;34m=\u001b[0m \u001b[0;34m[\u001b[0m\u001b[0;34m'glorot_uniform'\u001b[0m\u001b[0;34m,\u001b[0m \u001b[0;34m'normal'\u001b[0m\u001b[0;34m,\u001b[0m \u001b[0;34m'uniform'\u001b[0m\u001b[0;34m]\u001b[0m\u001b[0;34m\u001b[0m\u001b[0;34m\u001b[0m\u001b[0m\n\u001b[0;32m---> 22\u001b[0;31m \u001b[0mepochs\u001b[0m \u001b[0;34m=\u001b[0m \u001b[0mnp\u001b[0m\u001b[0;34m.\u001b[0m\u001b[0marray\u001b[0m\u001b[0;34m(\u001b[0m\u001b[0;34m[\u001b[0m\u001b[0;36m10\u001b[0m\u001b[0;34m,\u001b[0m \u001b[0;36m15\u001b[0m\u001b[0;34m]\u001b[0m\u001b[0;34m)\u001b[0m\u001b[0;34m\u001b[0m\u001b[0;34m\u001b[0m\u001b[0m\n\u001b[0m\u001b[1;32m     23\u001b[0m \u001b[0mbatches\u001b[0m \u001b[0;34m=\u001b[0m \u001b[0mnp\u001b[0m\u001b[0;34m.\u001b[0m\u001b[0marray\u001b[0m\u001b[0;34m(\u001b[0m\u001b[0;34m[\u001b[0m\u001b[0;36m32\u001b[0m\u001b[0;34m,\u001b[0m\u001b[0;36m64\u001b[0m\u001b[0;34m]\u001b[0m\u001b[0;34m)\u001b[0m\u001b[0;34m\u001b[0m\u001b[0;34m\u001b[0m\u001b[0m\n\u001b[1;32m     24\u001b[0m \u001b[0mparam_grid\u001b[0m \u001b[0;34m=\u001b[0m \u001b[0mdict\u001b[0m\u001b[0;34m(\u001b[0m\u001b[0moptimizer\u001b[0m\u001b[0;34m=\u001b[0m\u001b[0moptimizers\u001b[0m\u001b[0;34m,\u001b[0m \u001b[0mnb_epoch\u001b[0m\u001b[0;34m=\u001b[0m\u001b[0mepochs\u001b[0m\u001b[0;34m,\u001b[0m \u001b[0mbatch_size\u001b[0m\u001b[0;34m=\u001b[0m\u001b[0mbatches\u001b[0m\u001b[0;34m,\u001b[0m \u001b[0minit\u001b[0m\u001b[0;34m=\u001b[0m\u001b[0minit\u001b[0m\u001b[0;34m)\u001b[0m\u001b[0;34m\u001b[0m\u001b[0;34m\u001b[0m\u001b[0m\n",
            "\u001b[0;31mNameError\u001b[0m: name 'np' is not defined"
          ]
        }
      ]
    },
    {
      "cell_type": "markdown",
      "metadata": {
        "id": "hbG61Canw-Ml",
        "colab_type": "text"
      },
      "source": [
        "##Step 19: Best hyperparameters found in the previous step (Step 18)"
      ]
    },
    {
      "cell_type": "code",
      "metadata": {
        "id": "neRMHs2_cnls",
        "colab_type": "code",
        "colab": {}
      },
      "source": [
        "#Set the best hyperparameters found in the previous step. Check the Network’s accuracy.\t7"
      ],
      "execution_count": 0,
      "outputs": []
    }
  ]
}