{
  "nbformat": 4,
  "nbformat_minor": 0,
  "metadata": {
    "kernelspec": {
      "name": "python3",
      "display_name": "Python 3"
    },
    "language_info": {
      "codemirror_mode": {
        "name": "ipython",
        "version": 3
      },
      "file_extension": ".py",
      "mimetype": "text/x-python",
      "name": "python",
      "nbconvert_exporter": "python",
      "pygments_lexer": "ipython3",
      "version": "3.7.3"
    },
    "colab": {
      "name": "Project-Digital-Classification-SVHN-Thiru.ipynb",
      "provenance": [],
      "collapsed_sections": [],
      "machine_shape": "hm",
      "include_colab_link": true
    },
    "accelerator": "TPU"
  },
  "cells": [
    {
      "cell_type": "markdown",
      "metadata": {
        "id": "view-in-github",
        "colab_type": "text"
      },
      "source": [
        "<a href=\"https://colab.research.google.com/github/jpthirumalai/aiml/blob/master/Project_Digital_Classification_SVHN_Thiru.ipynb\" target=\"_parent\"><img src=\"https://colab.research.google.com/assets/colab-badge.svg\" alt=\"Open In Colab\"/></a>"
      ]
    },
    {
      "cell_type": "code",
      "metadata": {
        "id": "wfajwoeBcnke",
        "colab_type": "code",
        "outputId": "a8b28764-75a9-4a38-8fc8-62f350603292",
        "colab": {
          "base_uri": "https://localhost:8080/",
          "height": 34
        }
      },
      "source": [
        "from google.colab import drive\n",
        "drive.mount('/content/drive')"
      ],
      "execution_count": 1,
      "outputs": [
        {
          "output_type": "stream",
          "text": [
            "Drive already mounted at /content/drive; to attempt to forcibly remount, call drive.mount(\"/content/drive\", force_remount=True).\n"
          ],
          "name": "stdout"
        }
      ]
    },
    {
      "cell_type": "code",
      "metadata": {
        "id": "LYoOHQYiiJYw",
        "colab_type": "code",
        "colab": {}
      },
      "source": [
        "projfolder = '/content/drive/My Drive/AIML/AI/NNProject/'"
      ],
      "execution_count": 0,
      "outputs": []
    },
    {
      "cell_type": "code",
      "metadata": {
        "id": "MlV2rWPhcnki",
        "colab_type": "code",
        "outputId": "c0fd0ee1-48a8-4960-d912-3c6ac30be105",
        "colab": {
          "base_uri": "https://localhost:8080/",
          "height": 63
        }
      },
      "source": [
        "import tensorflow.compat.v1 as tf\n",
        "#tf.reset_default_graph()\n",
        "#tf.compat.v1.disable_eager_execution()\n",
        "import h5py\n",
        "file=projfolder+'SVHN_single_grey1.h5'\n",
        "f= h5py.File(file,'r')"
      ],
      "execution_count": 3,
      "outputs": [
        {
          "output_type": "display_data",
          "data": {
            "text/html": [
              "<p style=\"color: red;\">\n",
              "The default version of TensorFlow in Colab will soon switch to TensorFlow 2.x.<br>\n",
              "We recommend you <a href=\"https://www.tensorflow.org/guide/migrate\" target=\"_blank\">upgrade</a> now \n",
              "or ensure your notebook will continue to use TensorFlow 1.x via the <code>%tensorflow_version 1.x</code> magic:\n",
              "<a href=\"https://colab.research.google.com/notebooks/tensorflow_version.ipynb\" target=\"_blank\">more info</a>.</p>\n"
            ],
            "text/plain": [
              "<IPython.core.display.HTML object>"
            ]
          },
          "metadata": {
            "tags": []
          }
        }
      ]
    },
    {
      "cell_type": "markdown",
      "metadata": {
        "id": "BWoGQa4GtxBl",
        "colab_type": "text"
      },
      "source": [
        "##Step 1: Load Train and Test data from .h5 file"
      ]
    },
    {
      "cell_type": "code",
      "metadata": {
        "id": "MGKxUcpjcnkl",
        "colab_type": "code",
        "outputId": "fd50df74-0bc1-4db8-8c92-68f2690ef860",
        "colab": {
          "base_uri": "https://localhost:8080/",
          "height": 34
        }
      },
      "source": [
        "#Load the X_train, X_test, Y_train, Y_test, X_val and Y_val datasets from the h5py file\t2\n",
        "list(f.keys())\n"
      ],
      "execution_count": 4,
      "outputs": [
        {
          "output_type": "execute_result",
          "data": {
            "text/plain": [
              "['X_test', 'X_train', 'X_val', 'y_test', 'y_train', 'y_val']"
            ]
          },
          "metadata": {
            "tags": []
          },
          "execution_count": 4
        }
      ]
    },
    {
      "cell_type": "code",
      "metadata": {
        "id": "qX0wr1sIwqTP",
        "colab_type": "code",
        "outputId": "3cfd69a4-4849-4234-c1fc-bf2345041a59",
        "colab": {
          "base_uri": "https://localhost:8080/",
          "height": 119
        }
      },
      "source": [
        "for key in list(f.keys()):\n",
        "  print('Shape of '+key+':'+str(f[key].shape))"
      ],
      "execution_count": 5,
      "outputs": [
        {
          "output_type": "stream",
          "text": [
            "Shape of X_test:(18000, 32, 32)\n",
            "Shape of X_train:(42000, 32, 32)\n",
            "Shape of X_val:(60000, 32, 32)\n",
            "Shape of y_test:(18000,)\n",
            "Shape of y_train:(42000,)\n",
            "Shape of y_val:(60000,)\n"
          ],
          "name": "stdout"
        }
      ]
    },
    {
      "cell_type": "code",
      "metadata": {
        "id": "UxKK6TwvzJcp",
        "colab_type": "code",
        "colab": {}
      },
      "source": [
        "X_test = f['X_test']\n",
        "X_train = f['X_train']\n",
        "X_val = f['X_val']\n",
        "y_test = f['y_test']\n",
        "y_train = f['y_train']\n",
        "y_train_no_1hot = y_train\n",
        "y_val = f['y_val']"
      ],
      "execution_count": 0,
      "outputs": []
    },
    {
      "cell_type": "markdown",
      "metadata": {
        "id": "05F3bRkJt-VX",
        "colab_type": "text"
      },
      "source": [
        "## Step 2: Flatten the images for Keras"
      ]
    },
    {
      "cell_type": "code",
      "metadata": {
        "id": "79D6mV2Nlnzj",
        "colab_type": "code",
        "colab": {
          "base_uri": "https://localhost:8080/",
          "height": 68
        },
        "outputId": "0b56ae05-b420-4b9c-a8a7-d3abc385bf86"
      },
      "source": [
        "import matplotlib.pyplot as plt\n",
        "import numpy as np\n",
        "# through thies error AttributeError: 'Dataset' object has no attribute 'reshape', need to convert to numpy array\n",
        "X_test = np.array(X_test)\n",
        "print('before converting',X_test.shape)\n",
        "X_test = X_test.reshape(18000,1024)\n",
        "print('after converting Test Size',X_test.shape)\n",
        "#similarly convert required dataset to numpy array and reshape 32X32 into 1024\n",
        "X_train = np.array(X_train).reshape(42000,1024)\n",
        "\n",
        "print('after converting Train Size',X_train.shape)"
      ],
      "execution_count": 7,
      "outputs": [
        {
          "output_type": "stream",
          "text": [
            "before converting (18000, 32, 32)\n",
            "after converting Test Size (18000, 1024)\n",
            "after converting Train Size (42000, 1024)\n"
          ],
          "name": "stdout"
        }
      ]
    },
    {
      "cell_type": "markdown",
      "metadata": {
        "id": "Teh5EKALuFTw",
        "colab_type": "text"
      },
      "source": [
        "### Verifying the image"
      ]
    },
    {
      "cell_type": "code",
      "metadata": {
        "id": "YYF2yjE_cnkp",
        "colab_type": "code",
        "outputId": "6b66ea7d-7b88-4728-8630-5e51405a5860",
        "colab": {
          "base_uri": "https://localhost:8080/",
          "height": 283
        }
      },
      "source": [
        "\n",
        "# testing the image in the index 105\n",
        "print('Label: ', X_train[105])\n",
        "plt.imshow(X_train[105].reshape(32,32), cmap=plt.cm.bone);"
      ],
      "execution_count": 8,
      "outputs": [
        {
          "output_type": "stream",
          "text": [
            "Label:  [143.1893 141.7164 129.8146 ...  67.7635  68.3613  73.3608]\n"
          ],
          "name": "stdout"
        },
        {
          "output_type": "display_data",
          "data": {
            "image/png": "[encoded data removed]",
            "text/plain": [
              "<Figure size 432x288 with 1 Axes>"
            ]
          },
          "metadata": {
            "tags": []
          }
        }
      ]
    },
    {
      "cell_type": "code",
      "metadata": {
        "id": "XooLW_JOcnkt",
        "colab_type": "code",
        "outputId": "394f4929-80d5-43bb-cbc3-9d2e30472e79",
        "colab": {
          "base_uri": "https://localhost:8080/",
          "height": 34
        }
      },
      "source": [
        "#printing the value in y_train same index number 105\n",
        "print('Label at 10 : ', y_train[105])"
      ],
      "execution_count": 9,
      "outputs": [
        {
          "output_type": "stream",
          "text": [
            "Label at 10 :  8\n"
          ],
          "name": "stdout"
        }
      ]
    },
    {
      "cell_type": "markdown",
      "metadata": {
        "id": "n7Me-h8QuNQI",
        "colab_type": "text"
      },
      "source": [
        "## Step 3: Normalize the inputs from 0 to 1"
      ]
    },
    {
      "cell_type": "code",
      "metadata": {
        "id": "HSNYyFnTcnk0",
        "colab_type": "code",
        "colab": {
          "base_uri": "https://localhost:8080/",
          "height": 68
        },
        "outputId": "a54cb3fc-41a7-42c6-efd6-ecb86dae39b3"
      },
      "source": [
        "#Normalize the inputs for X_train, X_test and X_val\t1\n",
        "X_train[0:2]"
      ],
      "execution_count": 10,
      "outputs": [
        {
          "output_type": "execute_result",
          "data": {
            "text/plain": [
              "array([[33.0704, 30.2601, 26.852 , ..., 49.6682, 50.853 , 53.0377],\n",
              "       [86.9591, 87.0685, 88.3735, ..., 75.2206, 76.6396, 79.2865]],\n",
              "      dtype=float32)"
            ]
          },
          "metadata": {
            "tags": []
          },
          "execution_count": 10
        }
      ]
    },
    {
      "cell_type": "code",
      "metadata": {
        "id": "9gDwQVxtrRuH",
        "colab_type": "code",
        "colab": {
          "base_uri": "https://localhost:8080/",
          "height": 85
        },
        "outputId": "5784ee3b-a48e-4bef-de19-f2628891bf2b"
      },
      "source": [
        "# # normalize inputs from 0-255 to 0-1\n",
        "X_train = X_train / 255.0\n",
        "X_test = X_test / 255.0\n",
        "X_train[0:2]"
      ],
      "execution_count": 11,
      "outputs": [
        {
          "output_type": "execute_result",
          "data": {
            "text/plain": [
              "array([[0.12968785, 0.11866706, 0.10530196, ..., 0.19477727, 0.19942354,\n",
              "        0.20799099],\n",
              "       [0.34101608, 0.3414451 , 0.34656274, ..., 0.29498273, 0.30054745,\n",
              "        0.31092745]], dtype=float32)"
            ]
          },
          "metadata": {
            "tags": []
          },
          "execution_count": 11
        }
      ]
    },
    {
      "cell_type": "markdown",
      "metadata": {
        "id": "9ouVw_zAuche",
        "colab_type": "text"
      },
      "source": [
        "##Step 4: Conert the class matrices / Label into one hot vectors"
      ]
    },
    {
      "cell_type": "code",
      "metadata": {
        "id": "0Fo5GeMhcnk3",
        "colab_type": "code",
        "colab": {
          "base_uri": "https://localhost:8080/",
          "height": 119
        },
        "outputId": "e750fded-479a-47bb-b7eb-2916a824c3fc"
      },
      "source": [
        "#Convert the class matrices Y_train, Y_test and Y_val into one hot vectors\t1\n",
        "print('Before one hot conversion :',y_train[0:5])\n",
        "y_train = tf.keras.utils.to_categorical(y_train,num_classes=10)\n",
        "y_test = tf.keras.utils.to_categorical(y_test,num_classes=10)\n",
        "print('After one hot conversion :',y_train[0:5])"
      ],
      "execution_count": 12,
      "outputs": [
        {
          "output_type": "stream",
          "text": [
            "Before one hot conversion : [2 6 7 4 4]\n",
            "After one hot conversion : [[0. 0. 1. 0. 0. 0. 0. 0. 0. 0.]\n",
            " [0. 0. 0. 0. 0. 0. 1. 0. 0. 0.]\n",
            " [0. 0. 0. 0. 0. 0. 0. 1. 0. 0.]\n",
            " [0. 0. 0. 0. 1. 0. 0. 0. 0. 0.]\n",
            " [0. 0. 0. 0. 1. 0. 0. 0. 0. 0.]]\n"
          ],
          "name": "stdout"
        }
      ]
    },
    {
      "cell_type": "markdown",
      "metadata": {
        "id": "7piwPItaumEV",
        "colab_type": "text"
      },
      "source": [
        "## Step 5: Print train and Test val shapes"
      ]
    },
    {
      "cell_type": "code",
      "metadata": {
        "id": "Q8YyZbJ1cnk7",
        "colab_type": "code",
        "colab": {
          "base_uri": "https://localhost:8080/",
          "height": 34
        },
        "outputId": "ed3c37d3-bbf9-4728-da0e-7dbf7559fb23"
      },
      "source": [
        "#Print the train, test and val shapes\t2\n",
        "print('Shape of Training set Train:', X_train.shape, 'Test:', X_test.shape )"
      ],
      "execution_count": 13,
      "outputs": [
        {
          "output_type": "stream",
          "text": [
            "Shape of Training set Train: (42000, 1024) Test: (18000, 1024)\n"
          ],
          "name": "stdout"
        }
      ]
    },
    {
      "cell_type": "markdown",
      "metadata": {
        "id": "bkCDublEurWJ",
        "colab_type": "text"
      },
      "source": [
        "##Step 6: Visualize the first 10 images in X_train and the corresponding Y_train labels"
      ]
    },
    {
      "cell_type": "code",
      "metadata": {
        "id": "T9UQXZwtcnk_",
        "colab_type": "code",
        "colab": {
          "base_uri": "https://localhost:8080/",
          "height": 73
        },
        "outputId": "ec59cf45-060e-4a66-cc22-cd729838d008"
      },
      "source": [
        "#Visualize the first 10 images in X_train and the corresponding Y_train labels\t2\n",
        "#plt.figure(figsize=(10, 1))\n",
        "for i in range(10):\n",
        "    plt.subplot(1,10,i+1)\n",
        "    plt.xticks([])\n",
        "    plt.yticks([])\n",
        "    plt.grid(False)\n",
        "    plt.imshow(X_train[i].reshape(32,32), cmap=plt.cm.binary)\n",
        "    plt.xlabel(y_train_no_1hot[i])\n",
        "plt.show()"
      ],
      "execution_count": 14,
      "outputs": [
        {
          "output_type": "display_data",
          "data": {
            "image/png": "[encoded data removed]",
            "text/plain": [
              "<Figure size 432x288 with 10 Axes>"
            ]
          },
          "metadata": {
            "tags": []
          }
        }
      ]
    },
    {
      "cell_type": "code",
      "metadata": {
        "id": "LapoqwB3tuCm",
        "colab_type": "code",
        "colab": {
          "base_uri": "https://localhost:8080/",
          "height": 187
        },
        "outputId": "a7bad2e6-27e5-48a5-f3f1-bf7341f15f85"
      },
      "source": [
        "print(y_train[0:10])"
      ],
      "execution_count": 15,
      "outputs": [
        {
          "output_type": "stream",
          "text": [
            "[[0. 0. 1. 0. 0. 0. 0. 0. 0. 0.]\n",
            " [0. 0. 0. 0. 0. 0. 1. 0. 0. 0.]\n",
            " [0. 0. 0. 0. 0. 0. 0. 1. 0. 0.]\n",
            " [0. 0. 0. 0. 1. 0. 0. 0. 0. 0.]\n",
            " [0. 0. 0. 0. 1. 0. 0. 0. 0. 0.]\n",
            " [1. 0. 0. 0. 0. 0. 0. 0. 0. 0.]\n",
            " [0. 0. 0. 1. 0. 0. 0. 0. 0. 0.]\n",
            " [1. 0. 0. 0. 0. 0. 0. 0. 0. 0.]\n",
            " [0. 0. 0. 0. 0. 0. 0. 1. 0. 0.]\n",
            " [0. 0. 0. 1. 0. 0. 0. 0. 0. 0.]]\n"
          ],
          "name": "stdout"
        }
      ]
    },
    {
      "cell_type": "markdown",
      "metadata": {
        "id": "egr0w6BUuyh8",
        "colab_type": "text"
      },
      "source": [
        "##Step 7: In the train and test loop, define the hyperparameters for the model"
      ]
    },
    {
      "cell_type": "code",
      "metadata": {
        "id": "NQG9K5CPcnlC",
        "colab_type": "code",
        "colab": {}
      },
      "source": [
        "#In the train and test loop, define the hyperparameters for the model\t4\n",
        "learning_rate = 0.001\n",
        "activation = 'relu'\n",
        "optimizer='sgd'\n",
        "loss='categorical_crossentropy'\n",
        "epochs=10\n",
        "learning_rate = 0.1\n",
        "decay_rate = learning_rate / epochs\n",
        "momentum = 0.8"
      ],
      "execution_count": 0,
      "outputs": []
    },
    {
      "cell_type": "markdown",
      "metadata": {
        "id": "kqYQ2_vZu4xN",
        "colab_type": "text"
      },
      "source": [
        "##Step 8: Create a Sequential model in Keras"
      ]
    },
    {
      "cell_type": "code",
      "metadata": {
        "id": "3_OmPeLicnlF",
        "colab_type": "code",
        "colab": {
          "base_uri": "https://localhost:8080/",
          "height": 88
        },
        "outputId": "14431d99-34e3-4adb-f4a9-ed99bc5f5da5"
      },
      "source": [
        "#Create a Sequential model in Keras with input layer with the correct input shape, Hidden Layers, Output Layers and the activation functions\t8\n",
        "#Initialize sequential model\n",
        "model = tf.keras.models.Sequential()\n",
        "#Reshape data from 2D to 1D ->28*28 to 784\n",
        "model.add(tf.keras.layers.Reshape((1024,),input_shape=(1024,)))\n",
        "#Add Dense layer which provides 10 outputs after applying softmax\n",
        "model.add(tf.keras.layers.Dense(100,activation = 'relu'))\n",
        "model.add(tf.keras.layers.Dense(100,activation='relu'))\n",
        "model.add(tf.keras.layers.Dense(100,activation='relu'))\n",
        "model.add(tf.keras.layers.Dense(10,activation='relu'))\n",
        "model.add(tf.keras.layers.Dense(10,activation='softmax'))"
      ],
      "execution_count": 17,
      "outputs": [
        {
          "output_type": "stream",
          "text": [
            "WARNING:tensorflow:From /usr/local/lib/python3.6/dist-packages/tensorflow_core/python/ops/resource_variable_ops.py:1630: calling BaseResourceVariable.__init__ (from tensorflow.python.ops.resource_variable_ops) with constraint is deprecated and will be removed in a future version.\n",
            "Instructions for updating:\n",
            "If using Keras pass *_constraint arguments to layers.\n"
          ],
          "name": "stdout"
        }
      ]
    },
    {
      "cell_type": "markdown",
      "metadata": {
        "id": "QL9nMti5u9RO",
        "colab_type": "text"
      },
      "source": [
        "##Step 9: Define the optimizer to be used in this model"
      ]
    },
    {
      "cell_type": "code",
      "metadata": {
        "id": "9N6rv_kzcnlI",
        "colab_type": "code",
        "colab": {}
      },
      "source": [
        "#Define the optimizer to be used in this model\t2\n",
        "sgd_optimizer = tf.keras.optimizers.SGD(lr=learning_rate)"
      ],
      "execution_count": 0,
      "outputs": []
    },
    {
      "cell_type": "markdown",
      "metadata": {
        "id": "hkF1jsunvCLc",
        "colab_type": "text"
      },
      "source": [
        "##Step 10: Compile the model with the corresponding Loss and metrics to monitor"
      ]
    },
    {
      "cell_type": "code",
      "metadata": {
        "id": "P5nBeS03cnlM",
        "colab_type": "code",
        "colab": {}
      },
      "source": [
        "#Compile the model with the corresponding Loss and metrics to monitor\t2\n",
        "model.compile(optimizer=sgd_optimizer,loss='categorical_crossentropy',metrics=['accuracy'])"
      ],
      "execution_count": 0,
      "outputs": []
    },
    {
      "cell_type": "markdown",
      "metadata": {
        "id": "DKU1x9bSvHjY",
        "colab_type": "text"
      },
      "source": [
        "##Step 12: Fit the model and use model.Evaluate to return the score"
      ]
    },
    {
      "cell_type": "code",
      "metadata": {
        "id": "wwsb3BiVcnlT",
        "colab_type": "code",
        "colab": {
          "base_uri": "https://localhost:8080/",
          "height": 391
        },
        "outputId": "67c46c1e-251f-4831-b855-c43c563e18a7"
      },
      "source": [
        "#Fit the model and use model.evaluate() to return the score\t1\n",
        "model.fit(X_train,y_train,epochs=10,validation_data=(X_test,y_test),batch_size=32)"
      ],
      "execution_count": 20,
      "outputs": [
        {
          "output_type": "stream",
          "text": [
            "Train on 42000 samples, validate on 18000 samples\n",
            "Epoch 1/10\n",
            "42000/42000 [==============================] - 3s 75us/sample - loss: 2.3036 - acc: 0.0995 - val_loss: 2.3032 - val_acc: 0.0949\n",
            "Epoch 2/10\n",
            "42000/42000 [==============================] - 3s 71us/sample - loss: 2.2194 - acc: 0.1525 - val_loss: 1.9344 - val_acc: 0.2842\n",
            "Epoch 3/10\n",
            "42000/42000 [==============================] - 3s 70us/sample - loss: 1.8278 - acc: 0.3460 - val_loss: 1.7263 - val_acc: 0.3781\n",
            "Epoch 4/10\n",
            "42000/42000 [==============================] - 3s 69us/sample - loss: 1.5306 - acc: 0.4760 - val_loss: 1.4816 - val_acc: 0.4936\n",
            "Epoch 5/10\n",
            "42000/42000 [==============================] - 3s 71us/sample - loss: 1.3585 - acc: 0.5474 - val_loss: 1.3816 - val_acc: 0.5359\n",
            "Epoch 6/10\n",
            "42000/42000 [==============================] - 3s 70us/sample - loss: 1.2409 - acc: 0.5945 - val_loss: 1.3889 - val_acc: 0.5518\n",
            "Epoch 7/10\n",
            "42000/42000 [==============================] - 3s 71us/sample - loss: 1.1547 - acc: 0.6298 - val_loss: 1.3390 - val_acc: 0.5633\n",
            "Epoch 8/10\n",
            "42000/42000 [==============================] - 3s 71us/sample - loss: 1.0936 - acc: 0.6515 - val_loss: 1.1899 - val_acc: 0.6233\n",
            "Epoch 9/10\n",
            "42000/42000 [==============================] - 3s 70us/sample - loss: 1.0332 - acc: 0.6732 - val_loss: 0.9910 - val_acc: 0.6866\n",
            "Epoch 10/10\n",
            "42000/42000 [==============================] - 3s 69us/sample - loss: 0.9847 - acc: 0.6873 - val_loss: 0.9828 - val_acc: 0.6863\n"
          ],
          "name": "stdout"
        },
        {
          "output_type": "execute_result",
          "data": {
            "text/plain": [
              "<tensorflow.python.keras.callbacks.History at 0x7fb5909d5588>"
            ]
          },
          "metadata": {
            "tags": []
          },
          "execution_count": 20
        }
      ]
    },
    {
      "cell_type": "code",
      "metadata": {
        "id": "tX8dfY4kx_ji",
        "colab_type": "code",
        "colab": {
          "base_uri": "https://localhost:8080/",
          "height": 357
        },
        "outputId": "dab46647-a03a-43aa-f640-810c2f03c140"
      },
      "source": [
        "model.summary()"
      ],
      "execution_count": 21,
      "outputs": [
        {
          "output_type": "stream",
          "text": [
            "Model: \"sequential\"\n",
            "_________________________________________________________________\n",
            "Layer (type)                 Output Shape              Param #   \n",
            "=================================================================\n",
            "reshape (Reshape)            (None, 1024)              0         \n",
            "_________________________________________________________________\n",
            "dense (Dense)                (None, 100)               102500    \n",
            "_________________________________________________________________\n",
            "dense_1 (Dense)              (None, 100)               10100     \n",
            "_________________________________________________________________\n",
            "dense_2 (Dense)              (None, 100)               10100     \n",
            "_________________________________________________________________\n",
            "dense_3 (Dense)              (None, 10)                1010      \n",
            "_________________________________________________________________\n",
            "dense_4 (Dense)              (None, 10)                110       \n",
            "=================================================================\n",
            "Total params: 123,820\n",
            "Trainable params: 123,820\n",
            "Non-trainable params: 0\n",
            "_________________________________________________________________\n"
          ],
          "name": "stdout"
        }
      ]
    },
    {
      "cell_type": "code",
      "metadata": {
        "id": "pgZS6aKWvTm7",
        "colab_type": "code",
        "colab": {
          "base_uri": "https://localhost:8080/",
          "height": 51
        },
        "outputId": "28175de0-9e8f-4d29-a26e-ea3f0ff72dd1"
      },
      "source": [
        "score = model.evaluate(X_test, y_test, batch_size=16)\n",
        "print(score)"
      ],
      "execution_count": 22,
      "outputs": [
        {
          "output_type": "stream",
          "text": [
            "18000/18000 [==============================] - 1s 43us/sample - loss: 0.9828 - acc: 0.6863\n",
            "[0.9828491798904208, 0.6862778]\n"
          ],
          "name": "stdout"
        }
      ]
    },
    {
      "cell_type": "markdown",
      "metadata": {
        "id": "0jhhmdlKvZ9Y",
        "colab_type": "text"
      },
      "source": [
        "#Step 13: Disable Regularization by setting appropriate value for Lambda and check the loss of the NN"
      ]
    },
    {
      "cell_type": "code",
      "metadata": {
        "id": "Dl8eLcbFcnlW",
        "colab_type": "code",
        "colab": {
          "base_uri": "https://localhost:8080/",
          "height": 408
        },
        "outputId": "b18254e0-7e83-458c-ae1c-e2c1cbfdd24f"
      },
      "source": [
        "#Disable Regularization by setting appropriate value for Lambda and check the loss of the NN\t2\n",
        "#Normalize the data\n",
        "# example of l2 on a dense layer\n",
        "from keras.layers import Dense\n",
        "from keras.regularizers import l2\n",
        "\n",
        "model2 = tf.keras.models.Sequential()\n",
        "model2.add(tf.keras.layers.Dense(200,activation = 'relu'))\n",
        "model2.add(tf.keras.layers.Dense(200, kernel_regularizer=l2(0.01), bias_regularizer=l2(0.01)))\n",
        "model2.add(tf.keras.layers.Dense(100,activation = 'relu'))\n",
        "model2.add(tf.keras.layers.Dense(10,activation='softmax'))\n",
        "model2.compile(optimizer=sgd_optimizer,loss='categorical_crossentropy',metrics=['accuracy'])\n",
        "model2.fit(X_train,y_train,epochs=10,validation_data=(X_test,y_test),batch_size=32)"
      ],
      "execution_count": 23,
      "outputs": [
        {
          "output_type": "stream",
          "text": [
            "Using TensorFlow backend.\n"
          ],
          "name": "stderr"
        },
        {
          "output_type": "stream",
          "text": [
            "Train on 42000 samples, validate on 18000 samples\n",
            "Epoch 1/10\n",
            "42000/42000 [==============================] - 4s 87us/sample - loss: 2.4654 - acc: 0.2491 - val_loss: 1.8804 - val_acc: 0.3772\n",
            "Epoch 2/10\n",
            "42000/42000 [==============================] - 3s 83us/sample - loss: 1.6684 - acc: 0.4622 - val_loss: 1.4779 - val_acc: 0.5076\n",
            "Epoch 3/10\n",
            "42000/42000 [==============================] - 4s 84us/sample - loss: 1.4707 - acc: 0.5459 - val_loss: 1.3682 - val_acc: 0.6009\n",
            "Epoch 4/10\n",
            "42000/42000 [==============================] - 4s 84us/sample - loss: 1.3441 - acc: 0.5920 - val_loss: 1.4708 - val_acc: 0.5552\n",
            "Epoch 5/10\n",
            "42000/42000 [==============================] - 3s 83us/sample - loss: 1.2686 - acc: 0.6198 - val_loss: 1.2704 - val_acc: 0.6229\n",
            "Epoch 6/10\n",
            "42000/42000 [==============================] - 4s 83us/sample - loss: 1.2362 - acc: 0.6346 - val_loss: 1.1278 - val_acc: 0.6712\n",
            "Epoch 7/10\n",
            "42000/42000 [==============================] - 4s 84us/sample - loss: 1.1925 - acc: 0.6500 - val_loss: 1.2380 - val_acc: 0.6440\n",
            "Epoch 8/10\n",
            "42000/42000 [==============================] - 4s 84us/sample - loss: 1.1589 - acc: 0.6610 - val_loss: 1.1623 - val_acc: 0.6630\n",
            "Epoch 9/10\n",
            "42000/42000 [==============================] - 4s 85us/sample - loss: 1.1434 - acc: 0.6683 - val_loss: 1.2115 - val_acc: 0.6522\n",
            "Epoch 10/10\n",
            "42000/42000 [==============================] - 4s 85us/sample - loss: 1.1176 - acc: 0.6747 - val_loss: 1.2062 - val_acc: 0.6519\n"
          ],
          "name": "stdout"
        },
        {
          "output_type": "execute_result",
          "data": {
            "text/plain": [
              "<tensorflow.python.keras.callbacks.History at 0x7fb55037e9e8>"
            ]
          },
          "metadata": {
            "tags": []
          },
          "execution_count": 23
        }
      ]
    },
    {
      "cell_type": "code",
      "metadata": {
        "id": "rmOQNkKk72jT",
        "colab_type": "code",
        "colab": {}
      },
      "source": [
        "#Seeing the accuracy increases from 13% to 65% - try increasing the epochs and see it the max accuracy\n",
        "#model2.fit(X_train,y_train,epochs=20,validation_data=(X_test,y_test),batch_size=32)"
      ],
      "execution_count": 0,
      "outputs": []
    },
    {
      "cell_type": "markdown",
      "metadata": {
        "id": "O50yU0xDvj0R",
        "colab_type": "text"
      },
      "source": [
        "##Step 14: Increase the Regularization parameter (Lambda) and check how the loss is for the NN. Record findings"
      ]
    },
    {
      "cell_type": "code",
      "metadata": {
        "id": "c3zB6S9jcnlZ",
        "colab_type": "code",
        "colab": {
          "base_uri": "https://localhost:8080/",
          "height": 391
        },
        "outputId": "6f10f128-5505-43f8-ae47-7d23c4ca60aa"
      },
      "source": [
        "#Increase the Regularization parameter (Lambda) and check how the loss is for the NN. Record findings\t2\n",
        "model3 = tf.keras.models.Sequential()\n",
        "model3.add(tf.keras.layers.Dense(200,activation = 'relu'))\n",
        "model3.add(tf.keras.layers.Dense(200, kernel_regularizer=l2(0.1), bias_regularizer=l2(0.1)))\n",
        "model3.add(tf.keras.layers.Dense(100,activation = 'relu'))\n",
        "model3.add(tf.keras.layers.Dense(10,activation='softmax'))\n",
        "model3.compile(optimizer=sgd_optimizer,loss='categorical_crossentropy',metrics=['accuracy'])\n",
        "model3.fit(X_train,y_train,epochs=10,validation_data=(X_test,y_test),batch_size=32)"
      ],
      "execution_count": 25,
      "outputs": [
        {
          "output_type": "stream",
          "text": [
            "Train on 42000 samples, validate on 18000 samples\n",
            "Epoch 1/10\n",
            "42000/42000 [==============================] - 4s 86us/sample - loss: 2.6628 - acc: 0.1366 - val_loss: 2.2796 - val_acc: 0.1935\n",
            "Epoch 2/10\n",
            "42000/42000 [==============================] - 3s 83us/sample - loss: 2.1071 - acc: 0.2277 - val_loss: 2.0885 - val_acc: 0.2178\n",
            "Epoch 3/10\n",
            "42000/42000 [==============================] - 4s 86us/sample - loss: 2.0366 - acc: 0.2590 - val_loss: 1.9041 - val_acc: 0.3219\n",
            "Epoch 4/10\n",
            "42000/42000 [==============================] - 4s 85us/sample - loss: 1.9499 - acc: 0.3091 - val_loss: 2.2954 - val_acc: 0.2317\n",
            "Epoch 5/10\n",
            "42000/42000 [==============================] - 4s 85us/sample - loss: 1.8727 - acc: 0.3427 - val_loss: 2.0901 - val_acc: 0.3016\n",
            "Epoch 6/10\n",
            "42000/42000 [==============================] - 4s 85us/sample - loss: 1.8256 - acc: 0.3713 - val_loss: 1.8218 - val_acc: 0.3574\n",
            "Epoch 7/10\n",
            "42000/42000 [==============================] - 4s 85us/sample - loss: 1.7818 - acc: 0.3962 - val_loss: 1.7392 - val_acc: 0.4243\n",
            "Epoch 8/10\n",
            "42000/42000 [==============================] - 4s 85us/sample - loss: 1.7370 - acc: 0.4225 - val_loss: 1.6450 - val_acc: 0.4505\n",
            "Epoch 9/10\n",
            "42000/42000 [==============================] - 4s 84us/sample - loss: 1.6940 - acc: 0.4447 - val_loss: 1.8994 - val_acc: 0.4056\n",
            "Epoch 10/10\n",
            "42000/42000 [==============================] - 4s 85us/sample - loss: 1.6755 - acc: 0.4558 - val_loss: 1.7212 - val_acc: 0.4175\n"
          ],
          "name": "stdout"
        },
        {
          "output_type": "execute_result",
          "data": {
            "text/plain": [
              "<tensorflow.python.keras.callbacks.History at 0x7fb5502e17b8>"
            ]
          },
          "metadata": {
            "tags": []
          },
          "execution_count": 25
        }
      ]
    },
    {
      "cell_type": "markdown",
      "metadata": {
        "id": "4_idoIvrMbU8",
        "colab_type": "text"
      },
      "source": [
        "###Using BatchNormalization layer"
      ]
    },
    {
      "cell_type": "code",
      "metadata": {
        "id": "M1RD8kaABmwV",
        "colab_type": "code",
        "colab": {
          "base_uri": "https://localhost:8080/",
          "height": 391
        },
        "outputId": "831b1952-be1e-4014-e8ae-e0e885182f69"
      },
      "source": [
        "model3_bn = tf.keras.models.Sequential()\n",
        "model3_bn.add(tf.keras.layers.Dense(200,activation = 'relu'))\n",
        "model3_bn.add(tf.keras.layers.BatchNormalization())\n",
        "model3_bn.add(tf.keras.layers.Dense(100,activation='relu'))\n",
        "model3_bn.add(tf.keras.layers.Dense(10,activation='softmax'))\n",
        "model3_bn.compile(optimizer=sgd_optimizer,loss='categorical_crossentropy',metrics=['accuracy'])\n",
        "model3_bn.fit(X_train,y_train,epochs=10,validation_data=(X_test,y_test),batch_size=32)"
      ],
      "execution_count": 26,
      "outputs": [
        {
          "output_type": "stream",
          "text": [
            "Train on 42000 samples, validate on 18000 samples\n",
            "Epoch 1/10\n",
            "42000/42000 [==============================] - 4s 95us/sample - loss: 1.7334 - acc: 0.4050 - val_loss: 2.4160 - val_acc: 0.2851\n",
            "Epoch 2/10\n",
            "42000/42000 [==============================] - 4s 94us/sample - loss: 1.3210 - acc: 0.5703 - val_loss: 1.9857 - val_acc: 0.4048\n",
            "Epoch 3/10\n",
            "42000/42000 [==============================] - 4s 95us/sample - loss: 1.2029 - acc: 0.6140 - val_loss: 1.2896 - val_acc: 0.5803\n",
            "Epoch 4/10\n",
            "42000/42000 [==============================] - 4s 95us/sample - loss: 1.1904 - acc: 0.6195 - val_loss: 1.1987 - val_acc: 0.6206\n",
            "Epoch 5/10\n",
            "42000/42000 [==============================] - 4s 96us/sample - loss: 1.1683 - acc: 0.6284 - val_loss: 1.8031 - val_acc: 0.4739\n",
            "Epoch 6/10\n",
            "42000/42000 [==============================] - 4s 101us/sample - loss: 1.1501 - acc: 0.6336 - val_loss: 1.9294 - val_acc: 0.4099\n",
            "Epoch 7/10\n",
            "42000/42000 [==============================] - 4s 101us/sample - loss: 1.1456 - acc: 0.6336 - val_loss: 1.3200 - val_acc: 0.5699\n",
            "Epoch 8/10\n",
            "42000/42000 [==============================] - 4s 91us/sample - loss: 1.1236 - acc: 0.6414 - val_loss: 1.2591 - val_acc: 0.5828\n",
            "Epoch 9/10\n",
            "42000/42000 [==============================] - 4s 95us/sample - loss: 1.1222 - acc: 0.6425 - val_loss: 1.3062 - val_acc: 0.5888\n",
            "Epoch 10/10\n",
            "42000/42000 [==============================] - 4s 95us/sample - loss: 1.1191 - acc: 0.6441 - val_loss: 1.4648 - val_acc: 0.5329\n"
          ],
          "name": "stdout"
        },
        {
          "output_type": "execute_result",
          "data": {
            "text/plain": [
              "<tensorflow.python.keras.callbacks.History at 0x7fb55016af28>"
            ]
          },
          "metadata": {
            "tags": []
          },
          "execution_count": 26
        }
      ]
    },
    {
      "cell_type": "markdown",
      "metadata": {
        "id": "29y0D5h299Qk",
        "colab_type": "text"
      },
      "source": [
        "Increasing the lambda from 0.01 to 0.1 the loss is reducing"
      ]
    },
    {
      "cell_type": "markdown",
      "metadata": {
        "id": "l0IYRPtCvpSw",
        "colab_type": "text"
      },
      "source": [
        "#Step 15: Network overfit with a small subset of the dataset. Check if the network will overfit when you use no regularization and the loss is very small and accuracy is 100%\n"
      ]
    },
    {
      "cell_type": "code",
      "metadata": {
        "id": "JCcONCeacnlc",
        "colab_type": "code",
        "colab": {
          "base_uri": "https://localhost:8080/",
          "height": 391
        },
        "outputId": "feb04dab-243c-4252-d3fb-08c963954c60"
      },
      "source": [
        "#Network overfit with a small subset of the dataset. Check if the network will overfit when you use no regularization and the loss is very small and accuracy is 100%.\t2\n",
        "X_train_subset = X_train[0:4200]\n",
        "X_test_subset = X_test[0:4200]\n",
        "y_train_subset = y_train[0:4200]\n",
        "y_test_subset = y_test[0:4200]\n",
        "small_model = tf.keras.Sequential([\n",
        "    # `input_shape` is only required here so that `.summary` works.\n",
        "    tf.keras.layers.Dense(16, activation='elu'),\n",
        "    tf.keras.layers.Dense(16, activation='elu'),\n",
        "    tf.keras.layers.Dense(10, activation='softmax')\n",
        "])\n",
        "small_model.compile(optimizer=sgd_optimizer,loss='categorical_crossentropy',metrics=['accuracy'])\n",
        "small_model.fit(X_train_subset,y_train_subset,epochs=10,validation_data=(X_test_subset,y_test_subset),batch_size=32)"
      ],
      "execution_count": 27,
      "outputs": [
        {
          "output_type": "stream",
          "text": [
            "Train on 4200 samples, validate on 4200 samples\n",
            "Epoch 1/10\n",
            "4200/4200 [==============================] - 0s 96us/sample - loss: 2.3229 - acc: 0.1033 - val_loss: 2.3039 - val_acc: 0.1093\n",
            "Epoch 2/10\n",
            "4200/4200 [==============================] - 0s 68us/sample - loss: 2.3078 - acc: 0.1040 - val_loss: 2.3049 - val_acc: 0.1095\n",
            "Epoch 3/10\n",
            "4200/4200 [==============================] - 0s 67us/sample - loss: 2.2937 - acc: 0.1264 - val_loss: 2.2754 - val_acc: 0.1257\n",
            "Epoch 4/10\n",
            "4200/4200 [==============================] - 0s 70us/sample - loss: 2.2772 - acc: 0.1360 - val_loss: 2.2813 - val_acc: 0.1533\n",
            "Epoch 5/10\n",
            "4200/4200 [==============================] - 0s 69us/sample - loss: 2.2406 - acc: 0.1498 - val_loss: 2.3182 - val_acc: 0.1007\n",
            "Epoch 6/10\n",
            "4200/4200 [==============================] - 0s 70us/sample - loss: 2.1807 - acc: 0.1855 - val_loss: 2.2166 - val_acc: 0.1800\n",
            "Epoch 7/10\n",
            "4200/4200 [==============================] - 0s 72us/sample - loss: 2.1156 - acc: 0.2193 - val_loss: 2.2894 - val_acc: 0.1657\n",
            "Epoch 8/10\n",
            "4200/4200 [==============================] - 0s 72us/sample - loss: 2.0440 - acc: 0.2469 - val_loss: 3.0990 - val_acc: 0.1221\n",
            "Epoch 9/10\n",
            "4200/4200 [==============================] - 0s 72us/sample - loss: 1.9848 - acc: 0.2719 - val_loss: 2.2369 - val_acc: 0.1731\n",
            "Epoch 10/10\n",
            "4200/4200 [==============================] - 0s 73us/sample - loss: 1.9144 - acc: 0.3095 - val_loss: 2.0604 - val_acc: 0.2386\n"
          ],
          "name": "stdout"
        },
        {
          "output_type": "execute_result",
          "data": {
            "text/plain": [
              "<tensorflow.python.keras.callbacks.History at 0x7fb5500fa1d0>"
            ]
          },
          "metadata": {
            "tags": []
          },
          "execution_count": 27
        }
      ]
    },
    {
      "cell_type": "markdown",
      "metadata": {
        "id": "IO_o1fVBJs-O",
        "colab_type": "text"
      },
      "source": [
        "With small model and reduced 10% of the dataset we are able to get 100% accuracy - which is OVERFITTING"
      ]
    },
    {
      "cell_type": "markdown",
      "metadata": {
        "id": "yXKmKgflvy4y",
        "colab_type": "text"
      },
      "source": [
        "##Step 16: Load the original dataset with all the images and prepare the data for modelling\n"
      ]
    },
    {
      "cell_type": "code",
      "metadata": {
        "id": "tuRH5CNjcnlf",
        "colab_type": "code",
        "colab": {
          "base_uri": "https://localhost:8080/",
          "height": 119
        },
        "outputId": "d152052d-2a1b-495c-ed38-dcd06e8ea44e"
      },
      "source": [
        "#Load the original dataset with all the images and prepare the data for modelling\t4\n",
        "X_test = f['X_test']\n",
        "X_train = f['X_train']\n",
        "X_val = f['X_val']\n",
        "y_test = f['y_test']\n",
        "y_train = f['y_train']\n",
        "y_val = f['y_val']\n",
        "X_test = np.array(X_test)\n",
        "X_test = X_test.reshape(18000,1024)\n",
        "#similarly convert required dataset to numpy array and reshape 32X32 into 1024\n",
        "X_train = np.array(X_train).reshape(42000,1024)\n",
        "#Normalize\n",
        "X_train = X_train / 255.0\n",
        "X_test = X_test / 255.0\n",
        "#one hot encoding labels\n",
        "print('Before one hot conversion :',y_train[0:5])\n",
        "y_train = tf.keras.utils.to_categorical(y_train,num_classes=10)\n",
        "y_test = tf.keras.utils.to_categorical(y_test,num_classes=10)\n",
        "print('After one hot conversion :',y_train[0:5])"
      ],
      "execution_count": 28,
      "outputs": [
        {
          "output_type": "stream",
          "text": [
            "Before one hot conversion : [2 6 7 4 4]\n",
            "After one hot conversion : [[0. 0. 1. 0. 0. 0. 0. 0. 0. 0.]\n",
            " [0. 0. 0. 0. 0. 0. 1. 0. 0. 0.]\n",
            " [0. 0. 0. 0. 0. 0. 0. 1. 0. 0.]\n",
            " [0. 0. 0. 0. 1. 0. 0. 0. 0. 0.]\n",
            " [0. 0. 0. 0. 1. 0. 0. 0. 0. 0.]]\n"
          ],
          "name": "stdout"
        }
      ]
    },
    {
      "cell_type": "markdown",
      "metadata": {
        "id": "BommiojTv6c-",
        "colab_type": "text"
      },
      "source": [
        "##Step 17: Start with a small Regularization. Keep adjusting the learning rate to check the loss. Record findings\n"
      ]
    },
    {
      "cell_type": "code",
      "metadata": {
        "id": "iL9Ue_Wlcnlh",
        "colab_type": "code",
        "colab": {
          "base_uri": "https://localhost:8080/",
          "height": 391
        },
        "outputId": "72e92b13-f3a9-41b1-9678-e8f2feeccfc8"
      },
      "source": [
        "#Start with a small Regularization. Keep adjusting the learning rate to check the loss. Record findings\t4\n",
        "model5= tf.keras.models.Sequential()\n",
        "model5.add(tf.keras.layers.Dense(200,activation = 'relu'))\n",
        "model5.add(tf.keras.layers.BatchNormalization())\n",
        "model5.add(tf.keras.layers.Dense(100,activation='relu'))\n",
        "model5.add(tf.keras.layers.Dense(10,activation='softmax'))\n",
        "sgd_optimizer = tf.keras.optimizers.SGD(lr=0.5)\n",
        "model5.compile(optimizer=sgd_optimizer,loss='categorical_crossentropy',metrics=['accuracy'])\n",
        "model5.fit(X_train,y_train,epochs=10,validation_data=(X_test,y_test),batch_size=32)"
      ],
      "execution_count": 29,
      "outputs": [
        {
          "output_type": "stream",
          "text": [
            "Train on 42000 samples, validate on 18000 samples\n",
            "Epoch 1/10\n",
            "42000/42000 [==============================] - 4s 98us/sample - loss: 1.7364 - acc: 0.4008 - val_loss: 2.2705 - val_acc: 0.3231\n",
            "Epoch 2/10\n",
            "42000/42000 [==============================] - 4s 90us/sample - loss: 1.4233 - acc: 0.5337 - val_loss: 1.5119 - val_acc: 0.4994\n",
            "Epoch 3/10\n",
            "42000/42000 [==============================] - 4s 89us/sample - loss: 1.3143 - acc: 0.5774 - val_loss: 2.1539 - val_acc: 0.3958\n",
            "Epoch 4/10\n",
            "42000/42000 [==============================] - 4s 89us/sample - loss: 1.2521 - acc: 0.6035 - val_loss: 2.3335 - val_acc: 0.3609\n",
            "Epoch 5/10\n",
            "42000/42000 [==============================] - 4s 90us/sample - loss: 1.2083 - acc: 0.6165 - val_loss: 1.4783 - val_acc: 0.5308\n",
            "Epoch 6/10\n",
            "42000/42000 [==============================] - 4s 93us/sample - loss: 1.1888 - acc: 0.6235 - val_loss: 2.4109 - val_acc: 0.3338\n",
            "Epoch 7/10\n",
            "42000/42000 [==============================] - 4s 92us/sample - loss: 1.1757 - acc: 0.6261 - val_loss: 1.3151 - val_acc: 0.5828\n",
            "Epoch 8/10\n",
            "42000/42000 [==============================] - 4s 91us/sample - loss: 1.1651 - acc: 0.6303 - val_loss: 1.2859 - val_acc: 0.5843\n",
            "Epoch 9/10\n",
            "42000/42000 [==============================] - 4s 93us/sample - loss: 1.1458 - acc: 0.6398 - val_loss: 1.5292 - val_acc: 0.5137\n",
            "Epoch 10/10\n",
            "42000/42000 [==============================] - 4s 92us/sample - loss: 1.1384 - acc: 0.6427 - val_loss: 2.2098 - val_acc: 0.4271\n"
          ],
          "name": "stdout"
        },
        {
          "output_type": "execute_result",
          "data": {
            "text/plain": [
              "<tensorflow.python.keras.callbacks.History at 0x7fb550077ac8>"
            ]
          },
          "metadata": {
            "tags": []
          },
          "execution_count": 29
        }
      ]
    },
    {
      "cell_type": "markdown",
      "metadata": {
        "id": "hwTIhvP2MmS9",
        "colab_type": "text"
      },
      "source": [
        "<font color=\"red\">Learning Rate 0.001</font>\n",
        "<br>Epoch 1/10\n",
        "42000/42000 [=] - 8s 184us/sample - loss: 2.2717 - acc: 0.1758 - val_loss: 2.1247 - val_acc: 0.2543\n",
        "<br>Epoch 10/10\n",
        "42000/42000 [=] - 7s 158us/sample - loss: 1.0986 - acc: 0.6772 - val_loss: 1.0553 - val_acc: 0.6950\n",
        "<br><br><font color=\"red\">Learning Rate 0.01</font>\n",
        "<br>Epoch 1/10\n",
        "42000/42000 [=] - 8s 180us/sample - loss: 1.6713 - acc: 0.4598 - val_loss: 1.4193 - val_acc: 0.5287\n",
        "<br>Epoch 10/10\n",
        "42000/42000 [=] - 6s 152us/sample - loss: 0.9359 - acc: 0.7125 - val_loss: 1.2810 - val_acc: 0.5940\n",
        "<br><br><font color=\"red\">Learning Rate 0.05</font>\n",
        "<br>Epoch 1/10\n",
        "42000/42000 [=] - 8s 190us/sample - loss: 1.6779 - acc: 0.4472 - val_loss: 2.5653 - val_acc: 0.2830\n",
        "<br>Epoch 10/10\n",
        "42000/42000 [=] - 7s 159us/sample - loss: 1.2071 - acc: 0.6093 - val_loss: 1.1955 - val_acc: 0.6128\n",
        "<br><br><font color=\"red\">Learning Rate 0.1</font>\n",
        "<br>Epoch 1/10\n",
        "42000/42000 [=] - 8s 186us/sample - loss: 1.6702 - acc: 0.4298 - val_loss: 3.2386 - val_acc: 0.2166\n",
        "<br>Epoch 10/10\n",
        "42000/42000 [=] - 7s 162us/sample - loss: 1.2186 - acc: 0.6075 - val_loss: 1.4296 - val_acc: 0.5257\n",
        "<br><br><font color=\"red\">Learning Rate 0.3</font>\n",
        "<br>Epoch 1/10\n",
        "42000/42000 [=] - 8s 187us/sample - loss: 1.6386 - acc: 0.4402 - val_loss: 1.5808 - val_acc: 0.4878\n",
        "<br>Epoch 10/10\n",
        "42000/42000 [=] - 8s 200us/sample - loss: 0.9615 - acc: 0.7027 - val_loss: 1.2401 - val_acc: 0.6176\n"
      ]
    },
    {
      "cell_type": "code",
      "metadata": {
        "id": "iaejhOkjMRC5",
        "colab_type": "code",
        "colab": {}
      },
      "source": [
        ""
      ],
      "execution_count": 0,
      "outputs": []
    },
    {
      "cell_type": "markdown",
      "metadata": {
        "id": "5OqLCHh8wcPL",
        "colab_type": "text"
      },
      "source": [
        "##Step 18: Perform Hyperparameter Optimization"
      ]
    },
    {
      "cell_type": "code",
      "metadata": {
        "id": "i2Qc1pCYcnll",
        "colab_type": "code",
        "colab": {
          "base_uri": "https://localhost:8080/",
          "height": 391
        },
        "outputId": "f7a87ed6-3b15-4dab-90d6-a146305e38fe"
      },
      "source": [
        "#Perform Hyperparameter Optimization . Record findings\t4\n",
        "#changing optimizer to Adam\n",
        "model5= tf.keras.models.Sequential()\n",
        "model5.add(tf.keras.layers.Dense(1024,activation = 'relu'))\n",
        "model5.add(tf.keras.layers.BatchNormalization())\n",
        "model5.add(tf.keras.layers.Dense(512,activation='relu'))\n",
        "model5.add(tf.keras.layers.Dense(256,activation='relu'))\n",
        "model5.add(tf.keras.layers.Dense(128,activation='relu'))\n",
        "model5.add(tf.keras.layers.Dense(10,activation='softmax'))\n",
        "adam_optimizer = tf.keras.optimizers.Adam(learning_rate=0.001, beta_1=0.9, beta_2=0.999, amsgrad=False)\n",
        "model5.compile(optimizer=adam_optimizer,loss='categorical_crossentropy',metrics=['accuracy'])\n",
        "model5.fit(X_train,y_train,epochs=10,validation_data=(X_test,y_test),batch_size=64)"
      ],
      "execution_count": 30,
      "outputs": [
        {
          "output_type": "stream",
          "text": [
            "Train on 42000 samples, validate on 18000 samples\n",
            "Epoch 1/10\n",
            "42000/42000 [==============================] - 7s 174us/sample - loss: 1.3314 - acc: 0.5569 - val_loss: 2.7372 - val_acc: 0.2695\n",
            "Epoch 2/10\n",
            "42000/42000 [==============================] - 7s 176us/sample - loss: 0.9812 - acc: 0.6895 - val_loss: 1.4969 - val_acc: 0.5328\n",
            "Epoch 3/10\n",
            "42000/42000 [==============================] - 8s 179us/sample - loss: 0.8633 - acc: 0.7296 - val_loss: 1.0683 - val_acc: 0.6654\n",
            "Epoch 4/10\n",
            "42000/42000 [==============================] - 9s 204us/sample - loss: 0.7740 - acc: 0.7562 - val_loss: 0.9226 - val_acc: 0.7079\n",
            "Epoch 5/10\n",
            "42000/42000 [==============================] - 7s 176us/sample - loss: 0.6932 - acc: 0.7821 - val_loss: 0.7602 - val_acc: 0.7642\n",
            "Epoch 6/10\n",
            "42000/42000 [==============================] - 7s 175us/sample - loss: 0.6451 - acc: 0.7968 - val_loss: 0.8639 - val_acc: 0.7276\n",
            "Epoch 7/10\n",
            "42000/42000 [==============================] - 7s 174us/sample - loss: 0.6000 - acc: 0.8105 - val_loss: 1.1471 - val_acc: 0.6621\n",
            "Epoch 8/10\n",
            "42000/42000 [==============================] - 7s 177us/sample - loss: 0.5641 - acc: 0.8214 - val_loss: 1.0946 - val_acc: 0.6707\n",
            "Epoch 9/10\n",
            "42000/42000 [==============================] - 7s 175us/sample - loss: 0.5280 - acc: 0.8310 - val_loss: 0.8724 - val_acc: 0.7328\n",
            "Epoch 10/10\n",
            "42000/42000 [==============================] - 7s 177us/sample - loss: 0.5044 - acc: 0.8396 - val_loss: 0.8949 - val_acc: 0.7261\n"
          ],
          "name": "stdout"
        },
        {
          "output_type": "execute_result",
          "data": {
            "text/plain": [
              "<tensorflow.python.keras.callbacks.History at 0x7fb54fdd0ba8>"
            ]
          },
          "metadata": {
            "tags": []
          },
          "execution_count": 30
        }
      ]
    },
    {
      "cell_type": "markdown",
      "metadata": {
        "id": "EVQ5eyJzRChU",
        "colab_type": "text"
      },
      "source": [
        "Model Config:<font color=\"red\">\n",
        "BatchNormalization, Adam Optimizer with learning rate 0.001</font>\n",
        "<br>Epoch 1/10\n",
        "42000/42000 - 9s 209us/sample - loss: 1.4179 - acc: 0.5520 - val_loss: 1.5119 - val_acc: 0.5004\n",
        "<br>Epoch 10/10\n",
        "42000/42000  - 7s 178us/sample - loss: 0.7657 - acc: 0.7663 - val_loss: 1.0693 - val_acc: 0.6824\n",
        "<br>\n",
        "Model Config:\n",
        "BatchNormalization, Adam Optimizer with <font color=\"red\">learning rate 0.01</font>\n",
        "<br>\n",
        "Epoch 1/10\n",
        "42000/42000  - 10s 240us/sample - loss: 1.6192 - acc: 0.4372 - val_loss: 2.7127 - val_acc: 0.3062\n",
        "<br>Epoch 10/10\n",
        "42000/42000  - 8s 202us/sample - loss: 1.0224 - acc: 0.6829 - val_loss: 1.0512 - val_acc: 0.6731\n",
        "Model Config:\n",
        "BatchNormalization, Adam Optimizer with learning rate 0.001\n",
        "changing <font color=\"red\">batch_size from 32 to 64 </font>\n",
        "<br>Epoch 1/10\n",
        "42000/42000  - 7s 163us/sample - loss: 1.4260 - acc: 0.5518 - val_loss: 1.5168 - val_acc: 0.4904\n",
        "<br>Epoch 10/10\n",
        "42000/42000  - 5s 121us/sample - loss: 0.6674 - acc: 0.8002 - val_loss: 1.0364 - val_acc: 0.6982\n",
        "<br><br>\n",
        "With Model Architecture:\n",
        "model5.add(tf.keras.layers.Dense(1024,activation = 'relu'))\n",
        "<br>model5.add(tf.keras.layers.BatchNormalization())\n",
        "<br>model5.add(tf.keras.layers.Dense(512,activation='relu'))\n",
        "<br>model5.add(tf.keras.layers.Dense(256,activation='relu'))\n",
        "<br>model5.add(tf.keras.layers.Dense(128,activation='relu'))\n",
        "<br>model5.add(tf.keras.layers.Dense(10,activation='softmax'))\n",
        "<br>Epoch 1/10\n",
        "42000/42000  - 23s 558us/sample - loss: 1.3400 - acc: 0.5550 - val_loss: 2.4633 - val_acc: 0.2915\n",
        "<br>Epoch 10/10\n",
        "42000/42000  - 21s 497us/sample - loss: 0.5378 - acc: 0.8287 - val_loss: 0.8199 - val_acc: 0.7449\n",
        "\n"
      ]
    },
    {
      "cell_type": "markdown",
      "metadata": {
        "id": "0kMSyX9hwgyf",
        "colab_type": "text"
      },
      "source": [
        "### Hyperparameter Optimization using RandomSearchCV"
      ]
    },
    {
      "cell_type": "code",
      "metadata": {
        "id": "_TQhvgpYlGST",
        "colab_type": "code",
        "colab": {}
      },
      "source": [
        "from keras.optimizers import SGD\n",
        "epochs=10\n",
        "learning_rate = 0.1\n",
        "decay_rate = learning_rate / epochs\n",
        "momentum = 0.8\n",
        "\n",
        "sgd = SGD(lr=learning_rate, momentum=momentum, decay=decay_rate, nesterov=False)"
      ],
      "execution_count": 0,
      "outputs": []
    },
    {
      "cell_type": "code",
      "metadata": {
        "id": "NZXKdLRjoPWV",
        "colab_type": "code",
        "colab": {
          "base_uri": "https://localhost:8080/",
          "height": 105
        },
        "outputId": "4ab755bf-d24e-4aef-f2a6-eed53abbdd6f"
      },
      "source": [
        "# build the model\n",
        "from keras.models import Sequential\n",
        "from keras.layers import Dense, Dropout, Activation, Flatten, BatchNormalization\n",
        "input_dim = X_train.shape[1]\n",
        "num_classes = 10\n",
        "\n",
        "lr_model = Sequential()\n",
        "lr_model.add(Dense(1024,activation = 'relu'))\n",
        "lr_model.add(BatchNormalization())\n",
        "lr_model.add(Dense(512,activation='relu'))\n",
        "lr_model.add(Dense(256,activation='relu'))\n",
        "lr_model.add(Dense(128,activation='relu'))\n",
        "lr_model.add(Dense(10,activation='softmax'))\n",
        "\n",
        "# compile the model\n",
        "lr_model.compile(loss='categorical_crossentropy',\n",
        "              optimizer=sgd,\n",
        "              metrics=['acc'])"
      ],
      "execution_count": 32,
      "outputs": [
        {
          "output_type": "stream",
          "text": [
            "WARNING:tensorflow:From /usr/local/lib/python3.6/dist-packages/keras/backend/tensorflow_backend.py:66: The name tf.get_default_graph is deprecated. Please use tf.compat.v1.get_default_graph instead.\n",
            "\n",
            "WARNING:tensorflow:From /usr/local/lib/python3.6/dist-packages/keras/optimizers.py:793: The name tf.train.Optimizer is deprecated. Please use tf.compat.v1.train.Optimizer instead.\n",
            "\n"
          ],
          "name": "stdout"
        }
      ]
    },
    {
      "cell_type": "code",
      "metadata": {
        "id": "4pVraMLDoSso",
        "colab_type": "code",
        "colab": {
          "base_uri": "https://localhost:8080/",
          "height": 887
        },
        "outputId": "0b1abde8-3961-434a-f2f6-68f80fc9d0a6"
      },
      "source": [
        "%%time\n",
        "# Fit the model\n",
        "batch_size = int(input_dim/100)\n",
        "\n",
        "lr_model_history = lr_model.fit(X_train, y_train,\n",
        "                    batch_size=batch_size,\n",
        "                    epochs=epochs,\n",
        "                    verbose=1,\n",
        "                    validation_data=(X_test, y_test))"
      ],
      "execution_count": 33,
      "outputs": [
        {
          "output_type": "stream",
          "text": [
            "WARNING:tensorflow:From /usr/local/lib/python3.6/dist-packages/keras/backend/tensorflow_backend.py:541: The name tf.placeholder is deprecated. Please use tf.compat.v1.placeholder instead.\n",
            "\n",
            "WARNING:tensorflow:From /usr/local/lib/python3.6/dist-packages/keras/backend/tensorflow_backend.py:4432: The name tf.random_uniform is deprecated. Please use tf.random.uniform instead.\n",
            "\n",
            "WARNING:tensorflow:From /usr/local/lib/python3.6/dist-packages/keras/backend/tensorflow_backend.py:148: The name tf.placeholder_with_default is deprecated. Please use tf.compat.v1.placeholder_with_default instead.\n",
            "\n",
            "WARNING:tensorflow:From /usr/local/lib/python3.6/dist-packages/keras/backend/tensorflow_backend.py:3576: The name tf.log is deprecated. Please use tf.math.log instead.\n",
            "\n",
            "WARNING:tensorflow:From /usr/local/lib/python3.6/dist-packages/tensorflow_core/python/ops/math_grad.py:1424: where (from tensorflow.python.ops.array_ops) is deprecated and will be removed in a future version.\n",
            "Instructions for updating:\n",
            "Use tf.where in 2.0, which has the same broadcast rule as np.where\n",
            "WARNING:tensorflow:From /usr/local/lib/python3.6/dist-packages/keras/backend/tensorflow_backend.py:1033: The name tf.assign_add is deprecated. Please use tf.compat.v1.assign_add instead.\n",
            "\n",
            "WARNING:tensorflow:From /usr/local/lib/python3.6/dist-packages/keras/backend/tensorflow_backend.py:1020: The name tf.assign is deprecated. Please use tf.compat.v1.assign instead.\n",
            "\n",
            "WARNING:tensorflow:From /usr/local/lib/python3.6/dist-packages/keras/backend/tensorflow_backend.py:3005: The name tf.Session is deprecated. Please use tf.compat.v1.Session instead.\n",
            "\n",
            "Train on 42000 samples, validate on 18000 samples\n",
            "Epoch 1/10\n",
            "WARNING:tensorflow:From /usr/local/lib/python3.6/dist-packages/keras/backend/tensorflow_backend.py:190: The name tf.get_default_session is deprecated. Please use tf.compat.v1.get_default_session instead.\n",
            "\n",
            "WARNING:tensorflow:From /usr/local/lib/python3.6/dist-packages/keras/backend/tensorflow_backend.py:197: The name tf.ConfigProto is deprecated. Please use tf.compat.v1.ConfigProto instead.\n",
            "\n",
            "WARNING:tensorflow:From /usr/local/lib/python3.6/dist-packages/keras/backend/tensorflow_backend.py:207: The name tf.global_variables is deprecated. Please use tf.compat.v1.global_variables instead.\n",
            "\n",
            "WARNING:tensorflow:From /usr/local/lib/python3.6/dist-packages/keras/backend/tensorflow_backend.py:216: The name tf.is_variable_initialized is deprecated. Please use tf.compat.v1.is_variable_initialized instead.\n",
            "\n",
            "WARNING:tensorflow:From /usr/local/lib/python3.6/dist-packages/keras/backend/tensorflow_backend.py:223: The name tf.variables_initializer is deprecated. Please use tf.compat.v1.variables_initializer instead.\n",
            "\n",
            "42000/42000 [==============================] - 37s 870us/step - loss: 2.2761 - acc: 0.1145 - val_loss: 2.1667 - val_acc: 0.1605\n",
            "Epoch 2/10\n",
            "42000/42000 [==============================] - 37s 891us/step - loss: 2.1003 - acc: 0.1944 - val_loss: 1.9830 - val_acc: 0.2435\n",
            "Epoch 3/10\n",
            "42000/42000 [==============================] - 38s 903us/step - loss: 1.9314 - acc: 0.2844 - val_loss: 1.7407 - val_acc: 0.3584\n",
            "Epoch 4/10\n",
            "42000/42000 [==============================] - 38s 913us/step - loss: 1.7664 - acc: 0.3602 - val_loss: 1.6061 - val_acc: 0.4472\n",
            "Epoch 5/10\n",
            "42000/42000 [==============================] - 40s 944us/step - loss: 1.5990 - acc: 0.4459 - val_loss: 1.4242 - val_acc: 0.5248\n",
            "Epoch 6/10\n",
            "42000/42000 [==============================] - 38s 916us/step - loss: 1.4617 - acc: 0.5032 - val_loss: 1.2570 - val_acc: 0.5985\n",
            "Epoch 7/10\n",
            "42000/42000 [==============================] - 41s 967us/step - loss: 1.3773 - acc: 0.5365 - val_loss: 1.2190 - val_acc: 0.6106\n",
            "Epoch 8/10\n",
            "42000/42000 [==============================] - 40s 941us/step - loss: 1.3269 - acc: 0.5569 - val_loss: 1.2246 - val_acc: 0.6063\n",
            "Epoch 9/10\n",
            "42000/42000 [==============================] - 40s 943us/step - loss: 1.2814 - acc: 0.5723 - val_loss: 1.1535 - val_acc: 0.6334\n",
            "Epoch 10/10\n",
            "42000/42000 [==============================] - 39s 935us/step - loss: 1.2418 - acc: 0.5925 - val_loss: 1.0837 - val_acc: 0.6564\n",
            "CPU times: user 29min, sys: 7min 5s, total: 36min 5s\n",
            "Wall time: 6min 27s\n"
          ],
          "name": "stdout"
        }
      ]
    },
    {
      "cell_type": "code",
      "metadata": {
        "id": "Sk9R6_2NoV8w",
        "colab_type": "code",
        "colab": {
          "base_uri": "https://localhost:8080/",
          "height": 795
        },
        "outputId": "3dbeb4b2-f162-4d85-b838-ac99349b08a7"
      },
      "source": [
        "# Plot the loss function\n",
        "fig, ax = plt.subplots(1, 1, figsize=(10,6))\n",
        "ax.plot(np.sqrt(lr_model_history.history['loss']), 'r', label='train')\n",
        "ax.plot(np.sqrt(lr_model_history.history['val_loss']), 'b' ,label='val')\n",
        "ax.set_xlabel(r'Epoch', fontsize=20)\n",
        "ax.set_ylabel(r'Loss', fontsize=20)\n",
        "ax.legend()\n",
        "ax.tick_params(labelsize=20)\n",
        "plt.show()\n",
        "# Plot the accuracy\n",
        "fig, ax = plt.subplots(1, 1, figsize=(10,6))\n",
        "ax.plot(np.sqrt(lr_model_history.history['acc']), 'r', label='train')\n",
        "ax.plot(np.sqrt(lr_model_history.history['val_acc']), 'b' ,label='val')\n",
        "ax.set_xlabel(r'Epoch', fontsize=20)\n",
        "ax.set_ylabel(r'Accuracy', fontsize=20)\n",
        "ax.legend()\n",
        "ax.tick_params(labelsize=20)\n",
        "plt.show()"
      ],
      "execution_count": 34,
      "outputs": [
        {
          "output_type": "display_data",
          "data": {
            "image/png": "[encoded data removed]",
            "text/plain": [
              "<Figure size 720x432 with 1 Axes>"
            ]
          },
          "metadata": {
            "tags": []
          }
        },
        {
          "output_type": "display_data",
          "data": {
            "image/png": "[encoded data removed]",
            "text/plain": [
              "<Figure size 720x432 with 1 Axes>"
            ]
          },
          "metadata": {
            "tags": []
          }
        }
      ]
    },
    {
      "cell_type": "code",
      "metadata": {
        "id": "qfms3nEjquBx",
        "colab_type": "code",
        "colab": {}
      },
      "source": [
        "import numpy\n",
        "from sklearn.model_selection import GridSearchCV\n",
        "from keras.wrappers.scikit_learn import KerasClassifier\n",
        "from keras.optimizers import RMSprop"
      ],
      "execution_count": 0,
      "outputs": []
    },
    {
      "cell_type": "code",
      "metadata": {
        "id": "qMJu0-OBqvdD",
        "colab_type": "code",
        "colab": {}
      },
      "source": [
        "# let's create a function that creates the model (required for KerasClassifier) \n",
        "# while accepting the hyperparameters we want to tune \n",
        "# we also pass some default values such as optimizer='rmsprop'\n",
        "def create_model(init_mode='uniform'):\n",
        "    # define model\n",
        "    model = Sequential()\n",
        "    model.add(Dense(64, kernel_initializer=init_mode, activation=tf.nn.relu, input_dim=1024)) \n",
        "    model.add(Dropout(0.1))\n",
        "    model.add(Dense(64, kernel_initializer=init_mode, activation=tf.nn.relu))\n",
        "    model.add(Dense(10, kernel_initializer=init_mode, activation=tf.nn.softmax))\n",
        "    # compile model\n",
        "    model.compile(loss='categorical_crossentropy',\n",
        "              optimizer=RMSprop(),\n",
        "              metrics=['accuracy'])\n",
        "    return model"
      ],
      "execution_count": 0,
      "outputs": []
    },
    {
      "cell_type": "code",
      "metadata": {
        "id": "089Ry8FvqvUU",
        "colab_type": "code",
        "colab": {
          "base_uri": "https://localhost:8080/",
          "height": 496
        },
        "outputId": "dfc6c2ed-49dd-4a0a-ce79-31f68c382ab2"
      },
      "source": [
        "%%time\n",
        "seed = 7\n",
        "numpy.random.seed(seed)\n",
        "batch_size = 128\n",
        "epochs = 10\n",
        "\n",
        "model_CV = KerasClassifier(build_fn=create_model, epochs=epochs, \n",
        "                           batch_size=batch_size, verbose=1)\n",
        "# define the grid search parameters\n",
        "init_mode = ['uniform', 'lecun_uniform', 'normal', 'zero', \n",
        "             'glorot_normal', 'glorot_uniform', 'he_normal', 'he_uniform']\n",
        "\n",
        "param_grid = dict(init_mode=init_mode)\n",
        "grid = GridSearchCV(estimator=model_CV, param_grid=param_grid, n_jobs=-1, cv=3)\n",
        "grid_result = grid.fit(X_train, y_train)"
      ],
      "execution_count": 37,
      "outputs": [
        {
          "output_type": "stream",
          "text": [
            "WARNING:tensorflow:From /usr/local/lib/python3.6/dist-packages/keras/backend/tensorflow_backend.py:4479: The name tf.truncated_normal is deprecated. Please use tf.random.truncated_normal instead.\n",
            "\n",
            "WARNING:tensorflow:From /usr/local/lib/python3.6/dist-packages/keras/backend/tensorflow_backend.py:3733: calling dropout (from tensorflow.python.ops.nn_ops) with keep_prob is deprecated and will be removed in a future version.\n",
            "Instructions for updating:\n",
            "Please use `rate` instead of `keep_prob`. Rate should be set to `rate = 1 - keep_prob`.\n",
            "Epoch 1/10\n",
            "42000/42000 [==============================] - 2s 43us/step - loss: 2.2959 - acc: 0.1091\n",
            "Epoch 2/10\n",
            "42000/42000 [==============================] - 1s 31us/step - loss: 2.1626 - acc: 0.1822\n",
            "Epoch 3/10\n",
            "42000/42000 [==============================] - 1s 31us/step - loss: 2.0389 - acc: 0.2501\n",
            "Epoch 4/10\n",
            "42000/42000 [==============================] - 1s 31us/step - loss: 1.9582 - acc: 0.2772\n",
            "Epoch 5/10\n",
            "42000/42000 [==============================] - 1s 31us/step - loss: 1.8862 - acc: 0.3214\n",
            "Epoch 6/10\n",
            "42000/42000 [==============================] - 1s 31us/step - loss: 1.8489 - acc: 0.3391\n",
            "Epoch 7/10\n",
            "42000/42000 [==============================] - 1s 32us/step - loss: 1.8106 - acc: 0.3521\n",
            "Epoch 8/10\n",
            "42000/42000 [==============================] - 1s 32us/step - loss: 1.7993 - acc: 0.3623\n",
            "Epoch 9/10\n",
            "42000/42000 [==============================] - 1s 32us/step - loss: 1.7805 - acc: 0.3689\n",
            "Epoch 10/10\n",
            "42000/42000 [==============================] - 1s 32us/step - loss: 1.7648 - acc: 0.3772\n",
            "CPU times: user 28.7 s, sys: 6.49 s, total: 35.2 s\n",
            "Wall time: 30.1 s\n"
          ],
          "name": "stdout"
        }
      ]
    },
    {
      "cell_type": "code",
      "metadata": {
        "id": "UOwMKw2grAnN",
        "colab_type": "code",
        "colab": {
          "base_uri": "https://localhost:8080/",
          "height": 170
        },
        "outputId": "2ea30d73-d242-4b6f-8b04-b9e7baf9ef53"
      },
      "source": [
        "# print results\n",
        "print(f'Best Accuracy for {grid_result.best_score_} using {grid_result.best_params_}')\n",
        "means = grid_result.cv_results_['mean_test_score']\n",
        "stds = grid_result.cv_results_['std_test_score']\n",
        "params = grid_result.cv_results_['params']\n",
        "for mean, stdev, param in zip(means, stds, params):\n",
        "    print(f' mean={mean:.4}, std={stdev:.4} using {param}')"
      ],
      "execution_count": 38,
      "outputs": [
        {
          "output_type": "stream",
          "text": [
            "Best Accuracy for 0.5586190475849878 using {'init_mode': 'glorot_normal'}\n",
            " mean=0.09905, std=0.003099 using {'init_mode': 'uniform'}\n",
            " mean=0.3549, std=0.1661 using {'init_mode': 'lecun_uniform'}\n",
            " mean=0.3138, std=0.1873 using {'init_mode': 'normal'}\n",
            " mean=0.09981, std=0.002566 using {'init_mode': 'zero'}\n",
            " mean=0.5586, std=0.01301 using {'init_mode': 'glorot_normal'}\n",
            " mean=0.4593, std=0.08433 using {'init_mode': 'glorot_uniform'}\n",
            " mean=0.3722, std=0.1294 using {'init_mode': 'he_normal'}\n",
            " mean=0.5265, std=0.0338 using {'init_mode': 'he_uniform'}\n"
          ],
          "name": "stdout"
        }
      ]
    },
    {
      "cell_type": "markdown",
      "metadata": {
        "id": "gvTDgeCPu_Gq",
        "colab_type": "text"
      },
      "source": [
        "Best Accuracy for 0.5486190476417542 using {'init_mode': 'glorot_uniform'}\n"
      ]
    },
    {
      "cell_type": "code",
      "metadata": {
        "id": "BbuCGbBqtHHg",
        "colab_type": "code",
        "colab": {}
      },
      "source": [
        "# repeat some of the initial values here so we make sure they were not changed\n",
        "input_dim = X_train.shape[1]\n",
        "num_classes = 10\n",
        "\n",
        "# let's create a function that creates the model (required for KerasClassifier) \n",
        "# while accepting the hyperparameters we want to tune \n",
        "# we also pass some default values such as optimizer='rmsprop'\n",
        "def create_model_2(optimizer='rmsprop', init='glorot_uniform'):\n",
        "    model = Sequential()\n",
        "    model.add(Dense(64, input_dim=input_dim, kernel_initializer=init, activation='relu'))\n",
        "    model.add(Dropout(0.1))\n",
        "    model.add(Dense(64, kernel_initializer=init, activation=tf.nn.relu))\n",
        "    model.add(Dense(num_classes, kernel_initializer=init, activation=tf.nn.softmax))\n",
        "\n",
        "    # compile model\n",
        "    model.compile(loss='categorical_crossentropy', \n",
        "                  optimizer=optimizer, \n",
        "                  metrics=['accuracy'])\n",
        "\n",
        "    return model\n"
      ],
      "execution_count": 0,
      "outputs": []
    },
    {
      "cell_type": "code",
      "metadata": {
        "id": "ISalWb7htKgh",
        "colab_type": "code",
        "colab": {
          "base_uri": "https://localhost:8080/",
          "height": 1000
        },
        "outputId": "7af8443a-fe80-48f6-ec43-90cfcb8d0627"
      },
      "source": [
        "%%time\n",
        "# fix random seed for reproducibility (this might work or might not work \n",
        "# depending on each library's implenentation)\n",
        "seed = 7\n",
        "numpy.random.seed(seed)\n",
        "\n",
        "# create the sklearn model for the network\n",
        "model_init_batch_epoch_CV = KerasClassifier(build_fn=create_model_2, verbose=1)\n",
        "\n",
        "# we choose the initializers that came at the top in our previous cross-validation!!\n",
        "init_mode = ['glorot_uniform', 'uniform'] \n",
        "batches = [128, 512]\n",
        "epochs = [10, 20]\n",
        "\n",
        "# grid search for initializer, batch size and number of epochs\n",
        "param_grid = dict(epochs=epochs, batch_size=batches, init=init_mode)\n",
        "grid = GridSearchCV(estimator=model_init_batch_epoch_CV, \n",
        "                    param_grid=param_grid,\n",
        "                    cv=3)\n",
        "grid_result = grid.fit(X_train, y_train)"
      ],
      "execution_count": 40,
      "outputs": [
        {
          "output_type": "stream",
          "text": [
            "Epoch 1/10\n",
            "28000/28000 [==============================] - 1s 53us/step - loss: 2.2998 - acc: 0.1156\n",
            "Epoch 2/10\n",
            "28000/28000 [==============================] - 1s 31us/step - loss: 2.1767 - acc: 0.1870\n",
            "Epoch 3/10\n",
            "28000/28000 [==============================] - 1s 31us/step - loss: 2.0251 - acc: 0.2715\n",
            "Epoch 4/10\n",
            "28000/28000 [==============================] - 1s 31us/step - loss: 1.8940 - acc: 0.3283\n",
            "Epoch 5/10\n",
            "28000/28000 [==============================] - 1s 32us/step - loss: 1.8093 - acc: 0.3623\n",
            "Epoch 6/10\n",
            "28000/28000 [==============================] - 1s 32us/step - loss: 1.7515 - acc: 0.3826\n",
            "Epoch 7/10\n",
            "28000/28000 [==============================] - 1s 31us/step - loss: 1.7121 - acc: 0.3987\n",
            "Epoch 8/10\n",
            "28000/28000 [==============================] - 1s 31us/step - loss: 1.6810 - acc: 0.4099\n",
            "Epoch 9/10\n",
            "28000/28000 [==============================] - 1s 30us/step - loss: 1.6497 - acc: 0.4247\n",
            "Epoch 10/10\n",
            "28000/28000 [==============================] - 1s 31us/step - loss: 1.6232 - acc: 0.4359\n",
            "14000/14000 [==============================] - 0s 23us/step\n",
            "Epoch 1/10\n",
            "28000/28000 [==============================] - 2s 54us/step - loss: 2.2979 - acc: 0.1194\n",
            "Epoch 2/10\n",
            "28000/28000 [==============================] - 1s 32us/step - loss: 2.1443 - acc: 0.2138\n",
            "Epoch 3/10\n",
            "28000/28000 [==============================] - 1s 31us/step - loss: 1.9608 - acc: 0.2959\n",
            "Epoch 4/10\n",
            "28000/28000 [==============================] - 1s 31us/step - loss: 1.8592 - acc: 0.3328\n",
            "Epoch 5/10\n",
            "28000/28000 [==============================] - 1s 30us/step - loss: 1.8061 - acc: 0.3554\n",
            "Epoch 6/10\n",
            "28000/28000 [==============================] - 1s 30us/step - loss: 1.7545 - acc: 0.3824\n",
            "Epoch 7/10\n",
            "28000/28000 [==============================] - 1s 30us/step - loss: 1.7136 - acc: 0.3991\n",
            "Epoch 8/10\n",
            "28000/28000 [==============================] - 1s 29us/step - loss: 1.6715 - acc: 0.4151\n",
            "Epoch 9/10\n",
            "28000/28000 [==============================] - 1s 30us/step - loss: 1.6427 - acc: 0.4278\n",
            "Epoch 10/10\n",
            "28000/28000 [==============================] - 1s 30us/step - loss: 1.6256 - acc: 0.4369\n",
            "14000/14000 [==============================] - 0s 25us/step\n",
            "Epoch 1/10\n",
            "28000/28000 [==============================] - 2s 54us/step - loss: 2.3047 - acc: 0.1117\n",
            "Epoch 2/10\n",
            "28000/28000 [==============================] - 1s 31us/step - loss: 2.1934 - acc: 0.1782\n",
            "Epoch 3/10\n",
            "28000/28000 [==============================] - 1s 32us/step - loss: 2.0663 - acc: 0.2342\n",
            "Epoch 4/10\n",
            "28000/28000 [==============================] - 1s 32us/step - loss: 1.9998 - acc: 0.2554\n",
            "Epoch 5/10\n",
            "28000/28000 [==============================] - 1s 32us/step - loss: 1.9688 - acc: 0.2712\n",
            "Epoch 6/10\n",
            "28000/28000 [==============================] - 1s 32us/step - loss: 1.9359 - acc: 0.2878\n",
            "Epoch 7/10\n",
            "28000/28000 [==============================] - 1s 32us/step - loss: 1.9178 - acc: 0.2945\n",
            "Epoch 8/10\n",
            "28000/28000 [==============================] - 1s 33us/step - loss: 1.8908 - acc: 0.3011\n",
            "Epoch 9/10\n",
            "28000/28000 [==============================] - 1s 32us/step - loss: 1.8616 - acc: 0.3224\n",
            "Epoch 10/10\n",
            "28000/28000 [==============================] - 1s 32us/step - loss: 1.8391 - acc: 0.3374\n",
            "14000/14000 [==============================] - 0s 27us/step\n",
            "Epoch 1/10\n",
            "28000/28000 [==============================] - 2s 57us/step - loss: 2.3020 - acc: 0.1039\n",
            "Epoch 2/10\n",
            "28000/28000 [==============================] - 1s 31us/step - loss: 2.2365 - acc: 0.1546\n",
            "Epoch 3/10\n",
            "28000/28000 [==============================] - 1s 31us/step - loss: 2.1019 - acc: 0.2199\n",
            "Epoch 4/10\n",
            "28000/28000 [==============================] - 1s 31us/step - loss: 2.0046 - acc: 0.2581\n",
            "Epoch 5/10\n",
            "28000/28000 [==============================] - 1s 32us/step - loss: 1.9348 - acc: 0.2911\n",
            "Epoch 6/10\n",
            "28000/28000 [==============================] - 1s 31us/step - loss: 1.8678 - acc: 0.3192\n",
            "Epoch 7/10\n",
            "28000/28000 [==============================] - 1s 32us/step - loss: 1.8102 - acc: 0.3408\n",
            "Epoch 8/10\n",
            "28000/28000 [==============================] - 1s 32us/step - loss: 1.7672 - acc: 0.3586\n",
            "Epoch 9/10\n",
            "28000/28000 [==============================] - 1s 33us/step - loss: 1.7314 - acc: 0.3772\n",
            "Epoch 10/10\n",
            "28000/28000 [==============================] - 1s 34us/step - loss: 1.7021 - acc: 0.3907\n",
            "14000/14000 [==============================] - 0s 33us/step\n",
            "Epoch 1/10\n",
            "28000/28000 [==============================] - 2s 64us/step - loss: 2.3030 - acc: 0.1010\n",
            "Epoch 2/10\n",
            "28000/28000 [==============================] - 1s 32us/step - loss: 2.2826 - acc: 0.1196\n",
            "Epoch 3/10\n",
            "28000/28000 [==============================] - 1s 31us/step - loss: 2.1655 - acc: 0.1869\n",
            "Epoch 4/10\n",
            "28000/28000 [==============================] - 1s 31us/step - loss: 2.0560 - acc: 0.2261\n",
            "Epoch 5/10\n",
            "28000/28000 [==============================] - 1s 32us/step - loss: 1.9829 - acc: 0.2574\n",
            "Epoch 6/10\n",
            "28000/28000 [==============================] - 1s 32us/step - loss: 1.9410 - acc: 0.2746\n",
            "Epoch 7/10\n",
            "28000/28000 [==============================] - 1s 32us/step - loss: 1.9082 - acc: 0.2885\n",
            "Epoch 8/10\n",
            "28000/28000 [==============================] - 1s 32us/step - loss: 1.8796 - acc: 0.3071\n",
            "Epoch 9/10\n",
            "28000/28000 [==============================] - 1s 32us/step - loss: 1.8480 - acc: 0.3236\n",
            "Epoch 10/10\n",
            "28000/28000 [==============================] - 1s 32us/step - loss: 1.8170 - acc: 0.3356\n",
            "14000/14000 [==============================] - 0s 28us/step\n",
            "Epoch 1/10\n",
            "28000/28000 [==============================] - 2s 60us/step - loss: 2.3023 - acc: 0.1019\n",
            "Epoch 2/10\n",
            "28000/28000 [==============================] - 1s 32us/step - loss: 2.2495 - acc: 0.1386\n",
            "Epoch 3/10\n",
            "28000/28000 [==============================] - 1s 32us/step - loss: 2.1856 - acc: 0.1586\n",
            "Epoch 4/10\n",
            "28000/28000 [==============================] - 1s 32us/step - loss: 2.1562 - acc: 0.1757\n",
            "Epoch 5/10\n",
            "28000/28000 [==============================] - 1s 32us/step - loss: 2.1128 - acc: 0.1971\n",
            "Epoch 6/10\n",
            "28000/28000 [==============================] - 1s 33us/step - loss: 2.0670 - acc: 0.2175\n",
            "Epoch 7/10\n",
            "28000/28000 [==============================] - 1s 36us/step - loss: 2.0205 - acc: 0.2519\n",
            "Epoch 8/10\n",
            "28000/28000 [==============================] - 1s 35us/step - loss: 1.9654 - acc: 0.2850\n",
            "Epoch 9/10\n",
            "28000/28000 [==============================] - 1s 36us/step - loss: 1.9118 - acc: 0.3146\n",
            "Epoch 10/10\n",
            "28000/28000 [==============================] - 1s 37us/step - loss: 1.8779 - acc: 0.3296\n",
            "14000/14000 [==============================] - 0s 34us/step\n",
            "Epoch 1/20\n",
            "28000/28000 [==============================] - 2s 64us/step - loss: 2.2939 - acc: 0.1222\n",
            "Epoch 2/20\n",
            "28000/28000 [==============================] - 1s 33us/step - loss: 2.1437 - acc: 0.2052\n",
            "Epoch 3/20\n",
            "28000/28000 [==============================] - 1s 33us/step - loss: 1.9790 - acc: 0.2842\n",
            "Epoch 4/20\n",
            "28000/28000 [==============================] - 1s 33us/step - loss: 1.8795 - acc: 0.3223\n",
            "Epoch 5/20\n",
            "28000/28000 [==============================] - 1s 33us/step - loss: 1.8132 - acc: 0.3451\n",
            "Epoch 6/20\n",
            "28000/28000 [==============================] - 1s 33us/step - loss: 1.7703 - acc: 0.3639\n",
            "Epoch 7/20\n",
            "28000/28000 [==============================] - 1s 32us/step - loss: 1.7434 - acc: 0.3748\n",
            "Epoch 8/20\n",
            "28000/28000 [==============================] - 1s 33us/step - loss: 1.7044 - acc: 0.3934\n",
            "Epoch 9/20\n",
            "28000/28000 [==============================] - 1s 32us/step - loss: 1.6677 - acc: 0.4127\n",
            "Epoch 10/20\n",
            "28000/28000 [==============================] - 1s 32us/step - loss: 1.6299 - acc: 0.4314\n",
            "Epoch 11/20\n",
            "28000/28000 [==============================] - 1s 32us/step - loss: 1.5920 - acc: 0.4518\n",
            "Epoch 12/20\n",
            "28000/28000 [==============================] - 1s 32us/step - loss: 1.5548 - acc: 0.4698\n",
            "Epoch 13/20\n",
            "28000/28000 [==============================] - 1s 32us/step - loss: 1.5272 - acc: 0.4847\n",
            "Epoch 14/20\n",
            "28000/28000 [==============================] - 1s 32us/step - loss: 1.4992 - acc: 0.4930\n",
            "Epoch 15/20\n",
            "28000/28000 [==============================] - 1s 32us/step - loss: 1.4806 - acc: 0.5046\n",
            "Epoch 16/20\n",
            "28000/28000 [==============================] - 1s 33us/step - loss: 1.4531 - acc: 0.5123\n",
            "Epoch 17/20\n",
            "28000/28000 [==============================] - 1s 33us/step - loss: 1.4446 - acc: 0.5153\n",
            "Epoch 18/20\n",
            "28000/28000 [==============================] - 1s 33us/step - loss: 1.4314 - acc: 0.5227\n",
            "Epoch 19/20\n",
            "28000/28000 [==============================] - 1s 32us/step - loss: 1.4141 - acc: 0.5270\n",
            "Epoch 20/20\n",
            "28000/28000 [==============================] - 1s 31us/step - loss: 1.4003 - acc: 0.5344\n",
            "14000/14000 [==============================] - 0s 33us/step\n",
            "Epoch 1/20\n",
            "28000/28000 [==============================] - 2s 67us/step - loss: 2.3053 - acc: 0.1068\n",
            "Epoch 2/20\n",
            "28000/28000 [==============================] - 1s 32us/step - loss: 2.2282 - acc: 0.1550\n",
            "Epoch 3/20\n",
            "28000/28000 [==============================] - 1s 32us/step - loss: 2.0868 - acc: 0.2286\n",
            "Epoch 4/20\n",
            "28000/28000 [==============================] - 1s 33us/step - loss: 1.9862 - acc: 0.2646\n",
            "Epoch 5/20\n",
            "28000/28000 [==============================] - 1s 32us/step - loss: 1.9325 - acc: 0.2904\n",
            "Epoch 6/20\n",
            "28000/28000 [==============================] - 1s 32us/step - loss: 1.8830 - acc: 0.3060\n",
            "Epoch 7/20\n",
            "28000/28000 [==============================] - 1s 32us/step - loss: 1.8451 - acc: 0.3241\n",
            "Epoch 8/20\n",
            "28000/28000 [==============================] - 1s 32us/step - loss: 1.8073 - acc: 0.3408\n",
            "Epoch 9/20\n",
            "28000/28000 [==============================] - 1s 33us/step - loss: 1.7862 - acc: 0.3543\n",
            "Epoch 10/20\n",
            "28000/28000 [==============================] - 1s 33us/step - loss: 1.7565 - acc: 0.3718\n",
            "Epoch 11/20\n",
            "28000/28000 [==============================] - 1s 32us/step - loss: 1.7301 - acc: 0.3876\n",
            "Epoch 12/20\n",
            "28000/28000 [==============================] - 1s 33us/step - loss: 1.7112 - acc: 0.4003\n",
            "Epoch 13/20\n",
            "28000/28000 [==============================] - 1s 32us/step - loss: 1.6784 - acc: 0.4198\n",
            "Epoch 14/20\n",
            "28000/28000 [==============================] - 1s 31us/step - loss: 1.6545 - acc: 0.4364\n",
            "Epoch 15/20\n",
            "28000/28000 [==============================] - 1s 32us/step - loss: 1.6336 - acc: 0.4450\n",
            "Epoch 16/20\n",
            "28000/28000 [==============================] - 1s 33us/step - loss: 1.6068 - acc: 0.4539\n",
            "Epoch 17/20\n",
            "28000/28000 [==============================] - 1s 33us/step - loss: 1.5896 - acc: 0.4627\n",
            "Epoch 18/20\n",
            "28000/28000 [==============================] - 1s 33us/step - loss: 1.5682 - acc: 0.4748\n",
            "Epoch 19/20\n",
            "28000/28000 [==============================] - 1s 33us/step - loss: 1.5449 - acc: 0.4820\n",
            "Epoch 20/20\n",
            "28000/28000 [==============================] - 1s 33us/step - loss: 1.5279 - acc: 0.4902\n",
            "14000/14000 [==============================] - 1s 39us/step\n",
            "Epoch 1/20\n",
            "28000/28000 [==============================] - 2s 68us/step - loss: 2.3080 - acc: 0.1052\n",
            "Epoch 2/20\n",
            "28000/28000 [==============================] - 1s 34us/step - loss: 2.1980 - acc: 0.1906\n",
            "Epoch 3/20\n",
            "28000/28000 [==============================] - 1s 34us/step - loss: 2.0049 - acc: 0.2807\n",
            "Epoch 4/20\n",
            "28000/28000 [==============================] - 1s 34us/step - loss: 1.8767 - acc: 0.3257\n",
            "Epoch 5/20\n",
            "28000/28000 [==============================] - 1s 34us/step - loss: 1.8270 - acc: 0.3415\n",
            "Epoch 6/20\n",
            "28000/28000 [==============================] - 1s 33us/step - loss: 1.7817 - acc: 0.3586\n",
            "Epoch 7/20\n",
            "28000/28000 [==============================] - 1s 32us/step - loss: 1.7447 - acc: 0.3683\n",
            "Epoch 8/20\n",
            "28000/28000 [==============================] - 1s 33us/step - loss: 1.7169 - acc: 0.3859\n",
            "Epoch 9/20\n",
            "28000/28000 [==============================] - 1s 33us/step - loss: 1.6976 - acc: 0.3908\n",
            "Epoch 10/20\n",
            "28000/28000 [==============================] - 1s 34us/step - loss: 1.6691 - acc: 0.4058\n",
            "Epoch 11/20\n",
            "28000/28000 [==============================] - 1s 33us/step - loss: 1.6629 - acc: 0.4143\n",
            "Epoch 12/20\n",
            "28000/28000 [==============================] - 1s 32us/step - loss: 1.6437 - acc: 0.4184\n",
            "Epoch 13/20\n",
            "28000/28000 [==============================] - 1s 33us/step - loss: 1.6324 - acc: 0.4231\n",
            "Epoch 14/20\n",
            "28000/28000 [==============================] - 1s 33us/step - loss: 1.6233 - acc: 0.4332\n",
            "Epoch 15/20\n",
            "28000/28000 [==============================] - 1s 34us/step - loss: 1.5963 - acc: 0.4430\n",
            "Epoch 16/20\n",
            "28000/28000 [==============================] - 1s 34us/step - loss: 1.5840 - acc: 0.4476\n",
            "Epoch 17/20\n",
            "28000/28000 [==============================] - 1s 33us/step - loss: 1.5633 - acc: 0.4576\n",
            "Epoch 18/20\n",
            "28000/28000 [==============================] - 1s 33us/step - loss: 1.5551 - acc: 0.4590\n",
            "Epoch 19/20\n",
            "28000/28000 [==============================] - 1s 34us/step - loss: 1.5398 - acc: 0.4675\n",
            "Epoch 20/20\n",
            "28000/28000 [==============================] - 1s 34us/step - loss: 1.5198 - acc: 0.4765\n",
            "14000/14000 [==============================] - 1s 36us/step\n",
            "Epoch 1/20\n",
            "28000/28000 [==============================] - 2s 68us/step - loss: 2.3016 - acc: 0.1034\n",
            "Epoch 2/20\n",
            "28000/28000 [==============================] - 1s 34us/step - loss: 2.2369 - acc: 0.1426\n",
            "Epoch 3/20\n",
            "28000/28000 [==============================] - 1s 34us/step - loss: 2.1332 - acc: 0.1791\n",
            "Epoch 4/20\n",
            "28000/28000 [==============================] - 1s 33us/step - loss: 2.0705 - acc: 0.2061\n",
            "Epoch 5/20\n",
            "28000/28000 [==============================] - 1s 33us/step - loss: 2.0201 - acc: 0.2261\n",
            "Epoch 6/20\n",
            "28000/28000 [==============================] - 1s 33us/step - loss: 1.9693 - acc: 0.2591\n",
            "Epoch 7/20\n",
            "28000/28000 [==============================] - 1s 33us/step - loss: 1.9153 - acc: 0.3009\n",
            "Epoch 8/20\n",
            "28000/28000 [==============================] - 1s 33us/step - loss: 1.8433 - acc: 0.3417\n",
            "Epoch 9/20\n",
            "28000/28000 [==============================] - 1s 32us/step - loss: 1.7774 - acc: 0.3729\n",
            "Epoch 10/20\n",
            "28000/28000 [==============================] - 1s 33us/step - loss: 1.7312 - acc: 0.3955\n",
            "Epoch 11/20\n",
            "28000/28000 [==============================] - 1s 32us/step - loss: 1.6848 - acc: 0.4105\n",
            "Epoch 12/20\n",
            "28000/28000 [==============================] - 1s 32us/step - loss: 1.6546 - acc: 0.4262\n",
            "Epoch 13/20\n",
            "28000/28000 [==============================] - 1s 31us/step - loss: 1.6313 - acc: 0.4347\n",
            "Epoch 14/20\n",
            "28000/28000 [==============================] - 1s 31us/step - loss: 1.6090 - acc: 0.4441\n",
            "Epoch 15/20\n",
            "28000/28000 [==============================] - 1s 32us/step - loss: 1.6137 - acc: 0.4391\n",
            "Epoch 16/20\n",
            "28000/28000 [==============================] - 1s 32us/step - loss: 1.5893 - acc: 0.4520\n",
            "Epoch 17/20\n",
            "28000/28000 [==============================] - 1s 33us/step - loss: 1.5760 - acc: 0.4554\n",
            "Epoch 18/20\n",
            "28000/28000 [==============================] - 1s 33us/step - loss: 1.5630 - acc: 0.4606\n",
            "Epoch 19/20\n",
            "28000/28000 [==============================] - 1s 33us/step - loss: 1.5551 - acc: 0.4662\n",
            "Epoch 20/20\n",
            "28000/28000 [==============================] - 1s 33us/step - loss: 1.5567 - acc: 0.4637\n",
            "14000/14000 [==============================] - 1s 39us/step\n",
            "Epoch 1/20\n",
            "28000/28000 [==============================] - 2s 73us/step - loss: 2.3026 - acc: 0.1044\n",
            "Epoch 2/20\n",
            "28000/28000 [==============================] - 1s 32us/step - loss: 2.2256 - acc: 0.1564\n",
            "Epoch 3/20\n",
            "28000/28000 [==============================] - 1s 32us/step - loss: 2.1128 - acc: 0.2041\n",
            "Epoch 4/20\n",
            "28000/28000 [==============================] - 1s 32us/step - loss: 2.0382 - acc: 0.2374\n",
            "Epoch 5/20\n",
            "28000/28000 [==============================] - 1s 32us/step - loss: 1.9568 - acc: 0.2735\n",
            "Epoch 6/20\n",
            "28000/28000 [==============================] - 1s 32us/step - loss: 1.8873 - acc: 0.2974\n",
            "Epoch 7/20\n",
            "28000/28000 [==============================] - 1s 36us/step - loss: 1.8418 - acc: 0.3148\n",
            "Epoch 8/20\n",
            "28000/28000 [==============================] - 1s 35us/step - loss: 1.8075 - acc: 0.3379\n",
            "Epoch 9/20\n",
            "28000/28000 [==============================] - 1s 35us/step - loss: 1.7791 - acc: 0.3501\n",
            "Epoch 10/20\n",
            "28000/28000 [==============================] - 1s 34us/step - loss: 1.7376 - acc: 0.3723\n",
            "Epoch 11/20\n",
            "28000/28000 [==============================] - 1s 35us/step - loss: 1.7062 - acc: 0.3890\n",
            "Epoch 12/20\n",
            "28000/28000 [==============================] - 1s 36us/step - loss: 1.6668 - acc: 0.4097\n",
            "Epoch 13/20\n",
            "28000/28000 [==============================] - 1s 36us/step - loss: 1.6210 - acc: 0.4299\n",
            "Epoch 14/20\n",
            "28000/28000 [==============================] - 1s 37us/step - loss: 1.5928 - acc: 0.4402\n",
            "Epoch 15/20\n",
            "28000/28000 [==============================] - 1s 35us/step - loss: 1.5707 - acc: 0.4479\n",
            "Epoch 16/20\n",
            "28000/28000 [==============================] - 1s 36us/step - loss: 1.5538 - acc: 0.4548\n",
            "Epoch 17/20\n",
            "28000/28000 [==============================] - 1s 35us/step - loss: 1.5298 - acc: 0.4679\n",
            "Epoch 18/20\n",
            "28000/28000 [==============================] - 1s 33us/step - loss: 1.5075 - acc: 0.4728\n",
            "Epoch 19/20\n",
            "28000/28000 [==============================] - 1s 33us/step - loss: 1.5057 - acc: 0.4765\n",
            "Epoch 20/20\n",
            "28000/28000 [==============================] - 1s 33us/step - loss: 1.4875 - acc: 0.4824\n",
            "14000/14000 [==============================] - 1s 40us/step\n",
            "Epoch 1/20\n",
            "28000/28000 [==============================] - 2s 73us/step - loss: 2.3027 - acc: 0.1012\n",
            "Epoch 2/20\n",
            "28000/28000 [==============================] - 1s 33us/step - loss: 2.2820 - acc: 0.1159\n",
            "Epoch 3/20\n",
            "28000/28000 [==============================] - 1s 33us/step - loss: 2.2224 - acc: 0.1484\n",
            "Epoch 4/20\n",
            "28000/28000 [==============================] - 1s 34us/step - loss: 2.1895 - acc: 0.1519\n",
            "Epoch 5/20\n",
            "28000/28000 [==============================] - 1s 34us/step - loss: 2.1778 - acc: 0.1598\n",
            "Epoch 6/20\n",
            "28000/28000 [==============================] - 1s 34us/step - loss: 2.1686 - acc: 0.1629\n",
            "Epoch 7/20\n",
            "28000/28000 [==============================] - 1s 33us/step - loss: 2.1615 - acc: 0.1641\n",
            "Epoch 8/20\n",
            "28000/28000 [==============================] - 1s 34us/step - loss: 2.1547 - acc: 0.1697\n",
            "Epoch 9/20\n",
            "28000/28000 [==============================] - 1s 34us/step - loss: 2.1151 - acc: 0.2027\n",
            "Epoch 10/20\n",
            "28000/28000 [==============================] - 1s 34us/step - loss: 2.0661 - acc: 0.2266\n",
            "Epoch 11/20\n",
            "28000/28000 [==============================] - 1s 34us/step - loss: 2.0311 - acc: 0.2429\n",
            "Epoch 12/20\n",
            "28000/28000 [==============================] - 1s 34us/step - loss: 2.0101 - acc: 0.2483\n",
            "Epoch 13/20\n",
            "28000/28000 [==============================] - 1s 33us/step - loss: 1.9965 - acc: 0.2531\n",
            "Epoch 14/20\n",
            "28000/28000 [==============================] - 1s 35us/step - loss: 1.9894 - acc: 0.2549\n",
            "Epoch 15/20\n",
            "28000/28000 [==============================] - 1s 34us/step - loss: 1.9840 - acc: 0.2571\n",
            "Epoch 16/20\n",
            "28000/28000 [==============================] - 1s 35us/step - loss: 1.9731 - acc: 0.2634\n",
            "Epoch 17/20\n",
            "28000/28000 [==============================] - 1s 34us/step - loss: 1.9582 - acc: 0.2719\n",
            "Epoch 18/20\n",
            "28000/28000 [==============================] - 1s 34us/step - loss: 1.9487 - acc: 0.2744\n",
            "Epoch 19/20\n",
            "28000/28000 [==============================] - 1s 34us/step - loss: 1.9435 - acc: 0.2797\n",
            "Epoch 20/20\n",
            "28000/28000 [==============================] - 1s 34us/step - loss: 1.9213 - acc: 0.2916\n",
            "14000/14000 [==============================] - 1s 45us/step\n",
            "Epoch 1/10\n",
            "28000/28000 [==============================] - 2s 60us/step - loss: 2.3187 - acc: 0.1056\n",
            "Epoch 2/10\n",
            "28000/28000 [==============================] - 0s 14us/step - loss: 2.2800 - acc: 0.1256\n",
            "Epoch 3/10\n",
            "28000/28000 [==============================] - 0s 14us/step - loss: 2.2253 - acc: 0.1570\n",
            "Epoch 4/10\n",
            "28000/28000 [==============================] - 0s 14us/step - loss: 2.1583 - acc: 0.1976\n",
            "Epoch 5/10\n",
            "28000/28000 [==============================] - 0s 14us/step - loss: 2.0964 - acc: 0.2363\n",
            "Epoch 6/10\n",
            "28000/28000 [==============================] - 0s 14us/step - loss: 2.0314 - acc: 0.2645\n",
            "Epoch 7/10\n",
            "28000/28000 [==============================] - 0s 14us/step - loss: 1.9775 - acc: 0.2792\n",
            "Epoch 8/10\n",
            "28000/28000 [==============================] - 0s 14us/step - loss: 1.9280 - acc: 0.2978\n",
            "Epoch 9/10\n",
            "28000/28000 [==============================] - 0s 14us/step - loss: 1.8950 - acc: 0.3135\n",
            "Epoch 10/10\n",
            "28000/28000 [==============================] - 0s 14us/step - loss: 1.8543 - acc: 0.3253\n",
            "14000/14000 [==============================] - 1s 39us/step\n",
            "Epoch 1/10\n",
            "28000/28000 [==============================] - 2s 61us/step - loss: 2.3211 - acc: 0.1043\n",
            "Epoch 2/10\n",
            "28000/28000 [==============================] - 0s 14us/step - loss: 2.2850 - acc: 0.1326\n",
            "Epoch 3/10\n",
            "28000/28000 [==============================] - 0s 14us/step - loss: 2.2255 - acc: 0.1855\n",
            "Epoch 4/10\n",
            "28000/28000 [==============================] - 0s 14us/step - loss: 2.1333 - acc: 0.2358\n",
            "Epoch 5/10\n",
            "28000/28000 [==============================] - 0s 14us/step - loss: 2.0445 - acc: 0.2720\n",
            "Epoch 6/10\n",
            "28000/28000 [==============================] - 0s 14us/step - loss: 1.9689 - acc: 0.2990\n",
            "Epoch 7/10\n",
            "28000/28000 [==============================] - 0s 14us/step - loss: 1.8956 - acc: 0.3308\n",
            "Epoch 8/10\n",
            "28000/28000 [==============================] - 0s 14us/step - loss: 1.8365 - acc: 0.3570\n",
            "Epoch 9/10\n",
            "28000/28000 [==============================] - 0s 14us/step - loss: 1.7890 - acc: 0.3743\n",
            "Epoch 10/10\n",
            "28000/28000 [==============================] - 0s 14us/step - loss: 1.7528 - acc: 0.3905\n",
            "14000/14000 [==============================] - 1s 40us/step\n",
            "Epoch 1/10\n",
            "28000/28000 [==============================] - 2s 64us/step - loss: 2.3145 - acc: 0.1100\n",
            "Epoch 2/10\n",
            "28000/28000 [==============================] - 0s 14us/step - loss: 2.2880 - acc: 0.1285\n",
            "Epoch 3/10\n",
            "28000/28000 [==============================] - 0s 14us/step - loss: 2.2323 - acc: 0.1783\n",
            "Epoch 4/10\n",
            "28000/28000 [==============================] - 0s 14us/step - loss: 2.1391 - acc: 0.2291\n",
            "Epoch 5/10\n",
            "28000/28000 [==============================] - 0s 13us/step - loss: 2.0379 - acc: 0.2774\n",
            "Epoch 6/10\n",
            "28000/28000 [==============================] - 0s 14us/step - loss: 1.9539 - acc: 0.3154\n",
            "Epoch 7/10\n",
            "28000/28000 [==============================] - 0s 14us/step - loss: 1.8955 - acc: 0.3308\n",
            "Epoch 8/10\n",
            "28000/28000 [==============================] - 0s 14us/step - loss: 1.8373 - acc: 0.3537\n",
            "Epoch 9/10\n",
            "28000/28000 [==============================] - 0s 14us/step - loss: 1.7868 - acc: 0.3744\n",
            "Epoch 10/10\n",
            "28000/28000 [==============================] - 0s 14us/step - loss: 1.7480 - acc: 0.3881\n",
            "14000/14000 [==============================] - 1s 42us/step\n",
            "Epoch 1/10\n",
            "28000/28000 [==============================] - 2s 63us/step - loss: 2.3027 - acc: 0.0996\n",
            "Epoch 2/10\n",
            "28000/28000 [==============================] - 0s 15us/step - loss: 2.2963 - acc: 0.1253\n",
            "Epoch 3/10\n",
            "28000/28000 [==============================] - 0s 14us/step - loss: 2.2482 - acc: 0.1657\n",
            "Epoch 4/10\n",
            "28000/28000 [==============================] - 0s 14us/step - loss: 2.1594 - acc: 0.2131\n",
            "Epoch 5/10\n",
            "28000/28000 [==============================] - 0s 14us/step - loss: 2.0745 - acc: 0.2441\n",
            "Epoch 6/10\n",
            "28000/28000 [==============================] - 0s 14us/step - loss: 2.0110 - acc: 0.2676\n",
            "Epoch 7/10\n",
            "28000/28000 [==============================] - 0s 14us/step - loss: 1.9534 - acc: 0.2885\n",
            "Epoch 8/10\n",
            "28000/28000 [==============================] - 0s 14us/step - loss: 1.9161 - acc: 0.3005\n",
            "Epoch 9/10\n",
            "28000/28000 [==============================] - 0s 14us/step - loss: 1.8738 - acc: 0.3195\n",
            "Epoch 10/10\n",
            "28000/28000 [==============================] - 0s 14us/step - loss: 1.8519 - acc: 0.3289\n",
            "14000/14000 [==============================] - 1s 47us/step\n",
            "Epoch 1/10\n",
            "28000/28000 [==============================] - 2s 69us/step - loss: 2.3031 - acc: 0.1033\n",
            "Epoch 2/10\n",
            "28000/28000 [==============================] - 0s 14us/step - loss: 2.2979 - acc: 0.1162\n",
            "Epoch 3/10\n",
            "28000/28000 [==============================] - 0s 14us/step - loss: 2.2563 - acc: 0.1624\n",
            "Epoch 4/10\n",
            "28000/28000 [==============================] - 0s 14us/step - loss: 2.1752 - acc: 0.2038\n",
            "Epoch 5/10\n",
            "28000/28000 [==============================] - 0s 15us/step - loss: 2.0910 - acc: 0.2366\n",
            "Epoch 6/10\n",
            "28000/28000 [==============================] - 0s 14us/step - loss: 2.0216 - acc: 0.2639\n",
            "Epoch 7/10\n",
            "28000/28000 [==============================] - 0s 14us/step - loss: 1.9641 - acc: 0.2809\n",
            "Epoch 8/10\n",
            "28000/28000 [==============================] - 0s 14us/step - loss: 1.9220 - acc: 0.2972\n",
            "Epoch 9/10\n",
            "28000/28000 [==============================] - 0s 14us/step - loss: 1.8812 - acc: 0.3152\n",
            "Epoch 10/10\n",
            "28000/28000 [==============================] - 0s 14us/step - loss: 1.8557 - acc: 0.3273\n",
            "14000/14000 [==============================] - 1s 46us/step\n",
            "Epoch 1/10\n",
            "28000/28000 [==============================] - 2s 69us/step - loss: 2.3030 - acc: 0.0989\n",
            "Epoch 2/10\n",
            "28000/28000 [==============================] - 0s 15us/step - loss: 2.3016 - acc: 0.1080\n",
            "Epoch 3/10\n",
            "28000/28000 [==============================] - 0s 14us/step - loss: 2.2814 - acc: 0.1361\n",
            "Epoch 4/10\n",
            "28000/28000 [==============================] - 0s 14us/step - loss: 2.2212 - acc: 0.1895\n",
            "Epoch 5/10\n",
            "28000/28000 [==============================] - 0s 13us/step - loss: 2.1435 - acc: 0.2233\n",
            "Epoch 6/10\n",
            "28000/28000 [==============================] - 0s 14us/step - loss: 2.0704 - acc: 0.2502\n",
            "Epoch 7/10\n",
            "28000/28000 [==============================] - 0s 14us/step - loss: 2.0139 - acc: 0.2685\n",
            "Epoch 8/10\n",
            "28000/28000 [==============================] - 0s 14us/step - loss: 1.9655 - acc: 0.2876\n",
            "Epoch 9/10\n",
            "28000/28000 [==============================] - 0s 14us/step - loss: 1.9286 - acc: 0.3007\n",
            "Epoch 10/10\n",
            "28000/28000 [==============================] - 0s 13us/step - loss: 1.8955 - acc: 0.3170\n",
            "14000/14000 [==============================] - 1s 47us/step\n",
            "Epoch 1/20\n",
            "28000/28000 [==============================] - 2s 72us/step - loss: 2.3139 - acc: 0.1132\n",
            "Epoch 2/20\n",
            "28000/28000 [==============================] - 0s 14us/step - loss: 2.2772 - acc: 0.1243\n",
            "Epoch 3/20\n",
            "28000/28000 [==============================] - 0s 14us/step - loss: 2.2335 - acc: 0.1537\n",
            "Epoch 4/20\n",
            "28000/28000 [==============================] - 0s 13us/step - loss: 2.1638 - acc: 0.2054\n",
            "Epoch 5/20\n",
            "28000/28000 [==============================] - 0s 13us/step - loss: 2.0915 - acc: 0.2432\n",
            "Epoch 6/20\n",
            "28000/28000 [==============================] - 0s 14us/step - loss: 2.0188 - acc: 0.2743\n",
            "Epoch 7/20\n",
            "28000/28000 [==============================] - 0s 13us/step - loss: 1.9521 - acc: 0.3055\n",
            "Epoch 8/20\n",
            "28000/28000 [==============================] - 0s 13us/step - loss: 1.8920 - acc: 0.3347\n",
            "Epoch 9/20\n",
            "28000/28000 [==============================] - 0s 13us/step - loss: 1.8480 - acc: 0.3478\n",
            "Epoch 10/20\n",
            "28000/28000 [==============================] - 0s 13us/step - loss: 1.8069 - acc: 0.3625\n",
            "Epoch 11/20\n",
            "28000/28000 [==============================] - 0s 13us/step - loss: 1.7693 - acc: 0.3812\n",
            "Epoch 12/20\n",
            "28000/28000 [==============================] - 0s 13us/step - loss: 1.7326 - acc: 0.4002\n",
            "Epoch 13/20\n",
            "28000/28000 [==============================] - 0s 13us/step - loss: 1.7155 - acc: 0.4056\n",
            "Epoch 14/20\n",
            "28000/28000 [==============================] - 0s 13us/step - loss: 1.6789 - acc: 0.4225\n",
            "Epoch 15/20\n",
            "28000/28000 [==============================] - 0s 13us/step - loss: 1.6614 - acc: 0.4265\n",
            "Epoch 16/20\n",
            "28000/28000 [==============================] - 0s 13us/step - loss: 1.6336 - acc: 0.4343\n",
            "Epoch 17/20\n",
            "28000/28000 [==============================] - 0s 13us/step - loss: 1.6240 - acc: 0.4423\n",
            "Epoch 18/20\n",
            "28000/28000 [==============================] - 0s 13us/step - loss: 1.5931 - acc: 0.4537\n",
            "Epoch 19/20\n",
            "28000/28000 [==============================] - 0s 13us/step - loss: 1.5852 - acc: 0.4565\n",
            "Epoch 20/20\n",
            "28000/28000 [==============================] - 0s 13us/step - loss: 1.5642 - acc: 0.4599\n",
            "14000/14000 [==============================] - 1s 50us/step\n",
            "Epoch 1/20\n",
            "28000/28000 [==============================] - 2s 74us/step - loss: 2.3148 - acc: 0.1061\n",
            "Epoch 2/20\n",
            "28000/28000 [==============================] - 0s 14us/step - loss: 2.2871 - acc: 0.1306\n",
            "Epoch 3/20\n",
            "28000/28000 [==============================] - 0s 14us/step - loss: 2.2288 - acc: 0.1757\n",
            "Epoch 4/20\n",
            "28000/28000 [==============================] - 0s 14us/step - loss: 2.1341 - acc: 0.2281\n",
            "Epoch 5/20\n",
            "28000/28000 [==============================] - 0s 14us/step - loss: 2.0511 - acc: 0.2656\n",
            "Epoch 6/20\n",
            "28000/28000 [==============================] - 0s 14us/step - loss: 1.9771 - acc: 0.2978\n",
            "Epoch 7/20\n",
            "28000/28000 [==============================] - 0s 14us/step - loss: 1.9148 - acc: 0.3293\n",
            "Epoch 8/20\n",
            "28000/28000 [==============================] - 0s 14us/step - loss: 1.8614 - acc: 0.3474\n",
            "Epoch 9/20\n",
            "28000/28000 [==============================] - 0s 15us/step - loss: 1.8159 - acc: 0.3668\n",
            "Epoch 10/20\n",
            "28000/28000 [==============================] - 0s 14us/step - loss: 1.7652 - acc: 0.3868\n",
            "Epoch 11/20\n",
            "28000/28000 [==============================] - 0s 15us/step - loss: 1.7205 - acc: 0.4065\n",
            "Epoch 12/20\n",
            "28000/28000 [==============================] - 0s 14us/step - loss: 1.6903 - acc: 0.4099\n",
            "Epoch 13/20\n",
            "28000/28000 [==============================] - 0s 15us/step - loss: 1.6541 - acc: 0.4287\n",
            "Epoch 14/20\n",
            "28000/28000 [==============================] - 0s 14us/step - loss: 1.6218 - acc: 0.4392\n",
            "Epoch 15/20\n",
            "28000/28000 [==============================] - 0s 14us/step - loss: 1.5932 - acc: 0.4515\n",
            "Epoch 16/20\n",
            "28000/28000 [==============================] - 0s 14us/step - loss: 1.5728 - acc: 0.4612\n",
            "Epoch 17/20\n",
            "28000/28000 [==============================] - 0s 14us/step - loss: 1.5505 - acc: 0.4670\n",
            "Epoch 18/20\n",
            "28000/28000 [==============================] - 0s 14us/step - loss: 1.5356 - acc: 0.4734\n",
            "Epoch 19/20\n",
            "28000/28000 [==============================] - 0s 14us/step - loss: 1.5167 - acc: 0.4850\n",
            "Epoch 20/20\n",
            "28000/28000 [==============================] - 0s 14us/step - loss: 1.5008 - acc: 0.4876\n",
            "14000/14000 [==============================] - 1s 48us/step\n",
            "Epoch 1/20\n",
            "28000/28000 [==============================] - 2s 76us/step - loss: 2.3143 - acc: 0.1059\n",
            "Epoch 2/20\n",
            "28000/28000 [==============================] - 0s 14us/step - loss: 2.2951 - acc: 0.1228\n",
            "Epoch 3/20\n",
            "28000/28000 [==============================] - 0s 14us/step - loss: 2.2537 - acc: 0.1639\n",
            "Epoch 4/20\n",
            "28000/28000 [==============================] - 0s 14us/step - loss: 2.1719 - acc: 0.2177\n",
            "Epoch 5/20\n",
            "28000/28000 [==============================] - 0s 13us/step - loss: 2.0724 - acc: 0.2701\n",
            "Epoch 6/20\n",
            "28000/28000 [==============================] - 0s 14us/step - loss: 1.9798 - acc: 0.3073\n",
            "Epoch 7/20\n",
            "28000/28000 [==============================] - 0s 14us/step - loss: 1.8997 - acc: 0.3427\n",
            "Epoch 8/20\n",
            "28000/28000 [==============================] - 0s 14us/step - loss: 1.8349 - acc: 0.3684\n",
            "Epoch 9/20\n",
            "28000/28000 [==============================] - 0s 14us/step - loss: 1.7825 - acc: 0.3864\n",
            "Epoch 10/20\n",
            "28000/28000 [==============================] - 0s 13us/step - loss: 1.7301 - acc: 0.4099\n",
            "Epoch 11/20\n",
            "28000/28000 [==============================] - 0s 14us/step - loss: 1.6927 - acc: 0.4195\n",
            "Epoch 12/20\n",
            "28000/28000 [==============================] - 0s 14us/step - loss: 1.6516 - acc: 0.4397\n",
            "Epoch 13/20\n",
            "28000/28000 [==============================] - 0s 14us/step - loss: 1.6189 - acc: 0.4500\n",
            "Epoch 14/20\n",
            "28000/28000 [==============================] - 0s 14us/step - loss: 1.5896 - acc: 0.4602\n",
            "Epoch 15/20\n",
            "28000/28000 [==============================] - 0s 13us/step - loss: 1.5749 - acc: 0.4649\n",
            "Epoch 16/20\n",
            "28000/28000 [==============================] - 0s 14us/step - loss: 1.5375 - acc: 0.4783\n",
            "Epoch 17/20\n",
            "28000/28000 [==============================] - 0s 14us/step - loss: 1.5236 - acc: 0.4841\n",
            "Epoch 18/20\n",
            "28000/28000 [==============================] - 0s 14us/step - loss: 1.5039 - acc: 0.4892\n",
            "Epoch 19/20\n",
            "28000/28000 [==============================] - 0s 14us/step - loss: 1.4723 - acc: 0.5071\n",
            "Epoch 20/20\n",
            "28000/28000 [==============================] - 0s 14us/step - loss: 1.4554 - acc: 0.5146\n",
            "14000/14000 [==============================] - 1s 54us/step\n",
            "Epoch 1/20\n",
            "28000/28000 [==============================] - 2s 77us/step - loss: 2.3029 - acc: 0.1015\n",
            "Epoch 2/20\n",
            "28000/28000 [==============================] - 0s 14us/step - loss: 2.3012 - acc: 0.1086\n",
            "Epoch 3/20\n",
            "28000/28000 [==============================] - 0s 14us/step - loss: 2.2744 - acc: 0.1469\n",
            "Epoch 4/20\n",
            "28000/28000 [==============================] - 0s 14us/step - loss: 2.2034 - acc: 0.1910\n",
            "Epoch 5/20\n",
            "28000/28000 [==============================] - 0s 14us/step - loss: 2.1347 - acc: 0.2161\n",
            "Epoch 6/20\n",
            "28000/28000 [==============================] - 0s 14us/step - loss: 2.0691 - acc: 0.2424\n",
            "Epoch 7/20\n",
            "28000/28000 [==============================] - 0s 14us/step - loss: 2.0088 - acc: 0.2712\n",
            "Epoch 8/20\n",
            "28000/28000 [==============================] - 0s 14us/step - loss: 1.9604 - acc: 0.2914\n",
            "Epoch 9/20\n",
            "28000/28000 [==============================] - 0s 14us/step - loss: 1.9179 - acc: 0.3131\n",
            "Epoch 10/20\n",
            "28000/28000 [==============================] - 0s 14us/step - loss: 1.8775 - acc: 0.3290\n",
            "Epoch 11/20\n",
            "28000/28000 [==============================] - 0s 13us/step - loss: 1.8440 - acc: 0.3411\n",
            "Epoch 12/20\n",
            "28000/28000 [==============================] - 0s 14us/step - loss: 1.8096 - acc: 0.3546\n",
            "Epoch 13/20\n",
            "28000/28000 [==============================] - 0s 14us/step - loss: 1.7778 - acc: 0.3735\n",
            "Epoch 14/20\n",
            "28000/28000 [==============================] - 0s 14us/step - loss: 1.7437 - acc: 0.3908\n",
            "Epoch 15/20\n",
            "28000/28000 [==============================] - 0s 14us/step - loss: 1.7095 - acc: 0.4020\n",
            "Epoch 16/20\n",
            "28000/28000 [==============================] - 0s 14us/step - loss: 1.6863 - acc: 0.4122\n",
            "Epoch 17/20\n",
            "28000/28000 [==============================] - 0s 14us/step - loss: 1.6568 - acc: 0.4221\n",
            "Epoch 18/20\n",
            "28000/28000 [==============================] - 0s 14us/step - loss: 1.6226 - acc: 0.4399\n",
            "Epoch 19/20\n",
            "28000/28000 [==============================] - 0s 14us/step - loss: 1.6104 - acc: 0.4456\n",
            "Epoch 20/20\n",
            "28000/28000 [==============================] - 0s 14us/step - loss: 1.5893 - acc: 0.4490\n",
            "14000/14000 [==============================] - 1s 56us/step\n",
            "Epoch 1/20\n",
            "28000/28000 [==============================] - 2s 82us/step - loss: 2.3030 - acc: 0.1001\n",
            "Epoch 2/20\n",
            "28000/28000 [==============================] - 0s 15us/step - loss: 2.3011 - acc: 0.1088\n",
            "Epoch 3/20\n",
            "28000/28000 [==============================] - 0s 14us/step - loss: 2.2757 - acc: 0.1646\n",
            "Epoch 4/20\n",
            "28000/28000 [==============================] - 0s 14us/step - loss: 2.1871 - acc: 0.2132\n",
            "Epoch 5/20\n",
            "28000/28000 [==============================] - 0s 14us/step - loss: 2.0791 - acc: 0.2538\n",
            "Epoch 6/20\n",
            "28000/28000 [==============================] - 0s 14us/step - loss: 2.0000 - acc: 0.2768\n",
            "Epoch 7/20\n",
            "28000/28000 [==============================] - 0s 15us/step - loss: 1.9395 - acc: 0.2939\n",
            "Epoch 8/20\n",
            "28000/28000 [==============================] - 0s 15us/step - loss: 1.8967 - acc: 0.3100\n",
            "Epoch 9/20\n",
            "28000/28000 [==============================] - 0s 14us/step - loss: 1.8653 - acc: 0.3211\n",
            "Epoch 10/20\n",
            "28000/28000 [==============================] - 0s 14us/step - loss: 1.8192 - acc: 0.3427\n",
            "Epoch 11/20\n",
            "28000/28000 [==============================] - 0s 14us/step - loss: 1.7890 - acc: 0.3557\n",
            "Epoch 12/20\n",
            "28000/28000 [==============================] - 0s 14us/step - loss: 1.7669 - acc: 0.3640\n",
            "Epoch 13/20\n",
            "28000/28000 [==============================] - 0s 15us/step - loss: 1.7402 - acc: 0.3755\n",
            "Epoch 14/20\n",
            "28000/28000 [==============================] - 0s 15us/step - loss: 1.7095 - acc: 0.3912\n",
            "Epoch 15/20\n",
            "28000/28000 [==============================] - 0s 14us/step - loss: 1.6826 - acc: 0.4045\n",
            "Epoch 16/20\n",
            "28000/28000 [==============================] - 0s 15us/step - loss: 1.6627 - acc: 0.4151\n",
            "Epoch 17/20\n",
            "28000/28000 [==============================] - 0s 14us/step - loss: 1.6373 - acc: 0.4269\n",
            "Epoch 18/20\n",
            "28000/28000 [==============================] - 0s 14us/step - loss: 1.6146 - acc: 0.4333\n",
            "Epoch 19/20\n",
            "28000/28000 [==============================] - 0s 14us/step - loss: 1.5939 - acc: 0.4463\n",
            "Epoch 20/20\n",
            "28000/28000 [==============================] - 0s 14us/step - loss: 1.5818 - acc: 0.4510\n",
            "14000/14000 [==============================] - 1s 57us/step\n",
            "Epoch 1/20\n",
            "28000/28000 [==============================] - 2s 85us/step - loss: 2.3030 - acc: 0.1022\n",
            "Epoch 2/20\n",
            "28000/28000 [==============================] - 0s 15us/step - loss: 2.3012 - acc: 0.1064\n",
            "Epoch 3/20\n",
            "28000/28000 [==============================] - 0s 15us/step - loss: 2.2797 - acc: 0.1393\n",
            "Epoch 4/20\n",
            "28000/28000 [==============================] - 0s 15us/step - loss: 2.2172 - acc: 0.1772\n",
            "Epoch 5/20\n",
            "28000/28000 [==============================] - 0s 15us/step - loss: 2.1302 - acc: 0.2186\n",
            "Epoch 6/20\n",
            "28000/28000 [==============================] - 0s 15us/step - loss: 2.0615 - acc: 0.2493\n",
            "Epoch 7/20\n",
            "28000/28000 [==============================] - 0s 14us/step - loss: 2.0036 - acc: 0.2732\n",
            "Epoch 8/20\n",
            "28000/28000 [==============================] - 0s 14us/step - loss: 1.9530 - acc: 0.2936\n",
            "Epoch 9/20\n",
            "28000/28000 [==============================] - 0s 14us/step - loss: 1.9139 - acc: 0.3146\n",
            "Epoch 10/20\n",
            "28000/28000 [==============================] - 0s 14us/step - loss: 1.8757 - acc: 0.3335\n",
            "Epoch 11/20\n",
            "28000/28000 [==============================] - 0s 14us/step - loss: 1.8465 - acc: 0.3407\n",
            "Epoch 12/20\n",
            "28000/28000 [==============================] - 0s 14us/step - loss: 1.8152 - acc: 0.3511\n",
            "Epoch 13/20\n",
            "28000/28000 [==============================] - 0s 15us/step - loss: 1.7855 - acc: 0.3639\n",
            "Epoch 14/20\n",
            "28000/28000 [==============================] - 0s 15us/step - loss: 1.7633 - acc: 0.3784\n",
            "Epoch 15/20\n",
            "28000/28000 [==============================] - 0s 15us/step - loss: 1.7331 - acc: 0.3861\n",
            "Epoch 16/20\n",
            "28000/28000 [==============================] - 0s 15us/step - loss: 1.7105 - acc: 0.3945\n",
            "Epoch 17/20\n",
            "28000/28000 [==============================] - 0s 15us/step - loss: 1.6916 - acc: 0.4027\n",
            "Epoch 18/20\n",
            "28000/28000 [==============================] - 0s 15us/step - loss: 1.6707 - acc: 0.4103\n",
            "Epoch 19/20\n",
            "28000/28000 [==============================] - 0s 15us/step - loss: 1.6477 - acc: 0.4221\n",
            "Epoch 20/20\n",
            "28000/28000 [==============================] - 0s 15us/step - loss: 1.6338 - acc: 0.4244\n",
            "14000/14000 [==============================] - 1s 64us/step\n",
            "Epoch 1/20\n",
            "42000/42000 [==============================] - 3s 63us/step - loss: 2.3102 - acc: 0.1097\n",
            "Epoch 2/20\n",
            "42000/42000 [==============================] - 1s 15us/step - loss: 2.2487 - acc: 0.1596\n",
            "Epoch 3/20\n",
            "42000/42000 [==============================] - 1s 15us/step - loss: 2.1247 - acc: 0.2278\n",
            "Epoch 4/20\n",
            "42000/42000 [==============================] - 1s 15us/step - loss: 2.0101 - acc: 0.2706\n",
            "Epoch 5/20\n",
            "42000/42000 [==============================] - 1s 15us/step - loss: 1.9214 - acc: 0.3080\n",
            "Epoch 6/20\n",
            "42000/42000 [==============================] - 1s 15us/step - loss: 1.8518 - acc: 0.3443\n",
            "Epoch 7/20\n",
            "42000/42000 [==============================] - 1s 15us/step - loss: 1.7932 - acc: 0.3681\n",
            "Epoch 8/20\n",
            "42000/42000 [==============================] - 1s 15us/step - loss: 1.7470 - acc: 0.3880\n",
            "Epoch 9/20\n",
            "42000/42000 [==============================] - 1s 16us/step - loss: 1.6976 - acc: 0.4162\n",
            "Epoch 10/20\n",
            "42000/42000 [==============================] - 1s 15us/step - loss: 1.6572 - acc: 0.4288\n",
            "Epoch 11/20\n",
            "42000/42000 [==============================] - 1s 15us/step - loss: 1.6125 - acc: 0.4488\n",
            "Epoch 12/20\n",
            "42000/42000 [==============================] - 1s 15us/step - loss: 1.5815 - acc: 0.4622\n",
            "Epoch 13/20\n",
            "42000/42000 [==============================] - 1s 15us/step - loss: 1.5465 - acc: 0.4768\n",
            "Epoch 14/20\n",
            "42000/42000 [==============================] - 1s 15us/step - loss: 1.5215 - acc: 0.4842\n",
            "Epoch 15/20\n",
            "42000/42000 [==============================] - 1s 15us/step - loss: 1.4950 - acc: 0.4916\n",
            "Epoch 16/20\n",
            "42000/42000 [==============================] - 1s 15us/step - loss: 1.4798 - acc: 0.4994\n",
            "Epoch 17/20\n",
            "42000/42000 [==============================] - 1s 15us/step - loss: 1.4595 - acc: 0.5093\n",
            "Epoch 18/20\n",
            "42000/42000 [==============================] - 1s 15us/step - loss: 1.4429 - acc: 0.5159\n",
            "Epoch 19/20\n",
            "42000/42000 [==============================] - 1s 14us/step - loss: 1.4332 - acc: 0.5201\n",
            "Epoch 20/20\n",
            "42000/42000 [==============================] - 1s 14us/step - loss: 1.4108 - acc: 0.5246\n",
            "CPU times: user 10min 8s, sys: 1min 52s, total: 12min\n",
            "Wall time: 5min 3s\n"
          ],
          "name": "stdout"
        }
      ]
    },
    {
      "cell_type": "code",
      "metadata": {
        "id": "DrL9aeKYtPvu",
        "colab_type": "code",
        "colab": {
          "base_uri": "https://localhost:8080/",
          "height": 170
        },
        "outputId": "28ba7bd6-cfdd-4392-c945-3f108a3a425b"
      },
      "source": [
        "# print results\n",
        "print(f'Best Accuracy for {grid_result.best_score_:.4} using {grid_result.best_params_}')\n",
        "means = grid_result.cv_results_['mean_test_score']\n",
        "stds = grid_result.cv_results_['std_test_score']\n",
        "params = grid_result.cv_results_['params']\n",
        "for mean, stdev, param in zip(means, stds, params):\n",
        "    print(f'mean={mean:.4}, std={stdev:.4} using {param}')"
      ],
      "execution_count": 41,
      "outputs": [
        {
          "output_type": "stream",
          "text": [
            "Best Accuracy for 0.5424 using {'batch_size': 512, 'epochs': 20, 'init': 'glorot_uniform'}\n",
            "mean=0.4511, std=0.04618 using {'batch_size': 128, 'epochs': 10, 'init': 'glorot_uniform'}\n",
            "mean=0.403, std=0.03822 using {'batch_size': 128, 'epochs': 10, 'init': 'uniform'}\n",
            "mean=0.5375, std=0.02378 using {'batch_size': 128, 'epochs': 20, 'init': 'glorot_uniform'}\n",
            "mean=0.4701, std=0.08746 using {'batch_size': 128, 'epochs': 20, 'init': 'uniform'}\n",
            "mean=0.4252, std=0.054 using {'batch_size': 512, 'epochs': 10, 'init': 'glorot_uniform'}\n",
            "mean=0.3471, std=0.0149 using {'batch_size': 512, 'epochs': 10, 'init': 'uniform'}\n",
            "mean=0.5424, std=0.02542 using {'batch_size': 512, 'epochs': 20, 'init': 'glorot_uniform'}\n",
            "mean=0.496, std=0.02985 using {'batch_size': 512, 'epochs': 20, 'init': 'uniform'}\n"
          ],
          "name": "stdout"
        }
      ]
    },
    {
      "cell_type": "markdown",
      "metadata": {
        "id": "orTUv-sBu2NP",
        "colab_type": "text"
      },
      "source": [
        "Best Accuracy for 0.539 using {'batch_size': 512, 'epochs': 20,\n",
        "'init': 'glorot_uniform'}"
      ]
    },
    {
      "cell_type": "markdown",
      "metadata": {
        "id": "hbG61Canw-Ml",
        "colab_type": "text"
      },
      "source": [
        "##Step 19: Best hyperparameters found in the previous step (Step 18)"
      ]
    },
    {
      "cell_type": "code",
      "metadata": {
        "id": "neRMHs2_cnls",
        "colab_type": "code",
        "colab": {}
      },
      "source": [
        "#Set the best hyperparameters found in the previous step. Check the Network’s accuracy.\t7"
      ],
      "execution_count": 0,
      "outputs": []
    },
    {
      "cell_type": "code",
      "metadata": {
        "id": "v979IFm7vWd0",
        "colab_type": "code",
        "colab": {
          "base_uri": "https://localhost:8080/",
          "height": 731
        },
        "outputId": "9cd181a8-bad6-4bfe-e6db-c6dce093e520"
      },
      "source": [
        "#Using the best parameters found and \n",
        "#Best Accuracy for 0.539 using {'batch_size': 512, 'epochs': 20, 'init': 'glorot_uniform'}\n",
        "\n",
        "model_final= tf.keras.models.Sequential()\n",
        "model_final.add(tf.keras.layers.Dense(1024,kernel_initializer='glorot_uniform',activation = 'relu'))\n",
        "model_final.add(tf.keras.layers.BatchNormalization())\n",
        "model_final.add(tf.keras.layers.Dense(512,kernel_initializer='glorot_uniform',activation='relu'))\n",
        "model_final.add(tf.keras.layers.Dense(256,kernel_initializer='glorot_uniform',activation='relu'))\n",
        "model_final.add(tf.keras.layers.Dense(128,kernel_initializer='glorot_uniform',activation='relu'))\n",
        "model_final.add(tf.keras.layers.Dense(10,kernel_initializer='glorot_uniform',activation='softmax'))\n",
        "adam_optimizer = tf.keras.optimizers.Adam(learning_rate=0.001, beta_1=0.9, beta_2=0.999, amsgrad=False)\n",
        "model_final.compile(optimizer=adam_optimizer,loss='categorical_crossentropy',metrics=['accuracy'])\n",
        "model_final.fit(X_train,y_train,epochs=20,validation_data=(X_test,y_test),batch_size=512)"
      ],
      "execution_count": 43,
      "outputs": [
        {
          "output_type": "stream",
          "text": [
            "Train on 42000 samples, validate on 18000 samples\n",
            "Epoch 1/20\n",
            "42000/42000 [==============================] - 3s 72us/sample - loss: 1.3591 - acc: 0.5573 - val_loss: 1.7116 - val_acc: 0.4925\n",
            "Epoch 2/20\n",
            "42000/42000 [==============================] - 2s 40us/sample - loss: 0.8950 - acc: 0.7258 - val_loss: 1.6671 - val_acc: 0.4337\n",
            "Epoch 3/20\n",
            "42000/42000 [==============================] - 2s 40us/sample - loss: 0.7866 - acc: 0.7579 - val_loss: 1.9304 - val_acc: 0.4098\n",
            "Epoch 4/20\n",
            "42000/42000 [==============================] - 2s 40us/sample - loss: 0.7176 - acc: 0.7806 - val_loss: 1.6770 - val_acc: 0.4781\n",
            "Epoch 5/20\n",
            "42000/42000 [==============================] - 2s 39us/sample - loss: 0.6574 - acc: 0.7984 - val_loss: 3.0905 - val_acc: 0.3139\n",
            "Epoch 6/20\n",
            "42000/42000 [==============================] - 2s 39us/sample - loss: 0.6342 - acc: 0.8047 - val_loss: 2.1950 - val_acc: 0.4452\n",
            "Epoch 7/20\n",
            "42000/42000 [==============================] - 2s 40us/sample - loss: 0.5837 - acc: 0.8229 - val_loss: 2.0272 - val_acc: 0.4708\n",
            "Epoch 8/20\n",
            "42000/42000 [==============================] - 2s 40us/sample - loss: 0.5601 - acc: 0.8287 - val_loss: 1.3497 - val_acc: 0.5932\n",
            "Epoch 9/20\n",
            "42000/42000 [==============================] - 2s 40us/sample - loss: 0.5146 - acc: 0.8422 - val_loss: 2.1845 - val_acc: 0.5037\n",
            "Epoch 10/20\n",
            "42000/42000 [==============================] - 2s 39us/sample - loss: 0.5283 - acc: 0.8369 - val_loss: 1.5967 - val_acc: 0.5796\n",
            "Epoch 11/20\n",
            "42000/42000 [==============================] - 2s 40us/sample - loss: 0.4985 - acc: 0.8475 - val_loss: 1.8247 - val_acc: 0.5441\n",
            "Epoch 12/20\n",
            "42000/42000 [==============================] - 2s 40us/sample - loss: 0.4921 - acc: 0.8480 - val_loss: 1.4149 - val_acc: 0.6294\n",
            "Epoch 13/20\n",
            "42000/42000 [==============================] - 2s 40us/sample - loss: 0.4421 - acc: 0.8641 - val_loss: 2.1008 - val_acc: 0.5339\n",
            "Epoch 14/20\n",
            "42000/42000 [==============================] - 2s 40us/sample - loss: 0.4794 - acc: 0.8512 - val_loss: 1.3340 - val_acc: 0.6356\n",
            "Epoch 15/20\n",
            "42000/42000 [==============================] - 2s 40us/sample - loss: 0.4072 - acc: 0.8730 - val_loss: 0.9667 - val_acc: 0.7212\n",
            "Epoch 16/20\n",
            "42000/42000 [==============================] - 2s 40us/sample - loss: 0.3799 - acc: 0.8817 - val_loss: 1.4450 - val_acc: 0.6300\n",
            "Epoch 17/20\n",
            "42000/42000 [==============================] - 2s 40us/sample - loss: 0.3884 - acc: 0.8792 - val_loss: 0.9366 - val_acc: 0.7264\n",
            "Epoch 18/20\n",
            "42000/42000 [==============================] - 2s 39us/sample - loss: 0.3565 - acc: 0.8879 - val_loss: 0.6931 - val_acc: 0.7987\n",
            "Epoch 19/20\n",
            "42000/42000 [==============================] - 2s 40us/sample - loss: 0.3428 - acc: 0.8923 - val_loss: 1.2399 - val_acc: 0.6512\n",
            "Epoch 20/20\n",
            "42000/42000 [==============================] - 2s 41us/sample - loss: 0.3365 - acc: 0.8935 - val_loss: 1.1623 - val_acc: 0.6729\n"
          ],
          "name": "stdout"
        },
        {
          "output_type": "execute_result",
          "data": {
            "text/plain": [
              "<tensorflow.python.keras.callbacks.History at 0x7fb54482df98>"
            ]
          },
          "metadata": {
            "tags": []
          },
          "execution_count": 43
        }
      ]
    },
    {
      "cell_type": "code",
      "metadata": {
        "id": "6t3g126wwW3q",
        "colab_type": "code",
        "colab": {
          "base_uri": "https://localhost:8080/",
          "height": 1000
        },
        "outputId": "e440ff81-6ce7-47a0-84e7-90e6b4af1445"
      },
      "source": [
        "%%time\n",
        "model_final= tf.keras.models.Sequential()\n",
        "model_final.add(tf.keras.layers.Dense(1024,kernel_initializer='glorot_uniform',activation = 'relu'))\n",
        "model_final.add(tf.keras.layers.BatchNormalization())\n",
        "model_final.add(tf.keras.layers.Dense(512,kernel_initializer='glorot_uniform',activation='relu'))\n",
        "model_final.add(tf.keras.layers.Dense(256,kernel_initializer='glorot_uniform',activation='relu'))\n",
        "model_final.add(tf.keras.layers.Dense(128,kernel_initializer='glorot_uniform',activation='relu'))\n",
        "model_final.add(tf.keras.layers.Dense(10,kernel_initializer='glorot_uniform',activation='softmax'))\n",
        "adam_optimizer = tf.keras.optimizers.Adam(learning_rate=0.001, beta_1=0.9, beta_2=0.999, amsgrad=False)\n",
        "model_final.compile(optimizer=adam_optimizer,loss='categorical_crossentropy',metrics=['accuracy'])\n",
        "#model_final.fit(X_train,y_train,epochs=30,validation_data=(X_test,y_test),batch_size=512)\n",
        "# Fit the model\n",
        "\n",
        "\n",
        "model_final_history = model_final.fit(X_train, y_train,\n",
        "                    batch_size=512,\n",
        "                    epochs=30,\n",
        "                    verbose=1,\n",
        "                    validation_data=(X_test, y_test))"
      ],
      "execution_count": 44,
      "outputs": [
        {
          "output_type": "stream",
          "text": [
            "Train on 42000 samples, validate on 18000 samples\n",
            "Epoch 1/30\n",
            "42000/42000 [==============================] - 3s 75us/sample - loss: 1.3443 - acc: 0.5568 - val_loss: 1.8867 - val_acc: 0.3378\n",
            "Epoch 2/30\n",
            "42000/42000 [==============================] - 2s 40us/sample - loss: 0.8850 - acc: 0.7279 - val_loss: 1.8282 - val_acc: 0.3609\n",
            "Epoch 3/30\n",
            "42000/42000 [==============================] - 2s 39us/sample - loss: 0.7744 - acc: 0.7600 - val_loss: 2.3288 - val_acc: 0.3806\n",
            "Epoch 4/30\n",
            "42000/42000 [==============================] - 2s 39us/sample - loss: 0.7080 - acc: 0.7836 - val_loss: 2.9823 - val_acc: 0.2919\n",
            "Epoch 5/30\n",
            "42000/42000 [==============================] - 2s 39us/sample - loss: 0.6502 - acc: 0.7995 - val_loss: 2.0682 - val_acc: 0.4134\n",
            "Epoch 6/30\n",
            "42000/42000 [==============================] - 2s 39us/sample - loss: 0.6315 - acc: 0.8076 - val_loss: 2.5771 - val_acc: 0.3762\n",
            "Epoch 7/30\n",
            "42000/42000 [==============================] - 2s 40us/sample - loss: 0.6042 - acc: 0.8143 - val_loss: 1.6403 - val_acc: 0.5164\n",
            "Epoch 8/30\n",
            "42000/42000 [==============================] - 2s 40us/sample - loss: 0.5731 - acc: 0.8232 - val_loss: 1.8073 - val_acc: 0.5182\n",
            "Epoch 9/30\n",
            "42000/42000 [==============================] - 2s 40us/sample - loss: 0.5619 - acc: 0.8277 - val_loss: 3.5535 - val_acc: 0.3416\n",
            "Epoch 10/30\n",
            "42000/42000 [==============================] - 2s 41us/sample - loss: 0.5618 - acc: 0.8265 - val_loss: 1.4696 - val_acc: 0.5873\n",
            "Epoch 11/30\n",
            "42000/42000 [==============================] - 2s 41us/sample - loss: 0.5327 - acc: 0.8345 - val_loss: 1.0765 - val_acc: 0.6728\n",
            "Epoch 12/30\n",
            "42000/42000 [==============================] - 2s 43us/sample - loss: 0.4841 - acc: 0.8514 - val_loss: 1.0976 - val_acc: 0.6901\n",
            "Epoch 13/30\n",
            "42000/42000 [==============================] - 2s 48us/sample - loss: 0.4275 - acc: 0.8681 - val_loss: 1.2379 - val_acc: 0.6408\n",
            "Epoch 14/30\n",
            "42000/42000 [==============================] - 2s 46us/sample - loss: 0.4658 - acc: 0.8547 - val_loss: 1.1711 - val_acc: 0.6736\n",
            "Epoch 15/30\n",
            "42000/42000 [==============================] - 2s 42us/sample - loss: 0.4502 - acc: 0.8593 - val_loss: 1.4657 - val_acc: 0.6168\n",
            "Epoch 16/30\n",
            "42000/42000 [==============================] - 2s 39us/sample - loss: 0.4564 - acc: 0.8571 - val_loss: 1.3146 - val_acc: 0.6283\n",
            "Epoch 17/30\n",
            "42000/42000 [==============================] - 2s 40us/sample - loss: 0.4088 - acc: 0.8709 - val_loss: 0.9008 - val_acc: 0.7378\n",
            "Epoch 18/30\n",
            "42000/42000 [==============================] - 2s 39us/sample - loss: 0.3938 - acc: 0.8776 - val_loss: 0.7874 - val_acc: 0.7683\n",
            "Epoch 19/30\n",
            "42000/42000 [==============================] - 2s 38us/sample - loss: 0.3479 - acc: 0.8909 - val_loss: 0.8839 - val_acc: 0.7602\n",
            "Epoch 20/30\n",
            "42000/42000 [==============================] - 2s 39us/sample - loss: 0.3549 - acc: 0.8873 - val_loss: 3.2745 - val_acc: 0.4499\n",
            "Epoch 21/30\n",
            "42000/42000 [==============================] - 2s 39us/sample - loss: 0.4486 - acc: 0.8555 - val_loss: 1.2346 - val_acc: 0.6719\n",
            "Epoch 22/30\n",
            "42000/42000 [==============================] - 2s 38us/sample - loss: 0.3308 - acc: 0.8960 - val_loss: 0.7728 - val_acc: 0.7823\n",
            "Epoch 23/30\n",
            "42000/42000 [==============================] - 2s 39us/sample - loss: 0.3009 - acc: 0.9053 - val_loss: 0.7826 - val_acc: 0.7836\n",
            "Epoch 24/30\n",
            "42000/42000 [==============================] - 2s 38us/sample - loss: 0.3048 - acc: 0.9041 - val_loss: 0.8422 - val_acc: 0.7628\n",
            "Epoch 25/30\n",
            "42000/42000 [==============================] - 2s 39us/sample - loss: 0.2780 - acc: 0.9121 - val_loss: 0.8824 - val_acc: 0.7640\n",
            "Epoch 26/30\n",
            "42000/42000 [==============================] - 2s 39us/sample - loss: 0.2582 - acc: 0.9185 - val_loss: 0.7796 - val_acc: 0.7885\n",
            "Epoch 27/30\n",
            "42000/42000 [==============================] - 2s 38us/sample - loss: 0.2519 - acc: 0.9200 - val_loss: 1.1291 - val_acc: 0.7133\n",
            "Epoch 28/30\n",
            "42000/42000 [==============================] - 2s 39us/sample - loss: 0.2501 - acc: 0.9210 - val_loss: 0.8587 - val_acc: 0.7708\n",
            "Epoch 29/30\n",
            "42000/42000 [==============================] - 2s 39us/sample - loss: 0.2415 - acc: 0.9237 - val_loss: 0.6982 - val_acc: 0.8189\n",
            "Epoch 30/30\n",
            "42000/42000 [==============================] - 2s 39us/sample - loss: 0.2394 - acc: 0.9242 - val_loss: 0.8943 - val_acc: 0.7738\n",
            "CPU times: user 11min 3s, sys: 1min 7s, total: 12min 11s\n",
            "Wall time: 54.6 s\n"
          ],
          "name": "stdout"
        }
      ]
    },
    {
      "cell_type": "markdown",
      "metadata": {
        "id": "CN49yb27xJlQ",
        "colab_type": "text"
      },
      "source": [
        "Hence Achieved 92.37%  as maximum accuracy in training set and 81.89% as maximum accuray in validation set using performance tuning. <font color=\"red\"> without CNN</font>."
      ]
    }
  ]
}