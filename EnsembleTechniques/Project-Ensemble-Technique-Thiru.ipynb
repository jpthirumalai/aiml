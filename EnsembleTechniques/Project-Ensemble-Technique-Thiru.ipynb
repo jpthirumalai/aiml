{
 "cells": [
  {
   "cell_type": "markdown",
   "metadata": {},
   "source": [
    "<h2><font color=\"#07bdf5\">1.Import the necessary libraries</font></h2>"
   ]
  },
  {
   "cell_type": "code",
   "execution_count": 1,
   "metadata": {},
   "outputs": [],
   "source": [
    "import pandas as pd\n",
    "import matplotlib.pyplot as plt\n",
    "import seaborn as sns\n",
    "import numpy as np\n",
    "\n",
    "from sklearn.model_selection import train_test_split\n",
    "from sklearn.linear_model import LogisticRegression\n",
    "\n",
    "from scipy.stats import zscore\n",
    "from sklearn.metrics import confusion_matrix\n"
   ]
  },
  {
   "cell_type": "markdown",
   "metadata": {},
   "source": [
    "<h2><font color=\"#07bdf5\">2.Read the data as a data frame</font></h2>"
   ]
  },
  {
   "cell_type": "code",
   "execution_count": 2,
   "metadata": {},
   "outputs": [],
   "source": [
    "bank_df=pd.read_csv(\"./bank-full.csv\")"
   ]
  },
  {
   "cell_type": "code",
   "execution_count": 3,
   "metadata": {},
   "outputs": [
    {
     "data": {
      "text/html": [
       "<div>\n",
       "<style scoped>\n",
       "    .dataframe tbody tr th:only-of-type {\n",
       "        vertical-align: middle;\n",
       "    }\n",
       "\n",
       "    .dataframe tbody tr th {\n",
       "        vertical-align: top;\n",
       "    }\n",
       "\n",
       "    .dataframe thead th {\n",
       "        text-align: right;\n",
       "    }\n",
       "</style>\n",
       "<table border=\"1\" class=\"dataframe\">\n",
       "  <thead>\n",
       "    <tr style=\"text-align: right;\">\n",
       "      <th></th>\n",
       "      <th>age</th>\n",
       "      <th>job</th>\n",
       "      <th>marital</th>\n",
       "      <th>education</th>\n",
       "      <th>default</th>\n",
       "      <th>balance</th>\n",
       "      <th>housing</th>\n",
       "      <th>loan</th>\n",
       "      <th>contact</th>\n",
       "      <th>day</th>\n",
       "      <th>month</th>\n",
       "      <th>duration</th>\n",
       "      <th>campaign</th>\n",
       "      <th>pdays</th>\n",
       "      <th>previous</th>\n",
       "      <th>poutcome</th>\n",
       "      <th>Target</th>\n",
       "    </tr>\n",
       "  </thead>\n",
       "  <tbody>\n",
       "    <tr>\n",
       "      <th>0</th>\n",
       "      <td>58</td>\n",
       "      <td>management</td>\n",
       "      <td>married</td>\n",
       "      <td>tertiary</td>\n",
       "      <td>no</td>\n",
       "      <td>2143</td>\n",
       "      <td>yes</td>\n",
       "      <td>no</td>\n",
       "      <td>unknown</td>\n",
       "      <td>5</td>\n",
       "      <td>may</td>\n",
       "      <td>261</td>\n",
       "      <td>1</td>\n",
       "      <td>-1</td>\n",
       "      <td>0</td>\n",
       "      <td>unknown</td>\n",
       "      <td>no</td>\n",
       "    </tr>\n",
       "    <tr>\n",
       "      <th>1</th>\n",
       "      <td>44</td>\n",
       "      <td>technician</td>\n",
       "      <td>single</td>\n",
       "      <td>secondary</td>\n",
       "      <td>no</td>\n",
       "      <td>29</td>\n",
       "      <td>yes</td>\n",
       "      <td>no</td>\n",
       "      <td>unknown</td>\n",
       "      <td>5</td>\n",
       "      <td>may</td>\n",
       "      <td>151</td>\n",
       "      <td>1</td>\n",
       "      <td>-1</td>\n",
       "      <td>0</td>\n",
       "      <td>unknown</td>\n",
       "      <td>no</td>\n",
       "    </tr>\n",
       "    <tr>\n",
       "      <th>2</th>\n",
       "      <td>33</td>\n",
       "      <td>entrepreneur</td>\n",
       "      <td>married</td>\n",
       "      <td>secondary</td>\n",
       "      <td>no</td>\n",
       "      <td>2</td>\n",
       "      <td>yes</td>\n",
       "      <td>yes</td>\n",
       "      <td>unknown</td>\n",
       "      <td>5</td>\n",
       "      <td>may</td>\n",
       "      <td>76</td>\n",
       "      <td>1</td>\n",
       "      <td>-1</td>\n",
       "      <td>0</td>\n",
       "      <td>unknown</td>\n",
       "      <td>no</td>\n",
       "    </tr>\n",
       "    <tr>\n",
       "      <th>3</th>\n",
       "      <td>47</td>\n",
       "      <td>blue-collar</td>\n",
       "      <td>married</td>\n",
       "      <td>unknown</td>\n",
       "      <td>no</td>\n",
       "      <td>1506</td>\n",
       "      <td>yes</td>\n",
       "      <td>no</td>\n",
       "      <td>unknown</td>\n",
       "      <td>5</td>\n",
       "      <td>may</td>\n",
       "      <td>92</td>\n",
       "      <td>1</td>\n",
       "      <td>-1</td>\n",
       "      <td>0</td>\n",
       "      <td>unknown</td>\n",
       "      <td>no</td>\n",
       "    </tr>\n",
       "    <tr>\n",
       "      <th>4</th>\n",
       "      <td>33</td>\n",
       "      <td>unknown</td>\n",
       "      <td>single</td>\n",
       "      <td>unknown</td>\n",
       "      <td>no</td>\n",
       "      <td>1</td>\n",
       "      <td>no</td>\n",
       "      <td>no</td>\n",
       "      <td>unknown</td>\n",
       "      <td>5</td>\n",
       "      <td>may</td>\n",
       "      <td>198</td>\n",
       "      <td>1</td>\n",
       "      <td>-1</td>\n",
       "      <td>0</td>\n",
       "      <td>unknown</td>\n",
       "      <td>no</td>\n",
       "    </tr>\n",
       "    <tr>\n",
       "      <th>5</th>\n",
       "      <td>35</td>\n",
       "      <td>management</td>\n",
       "      <td>married</td>\n",
       "      <td>tertiary</td>\n",
       "      <td>no</td>\n",
       "      <td>231</td>\n",
       "      <td>yes</td>\n",
       "      <td>no</td>\n",
       "      <td>unknown</td>\n",
       "      <td>5</td>\n",
       "      <td>may</td>\n",
       "      <td>139</td>\n",
       "      <td>1</td>\n",
       "      <td>-1</td>\n",
       "      <td>0</td>\n",
       "      <td>unknown</td>\n",
       "      <td>no</td>\n",
       "    </tr>\n",
       "    <tr>\n",
       "      <th>6</th>\n",
       "      <td>28</td>\n",
       "      <td>management</td>\n",
       "      <td>single</td>\n",
       "      <td>tertiary</td>\n",
       "      <td>no</td>\n",
       "      <td>447</td>\n",
       "      <td>yes</td>\n",
       "      <td>yes</td>\n",
       "      <td>unknown</td>\n",
       "      <td>5</td>\n",
       "      <td>may</td>\n",
       "      <td>217</td>\n",
       "      <td>1</td>\n",
       "      <td>-1</td>\n",
       "      <td>0</td>\n",
       "      <td>unknown</td>\n",
       "      <td>no</td>\n",
       "    </tr>\n",
       "    <tr>\n",
       "      <th>7</th>\n",
       "      <td>42</td>\n",
       "      <td>entrepreneur</td>\n",
       "      <td>divorced</td>\n",
       "      <td>tertiary</td>\n",
       "      <td>yes</td>\n",
       "      <td>2</td>\n",
       "      <td>yes</td>\n",
       "      <td>no</td>\n",
       "      <td>unknown</td>\n",
       "      <td>5</td>\n",
       "      <td>may</td>\n",
       "      <td>380</td>\n",
       "      <td>1</td>\n",
       "      <td>-1</td>\n",
       "      <td>0</td>\n",
       "      <td>unknown</td>\n",
       "      <td>no</td>\n",
       "    </tr>\n",
       "    <tr>\n",
       "      <th>8</th>\n",
       "      <td>58</td>\n",
       "      <td>retired</td>\n",
       "      <td>married</td>\n",
       "      <td>primary</td>\n",
       "      <td>no</td>\n",
       "      <td>121</td>\n",
       "      <td>yes</td>\n",
       "      <td>no</td>\n",
       "      <td>unknown</td>\n",
       "      <td>5</td>\n",
       "      <td>may</td>\n",
       "      <td>50</td>\n",
       "      <td>1</td>\n",
       "      <td>-1</td>\n",
       "      <td>0</td>\n",
       "      <td>unknown</td>\n",
       "      <td>no</td>\n",
       "    </tr>\n",
       "    <tr>\n",
       "      <th>9</th>\n",
       "      <td>43</td>\n",
       "      <td>technician</td>\n",
       "      <td>single</td>\n",
       "      <td>secondary</td>\n",
       "      <td>no</td>\n",
       "      <td>593</td>\n",
       "      <td>yes</td>\n",
       "      <td>no</td>\n",
       "      <td>unknown</td>\n",
       "      <td>5</td>\n",
       "      <td>may</td>\n",
       "      <td>55</td>\n",
       "      <td>1</td>\n",
       "      <td>-1</td>\n",
       "      <td>0</td>\n",
       "      <td>unknown</td>\n",
       "      <td>no</td>\n",
       "    </tr>\n",
       "  </tbody>\n",
       "</table>\n",
       "</div>"
      ],
      "text/plain": [
       "   age           job   marital  education default  balance housing loan  \\\n",
       "0   58    management   married   tertiary      no     2143     yes   no   \n",
       "1   44    technician    single  secondary      no       29     yes   no   \n",
       "2   33  entrepreneur   married  secondary      no        2     yes  yes   \n",
       "3   47   blue-collar   married    unknown      no     1506     yes   no   \n",
       "4   33       unknown    single    unknown      no        1      no   no   \n",
       "5   35    management   married   tertiary      no      231     yes   no   \n",
       "6   28    management    single   tertiary      no      447     yes  yes   \n",
       "7   42  entrepreneur  divorced   tertiary     yes        2     yes   no   \n",
       "8   58       retired   married    primary      no      121     yes   no   \n",
       "9   43    technician    single  secondary      no      593     yes   no   \n",
       "\n",
       "   contact  day month  duration  campaign  pdays  previous poutcome Target  \n",
       "0  unknown    5   may       261         1     -1         0  unknown     no  \n",
       "1  unknown    5   may       151         1     -1         0  unknown     no  \n",
       "2  unknown    5   may        76         1     -1         0  unknown     no  \n",
       "3  unknown    5   may        92         1     -1         0  unknown     no  \n",
       "4  unknown    5   may       198         1     -1         0  unknown     no  \n",
       "5  unknown    5   may       139         1     -1         0  unknown     no  \n",
       "6  unknown    5   may       217         1     -1         0  unknown     no  \n",
       "7  unknown    5   may       380         1     -1         0  unknown     no  \n",
       "8  unknown    5   may        50         1     -1         0  unknown     no  \n",
       "9  unknown    5   may        55         1     -1         0  unknown     no  "
      ]
     },
     "execution_count": 3,
     "metadata": {},
     "output_type": "execute_result"
    }
   ],
   "source": [
    "bank_df.head(10)"
   ]
  },
  {
   "cell_type": "markdown",
   "metadata": {},
   "source": [
    "<font color=\"07bdf5\" style=\"font-family:courier;font-size:24px;\">Observation:DataFrame loaded</font>"
   ]
  },
  {
   "cell_type": "markdown",
   "metadata": {},
   "source": [
    "<h2><font color=\"#07bdf5\">3.EDA - Exploratory Data Analytics</font></h2>"
   ]
  },
  {
   "cell_type": "code",
   "execution_count": 4,
   "metadata": {},
   "outputs": [
    {
     "data": {
      "text/plain": [
       "(45211, 17)"
      ]
     },
     "execution_count": 4,
     "metadata": {},
     "output_type": "execute_result"
    }
   ],
   "source": [
    "bank_df.shape"
   ]
  },
  {
   "cell_type": "markdown",
   "metadata": {},
   "source": [
    "<font color=\"07bdf5\" style=\"font-family:courier;font-size:24px;\">Observation:The given dataset contains 45,211 observation and 17 attributes</font>"
   ]
  },
  {
   "cell_type": "code",
   "execution_count": 5,
   "metadata": {},
   "outputs": [
    {
     "name": "stdout",
     "output_type": "stream",
     "text": [
      "<class 'pandas.core.frame.DataFrame'>\n",
      "RangeIndex: 45211 entries, 0 to 45210\n",
      "Data columns (total 17 columns):\n",
      "age          45211 non-null int64\n",
      "job          45211 non-null object\n",
      "marital      45211 non-null object\n",
      "education    45211 non-null object\n",
      "default      45211 non-null object\n",
      "balance      45211 non-null int64\n",
      "housing      45211 non-null object\n",
      "loan         45211 non-null object\n",
      "contact      45211 non-null object\n",
      "day          45211 non-null int64\n",
      "month        45211 non-null object\n",
      "duration     45211 non-null int64\n",
      "campaign     45211 non-null int64\n",
      "pdays        45211 non-null int64\n",
      "previous     45211 non-null int64\n",
      "poutcome     45211 non-null object\n",
      "Target       45211 non-null object\n",
      "dtypes: int64(7), object(10)\n",
      "memory usage: 5.9+ MB\n"
     ]
    }
   ],
   "source": [
    "bank_df.info()"
   ]
  },
  {
   "cell_type": "code",
   "execution_count": 6,
   "metadata": {},
   "outputs": [
    {
     "data": {
      "text/plain": [
       "age          0\n",
       "job          0\n",
       "marital      0\n",
       "education    0\n",
       "default      0\n",
       "balance      0\n",
       "housing      0\n",
       "loan         0\n",
       "contact      0\n",
       "day          0\n",
       "month        0\n",
       "duration     0\n",
       "campaign     0\n",
       "pdays        0\n",
       "previous     0\n",
       "poutcome     0\n",
       "Target       0\n",
       "dtype: int64"
      ]
     },
     "execution_count": 6,
     "metadata": {},
     "output_type": "execute_result"
    }
   ],
   "source": [
    "# Check for missing value\n",
    "bank_df.isna().sum()"
   ]
  },
  {
   "cell_type": "code",
   "execution_count": 7,
   "metadata": {},
   "outputs": [
    {
     "data": {
      "text/plain": [
       "array(['unknown', 'failure', 'other', 'success'], dtype=object)"
      ]
     },
     "execution_count": 7,
     "metadata": {},
     "output_type": "execute_result"
    }
   ],
   "source": [
    "bank_df[\"poutcome\"].unique()"
   ]
  },
  {
   "cell_type": "code",
   "execution_count": 8,
   "metadata": {},
   "outputs": [
    {
     "data": {
      "text/html": [
       "<div>\n",
       "<style scoped>\n",
       "    .dataframe tbody tr th:only-of-type {\n",
       "        vertical-align: middle;\n",
       "    }\n",
       "\n",
       "    .dataframe tbody tr th {\n",
       "        vertical-align: top;\n",
       "    }\n",
       "\n",
       "    .dataframe thead th {\n",
       "        text-align: right;\n",
       "    }\n",
       "</style>\n",
       "<table border=\"1\" class=\"dataframe\">\n",
       "  <thead>\n",
       "    <tr style=\"text-align: right;\">\n",
       "      <th></th>\n",
       "      <th>age</th>\n",
       "      <th>job</th>\n",
       "      <th>marital</th>\n",
       "      <th>education</th>\n",
       "      <th>default</th>\n",
       "      <th>balance</th>\n",
       "      <th>housing</th>\n",
       "      <th>loan</th>\n",
       "      <th>contact</th>\n",
       "      <th>day</th>\n",
       "      <th>month</th>\n",
       "      <th>duration</th>\n",
       "      <th>campaign</th>\n",
       "      <th>pdays</th>\n",
       "      <th>previous</th>\n",
       "      <th>Target</th>\n",
       "    </tr>\n",
       "    <tr>\n",
       "      <th>poutcome</th>\n",
       "      <th></th>\n",
       "      <th></th>\n",
       "      <th></th>\n",
       "      <th></th>\n",
       "      <th></th>\n",
       "      <th></th>\n",
       "      <th></th>\n",
       "      <th></th>\n",
       "      <th></th>\n",
       "      <th></th>\n",
       "      <th></th>\n",
       "      <th></th>\n",
       "      <th></th>\n",
       "      <th></th>\n",
       "      <th></th>\n",
       "      <th></th>\n",
       "    </tr>\n",
       "  </thead>\n",
       "  <tbody>\n",
       "    <tr>\n",
       "      <th>failure</th>\n",
       "      <td>4901</td>\n",
       "      <td>4901</td>\n",
       "      <td>4901</td>\n",
       "      <td>4901</td>\n",
       "      <td>4901</td>\n",
       "      <td>4901</td>\n",
       "      <td>4901</td>\n",
       "      <td>4901</td>\n",
       "      <td>4901</td>\n",
       "      <td>4901</td>\n",
       "      <td>4901</td>\n",
       "      <td>4901</td>\n",
       "      <td>4901</td>\n",
       "      <td>4901</td>\n",
       "      <td>4901</td>\n",
       "      <td>4901</td>\n",
       "    </tr>\n",
       "    <tr>\n",
       "      <th>other</th>\n",
       "      <td>1840</td>\n",
       "      <td>1840</td>\n",
       "      <td>1840</td>\n",
       "      <td>1840</td>\n",
       "      <td>1840</td>\n",
       "      <td>1840</td>\n",
       "      <td>1840</td>\n",
       "      <td>1840</td>\n",
       "      <td>1840</td>\n",
       "      <td>1840</td>\n",
       "      <td>1840</td>\n",
       "      <td>1840</td>\n",
       "      <td>1840</td>\n",
       "      <td>1840</td>\n",
       "      <td>1840</td>\n",
       "      <td>1840</td>\n",
       "    </tr>\n",
       "    <tr>\n",
       "      <th>success</th>\n",
       "      <td>1511</td>\n",
       "      <td>1511</td>\n",
       "      <td>1511</td>\n",
       "      <td>1511</td>\n",
       "      <td>1511</td>\n",
       "      <td>1511</td>\n",
       "      <td>1511</td>\n",
       "      <td>1511</td>\n",
       "      <td>1511</td>\n",
       "      <td>1511</td>\n",
       "      <td>1511</td>\n",
       "      <td>1511</td>\n",
       "      <td>1511</td>\n",
       "      <td>1511</td>\n",
       "      <td>1511</td>\n",
       "      <td>1511</td>\n",
       "    </tr>\n",
       "    <tr>\n",
       "      <th>unknown</th>\n",
       "      <td>36959</td>\n",
       "      <td>36959</td>\n",
       "      <td>36959</td>\n",
       "      <td>36959</td>\n",
       "      <td>36959</td>\n",
       "      <td>36959</td>\n",
       "      <td>36959</td>\n",
       "      <td>36959</td>\n",
       "      <td>36959</td>\n",
       "      <td>36959</td>\n",
       "      <td>36959</td>\n",
       "      <td>36959</td>\n",
       "      <td>36959</td>\n",
       "      <td>36959</td>\n",
       "      <td>36959</td>\n",
       "      <td>36959</td>\n",
       "    </tr>\n",
       "  </tbody>\n",
       "</table>\n",
       "</div>"
      ],
      "text/plain": [
       "            age    job  marital  education  default  balance  housing   loan  \\\n",
       "poutcome                                                                       \n",
       "failure    4901   4901     4901       4901     4901     4901     4901   4901   \n",
       "other      1840   1840     1840       1840     1840     1840     1840   1840   \n",
       "success    1511   1511     1511       1511     1511     1511     1511   1511   \n",
       "unknown   36959  36959    36959      36959    36959    36959    36959  36959   \n",
       "\n",
       "          contact    day  month  duration  campaign  pdays  previous  Target  \n",
       "poutcome                                                                      \n",
       "failure      4901   4901   4901      4901      4901   4901      4901    4901  \n",
       "other        1840   1840   1840      1840      1840   1840      1840    1840  \n",
       "success      1511   1511   1511      1511      1511   1511      1511    1511  \n",
       "unknown     36959  36959  36959     36959     36959  36959     36959   36959  "
      ]
     },
     "execution_count": 8,
     "metadata": {},
     "output_type": "execute_result"
    }
   ],
   "source": [
    "#pout column contains value 'unknown' let us verify the count\n",
    "bank_df.groupby(bank_df[\"poutcome\"]).count()"
   ]
  },
  {
   "cell_type": "markdown",
   "metadata": {},
   "source": [
    "Other and unknown may not make much difference "
   ]
  },
  {
   "cell_type": "code",
   "execution_count": 9,
   "metadata": {},
   "outputs": [
    {
     "data": {
      "text/html": [
       "<div>\n",
       "<style scoped>\n",
       "    .dataframe tbody tr th:only-of-type {\n",
       "        vertical-align: middle;\n",
       "    }\n",
       "\n",
       "    .dataframe tbody tr th {\n",
       "        vertical-align: top;\n",
       "    }\n",
       "\n",
       "    .dataframe thead th {\n",
       "        text-align: right;\n",
       "    }\n",
       "</style>\n",
       "<table border=\"1\" class=\"dataframe\">\n",
       "  <thead>\n",
       "    <tr style=\"text-align: right;\">\n",
       "      <th></th>\n",
       "      <th>age</th>\n",
       "      <th>job</th>\n",
       "      <th>marital</th>\n",
       "      <th>education</th>\n",
       "      <th>default</th>\n",
       "      <th>balance</th>\n",
       "      <th>housing</th>\n",
       "      <th>loan</th>\n",
       "      <th>day</th>\n",
       "      <th>month</th>\n",
       "      <th>duration</th>\n",
       "      <th>campaign</th>\n",
       "      <th>pdays</th>\n",
       "      <th>previous</th>\n",
       "      <th>poutcome</th>\n",
       "      <th>Target</th>\n",
       "    </tr>\n",
       "    <tr>\n",
       "      <th>contact</th>\n",
       "      <th></th>\n",
       "      <th></th>\n",
       "      <th></th>\n",
       "      <th></th>\n",
       "      <th></th>\n",
       "      <th></th>\n",
       "      <th></th>\n",
       "      <th></th>\n",
       "      <th></th>\n",
       "      <th></th>\n",
       "      <th></th>\n",
       "      <th></th>\n",
       "      <th></th>\n",
       "      <th></th>\n",
       "      <th></th>\n",
       "      <th></th>\n",
       "    </tr>\n",
       "  </thead>\n",
       "  <tbody>\n",
       "    <tr>\n",
       "      <th>cellular</th>\n",
       "      <td>29285</td>\n",
       "      <td>29285</td>\n",
       "      <td>29285</td>\n",
       "      <td>29285</td>\n",
       "      <td>29285</td>\n",
       "      <td>29285</td>\n",
       "      <td>29285</td>\n",
       "      <td>29285</td>\n",
       "      <td>29285</td>\n",
       "      <td>29285</td>\n",
       "      <td>29285</td>\n",
       "      <td>29285</td>\n",
       "      <td>29285</td>\n",
       "      <td>29285</td>\n",
       "      <td>29285</td>\n",
       "      <td>29285</td>\n",
       "    </tr>\n",
       "    <tr>\n",
       "      <th>telephone</th>\n",
       "      <td>2906</td>\n",
       "      <td>2906</td>\n",
       "      <td>2906</td>\n",
       "      <td>2906</td>\n",
       "      <td>2906</td>\n",
       "      <td>2906</td>\n",
       "      <td>2906</td>\n",
       "      <td>2906</td>\n",
       "      <td>2906</td>\n",
       "      <td>2906</td>\n",
       "      <td>2906</td>\n",
       "      <td>2906</td>\n",
       "      <td>2906</td>\n",
       "      <td>2906</td>\n",
       "      <td>2906</td>\n",
       "      <td>2906</td>\n",
       "    </tr>\n",
       "    <tr>\n",
       "      <th>unknown</th>\n",
       "      <td>13020</td>\n",
       "      <td>13020</td>\n",
       "      <td>13020</td>\n",
       "      <td>13020</td>\n",
       "      <td>13020</td>\n",
       "      <td>13020</td>\n",
       "      <td>13020</td>\n",
       "      <td>13020</td>\n",
       "      <td>13020</td>\n",
       "      <td>13020</td>\n",
       "      <td>13020</td>\n",
       "      <td>13020</td>\n",
       "      <td>13020</td>\n",
       "      <td>13020</td>\n",
       "      <td>13020</td>\n",
       "      <td>13020</td>\n",
       "    </tr>\n",
       "  </tbody>\n",
       "</table>\n",
       "</div>"
      ],
      "text/plain": [
       "             age    job  marital  education  default  balance  housing   loan  \\\n",
       "contact                                                                         \n",
       "cellular   29285  29285    29285      29285    29285    29285    29285  29285   \n",
       "telephone   2906   2906     2906       2906     2906     2906     2906   2906   \n",
       "unknown    13020  13020    13020      13020    13020    13020    13020  13020   \n",
       "\n",
       "             day  month  duration  campaign  pdays  previous  poutcome  Target  \n",
       "contact                                                                         \n",
       "cellular   29285  29285     29285     29285  29285     29285     29285   29285  \n",
       "telephone   2906   2906      2906      2906   2906      2906      2906    2906  \n",
       "unknown    13020  13020     13020     13020  13020     13020     13020   13020  "
      ]
     },
     "execution_count": 9,
     "metadata": {},
     "output_type": "execute_result"
    }
   ],
   "source": [
    "#ssimilarly contact column contains values 'unknown'\n",
    "bank_df.groupby(bank_df[\"contact\"]).count()"
   ]
  },
  {
   "cell_type": "code",
   "execution_count": 10,
   "metadata": {},
   "outputs": [
    {
     "data": {
      "text/html": [
       "<div>\n",
       "<style scoped>\n",
       "    .dataframe tbody tr th:only-of-type {\n",
       "        vertical-align: middle;\n",
       "    }\n",
       "\n",
       "    .dataframe tbody tr th {\n",
       "        vertical-align: top;\n",
       "    }\n",
       "\n",
       "    .dataframe thead th {\n",
       "        text-align: right;\n",
       "    }\n",
       "</style>\n",
       "<table border=\"1\" class=\"dataframe\">\n",
       "  <thead>\n",
       "    <tr style=\"text-align: right;\">\n",
       "      <th></th>\n",
       "      <th>age</th>\n",
       "      <th>job</th>\n",
       "      <th>marital</th>\n",
       "      <th>education</th>\n",
       "      <th>default</th>\n",
       "      <th>balance</th>\n",
       "      <th>housing</th>\n",
       "      <th>loan</th>\n",
       "      <th>contact</th>\n",
       "      <th>day</th>\n",
       "      <th>month</th>\n",
       "      <th>duration</th>\n",
       "      <th>campaign</th>\n",
       "      <th>pdays</th>\n",
       "      <th>previous</th>\n",
       "      <th>poutcome</th>\n",
       "    </tr>\n",
       "    <tr>\n",
       "      <th>Target</th>\n",
       "      <th></th>\n",
       "      <th></th>\n",
       "      <th></th>\n",
       "      <th></th>\n",
       "      <th></th>\n",
       "      <th></th>\n",
       "      <th></th>\n",
       "      <th></th>\n",
       "      <th></th>\n",
       "      <th></th>\n",
       "      <th></th>\n",
       "      <th></th>\n",
       "      <th></th>\n",
       "      <th></th>\n",
       "      <th></th>\n",
       "      <th></th>\n",
       "    </tr>\n",
       "  </thead>\n",
       "  <tbody>\n",
       "    <tr>\n",
       "      <th>no</th>\n",
       "      <td>39922</td>\n",
       "      <td>39922</td>\n",
       "      <td>39922</td>\n",
       "      <td>39922</td>\n",
       "      <td>39922</td>\n",
       "      <td>39922</td>\n",
       "      <td>39922</td>\n",
       "      <td>39922</td>\n",
       "      <td>39922</td>\n",
       "      <td>39922</td>\n",
       "      <td>39922</td>\n",
       "      <td>39922</td>\n",
       "      <td>39922</td>\n",
       "      <td>39922</td>\n",
       "      <td>39922</td>\n",
       "      <td>39922</td>\n",
       "    </tr>\n",
       "    <tr>\n",
       "      <th>yes</th>\n",
       "      <td>5289</td>\n",
       "      <td>5289</td>\n",
       "      <td>5289</td>\n",
       "      <td>5289</td>\n",
       "      <td>5289</td>\n",
       "      <td>5289</td>\n",
       "      <td>5289</td>\n",
       "      <td>5289</td>\n",
       "      <td>5289</td>\n",
       "      <td>5289</td>\n",
       "      <td>5289</td>\n",
       "      <td>5289</td>\n",
       "      <td>5289</td>\n",
       "      <td>5289</td>\n",
       "      <td>5289</td>\n",
       "      <td>5289</td>\n",
       "    </tr>\n",
       "  </tbody>\n",
       "</table>\n",
       "</div>"
      ],
      "text/plain": [
       "          age    job  marital  education  default  balance  housing   loan  \\\n",
       "Target                                                                       \n",
       "no      39922  39922    39922      39922    39922    39922    39922  39922   \n",
       "yes      5289   5289     5289       5289     5289     5289     5289   5289   \n",
       "\n",
       "        contact    day  month  duration  campaign  pdays  previous  poutcome  \n",
       "Target                                                                        \n",
       "no        39922  39922  39922     39922     39922  39922     39922     39922  \n",
       "yes        5289   5289   5289      5289      5289   5289      5289      5289  "
      ]
     },
     "execution_count": 10,
     "metadata": {},
     "output_type": "execute_result"
    }
   ],
   "source": [
    "bank_df.groupby(bank_df[\"Target\"]).count()"
   ]
  },
  {
   "cell_type": "code",
   "execution_count": 11,
   "metadata": {},
   "outputs": [],
   "source": [
    "#unknown values are roughly 37K the results are gouing to be influnced by unknown however let us verify once\n"
   ]
  },
  {
   "cell_type": "markdown",
   "metadata": {},
   "source": [
    "<font color=\"#07bdf5\" style=\"font-family:courier;font-size:24px;\">Observation:No missing data</font>\n",
    "<font color=\"#07bdf5\" style=\"font-family:courier;font-size:16px;\">\n",
    "<ul>\n",
    "    <li><u>Numeric (Integer) attributes:</u> 7 and they are age, balance, day, duration, campaign, pdays, previous </li>\n",
    "    <li><u>Object attributes:</u> 10 and they are job, marital, education, default, housing, loan, contact, month, poutcome, Target</li>\n",
    "</ul>\n",
    "    </font>"
   ]
  },
  {
   "cell_type": "code",
   "execution_count": 12,
   "metadata": {},
   "outputs": [
    {
     "data": {
      "text/html": [
       "<div>\n",
       "<style scoped>\n",
       "    .dataframe tbody tr th:only-of-type {\n",
       "        vertical-align: middle;\n",
       "    }\n",
       "\n",
       "    .dataframe tbody tr th {\n",
       "        vertical-align: top;\n",
       "    }\n",
       "\n",
       "    .dataframe thead th {\n",
       "        text-align: right;\n",
       "    }\n",
       "</style>\n",
       "<table border=\"1\" class=\"dataframe\">\n",
       "  <thead>\n",
       "    <tr style=\"text-align: right;\">\n",
       "      <th></th>\n",
       "      <th>count</th>\n",
       "      <th>mean</th>\n",
       "      <th>std</th>\n",
       "      <th>min</th>\n",
       "      <th>25%</th>\n",
       "      <th>50%</th>\n",
       "      <th>75%</th>\n",
       "      <th>max</th>\n",
       "    </tr>\n",
       "  </thead>\n",
       "  <tbody>\n",
       "    <tr>\n",
       "      <th>age</th>\n",
       "      <td>45211.0</td>\n",
       "      <td>40.936210</td>\n",
       "      <td>10.618762</td>\n",
       "      <td>18.0</td>\n",
       "      <td>33.0</td>\n",
       "      <td>39.0</td>\n",
       "      <td>48.0</td>\n",
       "      <td>95.0</td>\n",
       "    </tr>\n",
       "    <tr>\n",
       "      <th>balance</th>\n",
       "      <td>45211.0</td>\n",
       "      <td>1362.272058</td>\n",
       "      <td>3044.765829</td>\n",
       "      <td>-8019.0</td>\n",
       "      <td>72.0</td>\n",
       "      <td>448.0</td>\n",
       "      <td>1428.0</td>\n",
       "      <td>102127.0</td>\n",
       "    </tr>\n",
       "    <tr>\n",
       "      <th>day</th>\n",
       "      <td>45211.0</td>\n",
       "      <td>15.806419</td>\n",
       "      <td>8.322476</td>\n",
       "      <td>1.0</td>\n",
       "      <td>8.0</td>\n",
       "      <td>16.0</td>\n",
       "      <td>21.0</td>\n",
       "      <td>31.0</td>\n",
       "    </tr>\n",
       "    <tr>\n",
       "      <th>duration</th>\n",
       "      <td>45211.0</td>\n",
       "      <td>258.163080</td>\n",
       "      <td>257.527812</td>\n",
       "      <td>0.0</td>\n",
       "      <td>103.0</td>\n",
       "      <td>180.0</td>\n",
       "      <td>319.0</td>\n",
       "      <td>4918.0</td>\n",
       "    </tr>\n",
       "    <tr>\n",
       "      <th>campaign</th>\n",
       "      <td>45211.0</td>\n",
       "      <td>2.763841</td>\n",
       "      <td>3.098021</td>\n",
       "      <td>1.0</td>\n",
       "      <td>1.0</td>\n",
       "      <td>2.0</td>\n",
       "      <td>3.0</td>\n",
       "      <td>63.0</td>\n",
       "    </tr>\n",
       "    <tr>\n",
       "      <th>pdays</th>\n",
       "      <td>45211.0</td>\n",
       "      <td>40.197828</td>\n",
       "      <td>100.128746</td>\n",
       "      <td>-1.0</td>\n",
       "      <td>-1.0</td>\n",
       "      <td>-1.0</td>\n",
       "      <td>-1.0</td>\n",
       "      <td>871.0</td>\n",
       "    </tr>\n",
       "    <tr>\n",
       "      <th>previous</th>\n",
       "      <td>45211.0</td>\n",
       "      <td>0.580323</td>\n",
       "      <td>2.303441</td>\n",
       "      <td>0.0</td>\n",
       "      <td>0.0</td>\n",
       "      <td>0.0</td>\n",
       "      <td>0.0</td>\n",
       "      <td>275.0</td>\n",
       "    </tr>\n",
       "  </tbody>\n",
       "</table>\n",
       "</div>"
      ],
      "text/plain": [
       "            count         mean          std     min    25%    50%     75%  \\\n",
       "age       45211.0    40.936210    10.618762    18.0   33.0   39.0    48.0   \n",
       "balance   45211.0  1362.272058  3044.765829 -8019.0   72.0  448.0  1428.0   \n",
       "day       45211.0    15.806419     8.322476     1.0    8.0   16.0    21.0   \n",
       "duration  45211.0   258.163080   257.527812     0.0  103.0  180.0   319.0   \n",
       "campaign  45211.0     2.763841     3.098021     1.0    1.0    2.0     3.0   \n",
       "pdays     45211.0    40.197828   100.128746    -1.0   -1.0   -1.0    -1.0   \n",
       "previous  45211.0     0.580323     2.303441     0.0    0.0    0.0     0.0   \n",
       "\n",
       "               max  \n",
       "age           95.0  \n",
       "balance   102127.0  \n",
       "day           31.0  \n",
       "duration    4918.0  \n",
       "campaign      63.0  \n",
       "pdays        871.0  \n",
       "previous     275.0  "
      ]
     },
     "execution_count": 12,
     "metadata": {},
     "output_type": "execute_result"
    }
   ],
   "source": [
    "bank_df.describe().T"
   ]
  },
  {
   "cell_type": "code",
   "execution_count": null,
   "metadata": {},
   "outputs": [],
   "source": []
  },
  {
   "cell_type": "markdown",
   "metadata": {},
   "source": [
    "<font color=\"#07bdf5\" style=\"font-family:courier;font-size:24px;\">Observation: described for all numeric data</font>\n",
    "<font color=\"#07bdf5\" style=\"font-family:courier;font-size:16px;\">\n",
    "<ul>\n",
    "    <li>found negative values in balance</li>\n",
    "    <li>found negative value -1 in pdays</li>\n",
    "    <li>Strange values found in attribute called \"previous\" which denotes number of contacts performed all min, first quartile, second quartile, and 3rd quartile all are zero only max is 275. Possible outlier? </li>\n",
    "    <li>attribute Age: minum age is 18 and maximum age is 95. 75% of age between 18 and 48, 48 to 95 Possible outlier. Mean age is approximately 41 mode is 39, normally distributed slightly right skewed</li>\n",
    "    <li>Month Column is not included as it is define as object type and contains text as May, Apr, etc</li>\n",
    "    <li>balance and duration columns are having lot of outliers</li>\n",
    "</ul>\n",
    "    </font>"
   ]
  },
  {
   "cell_type": "code",
   "execution_count": 13,
   "metadata": {},
   "outputs": [
    {
     "data": {
      "text/html": [
       "<div>\n",
       "<style scoped>\n",
       "    .dataframe tbody tr th:only-of-type {\n",
       "        vertical-align: middle;\n",
       "    }\n",
       "\n",
       "    .dataframe tbody tr th {\n",
       "        vertical-align: top;\n",
       "    }\n",
       "\n",
       "    .dataframe thead th {\n",
       "        text-align: right;\n",
       "    }\n",
       "</style>\n",
       "<table border=\"1\" class=\"dataframe\">\n",
       "  <thead>\n",
       "    <tr style=\"text-align: right;\">\n",
       "      <th></th>\n",
       "      <th>age</th>\n",
       "      <th>job</th>\n",
       "      <th>marital</th>\n",
       "      <th>education</th>\n",
       "      <th>default</th>\n",
       "      <th>balance</th>\n",
       "      <th>housing</th>\n",
       "      <th>loan</th>\n",
       "      <th>contact</th>\n",
       "      <th>day</th>\n",
       "      <th>month</th>\n",
       "      <th>duration</th>\n",
       "      <th>campaign</th>\n",
       "      <th>pdays</th>\n",
       "      <th>previous</th>\n",
       "      <th>poutcome</th>\n",
       "      <th>Target</th>\n",
       "    </tr>\n",
       "  </thead>\n",
       "  <tbody>\n",
       "    <tr>\n",
       "      <th>0</th>\n",
       "      <td>58</td>\n",
       "      <td>management</td>\n",
       "      <td>married</td>\n",
       "      <td>tertiary</td>\n",
       "      <td>no</td>\n",
       "      <td>2143</td>\n",
       "      <td>yes</td>\n",
       "      <td>no</td>\n",
       "      <td>unknown</td>\n",
       "      <td>5</td>\n",
       "      <td>5</td>\n",
       "      <td>261</td>\n",
       "      <td>1</td>\n",
       "      <td>-1</td>\n",
       "      <td>0</td>\n",
       "      <td>unknown</td>\n",
       "      <td>no</td>\n",
       "    </tr>\n",
       "    <tr>\n",
       "      <th>1</th>\n",
       "      <td>44</td>\n",
       "      <td>technician</td>\n",
       "      <td>single</td>\n",
       "      <td>secondary</td>\n",
       "      <td>no</td>\n",
       "      <td>29</td>\n",
       "      <td>yes</td>\n",
       "      <td>no</td>\n",
       "      <td>unknown</td>\n",
       "      <td>5</td>\n",
       "      <td>5</td>\n",
       "      <td>151</td>\n",
       "      <td>1</td>\n",
       "      <td>-1</td>\n",
       "      <td>0</td>\n",
       "      <td>unknown</td>\n",
       "      <td>no</td>\n",
       "    </tr>\n",
       "    <tr>\n",
       "      <th>2</th>\n",
       "      <td>33</td>\n",
       "      <td>entrepreneur</td>\n",
       "      <td>married</td>\n",
       "      <td>secondary</td>\n",
       "      <td>no</td>\n",
       "      <td>2</td>\n",
       "      <td>yes</td>\n",
       "      <td>yes</td>\n",
       "      <td>unknown</td>\n",
       "      <td>5</td>\n",
       "      <td>5</td>\n",
       "      <td>76</td>\n",
       "      <td>1</td>\n",
       "      <td>-1</td>\n",
       "      <td>0</td>\n",
       "      <td>unknown</td>\n",
       "      <td>no</td>\n",
       "    </tr>\n",
       "    <tr>\n",
       "      <th>3</th>\n",
       "      <td>47</td>\n",
       "      <td>blue-collar</td>\n",
       "      <td>married</td>\n",
       "      <td>unknown</td>\n",
       "      <td>no</td>\n",
       "      <td>1506</td>\n",
       "      <td>yes</td>\n",
       "      <td>no</td>\n",
       "      <td>unknown</td>\n",
       "      <td>5</td>\n",
       "      <td>5</td>\n",
       "      <td>92</td>\n",
       "      <td>1</td>\n",
       "      <td>-1</td>\n",
       "      <td>0</td>\n",
       "      <td>unknown</td>\n",
       "      <td>no</td>\n",
       "    </tr>\n",
       "    <tr>\n",
       "      <th>4</th>\n",
       "      <td>33</td>\n",
       "      <td>unknown</td>\n",
       "      <td>single</td>\n",
       "      <td>unknown</td>\n",
       "      <td>no</td>\n",
       "      <td>1</td>\n",
       "      <td>no</td>\n",
       "      <td>no</td>\n",
       "      <td>unknown</td>\n",
       "      <td>5</td>\n",
       "      <td>5</td>\n",
       "      <td>198</td>\n",
       "      <td>1</td>\n",
       "      <td>-1</td>\n",
       "      <td>0</td>\n",
       "      <td>unknown</td>\n",
       "      <td>no</td>\n",
       "    </tr>\n",
       "    <tr>\n",
       "      <th>5</th>\n",
       "      <td>35</td>\n",
       "      <td>management</td>\n",
       "      <td>married</td>\n",
       "      <td>tertiary</td>\n",
       "      <td>no</td>\n",
       "      <td>231</td>\n",
       "      <td>yes</td>\n",
       "      <td>no</td>\n",
       "      <td>unknown</td>\n",
       "      <td>5</td>\n",
       "      <td>5</td>\n",
       "      <td>139</td>\n",
       "      <td>1</td>\n",
       "      <td>-1</td>\n",
       "      <td>0</td>\n",
       "      <td>unknown</td>\n",
       "      <td>no</td>\n",
       "    </tr>\n",
       "    <tr>\n",
       "      <th>6</th>\n",
       "      <td>28</td>\n",
       "      <td>management</td>\n",
       "      <td>single</td>\n",
       "      <td>tertiary</td>\n",
       "      <td>no</td>\n",
       "      <td>447</td>\n",
       "      <td>yes</td>\n",
       "      <td>yes</td>\n",
       "      <td>unknown</td>\n",
       "      <td>5</td>\n",
       "      <td>5</td>\n",
       "      <td>217</td>\n",
       "      <td>1</td>\n",
       "      <td>-1</td>\n",
       "      <td>0</td>\n",
       "      <td>unknown</td>\n",
       "      <td>no</td>\n",
       "    </tr>\n",
       "    <tr>\n",
       "      <th>7</th>\n",
       "      <td>42</td>\n",
       "      <td>entrepreneur</td>\n",
       "      <td>divorced</td>\n",
       "      <td>tertiary</td>\n",
       "      <td>yes</td>\n",
       "      <td>2</td>\n",
       "      <td>yes</td>\n",
       "      <td>no</td>\n",
       "      <td>unknown</td>\n",
       "      <td>5</td>\n",
       "      <td>5</td>\n",
       "      <td>380</td>\n",
       "      <td>1</td>\n",
       "      <td>-1</td>\n",
       "      <td>0</td>\n",
       "      <td>unknown</td>\n",
       "      <td>no</td>\n",
       "    </tr>\n",
       "    <tr>\n",
       "      <th>8</th>\n",
       "      <td>58</td>\n",
       "      <td>retired</td>\n",
       "      <td>married</td>\n",
       "      <td>primary</td>\n",
       "      <td>no</td>\n",
       "      <td>121</td>\n",
       "      <td>yes</td>\n",
       "      <td>no</td>\n",
       "      <td>unknown</td>\n",
       "      <td>5</td>\n",
       "      <td>5</td>\n",
       "      <td>50</td>\n",
       "      <td>1</td>\n",
       "      <td>-1</td>\n",
       "      <td>0</td>\n",
       "      <td>unknown</td>\n",
       "      <td>no</td>\n",
       "    </tr>\n",
       "    <tr>\n",
       "      <th>9</th>\n",
       "      <td>43</td>\n",
       "      <td>technician</td>\n",
       "      <td>single</td>\n",
       "      <td>secondary</td>\n",
       "      <td>no</td>\n",
       "      <td>593</td>\n",
       "      <td>yes</td>\n",
       "      <td>no</td>\n",
       "      <td>unknown</td>\n",
       "      <td>5</td>\n",
       "      <td>5</td>\n",
       "      <td>55</td>\n",
       "      <td>1</td>\n",
       "      <td>-1</td>\n",
       "      <td>0</td>\n",
       "      <td>unknown</td>\n",
       "      <td>no</td>\n",
       "    </tr>\n",
       "  </tbody>\n",
       "</table>\n",
       "</div>"
      ],
      "text/plain": [
       "   age           job   marital  education default  balance housing loan  \\\n",
       "0   58    management   married   tertiary      no     2143     yes   no   \n",
       "1   44    technician    single  secondary      no       29     yes   no   \n",
       "2   33  entrepreneur   married  secondary      no        2     yes  yes   \n",
       "3   47   blue-collar   married    unknown      no     1506     yes   no   \n",
       "4   33       unknown    single    unknown      no        1      no   no   \n",
       "5   35    management   married   tertiary      no      231     yes   no   \n",
       "6   28    management    single   tertiary      no      447     yes  yes   \n",
       "7   42  entrepreneur  divorced   tertiary     yes        2     yes   no   \n",
       "8   58       retired   married    primary      no      121     yes   no   \n",
       "9   43    technician    single  secondary      no      593     yes   no   \n",
       "\n",
       "   contact  day  month  duration  campaign  pdays  previous poutcome Target  \n",
       "0  unknown    5      5       261         1     -1         0  unknown     no  \n",
       "1  unknown    5      5       151         1     -1         0  unknown     no  \n",
       "2  unknown    5      5        76         1     -1         0  unknown     no  \n",
       "3  unknown    5      5        92         1     -1         0  unknown     no  \n",
       "4  unknown    5      5       198         1     -1         0  unknown     no  \n",
       "5  unknown    5      5       139         1     -1         0  unknown     no  \n",
       "6  unknown    5      5       217         1     -1         0  unknown     no  \n",
       "7  unknown    5      5       380         1     -1         0  unknown     no  \n",
       "8  unknown    5      5        50         1     -1         0  unknown     no  \n",
       "9  unknown    5      5        55         1     -1         0  unknown     no  "
      ]
     },
     "execution_count": 13,
     "metadata": {},
     "output_type": "execute_result"
    }
   ],
   "source": [
    "#convert month to integer/ numeric type\n",
    "#taking a copy of data frame\n",
    "bank_df2 = bank_df.copy()\n",
    "import calendar \n",
    "#applying change in \n",
    "bank_df2[\"month\"] = bank_df2[\"month\"].apply(lambda x: list(calendar.month_abbr).index(x.capitalize()))\n",
    "bank_df2.head(10)"
   ]
  },
  {
   "cell_type": "code",
   "execution_count": 14,
   "metadata": {},
   "outputs": [
    {
     "name": "stdout",
     "output_type": "stream",
     "text": [
      "Total rows: 45211 and target variable\n",
      "Target\n",
      "no     39922\n",
      "yes     5289\n",
      "Name: age, dtype: int64\n"
     ]
    }
   ],
   "source": [
    "#target variable target count\n",
    "print(\"Total rows:\",bank_df.shape[0],\"and target variable\")\n",
    "print(bank_df.groupby(bank_df[\"Target\"]).count()[\"age\"]) #not printing all 17 counmns in count just takin age column"
   ]
  },
  {
   "cell_type": "code",
   "execution_count": 15,
   "metadata": {},
   "outputs": [
    {
     "data": {
      "text/plain": [
       "array(['no', 'yes'], dtype=object)"
      ]
     },
     "execution_count": 15,
     "metadata": {},
     "output_type": "execute_result"
    }
   ],
   "source": [
    "bank_df['Target'].unique() #just to re confirm only 'yes' and 'no' are the values and not any Yes, NO values"
   ]
  },
  {
   "cell_type": "code",
   "execution_count": 16,
   "metadata": {},
   "outputs": [
    {
     "data": {
      "text/html": [
       "<div>\n",
       "<style scoped>\n",
       "    .dataframe tbody tr th:only-of-type {\n",
       "        vertical-align: middle;\n",
       "    }\n",
       "\n",
       "    .dataframe tbody tr th {\n",
       "        vertical-align: top;\n",
       "    }\n",
       "\n",
       "    .dataframe thead th {\n",
       "        text-align: right;\n",
       "    }\n",
       "</style>\n",
       "<table border=\"1\" class=\"dataframe\">\n",
       "  <thead>\n",
       "    <tr style=\"text-align: right;\">\n",
       "      <th></th>\n",
       "      <th>age</th>\n",
       "      <th>job</th>\n",
       "      <th>marital</th>\n",
       "      <th>education</th>\n",
       "      <th>default</th>\n",
       "      <th>balance</th>\n",
       "      <th>housing</th>\n",
       "      <th>loan</th>\n",
       "      <th>contact</th>\n",
       "      <th>day</th>\n",
       "      <th>month</th>\n",
       "      <th>duration</th>\n",
       "      <th>campaign</th>\n",
       "      <th>pdays</th>\n",
       "      <th>previous</th>\n",
       "      <th>poutcome</th>\n",
       "      <th>Target</th>\n",
       "    </tr>\n",
       "  </thead>\n",
       "  <tbody>\n",
       "    <tr>\n",
       "      <th>0</th>\n",
       "      <td>58</td>\n",
       "      <td>management</td>\n",
       "      <td>married</td>\n",
       "      <td>tertiary</td>\n",
       "      <td>no</td>\n",
       "      <td>2143</td>\n",
       "      <td>yes</td>\n",
       "      <td>no</td>\n",
       "      <td>unknown</td>\n",
       "      <td>5</td>\n",
       "      <td>5</td>\n",
       "      <td>261</td>\n",
       "      <td>1</td>\n",
       "      <td>-1</td>\n",
       "      <td>0</td>\n",
       "      <td>unknown</td>\n",
       "      <td>0</td>\n",
       "    </tr>\n",
       "    <tr>\n",
       "      <th>1</th>\n",
       "      <td>44</td>\n",
       "      <td>technician</td>\n",
       "      <td>single</td>\n",
       "      <td>secondary</td>\n",
       "      <td>no</td>\n",
       "      <td>29</td>\n",
       "      <td>yes</td>\n",
       "      <td>no</td>\n",
       "      <td>unknown</td>\n",
       "      <td>5</td>\n",
       "      <td>5</td>\n",
       "      <td>151</td>\n",
       "      <td>1</td>\n",
       "      <td>-1</td>\n",
       "      <td>0</td>\n",
       "      <td>unknown</td>\n",
       "      <td>0</td>\n",
       "    </tr>\n",
       "    <tr>\n",
       "      <th>2</th>\n",
       "      <td>33</td>\n",
       "      <td>entrepreneur</td>\n",
       "      <td>married</td>\n",
       "      <td>secondary</td>\n",
       "      <td>no</td>\n",
       "      <td>2</td>\n",
       "      <td>yes</td>\n",
       "      <td>yes</td>\n",
       "      <td>unknown</td>\n",
       "      <td>5</td>\n",
       "      <td>5</td>\n",
       "      <td>76</td>\n",
       "      <td>1</td>\n",
       "      <td>-1</td>\n",
       "      <td>0</td>\n",
       "      <td>unknown</td>\n",
       "      <td>0</td>\n",
       "    </tr>\n",
       "    <tr>\n",
       "      <th>3</th>\n",
       "      <td>47</td>\n",
       "      <td>blue-collar</td>\n",
       "      <td>married</td>\n",
       "      <td>unknown</td>\n",
       "      <td>no</td>\n",
       "      <td>1506</td>\n",
       "      <td>yes</td>\n",
       "      <td>no</td>\n",
       "      <td>unknown</td>\n",
       "      <td>5</td>\n",
       "      <td>5</td>\n",
       "      <td>92</td>\n",
       "      <td>1</td>\n",
       "      <td>-1</td>\n",
       "      <td>0</td>\n",
       "      <td>unknown</td>\n",
       "      <td>0</td>\n",
       "    </tr>\n",
       "    <tr>\n",
       "      <th>4</th>\n",
       "      <td>33</td>\n",
       "      <td>unknown</td>\n",
       "      <td>single</td>\n",
       "      <td>unknown</td>\n",
       "      <td>no</td>\n",
       "      <td>1</td>\n",
       "      <td>no</td>\n",
       "      <td>no</td>\n",
       "      <td>unknown</td>\n",
       "      <td>5</td>\n",
       "      <td>5</td>\n",
       "      <td>198</td>\n",
       "      <td>1</td>\n",
       "      <td>-1</td>\n",
       "      <td>0</td>\n",
       "      <td>unknown</td>\n",
       "      <td>0</td>\n",
       "    </tr>\n",
       "  </tbody>\n",
       "</table>\n",
       "</div>"
      ],
      "text/plain": [
       "   age           job  marital  education default  balance housing loan  \\\n",
       "0   58    management  married   tertiary      no     2143     yes   no   \n",
       "1   44    technician   single  secondary      no       29     yes   no   \n",
       "2   33  entrepreneur  married  secondary      no        2     yes  yes   \n",
       "3   47   blue-collar  married    unknown      no     1506     yes   no   \n",
       "4   33       unknown   single    unknown      no        1      no   no   \n",
       "\n",
       "   contact  day  month  duration  campaign  pdays  previous poutcome  Target  \n",
       "0  unknown    5      5       261         1     -1         0  unknown       0  \n",
       "1  unknown    5      5       151         1     -1         0  unknown       0  \n",
       "2  unknown    5      5        76         1     -1         0  unknown       0  \n",
       "3  unknown    5      5        92         1     -1         0  unknown       0  \n",
       "4  unknown    5      5       198         1     -1         0  unknown       0  "
      ]
     },
     "execution_count": 16,
     "metadata": {},
     "output_type": "execute_result"
    }
   ],
   "source": [
    "#changing yes and no as 1 and zero, i.e., yes=1 and no=0\n",
    "bank_df2[\"Target\"] = bank_df2[\"Target\"].apply(lambda x: 1 if x=='yes' else 0)\n",
    "bank_df2.head()"
   ]
  },
  {
   "cell_type": "code",
   "execution_count": 17,
   "metadata": {},
   "outputs": [],
   "source": [
    "#sns.pairplot(bank_df2) #this pair plot takes time"
   ]
  },
  {
   "cell_type": "markdown",
   "metadata": {},
   "source": [
    "<font color=\"#07bdf5\">Observation : \n",
    "<ol>\n",
    "    <li>Age is almost normally distributed</li>\n",
    "    <li>Month and campaign shows some correlation few months, during Jay, Jun, Jyl & August the bank runs more campains</li>\n",
    "    <li>Month and day are showing similar patterns as the represents same dimension</li>\n",
    "    </ol>\n",
    "</font>"
   ]
  },
  {
   "cell_type": "code",
   "execution_count": 18,
   "metadata": {},
   "outputs": [
    {
     "name": "stdout",
     "output_type": "stream",
     "text": [
      "Number of observations, where duration of the call exceding 319 seconds (third quartile)  11261\n"
     ]
    },
    {
     "data": {
      "image/png": "[encoded data removed]",
      "text/plain": [
       "<Figure size 432x288 with 1 Axes>"
      ]
     },
     "metadata": {
      "needs_background": "light"
     },
     "output_type": "display_data"
    }
   ],
   "source": [
    "sns.boxplot(data=bank_df2[\"duration\"])\n",
    "durationoutliers_df = bank_df2.apply(lambda x: True if x['duration'] > 319 else False , axis=1)\n",
    "durationoutliers = len(durationoutliers_df[durationoutliers_df == True].index)\n",
    "print('Number of observations, where duration of the call exceding 319 seconds (third quartile) ',durationoutliers)"
   ]
  },
  {
   "cell_type": "markdown",
   "metadata": {},
   "source": [
    "Observation: Duration with max 4918 seconds, mean 258 showing left skewed, meaning most of the calls duration in the calls are 103 to 319 seconds. \n",
    "11,261 calls are in the range of 320 to 4918 seconds"
   ]
  },
  {
   "cell_type": "code",
   "execution_count": 19,
   "metadata": {},
   "outputs": [
    {
     "name": "stdout",
     "output_type": "stream",
     "text": [
      "Number of observations, where customer is contacted more than 3 times (third quartile)  9641\n"
     ]
    },
    {
     "data": {
      "image/png": "[encoded data removed]",
      "text/plain": [
       "<Figure size 432x288 with 1 Axes>"
      ]
     },
     "metadata": {
      "needs_background": "light"
     },
     "output_type": "display_data"
    }
   ],
   "source": [
    "sns.boxplot(data=bank_df2[\"campaign\"])\n",
    "campaignoutliers_df = bank_df2.apply(lambda x: True if x['campaign'] > 3 else False , axis=1)\n",
    "campaignoutliers = len(campaignoutliers_df[campaignoutliers_df == True].index)\n",
    "print('Number of observations, where customer is contacted more than 3 times (third quartile) ',campaignoutliers)"
   ]
  },
  {
   "cell_type": "code",
   "execution_count": 20,
   "metadata": {},
   "outputs": [
    {
     "data": {
      "text/plain": [
       "Text(0, 0.5, 'Duration of the call')"
      ]
     },
     "execution_count": 20,
     "metadata": {},
     "output_type": "execute_result"
    },
    {
     "data": {
      "image/png": "[encoded data removed]",
      "text/plain": [
       "<Figure size 432x288 with 1 Axes>"
      ]
     },
     "metadata": {
      "needs_background": "light"
     },
     "output_type": "display_data"
    }
   ],
   "source": [
    "bank_call_df=bank_df2[[\"campaign\",\"Target\",\"duration\"]]\n",
    "bank_call_df = bank_call_df[(bank_call_df[\"duration\"]<3600) & (bank_call_df[\"campaign\"]<30)]\n",
    "graph = sns.scatterplot(x=bank_call_df[\"campaign\"], y=bank_call_df[\"duration\"], hue=bank_call_df[\"Target\"])\n",
    "# Set x-axis label\n",
    "plt.xlabel('Number of calls')\n",
    "# Set y-axis label\n",
    "plt.ylabel('Duration of the call')"
   ]
  },
  {
   "cell_type": "markdown",
   "metadata": {},
   "source": [
    "Inference: Most of the result either Success or Failure obtained in 2 to 5 follow up calls. And results are obtained when call duration is less than 1000 seconds"
   ]
  },
  {
   "cell_type": "code",
   "execution_count": 21,
   "metadata": {},
   "outputs": [],
   "source": [
    " corr = bank_df2.corr()"
   ]
  },
  {
   "cell_type": "code",
   "execution_count": 22,
   "metadata": {},
   "outputs": [
    {
     "data": {
      "text/plain": [
       "<matplotlib.axes._subplots.AxesSubplot at 0x1a1d27d4a8>"
      ]
     },
     "execution_count": 22,
     "metadata": {},
     "output_type": "execute_result"
    },
    {
     "data": {
      "image/png": "[encoded data removed]",
      "text/plain": [
       "<Figure size 432x288 with 2 Axes>"
      ]
     },
     "metadata": {
      "needs_background": "light"
     },
     "output_type": "display_data"
    }
   ],
   "source": [
    "sns.heatmap(corr,  annot=True, fmt='0.2f')"
   ]
  },
  {
   "cell_type": "markdown",
   "metadata": {},
   "source": [
    "As seen in pair plot, there is no high correlation among age, balance, day, month, duration, campaign, pdays, previous and Target <br>\n",
    "comparitively duration of the call shows some correlation with the result <br>\n",
    "Pdays and pdays both represents same dimension, hence they are correlated, meaning if customer is contated more than one time then it will have pdays(which is number of days that passed by after the client\n",
    "was last contacted from a previous campaign) value<br>\n",
    "<font color=\"blue\">Next step let us do some, isual analysis of categorical data </font>"
   ]
  },
  {
   "cell_type": "code",
   "execution_count": 23,
   "metadata": {},
   "outputs": [
    {
     "data": {
      "text/plain": [
       "<seaborn.axisgrid.FacetGrid at 0x1a1db99400>"
      ]
     },
     "execution_count": 23,
     "metadata": {},
     "output_type": "execute_result"
    },
    {
     "data": {
      "image/png": "[encoded data removed]",
      "text/plain": [
       "<Figure size 413.25x360 with 1 Axes>"
      ]
     },
     "metadata": {
      "needs_background": "light"
     },
     "output_type": "display_data"
    }
   ],
   "source": [
    "sns.catplot(y=\"campaign\", x=\"education\",hue=\"Target\", data=bank_df)"
   ]
  },
  {
   "cell_type": "markdown",
   "metadata": {},
   "source": [
    "Inference : \n",
    "Number of term deposit subscribtions are comparitively more than persons with Tertiary and secondary education level rather than primary and unknown <br>\n",
    "Also they decide with in 10 follow up calls, making more than 10 follow up calls rarely results in subcription of Term deposit\n"
   ]
  },
  {
   "cell_type": "code",
   "execution_count": 24,
   "metadata": {},
   "outputs": [
    {
     "data": {
      "text/plain": [
       "<seaborn.axisgrid.FacetGrid at 0x1a1c40cc18>"
      ]
     },
     "execution_count": 24,
     "metadata": {},
     "output_type": "execute_result"
    },
    {
     "data": {
      "image/png": "[encoded data removed]",
      "text/plain": [
       "<Figure size 413.25x360 with 1 Axes>"
      ]
     },
     "metadata": {
      "needs_background": "light"
     },
     "output_type": "display_data"
    }
   ],
   "source": [
    "sns.catplot(y=\"age\", x=\"housing\",hue=\"Target\", data=bank_df)"
   ]
  },
  {
   "cell_type": "code",
   "execution_count": 25,
   "metadata": {},
   "outputs": [
    {
     "data": {
      "text/html": [
       "<div>\n",
       "<style scoped>\n",
       "    .dataframe tbody tr th:only-of-type {\n",
       "        vertical-align: middle;\n",
       "    }\n",
       "\n",
       "    .dataframe tbody tr th {\n",
       "        vertical-align: top;\n",
       "    }\n",
       "\n",
       "    .dataframe thead th {\n",
       "        text-align: right;\n",
       "    }\n",
       "</style>\n",
       "<table border=\"1\" class=\"dataframe\">\n",
       "  <thead>\n",
       "    <tr style=\"text-align: right;\">\n",
       "      <th></th>\n",
       "      <th>age</th>\n",
       "      <th>job</th>\n",
       "      <th>marital</th>\n",
       "      <th>education</th>\n",
       "      <th>default</th>\n",
       "      <th>balance</th>\n",
       "      <th>housing</th>\n",
       "      <th>loan</th>\n",
       "      <th>contact</th>\n",
       "      <th>day</th>\n",
       "      <th>month</th>\n",
       "      <th>duration</th>\n",
       "      <th>campaign</th>\n",
       "      <th>pdays</th>\n",
       "      <th>previous</th>\n",
       "      <th>poutcome</th>\n",
       "      <th>Target</th>\n",
       "    </tr>\n",
       "  </thead>\n",
       "  <tbody>\n",
       "    <tr>\n",
       "      <th>0</th>\n",
       "      <td>58</td>\n",
       "      <td>management</td>\n",
       "      <td>married</td>\n",
       "      <td>tertiary</td>\n",
       "      <td>0</td>\n",
       "      <td>2143</td>\n",
       "      <td>1</td>\n",
       "      <td>0</td>\n",
       "      <td>unknown</td>\n",
       "      <td>5</td>\n",
       "      <td>5</td>\n",
       "      <td>261</td>\n",
       "      <td>1</td>\n",
       "      <td>-1</td>\n",
       "      <td>0</td>\n",
       "      <td>unknown</td>\n",
       "      <td>0</td>\n",
       "    </tr>\n",
       "    <tr>\n",
       "      <th>1</th>\n",
       "      <td>44</td>\n",
       "      <td>technician</td>\n",
       "      <td>single</td>\n",
       "      <td>secondary</td>\n",
       "      <td>0</td>\n",
       "      <td>29</td>\n",
       "      <td>1</td>\n",
       "      <td>0</td>\n",
       "      <td>unknown</td>\n",
       "      <td>5</td>\n",
       "      <td>5</td>\n",
       "      <td>151</td>\n",
       "      <td>1</td>\n",
       "      <td>-1</td>\n",
       "      <td>0</td>\n",
       "      <td>unknown</td>\n",
       "      <td>0</td>\n",
       "    </tr>\n",
       "    <tr>\n",
       "      <th>2</th>\n",
       "      <td>33</td>\n",
       "      <td>entrepreneur</td>\n",
       "      <td>married</td>\n",
       "      <td>secondary</td>\n",
       "      <td>0</td>\n",
       "      <td>2</td>\n",
       "      <td>1</td>\n",
       "      <td>1</td>\n",
       "      <td>unknown</td>\n",
       "      <td>5</td>\n",
       "      <td>5</td>\n",
       "      <td>76</td>\n",
       "      <td>1</td>\n",
       "      <td>-1</td>\n",
       "      <td>0</td>\n",
       "      <td>unknown</td>\n",
       "      <td>0</td>\n",
       "    </tr>\n",
       "    <tr>\n",
       "      <th>3</th>\n",
       "      <td>47</td>\n",
       "      <td>blue-collar</td>\n",
       "      <td>married</td>\n",
       "      <td>unknown</td>\n",
       "      <td>0</td>\n",
       "      <td>1506</td>\n",
       "      <td>1</td>\n",
       "      <td>0</td>\n",
       "      <td>unknown</td>\n",
       "      <td>5</td>\n",
       "      <td>5</td>\n",
       "      <td>92</td>\n",
       "      <td>1</td>\n",
       "      <td>-1</td>\n",
       "      <td>0</td>\n",
       "      <td>unknown</td>\n",
       "      <td>0</td>\n",
       "    </tr>\n",
       "    <tr>\n",
       "      <th>4</th>\n",
       "      <td>33</td>\n",
       "      <td>unknown</td>\n",
       "      <td>single</td>\n",
       "      <td>unknown</td>\n",
       "      <td>0</td>\n",
       "      <td>1</td>\n",
       "      <td>0</td>\n",
       "      <td>0</td>\n",
       "      <td>unknown</td>\n",
       "      <td>5</td>\n",
       "      <td>5</td>\n",
       "      <td>198</td>\n",
       "      <td>1</td>\n",
       "      <td>-1</td>\n",
       "      <td>0</td>\n",
       "      <td>unknown</td>\n",
       "      <td>0</td>\n",
       "    </tr>\n",
       "  </tbody>\n",
       "</table>\n",
       "</div>"
      ],
      "text/plain": [
       "   age           job  marital  education  default  balance  housing  loan  \\\n",
       "0   58    management  married   tertiary        0     2143        1     0   \n",
       "1   44    technician   single  secondary        0       29        1     0   \n",
       "2   33  entrepreneur  married  secondary        0        2        1     1   \n",
       "3   47   blue-collar  married    unknown        0     1506        1     0   \n",
       "4   33       unknown   single    unknown        0        1        0     0   \n",
       "\n",
       "   contact  day  month  duration  campaign  pdays  previous poutcome  Target  \n",
       "0  unknown    5      5       261         1     -1         0  unknown       0  \n",
       "1  unknown    5      5       151         1     -1         0  unknown       0  \n",
       "2  unknown    5      5        76         1     -1         0  unknown       0  \n",
       "3  unknown    5      5        92         1     -1         0  unknown       0  \n",
       "4  unknown    5      5       198         1     -1         0  unknown       0  "
      ]
     },
     "execution_count": 25,
     "metadata": {},
     "output_type": "execute_result"
    }
   ],
   "source": [
    "#Found housing,default and loan also of yes and no type making them also numeric data, i.e., yes =1 and no=0\n",
    "bank_df3 = bank_df2.copy()\n",
    "bank_df3[\"housing\"] = bank_df3[\"housing\"].apply(lambda x: 1 if x=='yes' else 0)\n",
    "bank_df3[\"loan\"] = bank_df3[\"loan\"].apply(lambda x: 1 if x=='yes' else 0)\n",
    "bank_df3[\"default\"] = bank_df3[\"default\"].apply(lambda x: 1 if x=='yes' else 0)\n",
    "bank_df3.head()"
   ]
  },
  {
   "cell_type": "code",
   "execution_count": 26,
   "metadata": {},
   "outputs": [
    {
     "data": {
      "text/plain": [
       "<matplotlib.axes._subplots.AxesSubplot at 0x1a1c466828>"
      ]
     },
     "execution_count": 26,
     "metadata": {},
     "output_type": "execute_result"
    },
    {
     "data": {
      "image/png": "[encoded data removed]",
      "text/plain": [
       "<Figure size 1152x864 with 2 Axes>"
      ]
     },
     "metadata": {
      "needs_background": "light"
     },
     "output_type": "display_data"
    }
   ],
   "source": [
    "corr2 = bank_df3.corr()\n",
    "import pylab as pl\n",
    "pl.figure(figsize = (16,12))\n",
    "sns.heatmap(corr2, annot=True, fmt='0.2f')"
   ]
  },
  {
   "cell_type": "code",
   "execution_count": 27,
   "metadata": {},
   "outputs": [
    {
     "data": {
      "text/plain": [
       "<seaborn.axisgrid.FacetGrid at 0x1a1c466c50>"
      ]
     },
     "execution_count": 27,
     "metadata": {},
     "output_type": "execute_result"
    },
    {
     "data": {
      "image/png": "[encoded data removed]",
      "text/plain": [
       "<Figure size 413.25x360 with 1 Axes>"
      ]
     },
     "metadata": {
      "needs_background": "light"
     },
     "output_type": "display_data"
    }
   ],
   "source": [
    "sns.catplot(y=\"campaign\", x=\"contact\",hue=\"Target\", kind=\"box\", data=bank_df)"
   ]
  },
  {
   "cell_type": "code",
   "execution_count": 28,
   "metadata": {},
   "outputs": [
    {
     "data": {
      "text/plain": [
       "<matplotlib.axes._subplots.AxesSubplot at 0x1a1eae2400>"
      ]
     },
     "execution_count": 28,
     "metadata": {},
     "output_type": "execute_result"
    },
    {
     "data": {
      "image/png": "[encoded data removed]",
      "text/plain": [
       "<Figure size 1152x864 with 2 Axes>"
      ]
     },
     "metadata": {
      "needs_background": "light"
     },
     "output_type": "display_data"
    }
   ],
   "source": [
    "bank_df4=bank_df3.copy()\n",
    "bank_df4[\"contact\"] = bank_df[\"contact\"].apply(lambda x: 1 if x==\"telephone\" else 2 if x==\"cellular\" else 0)\n",
    "pl.figure(figsize = (16,12))\n",
    "sns.heatmap(bank_df4.corr(), annot=True, fmt='0.2f')\n",
    "#sns.boxplot(temp_contact[\"contact\"])"
   ]
  },
  {
   "cell_type": "code",
   "execution_count": 29,
   "metadata": {},
   "outputs": [
    {
     "data": {
      "text/plain": [
       "1362.2720576850766"
      ]
     },
     "execution_count": 29,
     "metadata": {},
     "output_type": "execute_result"
    },
    {
     "data": {
      "image/png": "[encoded data removed]",
      "text/plain": [
       "<Figure size 432x288 with 1 Axes>"
      ]
     },
     "metadata": {
      "needs_background": "light"
     },
     "output_type": "display_data"
    }
   ],
   "source": [
    "#From 5 point analysis - balance and duration columns are having lot of out liers\n",
    "sns.boxplot(data=bank_df4[\"balance\"])\n",
    "bank_df4[\"balance\"].mean()"
   ]
  },
  {
   "cell_type": "code",
   "execution_count": 30,
   "metadata": {},
   "outputs": [
    {
     "name": "stdout",
     "output_type": "stream",
     "text": [
      "45211 total rows reduced to  7168  after applying scaling with zscore\n",
      "Number of rows in new dataset 44466 and  745  rows got reduced\n"
     ]
    }
   ],
   "source": [
    "\n",
    "bank_df4['balance_outliers'] = bank_df4['balance']\n",
    "bank_df4['balance_outliers']= zscore(bank_df4['balance_outliers'])\n",
    "print(bank_df4.shape[0], \"total rows reduced to \", len(bank_df4['balance_outliers'].unique()),\" after applying scaling with zscore\")\n",
    "#removing +/-3 standard deviation from the mean in balance column\n",
    "balance_constraint = (bank_df4['balance_outliers']>3) | (bank_df4['balance_outliers']<-3 )\n",
    "bank_df5 = bank_df4.drop(bank_df4[balance_constraint].index, axis = 0, inplace = False)\n",
    "print(\"Number of rows in new dataset\",bank_df5.shape[0], \"and \", bank_df4.shape[0]-bank_df5.shape[0],\" rows got reduced\")"
   ]
  },
  {
   "cell_type": "code",
   "execution_count": 31,
   "metadata": {},
   "outputs": [
    {
     "name": "stdout",
     "output_type": "stream",
     "text": [
      "45211 total rows reduced to  1568  after applying scaling with zscore\n",
      "Number of rows in new dataset 43524 and  1687  rows got reduced\n"
     ]
    }
   ],
   "source": [
    "\n",
    "bank_df5['duration_outliers'] = bank_df5['duration']\n",
    "bank_df5['duration_outliers']= zscore(bank_df5['duration_outliers'])\n",
    "print(bank_df4.shape[0], \"total rows reduced to \", len(bank_df5['duration_outliers'].unique()),\" after applying scaling with zscore\")\n",
    "#removing +/-3 standard deviation from the mean in balance column\n",
    "duration_constraint = (bank_df5['duration_outliers']>3) | (bank_df5['duration_outliers']<-3 )\n",
    "bank_df5 = bank_df5.drop(bank_df5[duration_constraint].index, axis = 0, inplace = False)\n",
    "print(\"Number of rows in new dataset\",bank_df5.shape[0], \"and \", bank_df4.shape[0]-bank_df5.shape[0],\" rows got reduced\")"
   ]
  },
  {
   "cell_type": "code",
   "execution_count": 32,
   "metadata": {},
   "outputs": [
    {
     "name": "stdout",
     "output_type": "stream",
     "text": [
      "Original shape:  (45211, 17)  and shape now (43524, 19)  Difference :  1687\n"
     ]
    }
   ],
   "source": [
    "print(\"Original shape: \",bank_df.shape,\" and shape now\",bank_df5.shape, \" Difference : \",bank_df.shape[0]-bank_df5.shape[0])"
   ]
  },
  {
   "cell_type": "code",
   "execution_count": 33,
   "metadata": {},
   "outputs": [
    {
     "data": {
      "text/plain": [
       "(43524, 17)"
      ]
     },
     "execution_count": 33,
     "metadata": {},
     "output_type": "execute_result"
    }
   ],
   "source": [
    "#Removing newly added columns duration_outliers and balance_outliers\n",
    "bank_df6 = bank_df5.drop(\"balance_outliers\", axis=1)\n",
    "bank_df6 = bank_df6.drop(\"duration_outliers\", axis=1)\n",
    "bank_df6.shape"
   ]
  },
  {
   "cell_type": "code",
   "execution_count": 34,
   "metadata": {},
   "outputs": [
    {
     "data": {
      "text/plain": [
       "<matplotlib.axes._subplots.AxesSubplot at 0x1a2141de10>"
      ]
     },
     "execution_count": 34,
     "metadata": {},
     "output_type": "execute_result"
    },
    {
     "data": {
      "image/png": "[encoded data removed]",
      "text/plain": [
       "<Figure size 432x288 with 1 Axes>"
      ]
     },
     "metadata": {
      "needs_background": "light"
     },
     "output_type": "display_data"
    }
   ],
   "source": [
    "sns.boxplot(data=bank_df2[[\"duration\"]])"
   ]
  },
  {
   "cell_type": "code",
   "execution_count": 35,
   "metadata": {},
   "outputs": [
    {
     "data": {
      "text/plain": [
       "233.80498115981987"
      ]
     },
     "execution_count": 35,
     "metadata": {},
     "output_type": "execute_result"
    },
    {
     "data": {
      "image/png": "[encoded data removed]",
      "text/plain": [
       "<Figure size 432x288 with 1 Axes>"
      ]
     },
     "metadata": {
      "needs_background": "light"
     },
     "output_type": "display_data"
    }
   ],
   "source": [
    "sns.boxplot(data=bank_df6[[\"duration\"]])\n",
    "bank_df6[\"duration\"].mean()"
   ]
  },
  {
   "cell_type": "code",
   "execution_count": 36,
   "metadata": {},
   "outputs": [
    {
     "data": {
      "text/plain": [
       "<matplotlib.axes._subplots.AxesSubplot at 0x1a2245c6d8>"
      ]
     },
     "execution_count": 36,
     "metadata": {},
     "output_type": "execute_result"
    },
    {
     "data": {
      "image/png": "[encoded data removed]",
      "text/plain": [
       "<Figure size 432x288 with 1 Axes>"
      ]
     },
     "metadata": {
      "needs_background": "light"
     },
     "output_type": "display_data"
    }
   ],
   "source": [
    "sns.boxplot(data=bank_df2[[\"balance\"]])"
   ]
  },
  {
   "cell_type": "code",
   "execution_count": 37,
   "metadata": {},
   "outputs": [
    {
     "data": {
      "text/plain": [
       "<matplotlib.axes._subplots.AxesSubplot at 0x1a224c7ac8>"
      ]
     },
     "execution_count": 37,
     "metadata": {},
     "output_type": "execute_result"
    },
    {
     "data": {
      "image/png": "[encoded data removed]",
      "text/plain": [
       "<Figure size 432x288 with 1 Axes>"
      ]
     },
     "metadata": {
      "needs_background": "light"
     },
     "output_type": "display_data"
    }
   ],
   "source": [
    "sns.boxplot(data=bank_df6[[\"balance\"]])"
   ]
  },
  {
   "cell_type": "markdown",
   "metadata": {},
   "source": [
    "Verify with bank whether NEGATIVE balance is valid values"
   ]
  },
  {
   "cell_type": "markdown",
   "metadata": {},
   "source": [
    "Since machine learning algorithms only take numerical values, remaining categorical variables (job, education, marital, and poutcome) are transformed into dummy variables."
   ]
  },
  {
   "cell_type": "code",
   "execution_count": 38,
   "metadata": {},
   "outputs": [],
   "source": [
    "bank_df7=bank_df6.copy()"
   ]
  },
  {
   "cell_type": "code",
   "execution_count": 39,
   "metadata": {},
   "outputs": [
    {
     "name": "stderr",
     "output_type": "stream",
     "text": [
      "/Users/thiru/anaconda3/lib/python3.7/site-packages/numpy/core/fromnumeric.py:56: FutureWarning: \n",
      "The current behaviour of 'Series.argmin' is deprecated, use 'idxmin'\n",
      "instead.\n",
      "The behavior of 'argmin' will be corrected to return the positional\n",
      "minimum in the future. For now, use 'series.values.argmin' or\n",
      "'np.argmin(np.array(values))' to get the position of the minimum\n",
      "row.\n",
      "  return getattr(obj, method)(*args, **kwds)\n"
     ]
    },
    {
     "data": {
      "text/plain": [
       "'blue-collar'"
      ]
     },
     "execution_count": 39,
     "metadata": {},
     "output_type": "execute_result"
    }
   ],
   "source": [
    "np.argmin(bank_df7.applymap(np.isreal).all(0))\n",
    "job_values = bank_df6[\"job\"].unique().tolist()\n",
    "job_values[3]"
   ]
  },
  {
   "cell_type": "code",
   "execution_count": 40,
   "metadata": {},
   "outputs": [
    {
     "data": {
      "text/html": [
       "<div>\n",
       "<style scoped>\n",
       "    .dataframe tbody tr th:only-of-type {\n",
       "        vertical-align: middle;\n",
       "    }\n",
       "\n",
       "    .dataframe tbody tr th {\n",
       "        vertical-align: top;\n",
       "    }\n",
       "\n",
       "    .dataframe thead th {\n",
       "        text-align: right;\n",
       "    }\n",
       "</style>\n",
       "<table border=\"1\" class=\"dataframe\">\n",
       "  <thead>\n",
       "    <tr style=\"text-align: right;\">\n",
       "      <th></th>\n",
       "      <th>age</th>\n",
       "      <th>job</th>\n",
       "      <th>marital</th>\n",
       "      <th>education</th>\n",
       "      <th>default</th>\n",
       "      <th>balance</th>\n",
       "      <th>housing</th>\n",
       "      <th>loan</th>\n",
       "      <th>contact</th>\n",
       "      <th>day</th>\n",
       "      <th>month</th>\n",
       "      <th>duration</th>\n",
       "      <th>campaign</th>\n",
       "      <th>pdays</th>\n",
       "      <th>previous</th>\n",
       "      <th>poutcome</th>\n",
       "      <th>Target</th>\n",
       "    </tr>\n",
       "  </thead>\n",
       "  <tbody>\n",
       "    <tr>\n",
       "      <th>0</th>\n",
       "      <td>58</td>\n",
       "      <td>0</td>\n",
       "      <td>1</td>\n",
       "      <td>3</td>\n",
       "      <td>0</td>\n",
       "      <td>2143</td>\n",
       "      <td>1</td>\n",
       "      <td>0</td>\n",
       "      <td>0</td>\n",
       "      <td>5</td>\n",
       "      <td>5</td>\n",
       "      <td>261</td>\n",
       "      <td>1</td>\n",
       "      <td>-1</td>\n",
       "      <td>0</td>\n",
       "      <td>0</td>\n",
       "      <td>0</td>\n",
       "    </tr>\n",
       "    <tr>\n",
       "      <th>1</th>\n",
       "      <td>44</td>\n",
       "      <td>1</td>\n",
       "      <td>2</td>\n",
       "      <td>2</td>\n",
       "      <td>0</td>\n",
       "      <td>29</td>\n",
       "      <td>1</td>\n",
       "      <td>0</td>\n",
       "      <td>0</td>\n",
       "      <td>5</td>\n",
       "      <td>5</td>\n",
       "      <td>151</td>\n",
       "      <td>1</td>\n",
       "      <td>-1</td>\n",
       "      <td>0</td>\n",
       "      <td>0</td>\n",
       "      <td>0</td>\n",
       "    </tr>\n",
       "    <tr>\n",
       "      <th>2</th>\n",
       "      <td>33</td>\n",
       "      <td>2</td>\n",
       "      <td>1</td>\n",
       "      <td>2</td>\n",
       "      <td>0</td>\n",
       "      <td>2</td>\n",
       "      <td>1</td>\n",
       "      <td>1</td>\n",
       "      <td>0</td>\n",
       "      <td>5</td>\n",
       "      <td>5</td>\n",
       "      <td>76</td>\n",
       "      <td>1</td>\n",
       "      <td>-1</td>\n",
       "      <td>0</td>\n",
       "      <td>0</td>\n",
       "      <td>0</td>\n",
       "    </tr>\n",
       "    <tr>\n",
       "      <th>3</th>\n",
       "      <td>47</td>\n",
       "      <td>3</td>\n",
       "      <td>1</td>\n",
       "      <td>0</td>\n",
       "      <td>0</td>\n",
       "      <td>1506</td>\n",
       "      <td>1</td>\n",
       "      <td>0</td>\n",
       "      <td>0</td>\n",
       "      <td>5</td>\n",
       "      <td>5</td>\n",
       "      <td>92</td>\n",
       "      <td>1</td>\n",
       "      <td>-1</td>\n",
       "      <td>0</td>\n",
       "      <td>0</td>\n",
       "      <td>0</td>\n",
       "    </tr>\n",
       "    <tr>\n",
       "      <th>4</th>\n",
       "      <td>33</td>\n",
       "      <td>4</td>\n",
       "      <td>2</td>\n",
       "      <td>0</td>\n",
       "      <td>0</td>\n",
       "      <td>1</td>\n",
       "      <td>0</td>\n",
       "      <td>0</td>\n",
       "      <td>0</td>\n",
       "      <td>5</td>\n",
       "      <td>5</td>\n",
       "      <td>198</td>\n",
       "      <td>1</td>\n",
       "      <td>-1</td>\n",
       "      <td>0</td>\n",
       "      <td>0</td>\n",
       "      <td>0</td>\n",
       "    </tr>\n",
       "    <tr>\n",
       "      <th>5</th>\n",
       "      <td>35</td>\n",
       "      <td>0</td>\n",
       "      <td>1</td>\n",
       "      <td>3</td>\n",
       "      <td>0</td>\n",
       "      <td>231</td>\n",
       "      <td>1</td>\n",
       "      <td>0</td>\n",
       "      <td>0</td>\n",
       "      <td>5</td>\n",
       "      <td>5</td>\n",
       "      <td>139</td>\n",
       "      <td>1</td>\n",
       "      <td>-1</td>\n",
       "      <td>0</td>\n",
       "      <td>0</td>\n",
       "      <td>0</td>\n",
       "    </tr>\n",
       "    <tr>\n",
       "      <th>6</th>\n",
       "      <td>28</td>\n",
       "      <td>0</td>\n",
       "      <td>2</td>\n",
       "      <td>3</td>\n",
       "      <td>0</td>\n",
       "      <td>447</td>\n",
       "      <td>1</td>\n",
       "      <td>1</td>\n",
       "      <td>0</td>\n",
       "      <td>5</td>\n",
       "      <td>5</td>\n",
       "      <td>217</td>\n",
       "      <td>1</td>\n",
       "      <td>-1</td>\n",
       "      <td>0</td>\n",
       "      <td>0</td>\n",
       "      <td>0</td>\n",
       "    </tr>\n",
       "    <tr>\n",
       "      <th>7</th>\n",
       "      <td>42</td>\n",
       "      <td>2</td>\n",
       "      <td>0</td>\n",
       "      <td>3</td>\n",
       "      <td>1</td>\n",
       "      <td>2</td>\n",
       "      <td>1</td>\n",
       "      <td>0</td>\n",
       "      <td>0</td>\n",
       "      <td>5</td>\n",
       "      <td>5</td>\n",
       "      <td>380</td>\n",
       "      <td>1</td>\n",
       "      <td>-1</td>\n",
       "      <td>0</td>\n",
       "      <td>0</td>\n",
       "      <td>0</td>\n",
       "    </tr>\n",
       "    <tr>\n",
       "      <th>8</th>\n",
       "      <td>58</td>\n",
       "      <td>5</td>\n",
       "      <td>1</td>\n",
       "      <td>1</td>\n",
       "      <td>0</td>\n",
       "      <td>121</td>\n",
       "      <td>1</td>\n",
       "      <td>0</td>\n",
       "      <td>0</td>\n",
       "      <td>5</td>\n",
       "      <td>5</td>\n",
       "      <td>50</td>\n",
       "      <td>1</td>\n",
       "      <td>-1</td>\n",
       "      <td>0</td>\n",
       "      <td>0</td>\n",
       "      <td>0</td>\n",
       "    </tr>\n",
       "    <tr>\n",
       "      <th>9</th>\n",
       "      <td>43</td>\n",
       "      <td>1</td>\n",
       "      <td>2</td>\n",
       "      <td>2</td>\n",
       "      <td>0</td>\n",
       "      <td>593</td>\n",
       "      <td>1</td>\n",
       "      <td>0</td>\n",
       "      <td>0</td>\n",
       "      <td>5</td>\n",
       "      <td>5</td>\n",
       "      <td>55</td>\n",
       "      <td>1</td>\n",
       "      <td>-1</td>\n",
       "      <td>0</td>\n",
       "      <td>0</td>\n",
       "      <td>0</td>\n",
       "    </tr>\n",
       "    <tr>\n",
       "      <th>10</th>\n",
       "      <td>41</td>\n",
       "      <td>6</td>\n",
       "      <td>0</td>\n",
       "      <td>2</td>\n",
       "      <td>0</td>\n",
       "      <td>270</td>\n",
       "      <td>1</td>\n",
       "      <td>0</td>\n",
       "      <td>0</td>\n",
       "      <td>5</td>\n",
       "      <td>5</td>\n",
       "      <td>222</td>\n",
       "      <td>1</td>\n",
       "      <td>-1</td>\n",
       "      <td>0</td>\n",
       "      <td>0</td>\n",
       "      <td>0</td>\n",
       "    </tr>\n",
       "    <tr>\n",
       "      <th>11</th>\n",
       "      <td>29</td>\n",
       "      <td>6</td>\n",
       "      <td>2</td>\n",
       "      <td>2</td>\n",
       "      <td>0</td>\n",
       "      <td>390</td>\n",
       "      <td>1</td>\n",
       "      <td>0</td>\n",
       "      <td>0</td>\n",
       "      <td>5</td>\n",
       "      <td>5</td>\n",
       "      <td>137</td>\n",
       "      <td>1</td>\n",
       "      <td>-1</td>\n",
       "      <td>0</td>\n",
       "      <td>0</td>\n",
       "      <td>0</td>\n",
       "    </tr>\n",
       "    <tr>\n",
       "      <th>12</th>\n",
       "      <td>53</td>\n",
       "      <td>1</td>\n",
       "      <td>1</td>\n",
       "      <td>2</td>\n",
       "      <td>0</td>\n",
       "      <td>6</td>\n",
       "      <td>1</td>\n",
       "      <td>0</td>\n",
       "      <td>0</td>\n",
       "      <td>5</td>\n",
       "      <td>5</td>\n",
       "      <td>517</td>\n",
       "      <td>1</td>\n",
       "      <td>-1</td>\n",
       "      <td>0</td>\n",
       "      <td>0</td>\n",
       "      <td>0</td>\n",
       "    </tr>\n",
       "    <tr>\n",
       "      <th>13</th>\n",
       "      <td>58</td>\n",
       "      <td>1</td>\n",
       "      <td>1</td>\n",
       "      <td>0</td>\n",
       "      <td>0</td>\n",
       "      <td>71</td>\n",
       "      <td>1</td>\n",
       "      <td>0</td>\n",
       "      <td>0</td>\n",
       "      <td>5</td>\n",
       "      <td>5</td>\n",
       "      <td>71</td>\n",
       "      <td>1</td>\n",
       "      <td>-1</td>\n",
       "      <td>0</td>\n",
       "      <td>0</td>\n",
       "      <td>0</td>\n",
       "    </tr>\n",
       "    <tr>\n",
       "      <th>14</th>\n",
       "      <td>57</td>\n",
       "      <td>7</td>\n",
       "      <td>1</td>\n",
       "      <td>2</td>\n",
       "      <td>0</td>\n",
       "      <td>162</td>\n",
       "      <td>1</td>\n",
       "      <td>0</td>\n",
       "      <td>0</td>\n",
       "      <td>5</td>\n",
       "      <td>5</td>\n",
       "      <td>174</td>\n",
       "      <td>1</td>\n",
       "      <td>-1</td>\n",
       "      <td>0</td>\n",
       "      <td>0</td>\n",
       "      <td>0</td>\n",
       "    </tr>\n",
       "    <tr>\n",
       "      <th>15</th>\n",
       "      <td>51</td>\n",
       "      <td>5</td>\n",
       "      <td>1</td>\n",
       "      <td>1</td>\n",
       "      <td>0</td>\n",
       "      <td>229</td>\n",
       "      <td>1</td>\n",
       "      <td>0</td>\n",
       "      <td>0</td>\n",
       "      <td>5</td>\n",
       "      <td>5</td>\n",
       "      <td>353</td>\n",
       "      <td>1</td>\n",
       "      <td>-1</td>\n",
       "      <td>0</td>\n",
       "      <td>0</td>\n",
       "      <td>0</td>\n",
       "    </tr>\n",
       "    <tr>\n",
       "      <th>16</th>\n",
       "      <td>45</td>\n",
       "      <td>6</td>\n",
       "      <td>2</td>\n",
       "      <td>0</td>\n",
       "      <td>0</td>\n",
       "      <td>13</td>\n",
       "      <td>1</td>\n",
       "      <td>0</td>\n",
       "      <td>0</td>\n",
       "      <td>5</td>\n",
       "      <td>5</td>\n",
       "      <td>98</td>\n",
       "      <td>1</td>\n",
       "      <td>-1</td>\n",
       "      <td>0</td>\n",
       "      <td>0</td>\n",
       "      <td>0</td>\n",
       "    </tr>\n",
       "    <tr>\n",
       "      <th>17</th>\n",
       "      <td>57</td>\n",
       "      <td>3</td>\n",
       "      <td>1</td>\n",
       "      <td>1</td>\n",
       "      <td>0</td>\n",
       "      <td>52</td>\n",
       "      <td>1</td>\n",
       "      <td>0</td>\n",
       "      <td>0</td>\n",
       "      <td>5</td>\n",
       "      <td>5</td>\n",
       "      <td>38</td>\n",
       "      <td>1</td>\n",
       "      <td>-1</td>\n",
       "      <td>0</td>\n",
       "      <td>0</td>\n",
       "      <td>0</td>\n",
       "    </tr>\n",
       "    <tr>\n",
       "      <th>18</th>\n",
       "      <td>60</td>\n",
       "      <td>5</td>\n",
       "      <td>1</td>\n",
       "      <td>1</td>\n",
       "      <td>0</td>\n",
       "      <td>60</td>\n",
       "      <td>1</td>\n",
       "      <td>0</td>\n",
       "      <td>0</td>\n",
       "      <td>5</td>\n",
       "      <td>5</td>\n",
       "      <td>219</td>\n",
       "      <td>1</td>\n",
       "      <td>-1</td>\n",
       "      <td>0</td>\n",
       "      <td>0</td>\n",
       "      <td>0</td>\n",
       "    </tr>\n",
       "    <tr>\n",
       "      <th>19</th>\n",
       "      <td>33</td>\n",
       "      <td>7</td>\n",
       "      <td>1</td>\n",
       "      <td>2</td>\n",
       "      <td>0</td>\n",
       "      <td>0</td>\n",
       "      <td>1</td>\n",
       "      <td>0</td>\n",
       "      <td>0</td>\n",
       "      <td>5</td>\n",
       "      <td>5</td>\n",
       "      <td>54</td>\n",
       "      <td>1</td>\n",
       "      <td>-1</td>\n",
       "      <td>0</td>\n",
       "      <td>0</td>\n",
       "      <td>0</td>\n",
       "    </tr>\n",
       "  </tbody>\n",
       "</table>\n",
       "</div>"
      ],
      "text/plain": [
       "    age  job  marital  education  default  balance  housing  loan  contact  \\\n",
       "0    58    0        1          3        0     2143        1     0        0   \n",
       "1    44    1        2          2        0       29        1     0        0   \n",
       "2    33    2        1          2        0        2        1     1        0   \n",
       "3    47    3        1          0        0     1506        1     0        0   \n",
       "4    33    4        2          0        0        1        0     0        0   \n",
       "5    35    0        1          3        0      231        1     0        0   \n",
       "6    28    0        2          3        0      447        1     1        0   \n",
       "7    42    2        0          3        1        2        1     0        0   \n",
       "8    58    5        1          1        0      121        1     0        0   \n",
       "9    43    1        2          2        0      593        1     0        0   \n",
       "10   41    6        0          2        0      270        1     0        0   \n",
       "11   29    6        2          2        0      390        1     0        0   \n",
       "12   53    1        1          2        0        6        1     0        0   \n",
       "13   58    1        1          0        0       71        1     0        0   \n",
       "14   57    7        1          2        0      162        1     0        0   \n",
       "15   51    5        1          1        0      229        1     0        0   \n",
       "16   45    6        2          0        0       13        1     0        0   \n",
       "17   57    3        1          1        0       52        1     0        0   \n",
       "18   60    5        1          1        0       60        1     0        0   \n",
       "19   33    7        1          2        0        0        1     0        0   \n",
       "\n",
       "    day  month  duration  campaign  pdays  previous  poutcome  Target  \n",
       "0     5      5       261         1     -1         0         0       0  \n",
       "1     5      5       151         1     -1         0         0       0  \n",
       "2     5      5        76         1     -1         0         0       0  \n",
       "3     5      5        92         1     -1         0         0       0  \n",
       "4     5      5       198         1     -1         0         0       0  \n",
       "5     5      5       139         1     -1         0         0       0  \n",
       "6     5      5       217         1     -1         0         0       0  \n",
       "7     5      5       380         1     -1         0         0       0  \n",
       "8     5      5        50         1     -1         0         0       0  \n",
       "9     5      5        55         1     -1         0         0       0  \n",
       "10    5      5       222         1     -1         0         0       0  \n",
       "11    5      5       137         1     -1         0         0       0  \n",
       "12    5      5       517         1     -1         0         0       0  \n",
       "13    5      5        71         1     -1         0         0       0  \n",
       "14    5      5       174         1     -1         0         0       0  \n",
       "15    5      5       353         1     -1         0         0       0  \n",
       "16    5      5        98         1     -1         0         0       0  \n",
       "17    5      5        38         1     -1         0         0       0  \n",
       "18    5      5       219         1     -1         0         0       0  \n",
       "19    5      5        54         1     -1         0         0       0  "
      ]
     },
     "execution_count": 40,
     "metadata": {},
     "output_type": "execute_result"
    }
   ],
   "source": [
    "#bank_df7 = pd.get_dummies(bank_df6, columns = ['job'])\n",
    "bank_df7[\"marital\"] = bank_df7[\"marital\"].apply(lambda x: 1 if x==\"married\" else 2 if x==\"single\" else 0)\n",
    "bank_df7[\"education\"] = bank_df7[\"education\"].apply(lambda x: 1 if x==\"primary\" else 2 if x==\"secondary\" else 3 if x==\"tertiary\" else 0)\n",
    "bank_df7[\"poutcome\"] = bank_df7[\"poutcome\"].apply(lambda x: 1 if x==\"success\" else 2 if x==\"failure\" else 3 if x==\"other\" else 0)\n",
    "bank_df7[\"job\"] = bank_df6[\"job\"].apply(lambda x: job_values.index(x) )\n",
    "bank_df7.head(20)"
   ]
  },
  {
   "cell_type": "markdown",
   "metadata": {},
   "source": [
    "<h2><font color=\"#07bdf5\">4.Model Creation (Basic classification Models)</font></h2>"
   ]
  },
  {
   "cell_type": "code",
   "execution_count": 41,
   "metadata": {},
   "outputs": [],
   "source": [
    "#splitting training and testing data\n",
    "X_train, X_test = train_test_split(bank_df7 , test_size=0.3, random_state=1)\n",
    "y_train = X_train.pop(\"Target\")\n",
    "y_test = X_test.pop(\"Target\")\n",
    "modelscorecard={} #defining a dictionary to comparing different model"
   ]
  },
  {
   "cell_type": "code",
   "execution_count": 42,
   "metadata": {},
   "outputs": [],
   "source": [
    "def do_LR(X_trainLR,y_trainLR,X_testLR,y_testLR):\n",
    "    clf = LogisticRegression(fit_intercept = False, C = 1e9) \n",
    "    #scikit-learn's logistic regression performs regularization by default. To negate setting high value for C\n",
    "    clf.fit(X_trainLR,y_trainLR) #Model\n",
    "    y_pred = clf.predict(X_testLR) #prediction\n",
    "    scikit_score = clf.score(X_testLR,y_testLR)\n",
    "    return scikit_score,y_pred"
   ]
  },
  {
   "cell_type": "code",
   "execution_count": 43,
   "metadata": {},
   "outputs": [],
   "source": [
    "from sklearn import metrics\n",
    "def draw_conmmat( actual, predicted, modelname): #creating this as function as I am planning to reuse\n",
    "    cm = metrics.confusion_matrix( actual, predicted, [1,0] )\n",
    "    sns.heatmap(cm, annot=True,  fmt='.2f', xticklabels = [\"Subscribed Term Deposit\", \"NOT Subscribed Term Deposit\"] , yticklabels = [\"Subscribed Term Deposit\", \"NOTSubscribed Term Deposit\"] )\n",
    "    plt.ylabel('True label')\n",
    "    plt.xlabel('Predicted label - '+str(modelname))\n",
    "    plt.show()"
   ]
  },
  {
   "cell_type": "code",
   "execution_count": 44,
   "metadata": {},
   "outputs": [
    {
     "name": "stderr",
     "output_type": "stream",
     "text": [
      "/Users/thiru/anaconda3/lib/python3.7/site-packages/sklearn/linear_model/logistic.py:433: FutureWarning: Default solver will be changed to 'lbfgs' in 0.22. Specify a solver to silence this warning.\n",
      "  FutureWarning)\n"
     ]
    },
    {
     "name": "stdout",
     "output_type": "stream",
     "text": [
      "Score scikit learn Logistic Regression : 0.8940113340480931\n"
     ]
    }
   ],
   "source": [
    "LRScore, LRpred_labels = do_LR(X_train,y_train,X_test,y_test)\n",
    "print(\"Score scikit learn Logistic Regression : \"+str(LRScore))\n",
    "modelscorecard[\"LRscikitlearn\"]=LRScore"
   ]
  },
  {
   "cell_type": "code",
   "execution_count": 45,
   "metadata": {},
   "outputs": [
    {
     "data": {
      "text/plain": [
       "array([[11411,   256],\n",
       "       [ 1128,   263]])"
      ]
     },
     "execution_count": 45,
     "metadata": {},
     "output_type": "execute_result"
    }
   ],
   "source": [
    "confusion_matrix(y_test,LRpred_labels)"
   ]
  },
  {
   "cell_type": "code",
   "execution_count": 46,
   "metadata": {},
   "outputs": [
    {
     "data": {
      "image/png": "[encoded data removed]",
      "text/plain": [
       "<Figure size 432x288 with 2 Axes>"
      ]
     },
     "metadata": {
      "needs_background": "light"
     },
     "output_type": "display_data"
    }
   ],
   "source": [
    "draw_conmmat(y_test,LRpred_labels, \"Logistic Regression using scikit learn\")"
   ]
  },
  {
   "cell_type": "code",
   "execution_count": 47,
   "metadata": {},
   "outputs": [
    {
     "name": "stdout",
     "output_type": "stream",
     "text": [
      "              precision    recall  f1-score   support\n",
      "\n",
      "           0       0.91      0.98      0.94     11667\n",
      "           1       0.51      0.19      0.28      1391\n",
      "\n",
      "   micro avg       0.89      0.89      0.89     13058\n",
      "   macro avg       0.71      0.58      0.61     13058\n",
      "weighted avg       0.87      0.89      0.87     13058\n",
      "\n"
     ]
    }
   ],
   "source": [
    "from sklearn.metrics import classification_report\n",
    "print(classification_report(y_test, LRpred_labels))"
   ]
  },
  {
   "cell_type": "markdown",
   "metadata": {},
   "source": [
    "\n",
    "<font color=\"blue\"><b>KNN</b></font>\n"
   ]
  },
  {
   "cell_type": "code",
   "execution_count": 48,
   "metadata": {},
   "outputs": [],
   "source": [
    "def calculate_accuracy(confusion_matrix):\n",
    "    accuracy = (confusion_matrix[0][0]+confusion_matrix[1][1])/(confusion_matrix[0][0]+confusion_matrix[0][1]+confusion_matrix[1][0]+confusion_matrix[1][1])\n",
    "    return accuracy"
   ]
  },
  {
   "cell_type": "code",
   "execution_count": 49,
   "metadata": {},
   "outputs": [],
   "source": [
    "from sklearn.neighbors import KNeighborsClassifier\n",
    "\n",
    "def do_KNN(X_train,y_train,y_test, K_value): #defining this as function as I have to reuse\n",
    "    NNH = KNeighborsClassifier(n_neighbors= K_value , weights = 'uniform', metric='euclidean' )\n",
    "    NNH.fit(X_train, y_train)\n",
    "    # For every test data point, predict it's label based on 5 nearest neighbours in this model. The majority class will \n",
    "    # be assigned to the test data point\n",
    "    KNNpredict = NNH.predict(X_test)\n",
    "    score = NNH.score(X_test, y_test)\n",
    "    return score,KNNpredict"
   ]
  },
  {
   "cell_type": "code",
   "execution_count": 50,
   "metadata": {},
   "outputs": [
    {
     "name": "stdout",
     "output_type": "stream",
     "text": [
      "When K value is 1 score = 0.8599326083626896\n",
      "When K value is 2 score = 0.8912544034308469\n",
      "When K value is 3 score = 0.8826007045489355\n",
      "When K value is 4 score = 0.8933986827998162\n",
      "When K value is 5 score = 0.8914075662429162\n",
      "When K value is 6 score = 0.8933986827998162\n",
      "When K value is 7 score = 0.8933221013937815\n",
      "When K value is 8 score = 0.8945474038903354\n",
      "When K value is 9 score = 0.8933221013937815\n",
      "When K value is 10 score = 0.89462398529637\n",
      "When K value is 11 score = 0.8940113340480931\n",
      "When K value is 12 score = 0.8928626129575739\n",
      "When K value is 13 score = 0.8933986827998162\n",
      "When K value is 14 score = 0.8930157757696431\n",
      "When K value is 15 score = 0.8940879154541277\n",
      "When K value is 16 score = 0.8940113340480931\n",
      "When K value is 17 score = 0.8917138918670546\n",
      "When K value is 18 score = 0.8937050084239546\n",
      "When K value is 19 score = 0.8943942410782662\n",
      "When K value is 20 score = 0.8939347526420585\n"
     ]
    }
   ],
   "source": [
    "\n",
    "for i in range(1,21):\n",
    "    KNNscore,KNNpredict = do_KNN(X_train,y_train,y_test,i)# applying K values from 1 to 20\n",
    "    print(\"When K value is \"+str(i)+\" score = \"+str(KNNscore))"
   ]
  },
  {
   "cell_type": "markdown",
   "metadata": {},
   "source": [
    "\n",
    "<font color=\"blue\"> When K value is 2 the score is 89.13%, 89.4 is obtained when K is 8, since it is not major improvement, assuming 2 as Optimum K value</font>\n"
   ]
  },
  {
   "cell_type": "code",
   "execution_count": 51,
   "metadata": {},
   "outputs": [
    {
     "name": "stdout",
     "output_type": "stream",
     "text": [
      "When K value is 2 score = 0.8912544034308469\n",
      "Confusion matrix for KNN is\n"
     ]
    }
   ],
   "source": [
    "# applying K value as 2\n",
    "optimum_kvalue = 2\n",
    "KNNscore,KNNpredict = do_KNN(X_train,y_train,y_test,optimum_kvalue)\n",
    "print(\"When K value is \"+str(optimum_kvalue)+\" score = \"+str(KNNscore))\n",
    "print(\"Confusion matrix for KNN is\")\n",
    "conf_matrix= confusion_matrix(y_test,KNNpredict)\n",
    "modelscorecard[\"KNN\"] = KNNscore"
   ]
  },
  {
   "cell_type": "code",
   "execution_count": 52,
   "metadata": {},
   "outputs": [
    {
     "data": {
      "image/png": "[encoded data removed]",
      "text/plain": [
       "<Figure size 432x288 with 2 Axes>"
      ]
     },
     "metadata": {
      "needs_background": "light"
     },
     "output_type": "display_data"
    }
   ],
   "source": [
    "draw_conmmat(y_test,KNNpredict,\"KNN\")"
   ]
  },
  {
   "cell_type": "code",
   "execution_count": 53,
   "metadata": {},
   "outputs": [
    {
     "name": "stdout",
     "output_type": "stream",
     "text": [
      "KNN Accuracy=0.8913309848368816\n"
     ]
    }
   ],
   "source": [
    "calculate_accuracy(conf_matrix)\n",
    "\n",
    "acc_knn=(174+11465)/(174+11465+202+1217) #Just to verify through manual calculation\n",
    "print(\"KNN Accuracy=\"+str(acc_knn))\n"
   ]
  },
  {
   "cell_type": "code",
   "execution_count": 54,
   "metadata": {},
   "outputs": [
    {
     "name": "stdout",
     "output_type": "stream",
     "text": [
      "              precision    recall  f1-score   support\n",
      "\n",
      "           0       0.90      0.98      0.94     11667\n",
      "           1       0.46      0.13      0.20      1391\n",
      "\n",
      "   micro avg       0.89      0.89      0.89     13058\n",
      "   macro avg       0.68      0.55      0.57     13058\n",
      "weighted avg       0.86      0.89      0.86     13058\n",
      "\n"
     ]
    }
   ],
   "source": [
    "print(classification_report(y_test, KNNpredict))"
   ]
  },
  {
   "cell_type": "markdown",
   "metadata": {},
   "source": [
    "<font color=\"blue\"><b>Naïve Bayes</b></font>\n"
   ]
  },
  {
   "cell_type": "code",
   "execution_count": 55,
   "metadata": {},
   "outputs": [],
   "source": [
    "\n",
    "from sklearn.naive_bayes import GaussianNB \n",
    "\n",
    "def do_naive_bayes(X_trainNB,y_trainNB,X_testNB,y_testNB):\n",
    "    \n",
    "    naive_model = GaussianNB()\n",
    "    naive_model.fit(X_trainNB, y_trainNB)\n",
    "\n",
    "    NBpredict = naive_model.predict(X_testNB)\n",
    "    NBscore = naive_model.score(X_testNB,y_testNB)\n",
    "    return NBscore,NBpredict"
   ]
  },
  {
   "cell_type": "code",
   "execution_count": 56,
   "metadata": {},
   "outputs": [
    {
     "name": "stdout",
     "output_type": "stream",
     "text": [
      "Score in Naive Bayes :  0.8324398835962629\n",
      "Confusion matrix for Naive Bayes : \n",
      "(13058,) \n",
      "\n",
      " (13058,)\n"
     ]
    }
   ],
   "source": [
    "NBscore, NBpredicted_labels = do_naive_bayes(X_train,y_train,X_test,y_test)\n",
    "print(\"Score in Naive Bayes : \",NBscore)\n",
    "modelscorecard[\"Naive Bayes\"]=NBscore\n",
    "\n",
    "print(\"Confusion matrix for Naive Bayes : \")\n",
    "print(y_test.shape,\"\\n\\n\",NBpredicted_labels.shape)\n",
    "#con_matrix = confusion_matrix(y_test.tolist(), NBpredicted_labels.tolist())"
   ]
  },
  {
   "cell_type": "code",
   "execution_count": 57,
   "metadata": {},
   "outputs": [
    {
     "data": {
      "image/png": "[encoded data removed]",
      "text/plain": [
       "<Figure size 432x288 with 2 Axes>"
      ]
     },
     "metadata": {
      "needs_background": "light"
     },
     "output_type": "display_data"
    }
   ],
   "source": [
    "draw_conmmat(y_test,NBpredicted_labels,\"Naive Bayes\")"
   ]
  },
  {
   "cell_type": "code",
   "execution_count": 58,
   "metadata": {
    "scrolled": true
   },
   "outputs": [
    {
     "name": "stdout",
     "output_type": "stream",
     "text": [
      "              precision    recall  f1-score   support\n",
      "\n",
      "           0       0.94      0.87      0.90     11667\n",
      "           1       0.32      0.50      0.39      1391\n",
      "\n",
      "   micro avg       0.83      0.83      0.83     13058\n",
      "   macro avg       0.63      0.69      0.65     13058\n",
      "weighted avg       0.87      0.83      0.85     13058\n",
      "\n"
     ]
    }
   ],
   "source": [
    "print(classification_report(y_test, NBpredicted_labels))"
   ]
  },
  {
   "cell_type": "markdown",
   "metadata": {},
   "source": [
    "<font color=\"blue\"><b>Comparing basic models</b></font>"
   ]
  },
  {
   "cell_type": "code",
   "execution_count": 59,
   "metadata": {},
   "outputs": [
    {
     "data": {
      "text/plain": [
       "{'LRscikitlearn': 0.8940113340480931,\n",
       " 'KNN': 0.8912544034308469,\n",
       " 'Naive Bayes': 0.8324398835962629}"
      ]
     },
     "execution_count": 59,
     "metadata": {},
     "output_type": "execute_result"
    }
   ],
   "source": [
    "modelscorecard"
   ]
  },
  {
   "cell_type": "markdown",
   "metadata": {},
   "source": [
    "<font color=\"blue\">\n",
    "Lst us consider F1 score as well - as the dataset is more biased towards Not subscribed observations</font><br>\n",
    "F1 = 2 * (precision * recall) / (precision + recall)"
   ]
  },
  {
   "cell_type": "code",
   "execution_count": 60,
   "metadata": {},
   "outputs": [],
   "source": [
    "from sklearn.metrics import f1_score\n",
    "models_df=pd.DataFrame(columns=['Model', 'Accuracy', 'F1Score'])\n",
    "models_df[\"Model\"] = modelscorecard.keys()\n",
    "models_df[\"Accuracy\"] = modelscorecard.values()\n"
   ]
  },
  {
   "cell_type": "code",
   "execution_count": 61,
   "metadata": {},
   "outputs": [
    {
     "data": {
      "text/html": [
       "<div>\n",
       "<style scoped>\n",
       "    .dataframe tbody tr th:only-of-type {\n",
       "        vertical-align: middle;\n",
       "    }\n",
       "\n",
       "    .dataframe tbody tr th {\n",
       "        vertical-align: top;\n",
       "    }\n",
       "\n",
       "    .dataframe thead th {\n",
       "        text-align: right;\n",
       "    }\n",
       "</style>\n",
       "<table border=\"1\" class=\"dataframe\">\n",
       "  <thead>\n",
       "    <tr style=\"text-align: right;\">\n",
       "      <th></th>\n",
       "      <th>Model</th>\n",
       "      <th>Accuracy</th>\n",
       "      <th>F1Score</th>\n",
       "    </tr>\n",
       "  </thead>\n",
       "  <tbody>\n",
       "    <tr>\n",
       "      <th>0</th>\n",
       "      <td>LRscikitlearn</td>\n",
       "      <td>0.894011</td>\n",
       "      <td>NaN</td>\n",
       "    </tr>\n",
       "    <tr>\n",
       "      <th>1</th>\n",
       "      <td>KNN</td>\n",
       "      <td>0.891254</td>\n",
       "      <td>NaN</td>\n",
       "    </tr>\n",
       "    <tr>\n",
       "      <th>2</th>\n",
       "      <td>Naive Bayes</td>\n",
       "      <td>0.832440</td>\n",
       "      <td>NaN</td>\n",
       "    </tr>\n",
       "  </tbody>\n",
       "</table>\n",
       "</div>"
      ],
      "text/plain": [
       "           Model  Accuracy F1Score\n",
       "0  LRscikitlearn  0.894011     NaN\n",
       "1            KNN  0.891254     NaN\n",
       "2    Naive Bayes  0.832440     NaN"
      ]
     },
     "execution_count": 61,
     "metadata": {},
     "output_type": "execute_result"
    }
   ],
   "source": [
    "models_df"
   ]
  },
  {
   "cell_type": "code",
   "execution_count": 62,
   "metadata": {},
   "outputs": [
    {
     "name": "stderr",
     "output_type": "stream",
     "text": [
      "/Users/thiru/anaconda3/lib/python3.7/site-packages/ipykernel_launcher.py:1: SettingWithCopyWarning: \n",
      "A value is trying to be set on a copy of a slice from a DataFrame\n",
      "\n",
      "See the caveats in the documentation: http://pandas.pydata.org/pandas-docs/stable/indexing.html#indexing-view-versus-copy\n",
      "  \"\"\"Entry point for launching an IPython kernel.\n",
      "/Users/thiru/anaconda3/lib/python3.7/site-packages/ipykernel_launcher.py:2: SettingWithCopyWarning: \n",
      "A value is trying to be set on a copy of a slice from a DataFrame\n",
      "\n",
      "See the caveats in the documentation: http://pandas.pydata.org/pandas-docs/stable/indexing.html#indexing-view-versus-copy\n",
      "  \n",
      "/Users/thiru/anaconda3/lib/python3.7/site-packages/ipykernel_launcher.py:3: SettingWithCopyWarning: \n",
      "A value is trying to be set on a copy of a slice from a DataFrame\n",
      "\n",
      "See the caveats in the documentation: http://pandas.pydata.org/pandas-docs/stable/indexing.html#indexing-view-versus-copy\n",
      "  This is separate from the ipykernel package so we can avoid doing imports until\n"
     ]
    }
   ],
   "source": [
    "models_df[\"F1Score\"][0] = f1_score(y_test,LRpred_labels)\n",
    "models_df[\"F1Score\"][1] = f1_score(y_test,KNNpredict)\n",
    "models_df[\"F1Score\"][2] = f1_score(y_test,NBpredicted_labels)\n",
    "#models_df[\"F1Score\"].iloc[:0] = f1_score(y_test,LRpred_labels)"
   ]
  },
  {
   "cell_type": "markdown",
   "metadata": {},
   "source": [
    "<h2><font color=\"#07bdf5\">Basic Models Comparison</font></h2>"
   ]
  },
  {
   "cell_type": "code",
   "execution_count": 63,
   "metadata": {},
   "outputs": [
    {
     "data": {
      "text/html": [
       "<div>\n",
       "<style scoped>\n",
       "    .dataframe tbody tr th:only-of-type {\n",
       "        vertical-align: middle;\n",
       "    }\n",
       "\n",
       "    .dataframe tbody tr th {\n",
       "        vertical-align: top;\n",
       "    }\n",
       "\n",
       "    .dataframe thead th {\n",
       "        text-align: right;\n",
       "    }\n",
       "</style>\n",
       "<table border=\"1\" class=\"dataframe\">\n",
       "  <thead>\n",
       "    <tr style=\"text-align: right;\">\n",
       "      <th></th>\n",
       "      <th>Model</th>\n",
       "      <th>Accuracy</th>\n",
       "      <th>F1Score</th>\n",
       "    </tr>\n",
       "  </thead>\n",
       "  <tbody>\n",
       "    <tr>\n",
       "      <th>0</th>\n",
       "      <td>LRscikitlearn</td>\n",
       "      <td>0.894011</td>\n",
       "      <td>0.275393</td>\n",
       "    </tr>\n",
       "    <tr>\n",
       "      <th>1</th>\n",
       "      <td>KNN</td>\n",
       "      <td>0.891254</td>\n",
       "      <td>0.196833</td>\n",
       "    </tr>\n",
       "    <tr>\n",
       "      <th>2</th>\n",
       "      <td>Naive Bayes</td>\n",
       "      <td>0.832440</td>\n",
       "      <td>0.39019</td>\n",
       "    </tr>\n",
       "  </tbody>\n",
       "</table>\n",
       "</div>"
      ],
      "text/plain": [
       "           Model  Accuracy   F1Score\n",
       "0  LRscikitlearn  0.894011  0.275393\n",
       "1            KNN  0.891254  0.196833\n",
       "2    Naive Bayes  0.832440   0.39019"
      ]
     },
     "execution_count": 63,
     "metadata": {},
     "output_type": "execute_result"
    }
   ],
   "source": [
    "models_df"
   ]
  },
  {
   "cell_type": "markdown",
   "metadata": {},
   "source": [
    "<h2><font color=\"#07bdf5\">5.Model creation with Ensemble Techniques</font></h2>"
   ]
  },
  {
   "cell_type": "markdown",
   "metadata": {},
   "source": [
    "<font color=\"blue\"><b>Iteration 2</b></font><br>\n"
   ]
  },
  {
   "cell_type": "markdown",
   "metadata": {},
   "source": [
    "<font color=\"blue\"><p>\n",
    "    Accuracy of a model = (TP+TN) / (TP+FN+FP+TN)<br>\n",
    "    From our analysis work so far, clearly indicating that the domain is with  imbalanced accuracy is not an appropriate measure to evaluate model performance\n",
    "    </p>\n",
    "</font>"
   ]
  },
  {
   "cell_type": "code",
   "execution_count": 64,
   "metadata": {},
   "outputs": [
    {
     "name": "stdout",
     "output_type": "stream",
     "text": [
      "total observations :  45211 \n",
      "Scbscribed :  5289 \n",
      "Not Subscribed :  39922\n",
      "Percentage of Subscribed: 11.7 %\n",
      "Percentage of Not Subscribed: 88.3 %\n"
     ]
    }
   ],
   "source": [
    "target_df = bank_df.groupby(bank_df[\"Target\"]).count()[\"age\"]\n",
    "yescount=target_df[\"yes\"]\n",
    "nocount=target_df[\"no\"]\n",
    "print(\"total observations : \",bank_df.shape[0],\"\\nScbscribed : \",yescount,\"\\nNot Subscribed : \",nocount)\n",
    "yes_percent = target_df[\"yes\"]/bank_df.shape[0]*100\n",
    "no_percent = target_df[\"no\"]/bank_df.shape[0]*100\n",
    "print(\"Percentage of Subscribed:\",yes_percent.round(2),\"%\")\n",
    "print(\"Percentage of Not Subscribed:\",no_percent.round(2),\"%\")"
   ]
  },
  {
   "cell_type": "markdown",
   "metadata": {},
   "source": [
    "Total Observations : 45211\n",
    "Subscribed   Observations : 5289\n",
    "Not Subscribed Observations : 39922\n",
    "Percentage of Subscribed: 11.7 %\n",
    "\n",
    "It is the clear case of imbalanced sampling. To handle imbalanced sampling, either we can use SMOTE techniques where resampling original data to provide balanced classes.\n",
    "Alternatively algorithem based approaches called as <font color=\"blue\">Ensemble Techniques,</font> where <font color=\"red\">modifying existing classification algorithms to make them appropriate for imbalanced data sets</font>.\n",
    "    <img src=\"./ETimg.png\"></img>\n",
    "\n",
    "Here we are about to test Bagging, Adaboost, and Gradient boost algorithms.\n"
   ]
  },
  {
   "cell_type": "markdown",
   "metadata": {},
   "source": [
    "<font color=\"blue\"><b>Random Forest</b></font>"
   ]
  },
  {
   "cell_type": "code",
   "execution_count": 65,
   "metadata": {},
   "outputs": [],
   "source": [
    "from sklearn.ensemble import RandomForestClassifier\n",
    "def do_randomforest(X_trainRF,y_trainRF,X_testRF,y_testRF, nsti=20, criterion=\"entropy\", w1=0.5,w2=1, maxdepth=10,minleaf=5):\n",
    "    rfcl = RandomForestClassifier(random_state=0, criterion = 'entropy',n_estimators=nsti, class_weight={0:w1,1:w2}, max_depth = maxdepth, min_samples_leaf=minleaf)\n",
    "    rfcl = rfcl.fit(X_trainRF, y_trainRF)\n",
    "    RFpredict = rfcl.predict(X_testRF)\n",
    "    RFscore = rfcl.score(X_testRF , y_testRF)\n",
    "    return RFscore,RFpredict"
   ]
  },
  {
   "cell_type": "code",
   "execution_count": 66,
   "metadata": {},
   "outputs": [
    {
     "name": "stdout",
     "output_type": "stream",
     "text": [
      "Score in Random Forest :  0.9112421504058814\n",
      "Confusion matrix for Random Forest : \n",
      "(13058,) \n",
      "\n",
      " (13058,)\n"
     ]
    }
   ],
   "source": [
    "RFscore, RFpredicted_labels = do_randomforest(X_train,y_train,X_test,y_test)\n",
    "print(\"Score in Random Forest : \",RFscore)\n",
    "modelscorecard[\"Random Forest\"]=RFscore\n",
    "\n",
    "\n",
    "print(\"Confusion matrix for Random Forest : \")\n",
    "print(y_test.shape,\"\\n\\n\",RFpredicted_labels.shape)"
   ]
  },
  {
   "cell_type": "code",
   "execution_count": 67,
   "metadata": {
    "scrolled": true
   },
   "outputs": [
    {
     "name": "stdout",
     "output_type": "stream",
     "text": [
      "              precision    recall  f1-score   support\n",
      "\n",
      "           0       0.94      0.96      0.95     11667\n",
      "           1       0.61      0.47      0.53      1391\n",
      "\n",
      "   micro avg       0.91      0.91      0.91     13058\n",
      "   macro avg       0.77      0.72      0.74     13058\n",
      "weighted avg       0.90      0.91      0.91     13058\n",
      "\n"
     ]
    }
   ],
   "source": [
    "print(classification_report(y_test, RFpredicted_labels))"
   ]
  },
  {
   "cell_type": "code",
   "execution_count": 68,
   "metadata": {},
   "outputs": [
    {
     "data": {
      "text/html": [
       "<div>\n",
       "<style scoped>\n",
       "    .dataframe tbody tr th:only-of-type {\n",
       "        vertical-align: middle;\n",
       "    }\n",
       "\n",
       "    .dataframe tbody tr th {\n",
       "        vertical-align: top;\n",
       "    }\n",
       "\n",
       "    .dataframe thead th {\n",
       "        text-align: right;\n",
       "    }\n",
       "</style>\n",
       "<table border=\"1\" class=\"dataframe\">\n",
       "  <thead>\n",
       "    <tr style=\"text-align: right;\">\n",
       "      <th></th>\n",
       "      <th>Model</th>\n",
       "      <th>Accuracy</th>\n",
       "      <th>F1Score</th>\n",
       "    </tr>\n",
       "  </thead>\n",
       "  <tbody>\n",
       "    <tr>\n",
       "      <th>0</th>\n",
       "      <td>LRscikitlearn</td>\n",
       "      <td>0.894011</td>\n",
       "      <td>0.275393</td>\n",
       "    </tr>\n",
       "    <tr>\n",
       "      <th>1</th>\n",
       "      <td>KNN</td>\n",
       "      <td>0.891254</td>\n",
       "      <td>0.196833</td>\n",
       "    </tr>\n",
       "    <tr>\n",
       "      <th>2</th>\n",
       "      <td>Naive Bayes</td>\n",
       "      <td>0.832440</td>\n",
       "      <td>0.39019</td>\n",
       "    </tr>\n",
       "    <tr>\n",
       "      <th>3</th>\n",
       "      <td>RandomForest before tuning</td>\n",
       "      <td>0.911242</td>\n",
       "      <td>0.532095</td>\n",
       "    </tr>\n",
       "  </tbody>\n",
       "</table>\n",
       "</div>"
      ],
      "text/plain": [
       "                        Model  Accuracy   F1Score\n",
       "0               LRscikitlearn  0.894011  0.275393\n",
       "1                         KNN  0.891254  0.196833\n",
       "2                 Naive Bayes  0.832440   0.39019\n",
       "3  RandomForest before tuning  0.911242  0.532095"
      ]
     },
     "execution_count": 68,
     "metadata": {},
     "output_type": "execute_result"
    }
   ],
   "source": [
    "rff1=f1_score(y_test,RFpredicted_labels)\n",
    "models_df.loc[models_df.shape[0]]=[\"RandomForest before tuning\",RFscore,rff1]\n",
    "models_df"
   ]
  },
  {
   "cell_type": "markdown",
   "metadata": {},
   "source": [
    "<font color=\"blue\">Finding best tree and tryig to improve f1 score - predicting TP better - predicting :Srubsribe Term Deposit better</font>"
   ]
  },
  {
   "cell_type": "code",
   "execution_count": 69,
   "metadata": {},
   "outputs": [
    {
     "name": "stdout",
     "output_type": "stream",
     "text": [
      "Number of trees: 1  Score in Random Forest :  0.8837494256394547 F1 score 0.43103448275862066\n",
      "Number of trees: 2  Score in Random Forest :  0.8967682646653392 F1 score 0.49055177626606195\n",
      "Number of trees: 4  Score in Random Forest :  0.9068770102619084 F1 score 0.5139888089528377\n",
      "Number of trees: 8  Score in Random Forest :  0.9103997549395006 F1 score 0.5278450363196127\n",
      "Number of trees: 16  Score in Random Forest :  0.909327615255016 F1 score 0.5237329042638776\n",
      "Number of trees: 32  Score in Random Forest :  0.9116250574360545 F1 score 0.5308943089430894\n",
      "Number of trees: 64  Score in Random Forest :  0.9125440343084699 F1 score 0.5372771474878444\n",
      "Number of trees: 128  Score in Random Forest :  0.912314290090366 F1 score 0.5421831267493004\n",
      "Number of trees: 256  Score in Random Forest :  0.9130801041507122 F1 score 0.5421540943929003\n",
      "Number of trees: 512  Score in Random Forest :  0.9129269413386429 F1 score 0.5428226779252111\n"
     ]
    }
   ],
   "source": [
    "n_estimators = [1, 2, 4, 8, 16, 32, 64, 128, 256,512]\n",
    "\n",
    "for nsti in n_estimators:\n",
    "    RFiscore, RFipredicted_labels = do_randomforest(X_train,y_train,X_test,y_test,nsti)\n",
    "    print(\"Number of trees:\",nsti ,\" Score in Random Forest : \",RFiscore, \"F1 score\",f1_score(y_test,RFipredicted_labels))"
   ]
  },
  {
   "cell_type": "markdown",
   "metadata": {},
   "source": [
    "Between 128 to 256 trees the optimum number of trees lies the rate"
   ]
  },
  {
   "cell_type": "code",
   "execution_count": 70,
   "metadata": {},
   "outputs": [
    {
     "name": "stdout",
     "output_type": "stream",
     "text": [
      "No subscribe weight: 0.0  Subscribe weight: 1  Score in Random Forest :  0.10652473579414919 F1 score 0.19253927607446883\n",
      "No subscribe weight: 0.0  Subscribe weight: 2  Score in Random Forest :  0.10652473579414919 F1 score 0.19253927607446883\n",
      "No subscribe weight: 0.0  Subscribe weight: 3  Score in Random Forest :  0.10652473579414919 F1 score 0.19253927607446883\n",
      "No subscribe weight: 0.0  Subscribe weight: 4  Score in Random Forest :  0.10652473579414919 F1 score 0.19253927607446883\n",
      "No subscribe weight: 0.5  Subscribe weight: 1  Score in Random Forest :  0.9116250574360545 F1 score 0.5308943089430894\n",
      "No subscribe weight: 0.5  Subscribe weight: 2  Score in Random Forest :  0.8981467299739623 F1 score 0.5912722802704363\n",
      "No subscribe weight: 0.5  Subscribe weight: 3  Score in Random Forest :  0.8776229131566855 F1 score 0.5747738158594998\n",
      "No subscribe weight: 0.5  Subscribe weight: 4  Score in Random Forest :  0.8571756777454435 F1 score 0.5532934131736528\n",
      "No subscribe weight: 1.0  Subscribe weight: 1  Score in Random Forest :  0.9111655689998468 F1 score 0.3939393939393939\n",
      "No subscribe weight: 1.0  Subscribe weight: 2  Score in Random Forest :  0.9116250574360545 F1 score 0.5308943089430894\n",
      "No subscribe weight: 1.0  Subscribe weight: 3  Score in Random Forest :  0.9051922193291468 F1 score 0.5742778541953232\n",
      "No subscribe weight: 1.0  Subscribe weight: 4  Score in Random Forest :  0.8981467299739623 F1 score 0.5912722802704363\n",
      "No subscribe weight: 1.5  Subscribe weight: 1  Score in Random Forest :  0.9078725685403584 F1 score 0.3129640205596802\n",
      "No subscribe weight: 1.5  Subscribe weight: 2  Score in Random Forest :  0.9114718946239853 F1 score 0.44582933844678807\n",
      "No subscribe weight: 1.5  Subscribe weight: 3  Score in Random Forest :  0.9116250574360545 F1 score 0.5308943089430894\n",
      "No subscribe weight: 1.5  Subscribe weight: 4  Score in Random Forest :  0.9090978710369122 F1 score 0.5719437432383699\n"
     ]
    }
   ],
   "source": [
    "for w1 in np.arange(0.0, 2.0, 0.5):\n",
    "    for w2 in range(1,5):\n",
    "        RFiscore, RFipredicted_labels = do_randomforest(X_train,y_train,X_test,y_test,32,\"entropy\",w1,w2)\n",
    "        print(\"No subscribe weight:\",w1,\" Subscribe weight:\",w2 ,\" Score in Random Forest : \",RFiscore, \"F1 score\",f1_score(y_test,RFipredicted_labels))"
   ]
  },
  {
   "cell_type": "markdown",
   "metadata": {},
   "source": [
    "No subscribe weight: 0.5  Subscribe weight: 2  Score in Random Forest :  0.8981467299739623 F1 score 0.5912722802704363\n",
    "<font> Best class 0(No subscribe Term Deposit) weight is 0.5 and class 1 (Scubscibe Term Deposit) weight is 2</font>"
   ]
  },
  {
   "cell_type": "code",
   "execution_count": 71,
   "metadata": {},
   "outputs": [
    {
     "name": "stderr",
     "output_type": "stream",
     "text": [
      "/Users/thiru/anaconda3/lib/python3.7/site-packages/sklearn/metrics/classification.py:1143: UndefinedMetricWarning: F-score is ill-defined and being set to 0.0 due to no predicted samples.\n",
      "  'precision', 'predicted', average, warn_for)\n"
     ]
    },
    {
     "name": "stdout",
     "output_type": "stream",
     "text": [
      "Max depth 1.0 No subscrib weight: 0.5  Subscrib weight: 2  Score in Random Forest :  0.8934752642058508 F1 score 0.0\n",
      "Max depth 2.0 No subscrib weight: 0.5  Subscrib weight: 2  Score in Random Forest :  0.8974574973196507 F1 score 0.32476046394351993\n",
      "Max depth 3.0 No subscrib weight: 0.5  Subscrib weight: 2  Score in Random Forest :  0.9016694746515546 F1 score 0.4142335766423358\n",
      "Max depth 4.0 No subscrib weight: 0.5  Subscrib weight: 2  Score in Random Forest :  0.9002910093429315 F1 score 0.4910086004691165\n",
      "Max depth 5.0 No subscrib weight: 0.5  Subscrib weight: 2  Score in Random Forest :  0.8964619390412008 F1 score 0.500369549150037\n",
      "Max depth 6.0 No subscrib weight: 0.5  Subscrib weight: 2  Score in Random Forest :  0.89462398529637 F1 score 0.557840616966581\n",
      "Max depth 7.0 No subscrib weight: 0.5  Subscrib weight: 2  Score in Random Forest :  0.8900291009342931 F1 score 0.5637910085054678\n",
      "Max depth 8.0 No subscrib weight: 0.5  Subscrib weight: 2  Score in Random Forest :  0.8927860315515392 F1 score 0.5726495726495726\n",
      "Max depth 9.0 No subscrib weight: 0.5  Subscrib weight: 2  Score in Random Forest :  0.8914841476489508 F1 score 0.5771411518949568\n",
      "Max depth 10.0 No subscrib weight: 0.5  Subscrib weight: 2  Score in Random Forest :  0.8981467299739623 F1 score 0.5912722802704363\n",
      "Max depth 11.0 No subscrib weight: 0.5  Subscrib weight: 2  Score in Random Forest :  0.8977638229437892 F1 score 0.5868152274837513\n",
      "Max depth 12.0 No subscrib weight: 0.5  Subscrib weight: 2  Score in Random Forest :  0.898989125440343 F1 score 0.5850896508335953\n",
      "Max depth 13.0 No subscrib weight: 0.5  Subscrib weight: 2  Score in Random Forest :  0.902971358554143 F1 score 0.5958532695374801\n",
      "Max depth 14.0 No subscrib weight: 0.5  Subscrib weight: 2  Score in Random Forest :  0.9032011027722469 F1 score 0.5882736156351792\n",
      "Max depth 15.0 No subscrib weight: 0.5  Subscrib weight: 2  Score in Random Forest :  0.9048093122989738 F1 score 0.5912528773429793\n",
      "Max depth 16.0 No subscrib weight: 0.5  Subscrib weight: 2  Score in Random Forest :  0.9043498238627661 F1 score 0.5824139083918422\n",
      "Max depth 17.0 No subscrib weight: 0.5  Subscrib weight: 2  Score in Random Forest :  0.9071833358860468 F1 score 0.5978765759787658\n",
      "Max depth 18.0 No subscrib weight: 0.5  Subscrib weight: 2  Score in Random Forest :  0.9086383826007045 F1 score 0.5997987252599798\n",
      "Max depth 19.0 No subscrib weight: 0.5  Subscrib weight: 2  Score in Random Forest :  0.9048858937050084 F1 score 0.587375415282392\n",
      "Max depth 20.0 No subscrib weight: 0.5  Subscrib weight: 2  Score in Random Forest :  0.905958033389493 F1 score 0.5848546315077755\n",
      "Max depth 21.0 No subscrib weight: 0.5  Subscrib weight: 2  Score in Random Forest :  0.905958033389493 F1 score 0.5859743762643291\n",
      "Max depth 22.0 No subscrib weight: 0.5  Subscrib weight: 2  Score in Random Forest :  0.904962475111043 F1 score 0.5839758632249413\n",
      "Max depth 23.0 No subscrib weight: 0.5  Subscrib weight: 2  Score in Random Forest :  0.9064175218257007 F1 score 0.591304347826087\n",
      "Max depth 24.0 No subscrib weight: 0.5  Subscrib weight: 2  Score in Random Forest :  0.9064175218257007 F1 score 0.5899328859060403\n",
      "Max depth 25.0 No subscrib weight: 0.5  Subscrib weight: 2  Score in Random Forest :  0.9054219635472507 F1 score 0.5862646566164155\n",
      "Max depth 26.0 No subscrib weight: 0.5  Subscrib weight: 2  Score in Random Forest :  0.9064175218257007 F1 score 0.5879973027646662\n",
      "Max depth 27.0 No subscrib weight: 0.5  Subscrib weight: 2  Score in Random Forest :  0.9055751263593199 F1 score 0.5858246556936513\n",
      "Max depth 28.0 No subscrib weight: 0.5  Subscrib weight: 2  Score in Random Forest :  0.9054985449532853 F1 score 0.5836707152496626\n",
      "Max depth 29.0 No subscrib weight: 0.5  Subscrib weight: 2  Score in Random Forest :  0.9055751263593199 F1 score 0.5841483979763912\n",
      "Max depth 30.0 No subscrib weight: 0.5  Subscrib weight: 2  Score in Random Forest :  0.9046561494869045 F1 score 0.5812310797174571\n",
      "Max depth 31.0 No subscrib weight: 0.5  Subscrib weight: 2  Score in Random Forest :  0.9046561494869045 F1 score 0.5812310797174571\n",
      "Max depth 32.0 No subscrib weight: 0.5  Subscrib weight: 2  Score in Random Forest :  0.9046561494869045 F1 score 0.5812310797174571\n"
     ]
    }
   ],
   "source": [
    "max_depths = np.linspace(1, 32, 32, endpoint=True)\n",
    "for max_depth in max_depths:\n",
    "    RFiscore, RFipredicted_labels = do_randomforest(X_train,y_train,X_test,y_test,32,\"entropy\",0.5,2,max_depth)\n",
    "    print(\"Max depth\",max_depth,\"No subscrib weight:\",0.5,\" Subscrib weight:\",2 ,\" Score in Random Forest : \",RFiscore, \"F1 score\",f1_score(y_test,RFipredicted_labels))"
   ]
  },
  {
   "cell_type": "markdown",
   "metadata": {},
   "source": [
    "<font color=\"red\">Best depth is 13</font><br>\n",
    "Max depth 13.0 No subscrib weight: 0.5  Subscrib weight: 2  Score in Random Forest :  0.902971358554143 F1 score 0.5958532695374801 <br>"
   ]
  },
  {
   "cell_type": "code",
   "execution_count": 72,
   "metadata": {},
   "outputs": [
    {
     "name": "stdout",
     "output_type": "stream",
     "text": [
      "Max depth 13 No subscrib weight: 0.5  Subscrib weight: 2\n",
      "min_sample_leaf 1  Score in Random Forest :  0.9060346147955276 F1 score 0.57499134049186\n",
      "min_sample_leaf 2  Score in Random Forest :  0.9048093122989738 F1 score 0.5819038008745375\n",
      "min_sample_leaf 3  Score in Random Forest :  0.9027416143360392 F1 score 0.5836065573770491\n",
      "min_sample_leaf 4  Score in Random Forest :  0.9040434982386276 F1 score 0.5895840157222404\n",
      "min_sample_leaf 5  Score in Random Forest :  0.902971358554143 F1 score 0.5958532695374801\n",
      "min_sample_leaf 6  Score in Random Forest :  0.902971358554143 F1 score 0.5963682701497293\n",
      "min_sample_leaf 7  Score in Random Forest :  0.9012099862153469 F1 score 0.5935727788279773\n",
      "min_sample_leaf 8  Score in Random Forest :  0.9001378465308623 F1 score 0.5985221674876847\n",
      "min_sample_leaf 9  Score in Random Forest :  0.8984530555981007 F1 score 0.5897277227722773\n"
     ]
    }
   ],
   "source": [
    "print(\"Max depth\",13,\"No subscrib weight:\",0.5,\" Subscrib weight:\",2 )\n",
    "for min_samples_leaf in range(1,10):\n",
    "    RFiscore, RFipredicted_labels = do_randomforest(X_train,y_train,X_test,y_test,32,\"entropy\",0.5,2,13,min_samples_leaf)\n",
    "    print(\"min_sample_leaf\",min_samples_leaf,\" Score in Random Forest : \",RFiscore, \"F1 score\",f1_score(y_test,RFipredicted_labels))"
   ]
  },
  {
   "cell_type": "markdown",
   "metadata": {},
   "source": [
    "<font color=\"red\"> Best min_sample_leaf = 6</font><br>\n",
    "min_sample_leaf 6  Score in Random Forest :  0.902971358554143 F1 score 0.5963682701497293<br>\n",
    "<b>Now applying all best values </b>"
   ]
  },
  {
   "cell_type": "code",
   "execution_count": 73,
   "metadata": {},
   "outputs": [
    {
     "name": "stdout",
     "output_type": "stream",
     "text": [
      "Number of trees:  256 Criterion entropy Max depth 11 No subscrib weight: 0.5  Subscrib weight: 2 min_sample_leaf 6\n",
      " Score in Random Forest :  0.9023587073058661 F1 score 0.5940783190066857\n"
     ]
    }
   ],
   "source": [
    "print(\"Number of trees: \",256,\"Criterion entropy Max depth\",11,\"No subscrib weight:\",0.5,\" Subscrib weight:\",2, \"min_sample_leaf\",6)\n",
    "RFiscore, RFipredicted_labels = do_randomforest(X_train,y_train,X_test,y_test,256,\"entropy\",0.5,2,13,6)\n",
    "print(\" Score in Random Forest : \",RFiscore, \"F1 score\",f1_score(y_test,RFipredicted_labels))"
   ]
  },
  {
   "cell_type": "markdown",
   "metadata": {},
   "source": [
    "Since number of trees 256 seems to be high and computationally high, running the n_estimaters again and try to find any less number of trees are possible"
   ]
  },
  {
   "cell_type": "code",
   "execution_count": 74,
   "metadata": {},
   "outputs": [
    {
     "name": "stdout",
     "output_type": "stream",
     "text": [
      "With values : Criterion entropy Max depth 11 No subscrib weight: 0.5  Subscrib weight: 2 min_sample_leaf 6\n",
      "Number of trees: 1  Score in Random Forest :  0.8616939807014857 F1 score 0.49861188228761794\n",
      "Number of trees: 2  Score in Random Forest :  0.8864297748506662 F1 score 0.5260466602748481\n",
      "Number of trees: 4  Score in Random Forest :  0.8935518456118854 F1 score 0.5720443349753696\n",
      "Number of trees: 8  Score in Random Forest :  0.8992954510644815 F1 score 0.5829368855058674\n",
      "Number of trees: 16  Score in Random Forest :  0.9000612651248276 F1 score 0.5853193517635844\n",
      "Number of trees: 32  Score in Random Forest :  0.902971358554143 F1 score 0.5963682701497293\n",
      "Number of trees: 64  Score in Random Forest :  0.902971358554143 F1 score 0.5958532695374801\n",
      "Number of trees: 128  Score in Random Forest :  0.9025884515239699 F1 score 0.5956770502225047\n",
      "Number of trees: 256  Score in Random Forest :  0.9023587073058661 F1 score 0.5940783190066857\n",
      "Number of trees: 512  Score in Random Forest :  0.9021289630877622 F1 score 0.5955696202531647\n"
     ]
    }
   ],
   "source": [
    "print(\"With values : Criterion entropy Max depth\",11,\"No subscrib weight:\",0.5,\" Subscrib weight:\",2, \"min_sample_leaf\",6)\n",
    "for nsti in n_estimators:\n",
    "    RFiscore, RFipredicted_labels = do_randomforest(X_train,y_train,X_test,y_test,nsti,\"entropy\",0.5,2,13,6)\n",
    "    print(\"Number of trees:\",nsti ,\" Score in Random Forest : \",RFiscore, \"F1 score\",f1_score(y_test,RFipredicted_labels))"
   ]
  },
  {
   "cell_type": "markdown",
   "metadata": {},
   "source": [
    "Number of trees: 32  Score in Random Forest :  0.902971358554143 F1 score 0.5963682701497293\n",
    "<font>Now we have got must lesser value for number of trees required that is 32</font>"
   ]
  },
  {
   "cell_type": "code",
   "execution_count": 75,
   "metadata": {},
   "outputs": [
    {
     "name": "stdout",
     "output_type": "stream",
     "text": [
      "Number of trees:  32 Criterion entropy Max depth 11 No subscrib weight: 0.5  Subscrib weight: 2 min_sample_leaf 6\n",
      " Score in Random Forest :  0.8994486138765507 F1 score 0.5938756572842562\n"
     ]
    }
   ],
   "source": [
    "print(\"Number of trees: \",32,\"Criterion entropy Max depth\",11,\"No subscrib weight:\",0.5,\" Subscrib weight:\",2, \"min_sample_leaf\",6)\n",
    "RFiscore, RFipredicted_labels = do_randomforest(X_train,y_train,X_test,y_test,32,\"entropy\",0.5,2,11,6)\n",
    "rff1=f1_score(y_test,RFipredicted_labels)\n",
    "print(\" Score in Random Forest : \",RFiscore, \"F1 score\",rff1)"
   ]
  },
  {
   "cell_type": "code",
   "execution_count": 76,
   "metadata": {
    "scrolled": true
   },
   "outputs": [
    {
     "data": {
      "image/png": "[encoded data removed]",
      "text/plain": [
       "<Figure size 432x288 with 2 Axes>"
      ]
     },
     "metadata": {
      "needs_background": "light"
     },
     "output_type": "display_data"
    }
   ],
   "source": [
    "draw_conmmat(y_test,RFpredicted_labels,\"Random Forest\")"
   ]
  },
  {
   "cell_type": "code",
   "execution_count": 77,
   "metadata": {
    "scrolled": true
   },
   "outputs": [
    {
     "name": "stdout",
     "output_type": "stream",
     "text": [
      "              precision    recall  f1-score   support\n",
      "\n",
      "           0       0.96      0.92      0.94     11667\n",
      "           1       0.52      0.69      0.59      1391\n",
      "\n",
      "   micro avg       0.90      0.90      0.90     13058\n",
      "   macro avg       0.74      0.81      0.77     13058\n",
      "weighted avg       0.91      0.90      0.91     13058\n",
      "\n"
     ]
    }
   ],
   "source": [
    "print(classification_report(y_test, RFipredicted_labels))"
   ]
  },
  {
   "cell_type": "code",
   "execution_count": 78,
   "metadata": {},
   "outputs": [
    {
     "data": {
      "text/html": [
       "<div>\n",
       "<style scoped>\n",
       "    .dataframe tbody tr th:only-of-type {\n",
       "        vertical-align: middle;\n",
       "    }\n",
       "\n",
       "    .dataframe tbody tr th {\n",
       "        vertical-align: top;\n",
       "    }\n",
       "\n",
       "    .dataframe thead th {\n",
       "        text-align: right;\n",
       "    }\n",
       "</style>\n",
       "<table border=\"1\" class=\"dataframe\">\n",
       "  <thead>\n",
       "    <tr style=\"text-align: right;\">\n",
       "      <th></th>\n",
       "      <th>Model</th>\n",
       "      <th>Accuracy</th>\n",
       "      <th>F1Score</th>\n",
       "    </tr>\n",
       "  </thead>\n",
       "  <tbody>\n",
       "    <tr>\n",
       "      <th>0</th>\n",
       "      <td>LRscikitlearn</td>\n",
       "      <td>0.894011</td>\n",
       "      <td>0.275393</td>\n",
       "    </tr>\n",
       "    <tr>\n",
       "      <th>1</th>\n",
       "      <td>KNN</td>\n",
       "      <td>0.891254</td>\n",
       "      <td>0.196833</td>\n",
       "    </tr>\n",
       "    <tr>\n",
       "      <th>2</th>\n",
       "      <td>Naive Bayes</td>\n",
       "      <td>0.832440</td>\n",
       "      <td>0.39019</td>\n",
       "    </tr>\n",
       "    <tr>\n",
       "      <th>3</th>\n",
       "      <td>RandomForest before tuning</td>\n",
       "      <td>0.911242</td>\n",
       "      <td>0.532095</td>\n",
       "    </tr>\n",
       "    <tr>\n",
       "      <th>4</th>\n",
       "      <td>RandomForest after tuning</td>\n",
       "      <td>0.899449</td>\n",
       "      <td>0.593876</td>\n",
       "    </tr>\n",
       "  </tbody>\n",
       "</table>\n",
       "</div>"
      ],
      "text/plain": [
       "                        Model  Accuracy   F1Score\n",
       "0               LRscikitlearn  0.894011  0.275393\n",
       "1                         KNN  0.891254  0.196833\n",
       "2                 Naive Bayes  0.832440   0.39019\n",
       "3  RandomForest before tuning  0.911242  0.532095\n",
       "4   RandomForest after tuning  0.899449  0.593876"
      ]
     },
     "execution_count": 78,
     "metadata": {},
     "output_type": "execute_result"
    }
   ],
   "source": [
    "models_df.loc[models_df.shape[0]]=[\"RandomForest after tuning\",RFiscore,rff1]\n",
    "models_df"
   ]
  },
  {
   "cell_type": "markdown",
   "metadata": {},
   "source": [
    "<font color=\"blue\"><b>Ada Boost</b></font>"
   ]
  },
  {
   "cell_type": "code",
   "execution_count": 79,
   "metadata": {},
   "outputs": [],
   "source": [
    "from sklearn.ensemble import AdaBoostClassifier\n",
    "from sklearn.svm import SVC\n",
    "#abcl = AdaBoostClassifier(base_estimator=dt_model, n_estimators=50)\n",
    "default_estimator = LogisticRegression(solver='liblinear')\n",
    "def do_adaboost(X_trainAB,y_trainAB,X_testAB,y_testAB, baseestimator=default_estimator, lrate=1, nsti=32 ):\n",
    "    abcl = AdaBoostClassifier( base_estimator = baseestimator,learning_rate=lrate, n_estimators=nsti, random_state=0)\n",
    "    abcl = abcl.fit(X_trainAB, y_trainAB)\n",
    "\n",
    "    ABpredict = abcl.predict(X_testAB)\n",
    "    ABscore = abcl.score(X_testAB , y_testAB)\n",
    "    return ABscore,ABpredict"
   ]
  },
  {
   "cell_type": "code",
   "execution_count": 80,
   "metadata": {},
   "outputs": [
    {
     "name": "stdout",
     "output_type": "stream",
     "text": [
      "Score in AdaBoost :  0.8950068923265431\n",
      "Confusion matrix for Ada Boost : \n",
      "(13058,) \n",
      "\n",
      " (13058,)\n"
     ]
    }
   ],
   "source": [
    "ABscore, ABpredicted_labels = do_adaboost(X_train,y_train,X_test,y_test)\n",
    "print(\"Score in AdaBoost : \",ABscore)\n",
    "modelscorecard[\"AdaBoost\"]=ABscore\n",
    "\n",
    "print(\"Confusion matrix for Ada Boost : \")\n",
    "print(y_test.shape,\"\\n\\n\",ABpredicted_labels.shape)"
   ]
  },
  {
   "cell_type": "code",
   "execution_count": 81,
   "metadata": {},
   "outputs": [
    {
     "data": {
      "image/png": "[encoded data removed]",
      "text/plain": [
       "<Figure size 432x288 with 2 Axes>"
      ]
     },
     "metadata": {
      "needs_background": "light"
     },
     "output_type": "display_data"
    }
   ],
   "source": [
    "draw_conmmat(y_test,ABpredicted_labels,\"AdaBoost\")"
   ]
  },
  {
   "cell_type": "code",
   "execution_count": 82,
   "metadata": {},
   "outputs": [
    {
     "data": {
      "text/html": [
       "<div>\n",
       "<style scoped>\n",
       "    .dataframe tbody tr th:only-of-type {\n",
       "        vertical-align: middle;\n",
       "    }\n",
       "\n",
       "    .dataframe tbody tr th {\n",
       "        vertical-align: top;\n",
       "    }\n",
       "\n",
       "    .dataframe thead th {\n",
       "        text-align: right;\n",
       "    }\n",
       "</style>\n",
       "<table border=\"1\" class=\"dataframe\">\n",
       "  <thead>\n",
       "    <tr style=\"text-align: right;\">\n",
       "      <th></th>\n",
       "      <th>Model</th>\n",
       "      <th>Accuracy</th>\n",
       "      <th>F1Score</th>\n",
       "    </tr>\n",
       "  </thead>\n",
       "  <tbody>\n",
       "    <tr>\n",
       "      <th>0</th>\n",
       "      <td>LRscikitlearn</td>\n",
       "      <td>0.894011</td>\n",
       "      <td>0.275393</td>\n",
       "    </tr>\n",
       "    <tr>\n",
       "      <th>1</th>\n",
       "      <td>KNN</td>\n",
       "      <td>0.891254</td>\n",
       "      <td>0.196833</td>\n",
       "    </tr>\n",
       "    <tr>\n",
       "      <th>2</th>\n",
       "      <td>Naive Bayes</td>\n",
       "      <td>0.832440</td>\n",
       "      <td>0.39019</td>\n",
       "    </tr>\n",
       "    <tr>\n",
       "      <th>3</th>\n",
       "      <td>RandomForest before tuning</td>\n",
       "      <td>0.911242</td>\n",
       "      <td>0.532095</td>\n",
       "    </tr>\n",
       "    <tr>\n",
       "      <th>4</th>\n",
       "      <td>RandomForest after tuning</td>\n",
       "      <td>0.899449</td>\n",
       "      <td>0.593876</td>\n",
       "    </tr>\n",
       "    <tr>\n",
       "      <th>5</th>\n",
       "      <td>AdaBoost before tuning</td>\n",
       "      <td>0.895007</td>\n",
       "      <td>0.289269</td>\n",
       "    </tr>\n",
       "  </tbody>\n",
       "</table>\n",
       "</div>"
      ],
      "text/plain": [
       "                        Model  Accuracy   F1Score\n",
       "0               LRscikitlearn  0.894011  0.275393\n",
       "1                         KNN  0.891254  0.196833\n",
       "2                 Naive Bayes  0.832440   0.39019\n",
       "3  RandomForest before tuning  0.911242  0.532095\n",
       "4   RandomForest after tuning  0.899449  0.593876\n",
       "5      AdaBoost before tuning  0.895007  0.289269"
      ]
     },
     "execution_count": 82,
     "metadata": {},
     "output_type": "execute_result"
    }
   ],
   "source": [
    "adab4f1 = f1_score(y_test,ABpredicted_labels)\n",
    "models_df.loc[models_df.shape[0]]=[\"AdaBoost before tuning\",ABscore,adab4f1]\n",
    "models_df"
   ]
  },
  {
   "cell_type": "code",
   "execution_count": 83,
   "metadata": {},
   "outputs": [
    {
     "name": "stdout",
     "output_type": "stream",
     "text": [
      "              precision    recall  f1-score   support\n",
      "\n",
      "           0       0.91      0.98      0.94     11667\n",
      "           1       0.52      0.20      0.29      1391\n",
      "\n",
      "   micro avg       0.90      0.90      0.90     13058\n",
      "   macro avg       0.71      0.59      0.62     13058\n",
      "weighted avg       0.87      0.90      0.87     13058\n",
      "\n"
     ]
    }
   ],
   "source": [
    "print(classification_report(y_test, ABpredicted_labels))"
   ]
  },
  {
   "cell_type": "markdown",
   "metadata": {},
   "source": [
    "<font color=\"red\"> Ada boost with LinearRegression classifier as base_estimator not performing well in Clss 1 estimation, i.e., subscribing Term Deposit - F1 score 30% , True positives 1101 </font> <br>\n",
    "We can try improving by tuning"
   ]
  },
  {
   "cell_type": "code",
   "execution_count": 84,
   "metadata": {},
   "outputs": [
    {
     "name": "stdout",
     "output_type": "stream",
     "text": [
      "Score in AdaBoost :  0.873181191606678\n",
      "class 1 widht:  1 max depth 1  Score in AdaBoost:  0.873181191606678 F1 score 0.5311438278595696\n",
      "Score in AdaBoost :  0.8855107979782508\n",
      "class 1 widht:  2 max depth 2  Score in AdaBoost:  0.8855107979782508 F1 score 0.5737097234103222\n",
      "Score in AdaBoost :  0.8864297748506662\n",
      "class 1 widht:  3 max depth 3  Score in AdaBoost:  0.8864297748506662 F1 score 0.5823711630526612\n",
      "Score in AdaBoost :  0.8865829376627354\n",
      "class 1 widht:  4 max depth 4  Score in AdaBoost:  0.8865829376627354 F1 score 0.5696018599244406\n"
     ]
    }
   ],
   "source": [
    "from sklearn.tree import DecisionTreeClassifier\n",
    "for i in range(1,5):\n",
    "    tree_classifier=DecisionTreeClassifier(max_depth=i,random_state=0, class_weight={0:0.5,1:2})\n",
    "    ABiscore, ABipredicted_labels = do_adaboost(X_train,y_train,X_test,y_test,tree_classifier)\n",
    "    print(\"Score in AdaBoost : \",ABiscore)\n",
    "    print(\"class 1 widht: \",i,\"max depth\",i,\" Score in AdaBoost: \",ABiscore, \"F1 score\",f1_score(y_test,ABipredicted_labels))"
   ]
  },
  {
   "cell_type": "code",
   "execution_count": 85,
   "metadata": {},
   "outputs": [
    {
     "name": "stdout",
     "output_type": "stream",
     "text": [
      "Best Params:  {'learning_rate': 1, 'n_estimators': 128}\n",
      "Best score 0.9077660342677083\n"
     ]
    }
   ],
   "source": [
    "from sklearn.model_selection import GridSearchCV #time consuming\n",
    "from sklearn.model_selection import KFold\n",
    "crossvalidation=KFold(n_splits=10,shuffle=True,random_state=1)\n",
    "ada=AdaBoostClassifier()\n",
    "search_grid={'n_estimators':[16,32,64,128],'learning_rate':[.01,0.1,1]}\n",
    "search=GridSearchCV(estimator=ada,param_grid=search_grid,scoring='accuracy',n_jobs=1,cv=crossvalidation)\n",
    "search.fit(X_train,y_train)\n",
    "print(\"Best Params: \",search.best_params_)\n",
    "print(\"Best score\",search.best_score_)"
   ]
  },
  {
   "cell_type": "markdown",
   "metadata": {},
   "source": [
    "Applying suggested values"
   ]
  },
  {
   "cell_type": "code",
   "execution_count": 86,
   "metadata": {},
   "outputs": [
    {
     "name": "stdout",
     "output_type": "stream",
     "text": [
      "Score in AdaBoost :  0.88665951906877\n",
      "class 1 widht:  2 max depth 4  Score in AdaBoost:  0.88665951906877 F1 score 0.5621301775147929\n"
     ]
    }
   ],
   "source": [
    "tree_classifier=DecisionTreeClassifier(max_depth=3,random_state=0, class_weight={0:0.5,1:2})\n",
    "ABiscore, ABipredicted_labels = do_adaboost(X_train,y_train,X_test,y_test,tree_classifier,1,nsti=128)\n",
    "print(\"Score in AdaBoost : \",ABiscore)\n",
    "adaf1 = f1_score(y_test,ABipredicted_labels)\n",
    "print(\"class 1 widht: \",2,\"max depth\",i,\" Score in AdaBoost: \",ABiscore, \"F1 score\",adaf1)"
   ]
  },
  {
   "cell_type": "code",
   "execution_count": 87,
   "metadata": {},
   "outputs": [
    {
     "data": {
      "text/html": [
       "<div>\n",
       "<style scoped>\n",
       "    .dataframe tbody tr th:only-of-type {\n",
       "        vertical-align: middle;\n",
       "    }\n",
       "\n",
       "    .dataframe tbody tr th {\n",
       "        vertical-align: top;\n",
       "    }\n",
       "\n",
       "    .dataframe thead th {\n",
       "        text-align: right;\n",
       "    }\n",
       "</style>\n",
       "<table border=\"1\" class=\"dataframe\">\n",
       "  <thead>\n",
       "    <tr style=\"text-align: right;\">\n",
       "      <th></th>\n",
       "      <th>Model</th>\n",
       "      <th>Accuracy</th>\n",
       "      <th>F1Score</th>\n",
       "    </tr>\n",
       "  </thead>\n",
       "  <tbody>\n",
       "    <tr>\n",
       "      <th>0</th>\n",
       "      <td>LRscikitlearn</td>\n",
       "      <td>0.894011</td>\n",
       "      <td>0.275393</td>\n",
       "    </tr>\n",
       "    <tr>\n",
       "      <th>1</th>\n",
       "      <td>KNN</td>\n",
       "      <td>0.891254</td>\n",
       "      <td>0.196833</td>\n",
       "    </tr>\n",
       "    <tr>\n",
       "      <th>2</th>\n",
       "      <td>Naive Bayes</td>\n",
       "      <td>0.832440</td>\n",
       "      <td>0.39019</td>\n",
       "    </tr>\n",
       "    <tr>\n",
       "      <th>3</th>\n",
       "      <td>RandomForest before tuning</td>\n",
       "      <td>0.911242</td>\n",
       "      <td>0.532095</td>\n",
       "    </tr>\n",
       "    <tr>\n",
       "      <th>4</th>\n",
       "      <td>RandomForest after tuning</td>\n",
       "      <td>0.899449</td>\n",
       "      <td>0.593876</td>\n",
       "    </tr>\n",
       "    <tr>\n",
       "      <th>5</th>\n",
       "      <td>AdaBoost before tuning</td>\n",
       "      <td>0.895007</td>\n",
       "      <td>0.289269</td>\n",
       "    </tr>\n",
       "    <tr>\n",
       "      <th>6</th>\n",
       "      <td>AdaBoost with DT</td>\n",
       "      <td>0.886660</td>\n",
       "      <td>0.56213</td>\n",
       "    </tr>\n",
       "  </tbody>\n",
       "</table>\n",
       "</div>"
      ],
      "text/plain": [
       "                        Model  Accuracy   F1Score\n",
       "0               LRscikitlearn  0.894011  0.275393\n",
       "1                         KNN  0.891254  0.196833\n",
       "2                 Naive Bayes  0.832440   0.39019\n",
       "3  RandomForest before tuning  0.911242  0.532095\n",
       "4   RandomForest after tuning  0.899449  0.593876\n",
       "5      AdaBoost before tuning  0.895007  0.289269\n",
       "6            AdaBoost with DT  0.886660   0.56213"
      ]
     },
     "execution_count": 87,
     "metadata": {},
     "output_type": "execute_result"
    }
   ],
   "source": [
    "models_df.loc[models_df.shape[0]]=[\"AdaBoost with DT\",ABiscore,adaf1]\n",
    "models_df"
   ]
  },
  {
   "cell_type": "markdown",
   "metadata": {},
   "source": [
    "<font color=\"blue\"><b>Bagging</b></font>"
   ]
  },
  {
   "cell_type": "code",
   "execution_count": 88,
   "metadata": {},
   "outputs": [],
   "source": [
    "from sklearn.ensemble import BaggingClassifier\n",
    "\n",
    "def do_bagging(X_trainBAG,y_trainBAG,X_testBAG,y_testBAG, basemodel):\n",
    "    bgcl = BaggingClassifier(n_estimators=10, max_samples= .7, bootstrap=True, base_estimator = basemodel)\n",
    "    bgcl = bgcl.fit(X_trainBAG,y_trainBAG)\n",
    "    BAGpredict = bgcl.predict(X_testBAG)\n",
    "    BAGscore = bgcl.score(X_testBAG , y_testBAG)\n",
    "    return BAGscore,BAGpredict"
   ]
  },
  {
   "cell_type": "code",
   "execution_count": 89,
   "metadata": {},
   "outputs": [
    {
     "name": "stdout",
     "output_type": "stream",
     "text": [
      "Score in Bagging :  0.9072599172920814\n",
      "Confusion matrix for Bagging : \n",
      "(13058,) \n",
      "\n",
      " (13058,)\n"
     ]
    }
   ],
   "source": [
    "dt = DecisionTreeClassifier()\n",
    "BAGscore, BAGpredicted_labels = do_bagging(X_train,y_train,X_test,y_test,dt)\n",
    "print(\"Score in Bagging : \",BAGscore)\n",
    "modelscorecard[\"Bagging\"]=BAGscore\n",
    "\n",
    "print(\"Confusion matrix for Bagging : \")\n",
    "print(y_test.shape,\"\\n\\n\",BAGpredicted_labels.shape)"
   ]
  },
  {
   "cell_type": "code",
   "execution_count": 90,
   "metadata": {},
   "outputs": [
    {
     "data": {
      "image/png": "[encoded data removed]",
      "text/plain": [
       "<Figure size 432x288 with 2 Axes>"
      ]
     },
     "metadata": {
      "needs_background": "light"
     },
     "output_type": "display_data"
    }
   ],
   "source": [
    "draw_conmmat(y_test,BAGpredicted_labels,\"Bagging\")"
   ]
  },
  {
   "cell_type": "code",
   "execution_count": 91,
   "metadata": {
    "scrolled": true
   },
   "outputs": [
    {
     "name": "stdout",
     "output_type": "stream",
     "text": [
      "              precision    recall  f1-score   support\n",
      "\n",
      "           0       0.93      0.97      0.95     11667\n",
      "           1       0.59      0.41      0.48      1391\n",
      "\n",
      "   micro avg       0.91      0.91      0.91     13058\n",
      "   macro avg       0.76      0.69      0.72     13058\n",
      "weighted avg       0.90      0.91      0.90     13058\n",
      "\n"
     ]
    }
   ],
   "source": [
    "print(classification_report(y_test, BAGpredicted_labels))"
   ]
  },
  {
   "cell_type": "code",
   "execution_count": 92,
   "metadata": {},
   "outputs": [
    {
     "data": {
      "text/html": [
       "<div>\n",
       "<style scoped>\n",
       "    .dataframe tbody tr th:only-of-type {\n",
       "        vertical-align: middle;\n",
       "    }\n",
       "\n",
       "    .dataframe tbody tr th {\n",
       "        vertical-align: top;\n",
       "    }\n",
       "\n",
       "    .dataframe thead th {\n",
       "        text-align: right;\n",
       "    }\n",
       "</style>\n",
       "<table border=\"1\" class=\"dataframe\">\n",
       "  <thead>\n",
       "    <tr style=\"text-align: right;\">\n",
       "      <th></th>\n",
       "      <th>Model</th>\n",
       "      <th>Accuracy</th>\n",
       "      <th>F1Score</th>\n",
       "    </tr>\n",
       "  </thead>\n",
       "  <tbody>\n",
       "    <tr>\n",
       "      <th>0</th>\n",
       "      <td>LRscikitlearn</td>\n",
       "      <td>0.894011</td>\n",
       "      <td>0.275393</td>\n",
       "    </tr>\n",
       "    <tr>\n",
       "      <th>1</th>\n",
       "      <td>KNN</td>\n",
       "      <td>0.891254</td>\n",
       "      <td>0.196833</td>\n",
       "    </tr>\n",
       "    <tr>\n",
       "      <th>2</th>\n",
       "      <td>Naive Bayes</td>\n",
       "      <td>0.832440</td>\n",
       "      <td>0.39019</td>\n",
       "    </tr>\n",
       "    <tr>\n",
       "      <th>3</th>\n",
       "      <td>RandomForest before tuning</td>\n",
       "      <td>0.911242</td>\n",
       "      <td>0.532095</td>\n",
       "    </tr>\n",
       "    <tr>\n",
       "      <th>4</th>\n",
       "      <td>RandomForest after tuning</td>\n",
       "      <td>0.899449</td>\n",
       "      <td>0.593876</td>\n",
       "    </tr>\n",
       "    <tr>\n",
       "      <th>5</th>\n",
       "      <td>AdaBoost before tuning</td>\n",
       "      <td>0.895007</td>\n",
       "      <td>0.289269</td>\n",
       "    </tr>\n",
       "    <tr>\n",
       "      <th>6</th>\n",
       "      <td>AdaBoost with DT</td>\n",
       "      <td>0.886660</td>\n",
       "      <td>0.56213</td>\n",
       "    </tr>\n",
       "    <tr>\n",
       "      <th>7</th>\n",
       "      <td>Bagging default</td>\n",
       "      <td>0.907260</td>\n",
       "      <td>0.484022</td>\n",
       "    </tr>\n",
       "  </tbody>\n",
       "</table>\n",
       "</div>"
      ],
      "text/plain": [
       "                        Model  Accuracy   F1Score\n",
       "0               LRscikitlearn  0.894011  0.275393\n",
       "1                         KNN  0.891254  0.196833\n",
       "2                 Naive Bayes  0.832440   0.39019\n",
       "3  RandomForest before tuning  0.911242  0.532095\n",
       "4   RandomForest after tuning  0.899449  0.593876\n",
       "5      AdaBoost before tuning  0.895007  0.289269\n",
       "6            AdaBoost with DT  0.886660   0.56213\n",
       "7             Bagging default  0.907260  0.484022"
      ]
     },
     "execution_count": 92,
     "metadata": {},
     "output_type": "execute_result"
    }
   ],
   "source": [
    "bagb4f1 = f1_score(y_test,BAGpredicted_labels)\n",
    "models_df.loc[models_df.shape[0]]=[\"Bagging default\",BAGscore,bagb4f1]\n",
    "models_df"
   ]
  },
  {
   "cell_type": "code",
   "execution_count": 93,
   "metadata": {},
   "outputs": [
    {
     "name": "stdout",
     "output_type": "stream",
     "text": [
      "Best Params:  {'criterion': 'entropy', 'max_depth': 5, 'max_features': 7, 'min_samples_leaf': 4}\n",
      "Best score 0.672433158299365\n"
     ]
    }
   ],
   "source": [
    "from sklearn.model_selection import GridSearchCV #Time consuming\n",
    "from sklearn.metrics import make_scorer\n",
    "from sklearn.metrics import precision_score\n",
    "from sklearn.metrics import accuracy_score\n",
    "crossvalidation=KFold(n_splits=10,shuffle=True,random_state=1)\n",
    "dt = DecisionTreeClassifier()\n",
    "# Define the grid of hyperparameters 'params_dt' \n",
    "params_dt = {  \n",
    "    'max_depth': [2,3,4,5,6,7,8,9,10],\n",
    "    'min_samples_leaf': [1,2,3,4,5,6,7], \n",
    "    'max_features': [7,11,13,16],\n",
    "    'criterion':['gini','entropy']} \n",
    "#Scoring Criteria \n",
    "#scoring = {'precision': make_scorer(precision_score), 'accuracy': make_scorer(accuracy_score)}\n",
    "scoring = {'precision': make_scorer(precision_score)}\n",
    "# Instantiate a 10-fold CV grid search object 'grid_dt' \n",
    "grid_dt = GridSearchCV(estimator=dt, param_grid=params_dt, scoring = scoring, refit='precision',cv=10, n_jobs=-1) \n",
    "grid_dt.fit(X_train,y_train)\n",
    "print(\"Best Params: \",grid_dt.best_params_)\n",
    "print(\"Best score\",grid_dt.best_score_)"
   ]
  },
  {
   "cell_type": "markdown",
   "metadata": {},
   "source": [
    "<font color=\"blue\">First try : </font>Best Params:  {'criterion': 'gini', 'max_depth': 3, 'max_features': 0.4, 'min_samples_leaf': 5}\n",
    "Best score 0.6635267950456516<br>\n",
    "<font color=\"blue\">Second try : </font>Best Params:  {'criterion': 'entropy', 'max_depth': 4, 'max_features': 7, 'min_samples_leaf': 1}\n",
    "Best score 0.6818945829157695"
   ]
  },
  {
   "cell_type": "code",
   "execution_count": 94,
   "metadata": {},
   "outputs": [
    {
     "name": "stdout",
     "output_type": "stream",
     "text": [
      "Score in Bagging :  0.9040434982386276\n",
      "Confusion matrix for Bagging : \n",
      "(13058,) \n",
      "\n",
      " (13058,)\n"
     ]
    }
   ],
   "source": [
    "dt = DecisionTreeClassifier(criterion='entropy', max_depth=4, max_features=7, min_samples_leaf=4)\n",
    "BAGscore, BAGpredicted_labels = do_bagging(X_train,y_train,X_test,y_test,dt)\n",
    "print(\"Score in Bagging : \",BAGscore)\n",
    "modelscorecard[\"Bagging\"]=BAGscore\n",
    "\n",
    "print(\"Confusion matrix for Bagging : \")\n",
    "print(y_test.shape,\"\\n\\n\",BAGpredicted_labels.shape)"
   ]
  },
  {
   "cell_type": "code",
   "execution_count": 95,
   "metadata": {},
   "outputs": [
    {
     "data": {
      "text/html": [
       "<div>\n",
       "<style scoped>\n",
       "    .dataframe tbody tr th:only-of-type {\n",
       "        vertical-align: middle;\n",
       "    }\n",
       "\n",
       "    .dataframe tbody tr th {\n",
       "        vertical-align: top;\n",
       "    }\n",
       "\n",
       "    .dataframe thead th {\n",
       "        text-align: right;\n",
       "    }\n",
       "</style>\n",
       "<table border=\"1\" class=\"dataframe\">\n",
       "  <thead>\n",
       "    <tr style=\"text-align: right;\">\n",
       "      <th></th>\n",
       "      <th>Model</th>\n",
       "      <th>Accuracy</th>\n",
       "      <th>F1Score</th>\n",
       "    </tr>\n",
       "  </thead>\n",
       "  <tbody>\n",
       "    <tr>\n",
       "      <th>0</th>\n",
       "      <td>LRscikitlearn</td>\n",
       "      <td>0.894011</td>\n",
       "      <td>0.275393</td>\n",
       "    </tr>\n",
       "    <tr>\n",
       "      <th>1</th>\n",
       "      <td>KNN</td>\n",
       "      <td>0.891254</td>\n",
       "      <td>0.196833</td>\n",
       "    </tr>\n",
       "    <tr>\n",
       "      <th>2</th>\n",
       "      <td>Naive Bayes</td>\n",
       "      <td>0.832440</td>\n",
       "      <td>0.39019</td>\n",
       "    </tr>\n",
       "    <tr>\n",
       "      <th>3</th>\n",
       "      <td>RandomForest before tuning</td>\n",
       "      <td>0.911242</td>\n",
       "      <td>0.532095</td>\n",
       "    </tr>\n",
       "    <tr>\n",
       "      <th>4</th>\n",
       "      <td>RandomForest after tuning</td>\n",
       "      <td>0.899449</td>\n",
       "      <td>0.593876</td>\n",
       "    </tr>\n",
       "    <tr>\n",
       "      <th>5</th>\n",
       "      <td>AdaBoost before tuning</td>\n",
       "      <td>0.895007</td>\n",
       "      <td>0.289269</td>\n",
       "    </tr>\n",
       "    <tr>\n",
       "      <th>6</th>\n",
       "      <td>AdaBoost with DT</td>\n",
       "      <td>0.886660</td>\n",
       "      <td>0.56213</td>\n",
       "    </tr>\n",
       "    <tr>\n",
       "      <th>7</th>\n",
       "      <td>Bagging default</td>\n",
       "      <td>0.907260</td>\n",
       "      <td>0.484022</td>\n",
       "    </tr>\n",
       "    <tr>\n",
       "      <th>8</th>\n",
       "      <td>Bagging after tuning</td>\n",
       "      <td>0.904043</td>\n",
       "      <td>0.230816</td>\n",
       "    </tr>\n",
       "  </tbody>\n",
       "</table>\n",
       "</div>"
      ],
      "text/plain": [
       "                        Model  Accuracy   F1Score\n",
       "0               LRscikitlearn  0.894011  0.275393\n",
       "1                         KNN  0.891254  0.196833\n",
       "2                 Naive Bayes  0.832440   0.39019\n",
       "3  RandomForest before tuning  0.911242  0.532095\n",
       "4   RandomForest after tuning  0.899449  0.593876\n",
       "5      AdaBoost before tuning  0.895007  0.289269\n",
       "6            AdaBoost with DT  0.886660   0.56213\n",
       "7             Bagging default  0.907260  0.484022\n",
       "8        Bagging after tuning  0.904043  0.230816"
      ]
     },
     "execution_count": 95,
     "metadata": {},
     "output_type": "execute_result"
    }
   ],
   "source": [
    "bagf1 = f1_score(y_test,BAGpredicted_labels)\n",
    "models_df.loc[models_df.shape[0]]=[\"Bagging after tuning\",BAGscore,bagf1]\n",
    "models_df"
   ]
  },
  {
   "cell_type": "code",
   "execution_count": 96,
   "metadata": {},
   "outputs": [
    {
     "name": "stdout",
     "output_type": "stream",
     "text": [
      "              precision    recall  f1-score   support\n",
      "\n",
      "           0       0.91      1.00      0.95     11667\n",
      "           1       0.79      0.14      0.23      1391\n",
      "\n",
      "   micro avg       0.90      0.90      0.90     13058\n",
      "   macro avg       0.85      0.57      0.59     13058\n",
      "weighted avg       0.89      0.90      0.87     13058\n",
      "\n"
     ]
    }
   ],
   "source": [
    "print(classification_report(y_test, BAGpredicted_labels))"
   ]
  },
  {
   "cell_type": "code",
   "execution_count": 97,
   "metadata": {},
   "outputs": [
    {
     "data": {
      "image/png": "[encoded data removed]",
      "text/plain": [
       "<Figure size 432x288 with 2 Axes>"
      ]
     },
     "metadata": {
      "needs_background": "light"
     },
     "output_type": "display_data"
    }
   ],
   "source": [
    "draw_conmmat(y_test,BAGpredicted_labels,\"Bagging\")"
   ]
  },
  {
   "cell_type": "code",
   "execution_count": 98,
   "metadata": {},
   "outputs": [
    {
     "name": "stdout",
     "output_type": "stream",
     "text": [
      "Score in Bagging :  0.9116250574360545\n",
      "Confusion matrix for Bagging : \n",
      "(13058,) \n",
      "\n",
      " (13058,)\n",
      "              precision    recall  f1-score   support\n",
      "\n",
      "           0       0.94      0.96      0.95     11667\n",
      "           1       0.61      0.46      0.53      1391\n",
      "\n",
      "   micro avg       0.91      0.91      0.91     13058\n",
      "   macro avg       0.78      0.71      0.74     13058\n",
      "weighted avg       0.90      0.91      0.91     13058\n",
      "\n"
     ]
    }
   ],
   "source": [
    "#Bagging fine tuning with Random forest model - where we have fine tuned parameters\n",
    "#Method : def do_randomforest(X_trainRF,y_trainRF,X_testRF,y_testRF, nsti=20, criterion=\"entropy\", w1=0.5,w2=1, maxdepth=10,minleaf=5):\n",
    "#Parameters : X_train,y_train,X_test,y_test,32,\"entropy\",0.5,2,11,6\n",
    "rfcl = RandomForestClassifier(random_state=0, criterion = 'entropy',n_estimators=32, class_weight={0:0.5,1:1}, max_depth = 11, min_samples_leaf=6)\n",
    "#Using RandomForest as base estimator\n",
    "BAGscore, BAGpredicted_labels = do_bagging(X_train,y_train,X_test,y_test,rfcl)\n",
    "print(\"Score in Bagging : \",BAGscore)\n",
    "modelscorecard[\"Bagging\"]=BAGscore\n",
    "\n",
    "print(\"Confusion matrix for Bagging : \")\n",
    "print(y_test.shape,\"\\n\\n\",BAGpredicted_labels.shape)\n",
    "print(classification_report(y_test, BAGpredicted_labels))"
   ]
  },
  {
   "cell_type": "code",
   "execution_count": 99,
   "metadata": {},
   "outputs": [
    {
     "data": {
      "text/html": [
       "<div>\n",
       "<style scoped>\n",
       "    .dataframe tbody tr th:only-of-type {\n",
       "        vertical-align: middle;\n",
       "    }\n",
       "\n",
       "    .dataframe tbody tr th {\n",
       "        vertical-align: top;\n",
       "    }\n",
       "\n",
       "    .dataframe thead th {\n",
       "        text-align: right;\n",
       "    }\n",
       "</style>\n",
       "<table border=\"1\" class=\"dataframe\">\n",
       "  <thead>\n",
       "    <tr style=\"text-align: right;\">\n",
       "      <th></th>\n",
       "      <th>Model</th>\n",
       "      <th>Accuracy</th>\n",
       "      <th>F1Score</th>\n",
       "    </tr>\n",
       "  </thead>\n",
       "  <tbody>\n",
       "    <tr>\n",
       "      <th>0</th>\n",
       "      <td>LRscikitlearn</td>\n",
       "      <td>0.894011</td>\n",
       "      <td>0.275393</td>\n",
       "    </tr>\n",
       "    <tr>\n",
       "      <th>1</th>\n",
       "      <td>KNN</td>\n",
       "      <td>0.891254</td>\n",
       "      <td>0.196833</td>\n",
       "    </tr>\n",
       "    <tr>\n",
       "      <th>2</th>\n",
       "      <td>Naive Bayes</td>\n",
       "      <td>0.832440</td>\n",
       "      <td>0.39019</td>\n",
       "    </tr>\n",
       "    <tr>\n",
       "      <th>3</th>\n",
       "      <td>RandomForest before tuning</td>\n",
       "      <td>0.911242</td>\n",
       "      <td>0.532095</td>\n",
       "    </tr>\n",
       "    <tr>\n",
       "      <th>4</th>\n",
       "      <td>RandomForest after tuning</td>\n",
       "      <td>0.899449</td>\n",
       "      <td>0.593876</td>\n",
       "    </tr>\n",
       "    <tr>\n",
       "      <th>5</th>\n",
       "      <td>AdaBoost before tuning</td>\n",
       "      <td>0.895007</td>\n",
       "      <td>0.289269</td>\n",
       "    </tr>\n",
       "    <tr>\n",
       "      <th>6</th>\n",
       "      <td>AdaBoost with DT</td>\n",
       "      <td>0.886660</td>\n",
       "      <td>0.56213</td>\n",
       "    </tr>\n",
       "    <tr>\n",
       "      <th>7</th>\n",
       "      <td>Bagging default</td>\n",
       "      <td>0.907260</td>\n",
       "      <td>0.484022</td>\n",
       "    </tr>\n",
       "    <tr>\n",
       "      <th>8</th>\n",
       "      <td>Bagging after tuning</td>\n",
       "      <td>0.904043</td>\n",
       "      <td>0.230816</td>\n",
       "    </tr>\n",
       "    <tr>\n",
       "      <th>9</th>\n",
       "      <td>Bagging with Random Forst as base model</td>\n",
       "      <td>0.911625</td>\n",
       "      <td>0.528209</td>\n",
       "    </tr>\n",
       "  </tbody>\n",
       "</table>\n",
       "</div>"
      ],
      "text/plain": [
       "                                     Model  Accuracy   F1Score\n",
       "0                            LRscikitlearn  0.894011  0.275393\n",
       "1                                      KNN  0.891254  0.196833\n",
       "2                              Naive Bayes  0.832440   0.39019\n",
       "3               RandomForest before tuning  0.911242  0.532095\n",
       "4                RandomForest after tuning  0.899449  0.593876\n",
       "5                   AdaBoost before tuning  0.895007  0.289269\n",
       "6                         AdaBoost with DT  0.886660   0.56213\n",
       "7                          Bagging default  0.907260  0.484022\n",
       "8                     Bagging after tuning  0.904043  0.230816\n",
       "9  Bagging with Random Forst as base model  0.911625  0.528209"
      ]
     },
     "execution_count": 99,
     "metadata": {},
     "output_type": "execute_result"
    }
   ],
   "source": [
    "bagf1 = f1_score(y_test,BAGpredicted_labels)\n",
    "models_df.loc[models_df.shape[0]]=[\"Bagging with Random Forst as base model\",BAGscore,bagf1]\n",
    "models_df"
   ]
  },
  {
   "cell_type": "markdown",
   "metadata": {},
   "source": [
    "### <font color=\"blue\"><b>Gradient Boost</b></font>"
   ]
  },
  {
   "cell_type": "code",
   "execution_count": 100,
   "metadata": {},
   "outputs": [],
   "source": [
    "from sklearn.ensemble import GradientBoostingClassifier\n",
    "#abcl = AdaBoostClassifier(base_estimator=dt_model, n_estimators=50)\n",
    "\n",
    "def do_gradientboost(X_trainGB,y_trainGB,X_testGB,y_testGB):\n",
    "    gbcl = GradientBoostingClassifier( n_estimators = 50, learning_rate = 0.05)\n",
    "    gbcl = gbcl.fit(X_trainGB, y_trainGB)\n",
    "    GBpredict = gbcl.predict(X_testGB)\n",
    "    GBscore = gbcl.score(X_testGB , y_testGB)\n",
    "    return GBscore,GBpredict"
   ]
  },
  {
   "cell_type": "code",
   "execution_count": 101,
   "metadata": {},
   "outputs": [
    {
     "name": "stdout",
     "output_type": "stream",
     "text": [
      "Score in Gradient Boost :  0.905958033389493\n",
      "Confusion matrix for Gradient Boost : \n",
      "(13058,) \n",
      "\n",
      " (13058,)\n"
     ]
    }
   ],
   "source": [
    "dt = DecisionTreeClassifier()\n",
    "GBscore, GBpredicted_labels = do_gradientboost(X_train,y_train,X_test,y_test)\n",
    "print(\"Score in Gradient Boost : \",GBscore)\n",
    "modelscorecard[\"Gradient Boost\"]=GBscore\n",
    "\n",
    "print(\"Confusion matrix for Gradient Boost : \")\n",
    "print(y_test.shape,\"\\n\\n\",GBpredicted_labels.shape)"
   ]
  },
  {
   "cell_type": "code",
   "execution_count": 102,
   "metadata": {},
   "outputs": [
    {
     "data": {
      "image/png": "[encoded data removed]",
      "text/plain": [
       "<Figure size 432x288 with 2 Axes>"
      ]
     },
     "metadata": {
      "needs_background": "light"
     },
     "output_type": "display_data"
    }
   ],
   "source": [
    "draw_conmmat(y_test,GBpredicted_labels,\"Gradient Boost\")"
   ]
  },
  {
   "cell_type": "code",
   "execution_count": 103,
   "metadata": {},
   "outputs": [
    {
     "name": "stdout",
     "output_type": "stream",
     "text": [
      "              precision    recall  f1-score   support\n",
      "\n",
      "           0       0.91      0.99      0.95     11667\n",
      "           1       0.71      0.20      0.31      1391\n",
      "\n",
      "   micro avg       0.91      0.91      0.91     13058\n",
      "   macro avg       0.81      0.59      0.63     13058\n",
      "weighted avg       0.89      0.91      0.88     13058\n",
      "\n"
     ]
    }
   ],
   "source": [
    "print(classification_report(y_test, GBpredicted_labels))"
   ]
  },
  {
   "cell_type": "code",
   "execution_count": 104,
   "metadata": {},
   "outputs": [
    {
     "data": {
      "text/html": [
       "<div>\n",
       "<style scoped>\n",
       "    .dataframe tbody tr th:only-of-type {\n",
       "        vertical-align: middle;\n",
       "    }\n",
       "\n",
       "    .dataframe tbody tr th {\n",
       "        vertical-align: top;\n",
       "    }\n",
       "\n",
       "    .dataframe thead th {\n",
       "        text-align: right;\n",
       "    }\n",
       "</style>\n",
       "<table border=\"1\" class=\"dataframe\">\n",
       "  <thead>\n",
       "    <tr style=\"text-align: right;\">\n",
       "      <th></th>\n",
       "      <th>Model</th>\n",
       "      <th>Accuracy</th>\n",
       "      <th>F1Score</th>\n",
       "    </tr>\n",
       "  </thead>\n",
       "  <tbody>\n",
       "    <tr>\n",
       "      <th>0</th>\n",
       "      <td>LRscikitlearn</td>\n",
       "      <td>0.894011</td>\n",
       "      <td>0.275393</td>\n",
       "    </tr>\n",
       "    <tr>\n",
       "      <th>1</th>\n",
       "      <td>KNN</td>\n",
       "      <td>0.891254</td>\n",
       "      <td>0.196833</td>\n",
       "    </tr>\n",
       "    <tr>\n",
       "      <th>2</th>\n",
       "      <td>Naive Bayes</td>\n",
       "      <td>0.832440</td>\n",
       "      <td>0.39019</td>\n",
       "    </tr>\n",
       "    <tr>\n",
       "      <th>3</th>\n",
       "      <td>RandomForest before tuning</td>\n",
       "      <td>0.911242</td>\n",
       "      <td>0.532095</td>\n",
       "    </tr>\n",
       "    <tr>\n",
       "      <th>4</th>\n",
       "      <td>RandomForest after tuning</td>\n",
       "      <td>0.899449</td>\n",
       "      <td>0.593876</td>\n",
       "    </tr>\n",
       "    <tr>\n",
       "      <th>5</th>\n",
       "      <td>AdaBoost before tuning</td>\n",
       "      <td>0.895007</td>\n",
       "      <td>0.289269</td>\n",
       "    </tr>\n",
       "    <tr>\n",
       "      <th>6</th>\n",
       "      <td>AdaBoost with DT</td>\n",
       "      <td>0.886660</td>\n",
       "      <td>0.56213</td>\n",
       "    </tr>\n",
       "    <tr>\n",
       "      <th>7</th>\n",
       "      <td>Bagging default</td>\n",
       "      <td>0.907260</td>\n",
       "      <td>0.484022</td>\n",
       "    </tr>\n",
       "    <tr>\n",
       "      <th>8</th>\n",
       "      <td>Bagging after tuning</td>\n",
       "      <td>0.904043</td>\n",
       "      <td>0.230816</td>\n",
       "    </tr>\n",
       "    <tr>\n",
       "      <th>9</th>\n",
       "      <td>Bagging with Random Forst as base model</td>\n",
       "      <td>0.911625</td>\n",
       "      <td>0.528209</td>\n",
       "    </tr>\n",
       "    <tr>\n",
       "      <th>10</th>\n",
       "      <td>GradientBoost default</td>\n",
       "      <td>0.905958</td>\n",
       "      <td>0.309336</td>\n",
       "    </tr>\n",
       "  </tbody>\n",
       "</table>\n",
       "</div>"
      ],
      "text/plain": [
       "                                      Model  Accuracy   F1Score\n",
       "0                             LRscikitlearn  0.894011  0.275393\n",
       "1                                       KNN  0.891254  0.196833\n",
       "2                               Naive Bayes  0.832440   0.39019\n",
       "3                RandomForest before tuning  0.911242  0.532095\n",
       "4                 RandomForest after tuning  0.899449  0.593876\n",
       "5                    AdaBoost before tuning  0.895007  0.289269\n",
       "6                          AdaBoost with DT  0.886660   0.56213\n",
       "7                           Bagging default  0.907260  0.484022\n",
       "8                      Bagging after tuning  0.904043  0.230816\n",
       "9   Bagging with Random Forst as base model  0.911625  0.528209\n",
       "10                    GradientBoost default  0.905958  0.309336"
      ]
     },
     "execution_count": 104,
     "metadata": {},
     "output_type": "execute_result"
    }
   ],
   "source": [
    "gbb4f1 = f1_score(y_test,GBpredicted_labels)\n",
    "models_df.loc[models_df.shape[0]]=[\"GradientBoost default\",GBscore,gbb4f1]\n",
    "models_df"
   ]
  },
  {
   "cell_type": "code",
   "execution_count": 105,
   "metadata": {},
   "outputs": [
    {
     "name": "stdout",
     "output_type": "stream",
     "text": [
      "Gradient Boost Best Params:  {'max_depth': 11, 'min_samples_split': 200}\n",
      "Gradient Boost Best score 0.9358359109801236\n"
     ]
    }
   ],
   "source": [
    "param_test2 = {'max_depth':range(5,16,2), 'min_samples_split':range(200,1001,200)} #Time consuming\n",
    "gsearch2 = GridSearchCV(estimator = GradientBoostingClassifier(learning_rate=0.1, n_estimators=60, max_features='sqrt', subsample=0.8, random_state=10), \n",
    "param_grid = param_test2, scoring='roc_auc',n_jobs=4,iid=False, cv=5)\n",
    "gsearch2.fit(X_train,y_train)\n",
    "print(\"Gradient Boost Best Params: \",gsearch2.best_params_)\n",
    "print(\"Gradient Boost Best score\",gsearch2.best_score_)"
   ]
  },
  {
   "cell_type": "markdown",
   "metadata": {},
   "source": [
    "Gradient Boost Best Params:  {'max_depth': 11, 'min_samples_split': 200}\n",
    "Gradient Boost Best score 0.9358359109801236"
   ]
  },
  {
   "cell_type": "code",
   "execution_count": 106,
   "metadata": {},
   "outputs": [
    {
     "name": "stdout",
     "output_type": "stream",
     "text": [
      "Gradient Boost Best Params:  {'max_features': 13, 'min_samples_leaf': 40}\n",
      "Gradient Boost Best score 0.93573399237785\n"
     ]
    }
   ],
   "source": [
    "param_test3 = {'min_samples_leaf':range(30,71,10), 'max_features':range(5,bank_df.shape[1],2)} #Time consuming\n",
    "gsearch3 = GridSearchCV(estimator = GradientBoostingClassifier(learning_rate=0.1, n_estimators=60,max_depth=11, subsample=0.8, random_state=10, min_samples_split=200), \n",
    "param_grid = param_test3, scoring='roc_auc',n_jobs=4,iid=False, cv=5)\n",
    "gsearch3.fit(X_train,y_train)\n",
    "print(\"Gradient Boost Best Params: \",gsearch3.best_params_)\n",
    "print(\"Gradient Boost Best score\",gsearch3.best_score_)"
   ]
  },
  {
   "cell_type": "markdown",
   "metadata": {},
   "source": [
    "Gradient Boost Best Params:  {'max_features': 13, 'min_samples_leaf': 40}\n",
    "Gradient Boost Best score 0.93573399237785"
   ]
  },
  {
   "cell_type": "code",
   "execution_count": 107,
   "metadata": {},
   "outputs": [
    {
     "name": "stdout",
     "output_type": "stream",
     "text": [
      "Score in Gradient Boost :  0.9171389186705468\n",
      "Confusion matrix for Gradient Boost : \n",
      "(13058,) \n",
      "\n",
      " (13058,)\n"
     ]
    }
   ],
   "source": [
    "#applying fine tuned values\n",
    "gbcl = GradientBoostingClassifier(learning_rate=0.1, n_estimators=60,max_depth=11, \n",
    "                                  subsample=0.8, random_state=10, min_samples_split=200,\n",
    "                                  max_features=13, min_samples_leaf=40\n",
    "                                 ) \n",
    "gbcl = gbcl.fit(X_train, y_train)\n",
    "GBpredicted_labels = gbcl.predict(X_test)\n",
    "GBscore = gbcl.score(X_test , y_test)\n",
    "# GBscore, GBpredicted_labels = do_gradientboost(X_train,y_train,X_test,y_test)\n",
    "print(\"Score in Gradient Boost : \",GBscore)\n",
    "modelscorecard[\"Gradient Boost\"]=GBscore\n",
    "\n",
    "print(\"Confusion matrix for Gradient Boost : \")\n",
    "print(y_test.shape,\"\\n\\n\",GBpredicted_labels.shape)"
   ]
  },
  {
   "cell_type": "code",
   "execution_count": 108,
   "metadata": {},
   "outputs": [
    {
     "name": "stdout",
     "output_type": "stream",
     "text": [
      "              precision    recall  f1-score   support\n",
      "\n",
      "           0       0.94      0.97      0.95     11667\n",
      "           1       0.65      0.47      0.55      1391\n",
      "\n",
      "   micro avg       0.92      0.92      0.92     13058\n",
      "   macro avg       0.80      0.72      0.75     13058\n",
      "weighted avg       0.91      0.92      0.91     13058\n",
      "\n"
     ]
    }
   ],
   "source": [
    "print(classification_report(y_test, GBpredicted_labels))"
   ]
  },
  {
   "cell_type": "markdown",
   "metadata": {},
   "source": [
    "<h2><font color=\"#07bdf5\">6.Model Comparison</font></h2><br>\n",
    "<font color=\"blue\">Comparing  the results of ensemble models with the base models</font>"
   ]
  },
  {
   "cell_type": "code",
   "execution_count": 109,
   "metadata": {},
   "outputs": [
    {
     "data": {
      "text/html": [
       "<div>\n",
       "<style scoped>\n",
       "    .dataframe tbody tr th:only-of-type {\n",
       "        vertical-align: middle;\n",
       "    }\n",
       "\n",
       "    .dataframe tbody tr th {\n",
       "        vertical-align: top;\n",
       "    }\n",
       "\n",
       "    .dataframe thead th {\n",
       "        text-align: right;\n",
       "    }\n",
       "</style>\n",
       "<table border=\"1\" class=\"dataframe\">\n",
       "  <thead>\n",
       "    <tr style=\"text-align: right;\">\n",
       "      <th></th>\n",
       "      <th>Model</th>\n",
       "      <th>Accuracy</th>\n",
       "      <th>F1Score</th>\n",
       "    </tr>\n",
       "  </thead>\n",
       "  <tbody>\n",
       "    <tr>\n",
       "      <th>0</th>\n",
       "      <td>LRscikitlearn</td>\n",
       "      <td>0.894011</td>\n",
       "      <td>0.275393</td>\n",
       "    </tr>\n",
       "    <tr>\n",
       "      <th>1</th>\n",
       "      <td>KNN</td>\n",
       "      <td>0.891254</td>\n",
       "      <td>0.196833</td>\n",
       "    </tr>\n",
       "    <tr>\n",
       "      <th>2</th>\n",
       "      <td>Naive Bayes</td>\n",
       "      <td>0.832440</td>\n",
       "      <td>0.39019</td>\n",
       "    </tr>\n",
       "    <tr>\n",
       "      <th>3</th>\n",
       "      <td>RandomForest before tuning</td>\n",
       "      <td>0.911242</td>\n",
       "      <td>0.532095</td>\n",
       "    </tr>\n",
       "    <tr>\n",
       "      <th>4</th>\n",
       "      <td>RandomForest after tuning</td>\n",
       "      <td>0.899449</td>\n",
       "      <td>0.593876</td>\n",
       "    </tr>\n",
       "    <tr>\n",
       "      <th>5</th>\n",
       "      <td>AdaBoost before tuning</td>\n",
       "      <td>0.895007</td>\n",
       "      <td>0.289269</td>\n",
       "    </tr>\n",
       "    <tr>\n",
       "      <th>6</th>\n",
       "      <td>AdaBoost with DT</td>\n",
       "      <td>0.886660</td>\n",
       "      <td>0.56213</td>\n",
       "    </tr>\n",
       "    <tr>\n",
       "      <th>7</th>\n",
       "      <td>Bagging default</td>\n",
       "      <td>0.907260</td>\n",
       "      <td>0.484022</td>\n",
       "    </tr>\n",
       "    <tr>\n",
       "      <th>8</th>\n",
       "      <td>Bagging after tuning</td>\n",
       "      <td>0.904043</td>\n",
       "      <td>0.230816</td>\n",
       "    </tr>\n",
       "    <tr>\n",
       "      <th>9</th>\n",
       "      <td>Bagging with Random Forst as base model</td>\n",
       "      <td>0.911625</td>\n",
       "      <td>0.528209</td>\n",
       "    </tr>\n",
       "    <tr>\n",
       "      <th>10</th>\n",
       "      <td>GradientBoost default</td>\n",
       "      <td>0.905958</td>\n",
       "      <td>0.309336</td>\n",
       "    </tr>\n",
       "    <tr>\n",
       "      <th>11</th>\n",
       "      <td>GradientBoost after tuning</td>\n",
       "      <td>0.917139</td>\n",
       "      <td>0.548414</td>\n",
       "    </tr>\n",
       "  </tbody>\n",
       "</table>\n",
       "</div>"
      ],
      "text/plain": [
       "                                      Model  Accuracy   F1Score\n",
       "0                             LRscikitlearn  0.894011  0.275393\n",
       "1                                       KNN  0.891254  0.196833\n",
       "2                               Naive Bayes  0.832440   0.39019\n",
       "3                RandomForest before tuning  0.911242  0.532095\n",
       "4                 RandomForest after tuning  0.899449  0.593876\n",
       "5                    AdaBoost before tuning  0.895007  0.289269\n",
       "6                          AdaBoost with DT  0.886660   0.56213\n",
       "7                           Bagging default  0.907260  0.484022\n",
       "8                      Bagging after tuning  0.904043  0.230816\n",
       "9   Bagging with Random Forst as base model  0.911625  0.528209\n",
       "10                    GradientBoost default  0.905958  0.309336\n",
       "11               GradientBoost after tuning  0.917139  0.548414"
      ]
     },
     "execution_count": 109,
     "metadata": {},
     "output_type": "execute_result"
    }
   ],
   "source": [
    "gbb4f1 = f1_score(y_test,GBpredicted_labels)\n",
    "models_df.loc[models_df.shape[0]]=[\"GradientBoost after tuning\",GBscore,gbb4f1]\n",
    "models_df"
   ]
  },
  {
   "cell_type": "markdown",
   "metadata": {},
   "source": [
    "<font color=\"blue\">\n",
    "We have considered Accuracy and also F1 score  - as the dataset is more <font color=\"red\">biased towards Not subscribed Term Deposit observations</font><br></font><br>\n",
    "F1 = 2 * (precision * recall) / (precision + recall)"
   ]
  },
  {
   "cell_type": "markdown",
   "metadata": {},
   "source": [
    "<font color=\"blue\"><h2>Conclusion: </h2></font>\n",
    "\n",
    "Model score report with Accuracy and F1 score shows the precision, recall, F1 and support scores for all the classification model we have tried.\n",
    "\n",
    "Best score we have achieved through:<br>\n",
    "<font color=\"blue\">Model: </font><font color=\"red\">RandomForest after tuning</font><br>\n",
    "<font color=\"blue\">Accuracy:</font><font color=\"red\">\t89.95%</font><br>\n",
    "<font color=\"blue\">F1 SCore:</font><font color=\"red\">\t59.39%</font><br>\n",
    "\n",
    "The report shows that  RandomForest model (applied Ensemble Technique) has great predictive power to identify the customers who would not subscribe to the term deposit with 89.95% accuracy. \n",
    "\n",
    "However, because of the limited number of clients accepting the term deposit, there is a need for stratified sampling or rebalancing.\n",
    "\n",
    "<font color=\"blue\">Take away for the business:</font> With the assumption the dataset is correct with respect to all features and observations, the channel throuh which the bank is conducting campaign, may not be effective continuing the same features and observations.\n",
    "<br>Duration of the call need not be more than 5 min\n",
    "<br>Number of followup can be restricted to 10\n",
    "<br>We can predict a new customer <u>not opting for the term deposit</u> with the confidence of about 90% and relatively with low confidence level for the custoer <u>opting for the Term deposit</u>.\n",
    "<br> "
   ]
  },
  {
   "cell_type": "code",
   "execution_count": null,
   "metadata": {},
   "outputs": [],
   "source": []
  }
 ],
 "metadata": {
  "kernelspec": {
   "display_name": "Python 3",
   "language": "python",
   "name": "python3"
  },
  "language_info": {
   "codemirror_mode": {
    "name": "ipython",
    "version": 3
   },
   "file_extension": ".py",
   "mimetype": "text/x-python",
   "name": "python",
   "nbconvert_exporter": "python",
   "pygments_lexer": "ipython3",
   "version": "3.7.3"
  }
 },
 "nbformat": 4,
 "nbformat_minor": 2
}
